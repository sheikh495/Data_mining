{
  "nbformat": 4,
  "nbformat_minor": 0,
  "metadata": {
    "colab": {
      "provenance": [],
      "authorship_tag": "ABX9TyPjsYamsl8jPmyQPsG6ni3d",
      "include_colab_link": true
    },
    "kernelspec": {
      "name": "python3",
      "display_name": "Python 3"
    },
    "language_info": {
      "name": "python"
    }
  },
  "cells": [
    {
      "cell_type": "markdown",
      "metadata": {
        "id": "view-in-github",
        "colab_type": "text"
      },
      "source": [
        "<a href=\"https://colab.research.google.com/github/sheikh495/Data_mining/blob/main/code_M7__data_mine.ipynb\" target=\"_parent\"><img src=\"https://colab.research.google.com/assets/colab-badge.svg\" alt=\"Open In Colab\"/></a>"
      ]
    },
    {
      "cell_type": "code",
      "source": [
        "!apt-get update\n",
        "!apt-get install openjdk-8-jdk-headless -qq\n",
        "!wget -q https://www-us.apache.org/dist/spark/spark-3.1.2/spark-3.1.2-bin-hadoop3.2.tgz\n",
        "!tar xf spark-3.1.2-bin-hadoop3.2.tgz\n",
        "!pip install -q findspark\n"
      ],
      "metadata": {
        "colab": {
          "base_uri": "https://localhost:8080/"
        },
        "id": "II3JLM4gHY-C",
        "outputId": "a51a07a1-af84-4b7a-d992-f8092cfd856b"
      },
      "execution_count": 3,
      "outputs": [
        {
          "output_type": "stream",
          "name": "stdout",
          "text": [
            "\r0% [Working]\r            \rHit:1 http://archive.ubuntu.com/ubuntu jammy InRelease\n",
            "\r0% [Waiting for headers] [Connecting to security.ubuntu.com (185.125.190.39)] [\r                                                                               \rGet:2 http://archive.ubuntu.com/ubuntu jammy-updates InRelease [119 kB]\n",
            "\r                                                                               \rGet:3 https://cloud.r-project.org/bin/linux/ubuntu jammy-cran40/ InRelease [3,626 B]\n",
            "\r0% [2 InRelease 12.7 kB/119 kB 11%] [Connecting to security.ubuntu.com (185.125\r0% [2 InRelease 15.6 kB/119 kB 13%] [Connecting to security.ubuntu.com (185.125\r0% [Waiting for headers] [Waiting for headers] [Connected to ppa.launchpadconte\r                                                                               \rGet:4 https://developer.download.nvidia.com/compute/cuda/repos/ubuntu2204/x86_64  InRelease [1,581 B]\n",
            "Get:5 http://archive.ubuntu.com/ubuntu jammy-backports InRelease [108 kB]\n",
            "Get:6 http://security.ubuntu.com/ubuntu jammy-security InRelease [110 kB]\n",
            "Hit:7 https://ppa.launchpadcontent.net/c2d4u.team/c2d4u4.0+/ubuntu jammy InRelease\n",
            "Get:8 http://archive.ubuntu.com/ubuntu jammy-updates/main amd64 Packages [1,085 kB]\n",
            "Get:9 https://developer.download.nvidia.com/compute/cuda/repos/ubuntu2204/x86_64  Packages [419 kB]\n",
            "Get:10 http://archive.ubuntu.com/ubuntu jammy-updates/restricted amd64 Packages [863 kB]\n",
            "Get:11 http://archive.ubuntu.com/ubuntu jammy-updates/universe amd64 Packages [1,219 kB]\n",
            "Hit:12 https://ppa.launchpadcontent.net/deadsnakes/ppa/ubuntu jammy InRelease\n",
            "Get:13 http://security.ubuntu.com/ubuntu jammy-security/universe amd64 Packages [960 kB]\n",
            "Hit:14 https://ppa.launchpadcontent.net/graphics-drivers/ppa/ubuntu jammy InRelease\n",
            "Get:15 http://security.ubuntu.com/ubuntu jammy-security/main amd64 Packages [799 kB]\n",
            "Hit:16 https://ppa.launchpadcontent.net/ubuntugis/ppa/ubuntu jammy InRelease\n",
            "Fetched 5,687 kB in 1s (3,961 kB/s)\n",
            "Reading package lists... Done\n",
            "Selecting previously unselected package libxtst6:amd64.\n",
            "(Reading database ... 120493 files and directories currently installed.)\n",
            "Preparing to unpack .../libxtst6_2%3a1.2.3-1build4_amd64.deb ...\n",
            "Unpacking libxtst6:amd64 (2:1.2.3-1build4) ...\n",
            "Selecting previously unselected package openjdk-8-jre-headless:amd64.\n",
            "Preparing to unpack .../openjdk-8-jre-headless_8u372-ga~us1-0ubuntu1~22.04_amd64.deb ...\n",
            "Unpacking openjdk-8-jre-headless:amd64 (8u372-ga~us1-0ubuntu1~22.04) ...\n",
            "Selecting previously unselected package openjdk-8-jdk-headless:amd64.\n",
            "Preparing to unpack .../openjdk-8-jdk-headless_8u372-ga~us1-0ubuntu1~22.04_amd64.deb ...\n",
            "Unpacking openjdk-8-jdk-headless:amd64 (8u372-ga~us1-0ubuntu1~22.04) ...\n",
            "Setting up libxtst6:amd64 (2:1.2.3-1build4) ...\n",
            "Setting up openjdk-8-jre-headless:amd64 (8u372-ga~us1-0ubuntu1~22.04) ...\n",
            "update-alternatives: using /usr/lib/jvm/java-8-openjdk-amd64/jre/bin/orbd to provide /usr/bin/orbd (orbd) in auto mode\n",
            "update-alternatives: using /usr/lib/jvm/java-8-openjdk-amd64/jre/bin/servertool to provide /usr/bin/servertool (servertool) in auto mode\n",
            "update-alternatives: using /usr/lib/jvm/java-8-openjdk-amd64/jre/bin/tnameserv to provide /usr/bin/tnameserv (tnameserv) in auto mode\n",
            "Setting up openjdk-8-jdk-headless:amd64 (8u372-ga~us1-0ubuntu1~22.04) ...\n",
            "update-alternatives: using /usr/lib/jvm/java-8-openjdk-amd64/bin/clhsdb to provide /usr/bin/clhsdb (clhsdb) in auto mode\n",
            "update-alternatives: using /usr/lib/jvm/java-8-openjdk-amd64/bin/extcheck to provide /usr/bin/extcheck (extcheck) in auto mode\n",
            "update-alternatives: using /usr/lib/jvm/java-8-openjdk-amd64/bin/hsdb to provide /usr/bin/hsdb (hsdb) in auto mode\n",
            "update-alternatives: using /usr/lib/jvm/java-8-openjdk-amd64/bin/idlj to provide /usr/bin/idlj (idlj) in auto mode\n",
            "update-alternatives: using /usr/lib/jvm/java-8-openjdk-amd64/bin/javah to provide /usr/bin/javah (javah) in auto mode\n",
            "update-alternatives: using /usr/lib/jvm/java-8-openjdk-amd64/bin/jhat to provide /usr/bin/jhat (jhat) in auto mode\n",
            "update-alternatives: using /usr/lib/jvm/java-8-openjdk-amd64/bin/jsadebugd to provide /usr/bin/jsadebugd (jsadebugd) in auto mode\n",
            "update-alternatives: using /usr/lib/jvm/java-8-openjdk-amd64/bin/native2ascii to provide /usr/bin/native2ascii (native2ascii) in auto mode\n",
            "update-alternatives: using /usr/lib/jvm/java-8-openjdk-amd64/bin/schemagen to provide /usr/bin/schemagen (schemagen) in auto mode\n",
            "update-alternatives: using /usr/lib/jvm/java-8-openjdk-amd64/bin/wsgen to provide /usr/bin/wsgen (wsgen) in auto mode\n",
            "update-alternatives: using /usr/lib/jvm/java-8-openjdk-amd64/bin/wsimport to provide /usr/bin/wsimport (wsimport) in auto mode\n",
            "update-alternatives: using /usr/lib/jvm/java-8-openjdk-amd64/bin/xjc to provide /usr/bin/xjc (xjc) in auto mode\n",
            "Processing triggers for libc-bin (2.35-0ubuntu3.1) ...\n",
            "tar: spark-3.1.2-bin-hadoop3.2.tgz: Cannot open: No such file or directory\n",
            "tar: Error is not recoverable: exiting now\n"
          ]
        }
      ]
    },
    {
      "cell_type": "code",
      "source": [
        "!pip uninstall findspark\n",
        "!pip install findspark\n"
      ],
      "metadata": {
        "colab": {
          "base_uri": "https://localhost:8080/"
        },
        "id": "pgGnska9HeX2",
        "outputId": "e7873f29-6376-4f53-b2aa-f676dc70b82e"
      },
      "execution_count": 4,
      "outputs": [
        {
          "output_type": "stream",
          "name": "stdout",
          "text": [
            "Found existing installation: findspark 2.0.1\n",
            "Uninstalling findspark-2.0.1:\n",
            "  Would remove:\n",
            "    /usr/local/lib/python3.10/dist-packages/findspark-2.0.1.dist-info/*\n",
            "    /usr/local/lib/python3.10/dist-packages/findspark.py\n",
            "Proceed (Y/n)? Y\n",
            "  Successfully uninstalled findspark-2.0.1\n",
            "Collecting findspark\n",
            "  Using cached findspark-2.0.1-py2.py3-none-any.whl (4.4 kB)\n",
            "Installing collected packages: findspark\n",
            "Successfully installed findspark-2.0.1\n"
          ]
        }
      ]
    },
    {
      "cell_type": "code",
      "source": [
        "!wget -q https://downloads.apache.org/spark/spark-3.1.1/spark-3.1.1-bin-hadoop3.2.tgz\n"
      ],
      "metadata": {
        "id": "JevlsXMMHhkw"
      },
      "execution_count": 5,
      "outputs": []
    },
    {
      "cell_type": "code",
      "source": [
        "!pip install pyspark==3.1.1\n"
      ],
      "metadata": {
        "colab": {
          "base_uri": "https://localhost:8080/"
        },
        "id": "nyFP1zUKHlNz",
        "outputId": "f25d2152-271a-4169-b3cb-cbe7e0c2f9ef"
      },
      "execution_count": 6,
      "outputs": [
        {
          "output_type": "stream",
          "name": "stdout",
          "text": [
            "Collecting pyspark==3.1.1\n",
            "  Downloading pyspark-3.1.1.tar.gz (212.3 MB)\n",
            "\u001b[2K     \u001b[90m━━━━━━━━━━━━━━━━━━━━━━━━━━━━━━━━━━━━━━━\u001b[0m \u001b[32m212.3/212.3 MB\u001b[0m \u001b[31m3.4 MB/s\u001b[0m eta \u001b[36m0:00:00\u001b[0m\n",
            "\u001b[?25h  Preparing metadata (setup.py) ... \u001b[?25l\u001b[?25hdone\n",
            "Collecting py4j==0.10.9 (from pyspark==3.1.1)\n",
            "  Downloading py4j-0.10.9-py2.py3-none-any.whl (198 kB)\n",
            "\u001b[2K     \u001b[90m━━━━━━━━━━━━━━━━━━━━━━━━━━━━━━━━━━━━━━\u001b[0m \u001b[32m198.6/198.6 kB\u001b[0m \u001b[31m16.5 MB/s\u001b[0m eta \u001b[36m0:00:00\u001b[0m\n",
            "\u001b[?25hBuilding wheels for collected packages: pyspark\n",
            "  Building wheel for pyspark (setup.py) ... \u001b[?25l\u001b[?25hdone\n",
            "  Created wheel for pyspark: filename=pyspark-3.1.1-py2.py3-none-any.whl size=212767587 sha256=d217f5abcc0d0e294ff8bfde362c4150afd2e05c48bec0554e1ef421fa46cfec\n",
            "  Stored in directory: /root/.cache/pip/wheels/a0/3f/72/8efd988f9ae041f051c75e6834cd92dd6d13a726e206e8b6f3\n",
            "Successfully built pyspark\n",
            "Installing collected packages: py4j, pyspark\n",
            "  Attempting uninstall: py4j\n",
            "    Found existing installation: py4j 0.10.9.7\n",
            "    Uninstalling py4j-0.10.9.7:\n",
            "      Successfully uninstalled py4j-0.10.9.7\n",
            "Successfully installed py4j-0.10.9 pyspark-3.1.1\n"
          ]
        }
      ]
    },
    {
      "cell_type": "code",
      "source": [
        "import os\n",
        "\n",
        "os.environ[\"JAVA_HOME\"] = \"/usr/lib/jvm/java-8-openjdk-amd64\"\n",
        "os.environ[\"SPARK_HOME\"] = \"/content/spark-3.1.1-bin-hadoop3.2\"\n"
      ],
      "metadata": {
        "id": "aqqE0xHSHs0h"
      },
      "execution_count": 7,
      "outputs": []
    },
    {
      "cell_type": "code",
      "source": [
        "with open('/content/adult.csv', 'r') as file:\n",
        "    header = file.readline()\n",
        "\n",
        "print(header)\n"
      ],
      "metadata": {
        "colab": {
          "base_uri": "https://localhost:8080/"
        },
        "id": "nJC5jZyxHwkd",
        "outputId": "09cbc34e-36ae-4d1c-fb8b-59e2d173edc6"
      },
      "execution_count": 8,
      "outputs": [
        {
          "output_type": "stream",
          "name": "stdout",
          "text": [
            "age,workclass,fnlwgt,education,educational-num,marital-status,occupation,relationship,race,gender,capital-gain,capital-loss,hours-per-week,native-country,income\n",
            "\n"
          ]
        }
      ]
    },
    {
      "cell_type": "code",
      "source": [
        "import pandas as pd\n",
        "\n",
        "df = pd.read_csv('/content/adult.csv')\n",
        "print(df)\n"
      ],
      "metadata": {
        "colab": {
          "base_uri": "https://localhost:8080/"
        },
        "id": "hqIqKPzmH0ZY",
        "outputId": "e3482592-f28b-4c8e-870b-4648c0e710f8"
      },
      "execution_count": 9,
      "outputs": [
        {
          "output_type": "stream",
          "name": "stdout",
          "text": [
            "       age     workclass  fnlwgt     education  educational-num  \\\n",
            "0       25       Private  226802          11th                7   \n",
            "1       38       Private   89814       HS-grad                9   \n",
            "2       28     Local-gov  336951    Assoc-acdm               12   \n",
            "3       44       Private  160323  Some-college               10   \n",
            "4       18             ?  103497  Some-college               10   \n",
            "...    ...           ...     ...           ...              ...   \n",
            "48837   27       Private  257302    Assoc-acdm               12   \n",
            "48838   40       Private  154374       HS-grad                9   \n",
            "48839   58       Private  151910       HS-grad                9   \n",
            "48840   22       Private  201490       HS-grad                9   \n",
            "48841   52  Self-emp-inc  287927       HS-grad                9   \n",
            "\n",
            "           marital-status         occupation relationship   race  gender  \\\n",
            "0           Never-married  Machine-op-inspct    Own-child  Black    Male   \n",
            "1      Married-civ-spouse    Farming-fishing      Husband  White    Male   \n",
            "2      Married-civ-spouse    Protective-serv      Husband  White    Male   \n",
            "3      Married-civ-spouse  Machine-op-inspct      Husband  Black    Male   \n",
            "4           Never-married                  ?    Own-child  White  Female   \n",
            "...                   ...                ...          ...    ...     ...   \n",
            "48837  Married-civ-spouse       Tech-support         Wife  White  Female   \n",
            "48838  Married-civ-spouse  Machine-op-inspct      Husband  White    Male   \n",
            "48839             Widowed       Adm-clerical    Unmarried  White  Female   \n",
            "48840       Never-married       Adm-clerical    Own-child  White    Male   \n",
            "48841  Married-civ-spouse    Exec-managerial         Wife  White  Female   \n",
            "\n",
            "       capital-gain  capital-loss  hours-per-week native-country income  \n",
            "0                 0             0              40  United-States  <=50K  \n",
            "1                 0             0              50  United-States  <=50K  \n",
            "2                 0             0              40  United-States   >50K  \n",
            "3              7688             0              40  United-States   >50K  \n",
            "4                 0             0              30  United-States  <=50K  \n",
            "...             ...           ...             ...            ...    ...  \n",
            "48837             0             0              38  United-States  <=50K  \n",
            "48838             0             0              40  United-States   >50K  \n",
            "48839             0             0              40  United-States  <=50K  \n",
            "48840             0             0              20  United-States  <=50K  \n",
            "48841         15024             0              40  United-States   >50K  \n",
            "\n",
            "[48842 rows x 15 columns]\n"
          ]
        }
      ]
    },
    {
      "cell_type": "code",
      "source": [
        "!apt-get install openjdk-8-jdk-headless -qq\n"
      ],
      "metadata": {
        "id": "nOcGwDsTH4WC"
      },
      "execution_count": 10,
      "outputs": []
    },
    {
      "cell_type": "code",
      "source": [
        "!wget -q https://downloads.apache.org/spark/spark-3.1.2/spark-3.1.2-bin-hadoop3.2.tgz\n",
        "!tar xf spark-3.1.2-bin-hadoop3.2.tgz\n"
      ],
      "metadata": {
        "colab": {
          "base_uri": "https://localhost:8080/"
        },
        "id": "dScXLz0uH-_X",
        "outputId": "b07d5b11-a83b-4044-dad2-972a21d5a54f"
      },
      "execution_count": 11,
      "outputs": [
        {
          "output_type": "stream",
          "name": "stdout",
          "text": [
            "tar: spark-3.1.2-bin-hadoop3.2.tgz: Cannot open: No such file or directory\n",
            "tar: Error is not recoverable: exiting now\n"
          ]
        }
      ]
    },
    {
      "cell_type": "code",
      "source": [
        "!pip install pyspark==3.1.2\n"
      ],
      "metadata": {
        "colab": {
          "base_uri": "https://localhost:8080/"
        },
        "id": "kHXekxwCICU6",
        "outputId": "1b74a310-969e-4807-9118-fc65de41b851"
      },
      "execution_count": 12,
      "outputs": [
        {
          "output_type": "stream",
          "name": "stdout",
          "text": [
            "Collecting pyspark==3.1.2\n",
            "  Downloading pyspark-3.1.2.tar.gz (212.4 MB)\n",
            "\u001b[2K     \u001b[90m━━━━━━━━━━━━━━━━━━━━━━━━━━━━━━━━━━━━━━━\u001b[0m \u001b[32m212.4/212.4 MB\u001b[0m \u001b[31m5.6 MB/s\u001b[0m eta \u001b[36m0:00:00\u001b[0m\n",
            "\u001b[?25h  Preparing metadata (setup.py) ... \u001b[?25l\u001b[?25hdone\n",
            "Requirement already satisfied: py4j==0.10.9 in /usr/local/lib/python3.10/dist-packages (from pyspark==3.1.2) (0.10.9)\n",
            "Building wheels for collected packages: pyspark\n",
            "  Building wheel for pyspark (setup.py) ... \u001b[?25l\u001b[?25hdone\n",
            "  Created wheel for pyspark: filename=pyspark-3.1.2-py2.py3-none-any.whl size=212880752 sha256=eddde0bf56b905049c4eaf46a741ee4e334c4988caa559011c40d24a93aa9c90\n",
            "  Stored in directory: /root/.cache/pip/wheels/ef/70/50/7882e1bcb5693225f7cc86698f10953201b48b3f36317c2d18\n",
            "Successfully built pyspark\n",
            "Installing collected packages: pyspark\n",
            "  Attempting uninstall: pyspark\n",
            "    Found existing installation: pyspark 3.1.1\n",
            "    Uninstalling pyspark-3.1.1:\n",
            "      Successfully uninstalled pyspark-3.1.1\n",
            "Successfully installed pyspark-3.1.2\n"
          ]
        }
      ]
    },
    {
      "cell_type": "code",
      "source": [
        "!pip install findspark\n"
      ],
      "metadata": {
        "colab": {
          "base_uri": "https://localhost:8080/"
        },
        "id": "9_rBdJvRIFfa",
        "outputId": "e6c3d049-952a-4212-990e-0e9063887576"
      },
      "execution_count": 13,
      "outputs": [
        {
          "output_type": "stream",
          "name": "stdout",
          "text": [
            "Requirement already satisfied: findspark in /usr/local/lib/python3.10/dist-packages (2.0.1)\n"
          ]
        }
      ]
    },
    {
      "cell_type": "code",
      "source": [
        "!apt-get install openjdk-8-jdk-headless -qq > /dev/null\n",
        "!wget -q http://archive.apache.org/dist/spark/spark-3.1.1/spark-3.1.1-bin-hadoop3.2.tgz\n",
        "!tar xf spark-3.1.1-bin-hadoop3.2.tgz\n",
        "!pip install -q findspark"
      ],
      "metadata": {
        "id": "v09NhJmJIKzu"
      },
      "execution_count": 14,
      "outputs": []
    },
    {
      "cell_type": "code",
      "source": [
        "import os\n",
        "os.environ[\"JAVA_HOME\"] = \"/usr/lib/jvm/java-8-openjdk-amd64\"\n",
        "os.environ[\"SPARK_HOME\"] = \"/content/spark-3.1.1-bin-hadoop3.2\""
      ],
      "metadata": {
        "id": "7KIlie0CINQM"
      },
      "execution_count": 15,
      "outputs": []
    },
    {
      "cell_type": "code",
      "source": [
        "!ls"
      ],
      "metadata": {
        "colab": {
          "base_uri": "https://localhost:8080/"
        },
        "id": "c4S8wDTaIQDB",
        "outputId": "50fc0ff6-4f3e-494d-8c34-819d42510684"
      },
      "execution_count": 16,
      "outputs": [
        {
          "output_type": "stream",
          "name": "stdout",
          "text": [
            "adult.csv    spark-3.1.1-bin-hadoop3.2\n",
            "sample_data  spark-3.1.1-bin-hadoop3.2.tgz\n"
          ]
        }
      ]
    },
    {
      "cell_type": "code",
      "source": [
        "import findspark\n",
        "findspark.init()\n",
        "from pyspark.sql import SparkSession\n",
        "spark = SparkSession.builder.master(\"local[*]\").getOrCreate()\n",
        "spark.conf.set(\"spark.sql.repl.eagerEval.enabled\", True) # Property used to format output tables better\n",
        "spark"
      ],
      "metadata": {
        "colab": {
          "base_uri": "https://localhost:8080/",
          "height": 219
        },
        "id": "CdfrQtySIQ3n",
        "outputId": "6553e438-f445-4edd-817d-9d867877e72d"
      },
      "execution_count": 17,
      "outputs": [
        {
          "output_type": "execute_result",
          "data": {
            "text/plain": [
              "<pyspark.sql.session.SparkSession at 0x7ecc662e3730>"
            ],
            "text/html": [
              "\n",
              "            <div>\n",
              "                <p><b>SparkSession - in-memory</b></p>\n",
              "                \n",
              "        <div>\n",
              "            <p><b>SparkContext</b></p>\n",
              "\n",
              "            <p><a href=\"http://47d74818f312:4040\">Spark UI</a></p>\n",
              "\n",
              "            <dl>\n",
              "              <dt>Version</dt>\n",
              "                <dd><code>v3.1.1</code></dd>\n",
              "              <dt>Master</dt>\n",
              "                <dd><code>local[*]</code></dd>\n",
              "              <dt>AppName</dt>\n",
              "                <dd><code>pyspark-shell</code></dd>\n",
              "            </dl>\n",
              "        </div>\n",
              "        \n",
              "            </div>\n",
              "        "
            ]
          },
          "metadata": {},
          "execution_count": 17
        }
      ]
    },
    {
      "cell_type": "code",
      "source": [
        "!spark-submit --version\n"
      ],
      "metadata": {
        "colab": {
          "base_uri": "https://localhost:8080/"
        },
        "id": "U9XbYKCKIXZG",
        "outputId": "e34bad5f-d08c-45d9-85f1-86820f50aeaa"
      },
      "execution_count": 21,
      "outputs": [
        {
          "output_type": "stream",
          "name": "stdout",
          "text": [
            "Welcome to\n",
            "      ____              __\n",
            "     / __/__  ___ _____/ /__\n",
            "    _\\ \\/ _ \\/ _ `/ __/  '_/\n",
            "   /___/ .__/\\_,_/_/ /_/\\_\\   version 3.1.1\n",
            "      /_/\n",
            "                        \n",
            "Using Scala version 2.12.10, OpenJDK 64-Bit Server VM, 1.8.0_362\n",
            "Branch HEAD\n",
            "Compiled by user ubuntu on 2021-02-22T01:33:19Z\n",
            "Revision 1d550c4e90275ab418b9161925049239227f3dc9\n",
            "Url https://github.com/apache/spark\n",
            "Type --help for more information.\n"
          ]
        }
      ]
    },
    {
      "cell_type": "code",
      "source": [
        "# Step 1: Import necessary libraries\n",
        "from pyspark.sql import SparkSession\n",
        "\n",
        "# Step 2: Create a SparkSession\n",
        "spark = SparkSession.builder \\\n",
        "    .appName(\"ReadData\") \\\n",
        "    .getOrCreate()\n",
        "\n",
        "# Step 3: Read data from the CSV file\n",
        "data = spark.read \\\n",
        "    .format(\"csv\") \\\n",
        "    .option(\"header\", \"true\") \\\n",
        "    .load(\"/content/adult.csv\")\n",
        "\n",
        "# Step 4: Show the first few rows of the DataFrame to verify the data\n",
        "data.show()\n"
      ],
      "metadata": {
        "colab": {
          "base_uri": "https://localhost:8080/"
        },
        "id": "w_zud6HL2k_o",
        "outputId": "a3eeb9d9-de6c-415d-fcc1-31374535ce04"
      },
      "execution_count": 18,
      "outputs": [
        {
          "output_type": "stream",
          "name": "stdout",
          "text": [
            "+---+----------------+------+------------+---------------+------------------+-----------------+-------------+------------------+------+------------+------------+--------------+--------------+------+\n",
            "|age|       workclass|fnlwgt|   education|educational-num|    marital-status|       occupation| relationship|              race|gender|capital-gain|capital-loss|hours-per-week|native-country|income|\n",
            "+---+----------------+------+------------+---------------+------------------+-----------------+-------------+------------------+------+------------+------------+--------------+--------------+------+\n",
            "| 25|         Private|226802|        11th|              7|     Never-married|Machine-op-inspct|    Own-child|             Black|  Male|           0|           0|            40| United-States| <=50K|\n",
            "| 38|         Private| 89814|     HS-grad|              9|Married-civ-spouse|  Farming-fishing|      Husband|             White|  Male|           0|           0|            50| United-States| <=50K|\n",
            "| 28|       Local-gov|336951|  Assoc-acdm|             12|Married-civ-spouse|  Protective-serv|      Husband|             White|  Male|           0|           0|            40| United-States|  >50K|\n",
            "| 44|         Private|160323|Some-college|             10|Married-civ-spouse|Machine-op-inspct|      Husband|             Black|  Male|        7688|           0|            40| United-States|  >50K|\n",
            "| 18|               ?|103497|Some-college|             10|     Never-married|                ?|    Own-child|             White|Female|           0|           0|            30| United-States| <=50K|\n",
            "| 34|         Private|198693|        10th|              6|     Never-married|    Other-service|Not-in-family|             White|  Male|           0|           0|            30| United-States| <=50K|\n",
            "| 29|               ?|227026|     HS-grad|              9|     Never-married|                ?|    Unmarried|             Black|  Male|           0|           0|            40| United-States| <=50K|\n",
            "| 63|Self-emp-not-inc|104626| Prof-school|             15|Married-civ-spouse|   Prof-specialty|      Husband|             White|  Male|        3103|           0|            32| United-States|  >50K|\n",
            "| 24|         Private|369667|Some-college|             10|     Never-married|    Other-service|    Unmarried|             White|Female|           0|           0|            40| United-States| <=50K|\n",
            "| 55|         Private|104996|     7th-8th|              4|Married-civ-spouse|     Craft-repair|      Husband|             White|  Male|           0|           0|            10| United-States| <=50K|\n",
            "| 65|         Private|184454|     HS-grad|              9|Married-civ-spouse|Machine-op-inspct|      Husband|             White|  Male|        6418|           0|            40| United-States|  >50K|\n",
            "| 36|     Federal-gov|212465|   Bachelors|             13|Married-civ-spouse|     Adm-clerical|      Husband|             White|  Male|           0|           0|            40| United-States| <=50K|\n",
            "| 26|         Private| 82091|     HS-grad|              9|     Never-married|     Adm-clerical|Not-in-family|             White|Female|           0|           0|            39| United-States| <=50K|\n",
            "| 58|               ?|299831|     HS-grad|              9|Married-civ-spouse|                ?|      Husband|             White|  Male|           0|           0|            35| United-States| <=50K|\n",
            "| 48|         Private|279724|     HS-grad|              9|Married-civ-spouse|Machine-op-inspct|      Husband|             White|  Male|        3103|           0|            48| United-States|  >50K|\n",
            "| 43|         Private|346189|     Masters|             14|Married-civ-spouse|  Exec-managerial|      Husband|             White|  Male|           0|           0|            50| United-States|  >50K|\n",
            "| 20|       State-gov|444554|Some-college|             10|     Never-married|    Other-service|    Own-child|             White|  Male|           0|           0|            25| United-States| <=50K|\n",
            "| 43|         Private|128354|     HS-grad|              9|Married-civ-spouse|     Adm-clerical|         Wife|             White|Female|           0|           0|            30| United-States| <=50K|\n",
            "| 37|         Private| 60548|     HS-grad|              9|           Widowed|Machine-op-inspct|    Unmarried|             White|Female|           0|           0|            20| United-States| <=50K|\n",
            "| 40|         Private| 85019|   Doctorate|             16|Married-civ-spouse|   Prof-specialty|      Husband|Asian-Pac-Islander|  Male|           0|           0|            45|             ?|  >50K|\n",
            "+---+----------------+------+------------+---------------+------------------+-----------------+-------------+------------------+------+------------+------------+--------------+--------------+------+\n",
            "only showing top 20 rows\n",
            "\n"
          ]
        }
      ]
    },
    {
      "cell_type": "code",
      "execution_count": 22,
      "metadata": {
        "colab": {
          "base_uri": "https://localhost:8080/"
        },
        "id": "JVeR1JmLsB_Q",
        "outputId": "037ae05e-5e30-41d2-ee95-1a073bf94171"
      },
      "outputs": [
        {
          "output_type": "stream",
          "name": "stdout",
          "text": [
            "Test Accuracy: 0.8033575596273927\n"
          ]
        }
      ],
      "source": [
        "import pandas as pd\n",
        "from sklearn.svm import SVC\n",
        "from sklearn.model_selection import train_test_split\n",
        "from sklearn.preprocessing import OneHotEncoder\n",
        "from sklearn.compose import ColumnTransformer\n",
        "from sklearn.metrics import accuracy_score\n",
        "\n",
        "# Load the train data into a DataFrame\n",
        "train_data = pd.read_csv(\"/content/adult.csv\")\n",
        "\n",
        "# Update column names\n",
        "new_column_names = [\n",
        "    \"age\", \"workclass\", \"fnlwgt\", \"education\", \"educational-num\",\n",
        "    \"marital-status\", \"occupation\", \"relationship\", \"race\", \"gender\",\n",
        "    \"capital-gain\", \"capital-loss\", \"hours-per-week\", \"native-country\", \"income\"\n",
        "]\n",
        "train_data.columns = new_column_names\n",
        "\n",
        "# Separate numerical and categorical features\n",
        "categorical_features = ['workclass', 'education', 'marital-status', 'occupation', 'relationship', 'race', 'gender', 'native-country']\n",
        "numerical_features = ['age', 'fnlwgt', 'educational-num', 'capital-gain', 'capital-loss', 'hours-per-week']\n",
        "\n",
        "# One-hot encode the categorical features\n",
        "ct = ColumnTransformer(\n",
        "    transformers=[('encoder', OneHotEncoder(), categorical_features)],\n",
        "    remainder='passthrough'\n",
        ")\n",
        "X_train_encoded = ct.fit_transform(train_data[new_column_names[:-1]])\n",
        "\n",
        "# Split the data into training and testing sets\n",
        "X_train, X_test, y_train, y_test = train_test_split(X_train_encoded, train_data[\"income\"], test_size=0.2, random_state=42)\n",
        "\n",
        "# Create an SVM classifier\n",
        "svm = SVC()\n",
        "\n",
        "# Fit the SVM model on the training data\n",
        "svm.fit(X_train, y_train)\n",
        "\n",
        "# Make predictions using the trained SVM model on the test set\n",
        "test_predictions = svm.predict(X_test)\n",
        "\n",
        "# Calculate the accuracy of the model on the test set\n",
        "test_accuracy = accuracy_score(y_test, test_predictions)\n",
        "print(\"Test Accuracy:\", test_accuracy)\n"
      ]
    },
    {
      "cell_type": "code",
      "source": [
        "from pyspark.sql.functions import col, trim\n",
        "from pyspark.ml.classification import RandomForestClassifier, LinearSVC\n",
        "from pyspark.ml.evaluation import MulticlassClassificationEvaluator\n",
        "from pyspark.ml.feature import StringIndexer, VectorAssembler\n",
        "\n",
        "# Load the data into a DataFrame\n",
        "data = spark.read.csv('/content/adult.csv', header=True, inferSchema=True)\n",
        "\n",
        "# Step 2: Drop rows with missing values in any of the selected columns\n",
        "selected_columns = ['age', 'workclass', 'fnlwgt', 'education', 'educational-num', 'marital-status', 'occupation',\n",
        "                    'relationship', 'race', 'gender', 'capital-gain', 'capital-loss', 'hours-per-week',\n",
        "                    'native-country', 'income']\n",
        "data = data.select(selected_columns).na.drop()\n",
        "\n",
        "# Check unique values in the 'income' column\n",
        "data.groupBy('income').count().show()\n",
        "\n",
        "# Clean the 'income' column by removing leading/trailing whitespaces\n",
        "data = data.withColumn('income', trim(col('income')))\n",
        "\n",
        "# Step 3: Encode categorical columns with StringIndexer\n",
        "categorical_columns = ['workclass', 'education', 'marital-status', 'occupation', 'relationship', 'race', 'gender']\n",
        "indexers = [StringIndexer(inputCol=column, outputCol=column + \"_index\", handleInvalid='keep').fit(data) for column in categorical_columns]\n",
        "for indexer in indexers:\n",
        "    data = indexer.transform(data)\n",
        "\n",
        "# Step 4: Convert 'income' column to integer type (0 for '<=50K', 1 for '>50K')\n",
        "data = data.withColumn('label', (col('income') == '>50K').cast('int'))\n",
        "\n",
        "# Step 5: Prepare the feature vector\n",
        "feature_columns = ['age', 'fnlwgt', 'educational-num', 'capital-gain', 'capital-loss', 'hours-per-week'] + [column + \"_index\" for column in categorical_columns]\n",
        "assembler = VectorAssembler(inputCols=feature_columns, outputCol=\"features\")\n",
        "data = assembler.transform(data)\n",
        "\n",
        "# Split the data into training and testing sets (70% training, 30% testing)\n",
        "train_data, test_data = data.randomSplit([0.7, 0.3], seed=42)\n",
        "\n",
        "# Train the Random Forest model\n",
        "random_forest = RandomForestClassifier(featuresCol=\"features\", labelCol=\"label\")\n",
        "random_forest_model = random_forest.fit(train_data)\n",
        "\n",
        "# Step 6: Evaluate the Random Forest model on the test data\n",
        "rf_predictions = random_forest_model.transform(test_data)\n",
        "rf_evaluator = MulticlassClassificationEvaluator(metricName=\"accuracy\")\n",
        "rf_accuracy = rf_evaluator.evaluate(rf_predictions)\n",
        "\n",
        "# Print the evaluation result\n",
        "print(\"Random Forest Model - Accuracy: {:.2f}\".format(rf_accuracy))\n",
        "\n",
        "# Train the Support Vector Machines (SVM) model\n",
        "svm = LinearSVC(featuresCol=\"features\", labelCol=\"label\")\n",
        "svm_model = svm.fit(train_data)\n",
        "\n",
        "# Step 7: Evaluate the SVM model on the test data\n",
        "svm_predictions = svm_model.transform(test_data)\n",
        "svm_accuracy = rf_evaluator.evaluate(svm_predictions)\n",
        "\n",
        "# Print the evaluation result\n",
        "print(\"Support Vector Machines (SVM) Model - Accuracy: {:.2f}\".format(svm_accuracy))\n"
      ],
      "metadata": {
        "colab": {
          "base_uri": "https://localhost:8080/"
        },
        "id": "nwIjTjOd6Dhn",
        "outputId": "356160f7-bb78-40b8-ee17-5286f631a1a0"
      },
      "execution_count": 30,
      "outputs": [
        {
          "output_type": "stream",
          "name": "stdout",
          "text": [
            "+------+-----+\n",
            "|income|count|\n",
            "+------+-----+\n",
            "| <=50K|37155|\n",
            "|  >50K|11687|\n",
            "+------+-----+\n",
            "\n",
            "Random Forest Model - Accuracy: 0.84\n",
            "Support Vector Machines (SVM) Model - Accuracy: 0.82\n"
          ]
        }
      ]
    },
    {
      "cell_type": "code",
      "source": [
        "from pyspark.sql import SparkSession\n",
        "from pyspark.sql.functions import col, trim\n",
        "from pyspark.ml.feature import StringIndexer, VectorAssembler\n",
        "from pyspark.ml.classification import MultilayerPerceptronClassifier\n",
        "from pyspark.ml.clustering import KMeans\n",
        "\n",
        "# Step 1: Data Preprocessing\n",
        "spark = SparkSession.builder.appName(\"PySpark_Neural_Networks_and_Clustering\").getOrCreate()\n",
        "\n",
        "# Load the data into a DataFrame\n",
        "data = spark.read.csv('/content/adult.csv', header=True, inferSchema=True)\n",
        "\n",
        "# Drop rows with missing values in any of the selected columns\n",
        "selected_columns = ['age', 'workclass', 'fnlwgt', 'education', 'educational-num', 'marital-status', 'occupation',\n",
        "                    'relationship', 'race', 'gender', 'capital-gain', 'capital-loss', 'hours-per-week',\n",
        "                    'native-country', 'income']\n",
        "data = data.select(selected_columns).na.drop()\n",
        "\n",
        "# Clean the 'income' column by removing leading/trailing whitespaces\n",
        "data = data.withColumn('income', trim(col('income')))\n",
        "\n",
        "# Encode categorical columns with StringIndexer\n",
        "categorical_columns = ['workclass', 'education', 'marital-status', 'occupation', 'relationship', 'race', 'gender', 'native-country']\n",
        "indexers = [StringIndexer(inputCol=column, outputCol=column + \"_index\", handleInvalid='keep').fit(data) for column in categorical_columns]\n",
        "for indexer in indexers:\n",
        "    data = indexer.transform(data)\n",
        "\n",
        "# Convert 'income' column to integer type (0 for '<=50K', 1 for '>50K')\n",
        "data = data.withColumn('label', (col('income') == '>50K').cast('int'))\n",
        "\n",
        "# Step 2: Prepare the feature vector\n",
        "feature_columns = ['age', 'fnlwgt', 'educational-num', 'capital-gain', 'capital-loss', 'hours-per-week'] + [column + \"_index\" for column in categorical_columns]\n",
        "assembler = VectorAssembler(inputCols=feature_columns, outputCol=\"features\")\n",
        "data = assembler.transform(data)\n",
        "\n",
        "# Step 3: Split the data into training and testing sets (70% training, 30% testing)\n",
        "train_data, test_data = data.randomSplit([0.7, 0.3], seed=42)\n",
        "\n",
        "# Step 4: Implement Neural Network\n",
        "layers = [len(feature_columns), 5, 4, 2]  # The number of nodes in each layer (input, hidden layers, output)\n",
        "mlp = MultilayerPerceptronClassifier(featuresCol=\"features\", labelCol=\"label\", layers=layers, seed=42)\n",
        "mlp_model = mlp.fit(train_data)\n",
        "\n",
        "# Step 5: Evaluate the Neural Network model on the test data\n",
        "mlp_predictions = mlp_model.transform(test_data)\n",
        "mlp_evaluator = MulticlassClassificationEvaluator(metricName=\"accuracy\")\n",
        "mlp_accuracy = mlp_evaluator.evaluate(mlp_predictions)\n",
        "\n",
        "print(\"Neural Network Model - Accuracy: {:.2f}\".format(mlp_accuracy))\n",
        "\n",
        "# Step 6: Implement Unsupervised Learning - K-means Clustering\n",
        "kmeans = KMeans(k=2, seed=42)\n",
        "kmeans_model = kmeans.fit(data)\n",
        "\n",
        "# Step 7: Predict cluster assignments for the data points\n",
        "kmeans_predictions = kmeans_model.transform(data)\n",
        "\n",
        "# Display cluster centers and the number of data points in each cluster\n",
        "kmeans_model.clusterCenters()\n",
        "kmeans_predictions.groupBy(\"prediction\").count().show()\n",
        "\n",
        "spark.stop()\n"
      ],
      "metadata": {
        "colab": {
          "base_uri": "https://localhost:8080/"
        },
        "id": "sJIDYfOg8r8g",
        "outputId": "69eb92f8-fa33-448b-983e-bba6c6e188dc"
      },
      "execution_count": 31,
      "outputs": [
        {
          "output_type": "stream",
          "name": "stdout",
          "text": [
            "Neural Network Model - Accuracy: 0.76\n",
            "+----------+-----+\n",
            "|prediction|count|\n",
            "+----------+-----+\n",
            "|         1|12694|\n",
            "|         0|36148|\n",
            "+----------+-----+\n",
            "\n"
          ]
        }
      ]
    },
    {
      "cell_type": "code",
      "source": [
        "from pyspark.sql import SparkSession\n",
        "from pyspark.ml.feature import VectorAssembler\n",
        "from pyspark.ml.classification import MultilayerPerceptronClassifier\n",
        "from pyspark.ml.evaluation import MulticlassClassificationEvaluator\n",
        "from pyspark.ml.tuning import ParamGridBuilder, CrossValidator\n",
        "\n",
        "# Create a SparkSession\n",
        "spark = SparkSession.builder \\\n",
        "    .appName(\"NeuralNetworks\") \\\n",
        "    .getOrCreate()\n",
        "\n",
        "# Step 1: Load the data into a DataFrame\n",
        "data = spark.read.csv('/content/adult.csv', header=True, inferSchema=True)\n",
        "\n",
        "# Step 2: Data Cleaning and Preparation\n",
        "# Drop rows with missing values in any of the selected columns\n",
        "selected_columns = ['age', 'workclass', 'fnlwgt', 'education', 'educational-num', 'marital-status',\n",
        "                    'occupation', 'relationship', 'race', 'gender', 'capital-gain', 'capital-loss',\n",
        "                    'hours-per-week', 'native-country', 'income']\n",
        "data = data.select(selected_columns).na.drop()\n",
        "\n",
        "# Clean the 'income' column by removing leading/trailing whitespaces\n",
        "data = data.withColumn('income', trim(data['income']))\n",
        "\n",
        "# Step 3: Encode categorical columns with StringIndexer\n",
        "from pyspark.ml.feature import StringIndexer\n",
        "\n",
        "indexers = [StringIndexer(inputCol=column, outputCol=column+\"_index\").fit(data)\n",
        "            for column in ['workclass', 'education', 'marital-status', 'occupation', 'relationship',\n",
        "                           'race', 'gender', 'native-country', 'income']]\n",
        "for indexer in indexers:\n",
        "    data = indexer.transform(data)\n",
        "\n",
        "# Step 4: Prepare the feature vector and rename the 'income' column to 'label'\n",
        "feature_columns = ['age', 'fnlwgt', 'educational-num', 'capital-gain', 'capital-loss', 'hours-per-week',\n",
        "                   'workclass_index', 'education_index', 'marital-status_index', 'occupation_index',\n",
        "                   'relationship_index', 'race_index', 'gender_index', 'native-country_index']\n",
        "assembler = VectorAssembler(inputCols=feature_columns, outputCol=\"features\")\n",
        "data = assembler.transform(data).select(\"features\", \"income_index\")\n",
        "\n",
        "# Split the data into training and testing sets (70% training, 30% testing)\n",
        "train_data, test_data = data.randomSplit([0.7, 0.3], seed=42)\n",
        "\n",
        "# Step 5: Implement Neural Network with Cross-Validation\n",
        "layers = [len(feature_columns), 5, 4, 2]  # The number of nodes in each layer (input, hidden layers, output)\n",
        "mlp = MultilayerPerceptronClassifier(featuresCol=\"features\", labelCol=\"income_index\", layers=layers, seed=42)\n",
        "\n",
        "# Create a ParamGrid for hyperparameter tuning\n",
        "paramGrid = ParamGridBuilder() \\\n",
        "    .addGrid(mlp.maxIter, [50, 100, 150]) \\\n",
        "    .addGrid(mlp.stepSize, [0.01, 0.05, 0.1]) \\\n",
        "    .build()\n",
        "\n",
        "# Create a CrossValidator to perform cross-validation\n",
        "mlp_evaluator = MulticlassClassificationEvaluator(labelCol=\"income_index\", metricName=\"accuracy\")\n",
        "crossval = CrossValidator(estimator=mlp,\n",
        "                          estimatorParamMaps=paramGrid,\n",
        "                          evaluator=mlp_evaluator,\n",
        "                          numFolds=5,\n",
        "                          seed=42)\n",
        "\n",
        "# Fit the CrossValidator to the training data\n",
        "cv_model = crossval.fit(train_data)\n",
        "\n",
        "# Get the best model from cross-validation\n",
        "best_mlp_model = cv_model.bestModel\n",
        "\n",
        "# Step 6: Evaluate the best Neural Network model on the test data\n",
        "best_mlp_predictions = best_mlp_model.transform(test_data)\n",
        "best_mlp_accuracy = mlp_evaluator.evaluate(best_mlp_predictions)\n",
        "\n",
        "print(\"Best Neural Network Model - Accuracy: {:.2f}\".format(best_mlp_accuracy))\n",
        "\n",
        "# Step 7: Train the model on the entire dataset\n",
        "final_model = mlp.fit(data)\n",
        "\n",
        "# Save the final model\n",
        "final_model.save(\"/content/neural_network_model\")\n",
        "\n",
        "# Stop the SparkSession\n",
        "spark.stop()\n"
      ],
      "metadata": {
        "colab": {
          "base_uri": "https://localhost:8080/"
        },
        "id": "15Sso9F89jV7",
        "outputId": "833cf50b-4cd5-489c-86b5-c0050308e547"
      },
      "execution_count": 33,
      "outputs": [
        {
          "output_type": "stream",
          "name": "stdout",
          "text": [
            "Best Neural Network Model - Accuracy: 0.77\n"
          ]
        }
      ]
    },
    {
      "cell_type": "code",
      "source": [
        "from pyspark.sql import SparkSession\n",
        "from pyspark.ml.classification import MultilayerPerceptronClassifier\n",
        "from pyspark.ml.evaluation import MulticlassClassificationEvaluator\n",
        "from pyspark.ml.feature import StringIndexer, VectorAssembler\n",
        "from pyspark.ml.tuning import ParamGridBuilder, CrossValidator\n",
        "\n",
        "# Create a SparkSession\n",
        "spark = SparkSession.builder \\\n",
        "    .appName(\"AdultCensusPrediction\") \\\n",
        "    .getOrCreate()\n",
        "\n",
        "# Load the data into a DataFrame\n",
        "data = spark.read.csv('/content/adult.csv', header=True, inferSchema=True)\n",
        "\n",
        "# Step 2: Drop rows with missing values in any of the selected columns\n",
        "selected_columns = ['age', 'workclass', 'fnlwgt', 'education', 'educational-num', 'marital-status',\n",
        "                    'occupation', 'relationship', 'race', 'gender', 'capital-gain', 'capital-loss',\n",
        "                    'hours-per-week', 'native-country', 'income']\n",
        "data = data.select(selected_columns).na.drop()\n",
        "\n",
        "# Step 3: Clean the 'income' column by removing leading/trailing whitespaces\n",
        "data = data.withColumn('income', trim(data['income']))\n",
        "\n",
        "# Step 4: Encode categorical columns with StringIndexer\n",
        "categorical_columns = ['workclass', 'education', 'marital-status', 'occupation', 'relationship', 'race', 'gender', 'native-country']\n",
        "indexers = [StringIndexer(inputCol=column, outputCol=column + \"_index\").fit(data) for column in categorical_columns]\n",
        "for indexer in indexers:\n",
        "    data = indexer.transform(data)\n",
        "\n",
        "# Step 5: Prepare the feature vector and rename the 'income' column to 'label'\n",
        "feature_columns = ['age', 'fnlwgt', 'educational-num', 'capital-gain', 'capital-loss', 'hours-per-week'] + [column + \"_index\" for column in categorical_columns]\n",
        "assembler = VectorAssembler(inputCols=feature_columns, outputCol=\"features\")\n",
        "data = assembler.transform(data).select(\"features\", (data[\"income\"] == '>50K').cast('int').alias(\"label\"))\n",
        "\n",
        "# Split the data into training and testing sets (70% training, 30% testing)\n",
        "train_data, test_data = data.randomSplit([0.7, 0.3], seed=42)\n",
        "\n",
        "# Step 6: Implement Neural Network with Cross-Validation\n",
        "layers = [len(feature_columns), 5, 4, 2]  # The number of nodes in each layer (input, hidden layers, output)\n",
        "mlp = MultilayerPerceptronClassifier(featuresCol=\"features\", labelCol=\"label\", layers=layers, seed=42)\n",
        "\n",
        "# Create a ParamGrid for hyperparameter tuning\n",
        "paramGrid = ParamGridBuilder() \\\n",
        "    .addGrid(mlp.maxIter, [50, 100, 150]) \\\n",
        "    .addGrid(mlp.stepSize, [0.01, 0.05, 0.1]) \\\n",
        "    .build()\n",
        "\n",
        "# Create a CrossValidator to perform cross-validation\n",
        "mlp_evaluator = MulticlassClassificationEvaluator(metricName=\"accuracy\")\n",
        "crossval = CrossValidator(estimator=mlp,\n",
        "                          estimatorParamMaps=paramGrid,\n",
        "                          evaluator=mlp_evaluator,\n",
        "                          numFolds=5,\n",
        "                          seed=42)\n",
        "\n",
        "# Fit the CrossValidator to the training data\n",
        "cv_model = crossval.fit(train_data)\n",
        "\n",
        "# Get the best model from cross-validation\n",
        "best_mlp_model = cv_model.bestModel\n",
        "\n",
        "# Step 7: Evaluate the best Neural Network model on the test data\n",
        "best_mlp_predictions = best_mlp_model.transform(test_data)\n",
        "best_mlp_accuracy = mlp_evaluator.evaluate(best_mlp_predictions)\n",
        "\n",
        "print(\"Best Neural Network Model - Accuracy: {:.2f}\".format(best_mlp_accuracy))\n"
      ],
      "metadata": {
        "colab": {
          "base_uri": "https://localhost:8080/"
        },
        "id": "QNl9cs08-kbY",
        "outputId": "ec0ba5a2-371a-4dc6-c116-2209e3b8aa1e"
      },
      "execution_count": 34,
      "outputs": [
        {
          "output_type": "stream",
          "name": "stdout",
          "text": [
            "Best Neural Network Model - Accuracy: 0.77\n"
          ]
        }
      ]
    },
    {
      "cell_type": "code",
      "source": [
        "from pyspark.sql import SparkSession\n",
        "from pyspark.ml.classification import MultilayerPerceptronClassifier\n",
        "from pyspark.ml.evaluation import MulticlassClassificationEvaluator\n",
        "from pyspark.ml.feature import StringIndexer, VectorAssembler\n",
        "from pyspark.ml.tuning import ParamGridBuilder, CrossValidator\n",
        "\n",
        "# Create a SparkSession\n",
        "spark = SparkSession.builder \\\n",
        "    .appName(\"AdultCensusPrediction\") \\\n",
        "    .getOrCreate()\n",
        "\n",
        "# Load the data into a DataFrame\n",
        "data = spark.read.csv('/content/adult.csv', header=True, inferSchema=True)\n",
        "\n",
        "# Step 2: Drop rows with missing values in any of the selected columns\n",
        "selected_columns = ['age', 'workclass', 'fnlwgt', 'education', 'educational-num', 'marital-status',\n",
        "                    'occupation', 'relationship', 'race', 'gender', 'capital-gain', 'capital-loss',\n",
        "                    'hours-per-week', 'native-country', 'income']\n",
        "data = data.select(selected_columns).na.drop()\n",
        "\n",
        "# Step 3: Clean the 'income' column by removing leading/trailing whitespaces\n",
        "data = data.withColumn('income', trim(data['income']))\n",
        "\n",
        "# Step 4: Encode categorical columns with StringIndexer\n",
        "categorical_columns = ['workclass', 'education', 'marital-status', 'occupation', 'relationship', 'race', 'gender', 'native-country']\n",
        "indexers = [StringIndexer(inputCol=column, outputCol=column + \"_index\").fit(data) for column in categorical_columns]\n",
        "for indexer in indexers:\n",
        "    data = indexer.transform(data)\n",
        "\n",
        "# Step 5: Prepare the feature vector and rename the 'income' column to 'label'\n",
        "feature_columns = ['age', 'fnlwgt', 'educational-num', 'capital-gain', 'capital-loss', 'hours-per-week'] + [column + \"_index\" for column in categorical_columns]\n",
        "assembler = VectorAssembler(inputCols=feature_columns, outputCol=\"features\")\n",
        "data = assembler.transform(data).select(\"features\", (data[\"income\"] == '>50K').cast('int').alias(\"label\"))\n",
        "\n",
        "# Split the data into training and testing sets (70% training, 30% testing)\n",
        "train_data, test_data = data.randomSplit([0.7, 0.3], seed=42)\n",
        "\n",
        "# Step 6: Implement Neural Network with Cross-Validation and Hyperparameter Tuning\n",
        "layers = [len(feature_columns), 5, 4, 2]  # The number of nodes in each layer (input, hidden layers, output)\n",
        "mlp = MultilayerPerceptronClassifier(featuresCol=\"features\", labelCol=\"label\", layers=layers, seed=42)\n",
        "\n",
        "# Create a ParamGrid for hyperparameter tuning\n",
        "paramGrid = ParamGridBuilder() \\\n",
        "    .addGrid(mlp.maxIter, [100, 150, 200]) \\\n",
        "    .addGrid(mlp.stepSize, [0.01, 0.05, 0.1]) \\\n",
        "    .addGrid(mlp.blockSize, [64, 128]) \\\n",
        "    .build()\n",
        "\n",
        "# Create a CrossValidator to perform cross-validation\n",
        "mlp_evaluator = MulticlassClassificationEvaluator(metricName=\"accuracy\")\n",
        "crossval = CrossValidator(estimator=mlp,\n",
        "                          estimatorParamMaps=paramGrid,\n",
        "                          evaluator=mlp_evaluator,\n",
        "                          numFolds=5,\n",
        "                          seed=42)\n",
        "\n",
        "# Fit the CrossValidator to the training data\n",
        "cv_model = crossval.fit(train_data)\n",
        "\n",
        "# Get the best model from cross-validation\n",
        "best_mlp_model = cv_model.bestModel\n",
        "\n",
        "# Step 7: Evaluate the best Neural Network model on the test data\n",
        "best_mlp_predictions = best_mlp_model.transform(test_data)\n",
        "best_mlp_accuracy = mlp_evaluator.evaluate(best_mlp_predictions)\n",
        "\n",
        "print(\"Best Neural Network Model - Accuracy: {:.2f}\".format(best_mlp_accuracy))\n"
      ],
      "metadata": {
        "colab": {
          "base_uri": "https://localhost:8080/"
        },
        "id": "CEXprXSa_NAH",
        "outputId": "0c9cc9af-bfd0-4b04-8712-ff8fc122b16e"
      },
      "execution_count": 35,
      "outputs": [
        {
          "output_type": "stream",
          "name": "stdout",
          "text": [
            "Best Neural Network Model - Accuracy: 0.77\n"
          ]
        }
      ]
    },
    {
      "cell_type": "code",
      "source": [
        "!pip install sparklyr\n"
      ],
      "metadata": {
        "id": "oH_kh4kqBFmR"
      },
      "execution_count": null,
      "outputs": []
    },
    {
      "cell_type": "code",
      "source": [
        "from pyspark.sql import SparkSession\n",
        "from pyspark.ml.feature import StringIndexer, VectorAssembler\n",
        "from pyspark.ml.evaluation import MulticlassClassificationEvaluator\n",
        "from pyspark.ml.classification import DecisionTreeClassifier\n",
        "\n",
        "# Create a SparkSession\n",
        "spark = SparkSession.builder \\\n",
        "    .appName(\"AdultCensusPrediction\") \\\n",
        "    .getOrCreate()\n",
        "\n",
        "# Load the data into a DataFrame\n",
        "data = spark.read.csv('/content/adult.csv', header=True, inferSchema=True)\n",
        "\n",
        "# Step 2: Drop rows with missing values in any of the selected columns\n",
        "selected_columns = ['age', 'workclass', 'fnlwgt', 'education', 'educational-num', 'marital-status',\n",
        "                    'occupation', 'relationship', 'race', 'gender', 'capital-gain', 'capital-loss',\n",
        "                    'hours-per-week', 'native-country', 'income']\n",
        "data = data.select(selected_columns).na.drop()\n",
        "\n",
        "# Step 3: Clean the 'income' column by removing leading/trailing whitespaces\n",
        "data = data.withColumn('income', trim(data['income']))\n",
        "\n",
        "# Step 4: Encode categorical columns with StringIndexer\n",
        "categorical_columns = ['workclass', 'education', 'marital-status', 'occupation', 'relationship', 'race', 'gender', 'native-country']\n",
        "indexers = [StringIndexer(inputCol=column, outputCol=column + \"_index\").fit(data) for column in categorical_columns]\n",
        "for indexer in indexers:\n",
        "    data = indexer.transform(data)\n",
        "\n",
        "# Step 5: Prepare the feature vector and rename the 'income' column to 'label'\n",
        "feature_columns = ['age', 'fnlwgt', 'educational-num', 'capital-gain', 'capital-loss', 'hours-per-week'] + [column + \"_index\" for column in categorical_columns]\n",
        "assembler = VectorAssembler(inputCols=feature_columns, outputCol=\"features\")\n",
        "data = assembler.transform(data).select(\"features\", (data[\"income\"] == '>50K').cast('int').alias(\"label\"))\n",
        "\n",
        "# Split the data into training and testing sets (70% training, 30% testing)\n",
        "train_data, test_data = data.randomSplit([0.7, 0.3], seed=42)\n",
        "\n",
        "# Step 6: Implement Decision Tree Classifier with increased maxBins\n",
        "decision_tree = DecisionTreeClassifier(featuresCol=\"features\", labelCol=\"label\", maxBins=43)\n",
        "\n",
        "# Fit the Decision Tree model on the training data\n",
        "dt_model = decision_tree.fit(train_data)\n",
        "\n",
        "# Step 7: Evaluate the Decision Tree model on the test data\n",
        "dt_predictions = dt_model.transform(test_data)\n",
        "dt_evaluator = MulticlassClassificationEvaluator(metricName=\"accuracy\")\n",
        "dt_accuracy = dt_evaluator.evaluate(dt_predictions)\n",
        "\n",
        "print(\"Decision Tree Model - Accuracy: {:.2f}\".format(dt_accuracy))\n"
      ],
      "metadata": {
        "colab": {
          "base_uri": "https://localhost:8080/"
        },
        "id": "IeJNIyirA7Pm",
        "outputId": "a8691e7d-05bf-4eca-ae0d-bfa8221c5efe"
      },
      "execution_count": 41,
      "outputs": [
        {
          "output_type": "stream",
          "name": "stdout",
          "text": [
            "Decision Tree Model - Accuracy: 0.85\n"
          ]
        }
      ]
    },
    {
      "cell_type": "code",
      "source": [
        "from pyspark.sql import SparkSession\n",
        "from pyspark.ml.feature import StringIndexer, VectorAssembler\n",
        "from pyspark.ml.classification import LogisticRegression, RandomForestClassifier\n",
        "from pyspark.ml.evaluation import MulticlassClassificationEvaluator\n",
        "import matplotlib.pyplot as plt\n",
        "\n",
        "# Step 1: Create a SparkSession\n",
        "spark = SparkSession.builder \\\n",
        "    .appName(\"PySpark Classification\") \\\n",
        "    .getOrCreate()\n",
        "\n",
        "# Step 2: Load the data into a DataFrame\n",
        "data = spark.read.csv('/content/adult.csv', header=True, inferSchema=True)\n",
        "\n",
        "# Step 3: Drop rows with missing values in any of the selected columns\n",
        "selected_columns = ['age', 'workclass', 'fnlwgt', 'education', 'educational-num', 'marital-status',\n",
        "                    'occupation', 'relationship', 'race', 'gender', 'capital-gain', 'capital-loss',\n",
        "                    'hours-per-week', 'native-country', 'income']\n",
        "data = data.select(selected_columns).na.drop()\n",
        "\n",
        "# Step 4: Encode categorical columns with StringIndexer\n",
        "categorical_columns = ['workclass', 'education', 'marital-status', 'occupation', 'relationship', 'race', 'gender', 'native-country']\n",
        "for column in categorical_columns:\n",
        "    indexer = StringIndexer(inputCol=column, outputCol=column + \"_index\")\n",
        "    data = indexer.fit(data).transform(data)\n",
        "\n",
        "# Step 5: Convert the 'income' column to integer type (0 for '<=50K', 1 for '>50K')\n",
        "data = data.withColumn('label', (data['income'] == '>50K').cast('int'))\n",
        "\n",
        "# Step 6: Prepare the feature vector\n",
        "feature_columns = ['age', 'workclass_index', 'fnlwgt', 'education_index', 'educational-num', 'marital-status_index',\n",
        "                   'occupation_index', 'relationship_index', 'race_index', 'gender_index', 'capital-gain',\n",
        "                   'capital-loss', 'hours-per-week', 'native-country_index']\n",
        "assembler = VectorAssembler(inputCols=feature_columns, outputCol=\"features\")\n",
        "data = assembler.transform(data).select(\"features\", \"label\")\n",
        "\n",
        "# Step 7: Split the data into training and testing sets (70% training, 30% testing)\n",
        "train_data, test_data = data.randomSplit([0.7, 0.3], seed=42)\n",
        "\n",
        "# Step 8: Train the Logistic Regression model\n",
        "log_reg = LogisticRegression(featuresCol=\"features\", labelCol=\"label\")\n",
        "log_reg_model = log_reg.fit(train_data)\n",
        "\n",
        "# Step 9: Evaluate the Logistic Regression model on the test data\n",
        "log_reg_predictions = log_reg_model.transform(test_data)\n",
        "log_reg_evaluator = MulticlassClassificationEvaluator(metricName=\"accuracy\")\n",
        "log_reg_accuracy = log_reg_evaluator.evaluate(log_reg_predictions)\n",
        "\n",
        "# Step 10: Train the Random Forest model with maxBins=50\n",
        "random_forest = RandomForestClassifier(featuresCol=\"features\", labelCol=\"label\", maxBins=50)\n",
        "rf_model = random_forest.fit(train_data)\n",
        "\n",
        "# Step 11: Evaluate the Random Forest model on the test data\n",
        "rf_predictions = rf_model.transform(test_data)\n",
        "rf_accuracy = log_reg_evaluator.evaluate(rf_predictions)\n",
        "\n",
        "# Step 12: Print the evaluation results\n",
        "print(\"Logistic Regression Model - Accuracy: {:.2f}\".format(log_reg_accuracy))\n",
        "print(\"Random Forest Model - Accuracy: {:.2f}\".format(rf_accuracy))\n",
        "\n",
        "# Step 13: Create an accuracy diagram\n",
        "accuracy_values = [log_reg_accuracy, rf_accuracy]\n",
        "models = ['Logistic Regression', 'Random Forest']\n",
        "plt.bar(models, accuracy_values)\n",
        "plt.xlabel('Models')\n",
        "plt.ylabel('Accuracy')\n",
        "plt.title('Model Accuracy Comparison')\n",
        "plt.show()\n"
      ],
      "metadata": {
        "colab": {
          "base_uri": "https://localhost:8080/",
          "height": 507
        },
        "id": "_BguMmhbCSUb",
        "outputId": "513edc9c-1f76-42f0-cda7-b55cbb08b919"
      },
      "execution_count": 46,
      "outputs": [
        {
          "output_type": "stream",
          "name": "stdout",
          "text": [
            "Logistic Regression Model - Accuracy: 0.84\n",
            "Random Forest Model - Accuracy: 0.85\n"
          ]
        },
        {
          "output_type": "display_data",
          "data": {
            "text/plain": [
              "<Figure size 640x480 with 1 Axes>"
            ],
            "image/png": "[encoded data removed]"
          },
          "metadata": {}
        }
      ]
    },
    {
      "cell_type": "code",
      "source": [
        "from pyspark.sql import SparkSession\n",
        "from pyspark.ml.feature import StringIndexer, VectorAssembler\n",
        "from pyspark.ml.classification import LogisticRegression, RandomForestClassifier\n",
        "from pyspark.ml.evaluation import MulticlassClassificationEvaluator\n",
        "from pyspark.ml.evaluation import MulticlassClassificationEvaluator\n",
        "import matplotlib.pyplot as plt\n",
        "\n",
        "# Step 1: Create a SparkSession\n",
        "spark = SparkSession.builder \\\n",
        "    .appName(\"PySpark Classification\") \\\n",
        "    .getOrCreate()\n",
        "\n",
        "# Step 2: Load the data into a DataFrame\n",
        "data = spark.read.csv('/content/adult.csv', header=True, inferSchema=True)\n",
        "\n",
        "# Step 3: Drop rows with missing values in any of the selected columns\n",
        "selected_columns = ['age', 'workclass', 'fnlwgt', 'education', 'educational-num', 'marital-status',\n",
        "                    'occupation', 'relationship', 'race', 'gender', 'capital-gain', 'capital-loss',\n",
        "                    'hours-per-week', 'native-country', 'income']\n",
        "data = data.select(selected_columns).na.drop()\n",
        "\n",
        "# Step 4: Encode categorical columns with StringIndexer\n",
        "categorical_columns = ['workclass', 'education', 'marital-status', 'occupation', 'relationship', 'race', 'gender', 'native-country']\n",
        "for column in categorical_columns:\n",
        "    indexer = StringIndexer(inputCol=column, outputCol=column + \"_index\")\n",
        "    data = indexer.fit(data).transform(data)\n",
        "\n",
        "# Step 5: Convert the 'income' column to integer type (0 for '<=50K', 1 for '>50K')\n",
        "data = data.withColumn('label', (data['income'] == '>50K').cast('int'))\n",
        "\n",
        "# Step 6: Prepare the feature vector\n",
        "feature_columns = ['age', 'workclass_index', 'fnlwgt', 'education_index', 'educational-num', 'marital-status_index',\n",
        "                   'occupation_index', 'relationship_index', 'race_index', 'gender_index', 'capital-gain',\n",
        "                   'capital-loss', 'hours-per-week', 'native-country_index']\n",
        "assembler = VectorAssembler(inputCols=feature_columns, outputCol=\"features\")\n",
        "data = assembler.transform(data).select(\"features\", \"label\")\n",
        "\n",
        "# Step 7: Split the data into training and testing sets (70% training, 30% testing)\n",
        "train_data, test_data = data.randomSplit([0.7, 0.3], seed=42)\n",
        "\n",
        "# Step 8: Train the Logistic Regression model\n",
        "log_reg = LogisticRegression(featuresCol=\"features\", labelCol=\"label\")\n",
        "log_reg_model = log_reg.fit(train_data)\n",
        "\n",
        "# Step 9: Evaluate the Logistic Regression model on the test data\n",
        "log_reg_predictions = log_reg_model.transform(test_data)\n",
        "log_reg_evaluator = MulticlassClassificationEvaluator(metricName=\"accuracy\")\n",
        "log_reg_accuracy = log_reg_evaluator.evaluate(log_reg_predictions)\n",
        "\n",
        "# Step 10: Train the Random Forest model with maxBins=50\n",
        "random_forest = RandomForestClassifier(featuresCol=\"features\", labelCol=\"label\", maxBins=50)\n",
        "rf_model = random_forest.fit(train_data)\n",
        "\n",
        "# Step 11: Evaluate the Random Forest model on the test data\n",
        "rf_predictions = rf_model.transform(test_data)\n",
        "\n",
        "# Step 12: Calculate and print evaluation metrics for both models\n",
        "evaluator = MulticlassClassificationEvaluator(labelCol=\"label\", predictionCol=\"prediction\")\n",
        "\n",
        "log_reg_accuracy = evaluator.evaluate(log_reg_predictions, {evaluator.metricName: \"accuracy\"})\n",
        "log_reg_precision = evaluator.evaluate(log_reg_predictions, {evaluator.metricName: \"precisionByLabel\"})\n",
        "log_reg_recall = evaluator.evaluate(log_reg_predictions, {evaluator.metricName: \"recallByLabel\"})\n",
        "log_reg_f1 = evaluator.evaluate(log_reg_predictions, {evaluator.metricName: \"f1\"})\n",
        "\n",
        "rf_accuracy = evaluator.evaluate(rf_predictions, {evaluator.metricName: \"accuracy\"})\n",
        "rf_precision = evaluator.evaluate(rf_predictions, {evaluator.metricName: \"precisionByLabel\"})\n",
        "rf_recall = evaluator.evaluate(rf_predictions, {evaluator.metricName: \"recallByLabel\"})\n",
        "rf_f1 = evaluator.evaluate(rf_predictions, {evaluator.metricName: \"f1\"})\n",
        "\n",
        "# Step 13: Print the evaluation results\n",
        "print(\"Logistic Regression Model:\")\n",
        "print(\"Accuracy: {:.2f}\".format(log_reg_accuracy))\n",
        "print(\"Precision: {:.2f}\".format(log_reg_precision))\n",
        "print(\"Recall: {:.2f}\".format(log_reg_recall))\n",
        "print(\"F1 Score: {:.2f}\".format(log_reg_f1))\n",
        "\n",
        "print(\"\\nRandom Forest Model:\")\n",
        "print(\"Accuracy: {:.2f}\".format(rf_accuracy))\n",
        "print(\"Precision: {:.2f}\".format(rf_precision))\n",
        "print(\"Recall: {:.2f}\".format(rf_recall))\n",
        "print(\"F1 Score: {:.2f}\".format(rf_f1))"
      ],
      "metadata": {
        "colab": {
          "base_uri": "https://localhost:8080/"
        },
        "id": "ep1vQ-BEEK_1",
        "outputId": "92683eb5-469a-40a1-b421-fd9137e4c693"
      },
      "execution_count": 47,
      "outputs": [
        {
          "output_type": "stream",
          "name": "stdout",
          "text": [
            "Logistic Regression Model:\n",
            "Accuracy: 0.84\n",
            "Precision: 0.86\n",
            "Recall: 0.94\n",
            "F1 Score: 0.83\n",
            "\n",
            "Random Forest Model:\n",
            "Accuracy: 0.85\n",
            "Precision: 0.86\n",
            "Recall: 0.96\n",
            "F1 Score: 0.84\n"
          ]
        }
      ]
    },
    {
      "cell_type": "code",
      "source": [
        "from pyspark.sql import SparkSession\n",
        "from pyspark.ml.feature import StringIndexer, VectorAssembler\n",
        "from pyspark.ml.classification import LogisticRegression, RandomForestClassifier\n",
        "from pyspark.ml.evaluation import MulticlassClassificationEvaluator\n",
        "from pyspark.ml.evaluation import MulticlassClassificationEvaluator\n",
        "import matplotlib.pyplot as plt\n",
        "from pyspark.ml.classification import LogisticRegression, RandomForestClassifier, NaiveBayes\n",
        "from pyspark.ml.evaluation import MulticlassClassificationEvaluator\n",
        "\n",
        "\n",
        "# Step 1: Create a SparkSession\n",
        "spark = SparkSession.builder \\\n",
        "    .appName(\"PySpark Classification\") \\\n",
        "    .getOrCreate()\n",
        "\n",
        "# Step 2: Load the data into a DataFrame\n",
        "data = spark.read.csv('/content/adult.csv', header=True, inferSchema=True)\n",
        "\n",
        "# Step 3: Drop rows with missing values in any of the selected columns\n",
        "selected_columns = ['age', 'workclass', 'fnlwgt', 'education', 'educational-num', 'marital-status',\n",
        "                    'occupation', 'relationship', 'race', 'gender', 'capital-gain', 'capital-loss',\n",
        "                    'hours-per-week', 'native-country', 'income']\n",
        "data = data.select(selected_columns).na.drop()\n",
        "\n",
        "# Step 4: Encode categorical columns with StringIndexer\n",
        "categorical_columns = ['workclass', 'education', 'marital-status', 'occupation', 'relationship', 'race', 'gender', 'native-country']\n",
        "for column in categorical_columns:\n",
        "    indexer = StringIndexer(inputCol=column, outputCol=column + \"_index\")\n",
        "    data = indexer.fit(data).transform(data)\n",
        "\n",
        "# Step 5: Convert the 'income' column to integer type (0 for '<=50K', 1 for '>50K')\n",
        "data = data.withColumn('label', (data['income'] == '>50K').cast('int'))\n",
        "\n",
        "# Step 6: Prepare the feature vector\n",
        "feature_columns = ['age', 'workclass_index', 'fnlwgt', 'education_index', 'educational-num', 'marital-status_index',\n",
        "                   'occupation_index', 'relationship_index', 'race_index', 'gender_index', 'capital-gain',\n",
        "                   'capital-loss', 'hours-per-week', 'native-country_index']\n",
        "assembler = VectorAssembler(inputCols=feature_columns, outputCol=\"features\")\n",
        "data = assembler.transform(data).select(\"features\", \"label\")\n",
        "\n",
        "# Step 7: Split the data into training and testing sets (70% training, 30% testing)\n",
        "train_data, test_data = data.randomSplit([0.7, 0.3], seed=42)\n",
        "\n",
        "# Step 8: Train the Logistic Regression model\n",
        "log_reg = LogisticRegression(featuresCol=\"features\", labelCol=\"label\")\n",
        "log_reg_model = log_reg.fit(train_data)\n",
        "\n",
        "# Step 9: Evaluate the Logistic Regression model on the test data\n",
        "log_reg_predictions = log_reg_model.transform(test_data)\n",
        "log_reg_evaluator = MulticlassClassificationEvaluator(metricName=\"accuracy\")\n",
        "log_reg_accuracy = log_reg_evaluator.evaluate(log_reg_predictions)\n",
        "\n",
        "# Step 10: Train the Random Forest model with maxBins=50\n",
        "random_forest = RandomForestClassifier(featuresCol=\"features\", labelCol=\"label\", maxBins=50)\n",
        "rf_model = random_forest.fit(train_data)\n",
        "\n",
        "# Step 11: Train the Naive Bayes model\n",
        "naive_bayes = NaiveBayes(featuresCol=\"features\", labelCol=\"label\")\n",
        "nb_model = naive_bayes.fit(train_data)\n",
        "\n",
        "# Step 12: Evaluate the Random Forest model on the test data\n",
        "rf_predictions = rf_model.transform(test_data)\n",
        "\n",
        "# Step 13: Evaluate the Naive Bayes model on the test data\n",
        "nb_predictions = nb_model.transform(test_data)\n",
        "\n",
        "# Step 14: Calculate and print evaluation metrics for all models\n",
        "evaluator = MulticlassClassificationEvaluator(labelCol=\"label\", predictionCol=\"prediction\")\n",
        "\n",
        "log_reg_accuracy = evaluator.evaluate(log_reg_predictions, {evaluator.metricName: \"accuracy\"})\n",
        "log_reg_precision = evaluator.evaluate(log_reg_predictions, {evaluator.metricName: \"precisionByLabel\"})\n",
        "log_reg_recall = evaluator.evaluate(log_reg_predictions, {evaluator.metricName: \"recallByLabel\"})\n",
        "log_reg_f1 = evaluator.evaluate(log_reg_predictions, {evaluator.metricName: \"f1\"})\n",
        "\n",
        "rf_accuracy = evaluator.evaluate(rf_predictions, {evaluator.metricName: \"accuracy\"})\n",
        "rf_precision = evaluator.evaluate(rf_predictions, {evaluator.metricName: \"precisionByLabel\"})\n",
        "rf_recall = evaluator.evaluate(rf_predictions, {evaluator.metricName: \"recallByLabel\"})\n",
        "rf_f1 = evaluator.evaluate(rf_predictions, {evaluator.metricName: \"f1\"})\n",
        "\n",
        "nb_accuracy = evaluator.evaluate(nb_predictions, {evaluator.metricName: \"accuracy\"})\n",
        "nb_precision = evaluator.evaluate(nb_predictions, {evaluator.metricName: \"precisionByLabel\"})\n",
        "nb_recall = evaluator.evaluate(nb_predictions, {evaluator.metricName: \"recallByLabel\"})\n",
        "nb_f1 = evaluator.evaluate(nb_predictions, {evaluator.metricName: \"f1\"})\n",
        "\n",
        "# Step 15: Print the evaluation results for all models\n",
        "print(\"Logistic Regression Model:\")\n",
        "print(\"Accuracy: {:.2f}\".format(log_reg_accuracy))\n",
        "print(\"Precision: {:.2f}\".format(log_reg_precision))\n",
        "print(\"Recall: {:.2f}\".format(log_reg_recall))\n",
        "print(\"F1 Score: {:.2f}\".format(log_reg_f1))\n",
        "\n",
        "print(\"\\nRandom Forest Model:\")\n",
        "print(\"Accuracy: {:.2f}\".format(rf_accuracy))\n",
        "print(\"Precision: {:.2f}\".format(rf_precision))\n",
        "print(\"Recall: {:.2f}\".format(rf_recall))\n",
        "print(\"F1 Score: {:.2f}\".format(rf_f1))\n",
        "\n",
        "print(\"\\nNaive Bayes Model:\")\n",
        "print(\"Accuracy: {:.2f}\".format(nb_accuracy))\n",
        "print(\"Precision: {:.2f}\".format(nb_precision))\n",
        "print(\"Recall: {:.2f}\".format(nb_recall))\n",
        "print(\"F1 Score: {:.2f}\".format(nb_f1))\n"
      ],
      "metadata": {
        "colab": {
          "base_uri": "https://localhost:8080/"
        },
        "id": "xLRm6m5zHd_e",
        "outputId": "a60d463b-406b-42a0-bab7-36ea69353f49"
      },
      "execution_count": 48,
      "outputs": [
        {
          "output_type": "stream",
          "name": "stdout",
          "text": [
            "Logistic Regression Model:\n",
            "Accuracy: 0.84\n",
            "Precision: 0.86\n",
            "Recall: 0.94\n",
            "F1 Score: 0.83\n",
            "\n",
            "Random Forest Model:\n",
            "Accuracy: 0.85\n",
            "Precision: 0.86\n",
            "Recall: 0.96\n",
            "F1 Score: 0.84\n",
            "\n",
            "Naive Bayes Model:\n",
            "Accuracy: 0.78\n",
            "Precision: 0.80\n",
            "Recall: 0.95\n",
            "F1 Score: 0.74\n"
          ]
        }
      ]
    },
    {
      "cell_type": "code",
      "source": [
        "from pyspark.sql import SparkSession\n",
        "from pyspark.ml.feature import StringIndexer, VectorAssembler\n",
        "from pyspark.ml.classification import LogisticRegression, RandomForestClassifier\n",
        "from pyspark.ml.evaluation import MulticlassClassificationEvaluator\n",
        "from pyspark.ml.evaluation import MulticlassClassificationEvaluator\n",
        "import matplotlib.pyplot as plt\n",
        "from pyspark.ml.classification import LogisticRegression, RandomForestClassifier, NaiveBayes\n",
        "from pyspark.ml.evaluation import MulticlassClassificationEvaluator\n",
        "from pyspark.ml.classification import LogisticRegression, RandomForestClassifier, NaiveBayes\n",
        "from pyspark.ml.evaluation import MulticlassClassificationEvaluator\n",
        "from pyspark.ml.tuning import CrossValidator, ParamGridBuilder\n",
        "\n",
        "\n",
        "# Step 1: Create a SparkSession\n",
        "spark = SparkSession.builder \\\n",
        "    .appName(\"PySpark Classification\") \\\n",
        "    .getOrCreate()\n",
        "\n",
        "# Step 2: Load the data into a DataFrame\n",
        "data = spark.read.csv('/content/adult.csv', header=True, inferSchema=True)\n",
        "\n",
        "# Step 3: Drop rows with missing values in any of the selected columns\n",
        "selected_columns = ['age', 'workclass', 'fnlwgt', 'education', 'educational-num', 'marital-status',\n",
        "                    'occupation', 'relationship', 'race', 'gender', 'capital-gain', 'capital-loss',\n",
        "                    'hours-per-week', 'native-country', 'income']\n",
        "data = data.select(selected_columns).na.drop()\n",
        "\n",
        "# Step 4: Encode categorical columns with StringIndexer\n",
        "categorical_columns = ['workclass', 'education', 'marital-status', 'occupation', 'relationship', 'race', 'gender', 'native-country']\n",
        "for column in categorical_columns:\n",
        "    indexer = StringIndexer(inputCol=column, outputCol=column + \"_index\")\n",
        "    data = indexer.fit(data).transform(data)\n",
        "\n",
        "# Step 5: Convert the 'income' column to integer type (0 for '<=50K', 1 for '>50K')\n",
        "data = data.withColumn('label', (data['income'] == '>50K').cast('int'))\n",
        "\n",
        "# Step 6: Prepare the feature vector\n",
        "feature_columns = ['age', 'workclass_index', 'fnlwgt', 'education_index', 'educational-num', 'marital-status_index',\n",
        "                   'occupation_index', 'relationship_index', 'race_index', 'gender_index', 'capital-gain',\n",
        "                   'capital-loss', 'hours-per-week', 'native-country_index']\n",
        "assembler = VectorAssembler(inputCols=feature_columns, outputCol=\"features\")\n",
        "data = assembler.transform(data).select(\"features\", \"label\")\n",
        "\n",
        "# Step 7: Split the data into training and testing sets (70% training, 30% testing)\n",
        "train_data, test_data = data.randomSplit([0.7, 0.3], seed=42)\n",
        "\n",
        "# Step 8: Train the Logistic Regression model\n",
        "log_reg = LogisticRegression(featuresCol=\"features\", labelCol=\"label\")\n",
        "log_reg_model = log_reg.fit(train_data)\n",
        "\n",
        "# Step 9: Evaluate the Logistic Regression model on the test data\n",
        "log_reg_predictions = log_reg_model.transform(test_data)\n",
        "log_reg_evaluator = MulticlassClassificationEvaluator(metricName=\"accuracy\")\n",
        "log_reg_accuracy = log_reg_evaluator.evaluate(log_reg_predictions)\n",
        "\n",
        "# Step 10: Train the Random Forest model with maxBins=50\n",
        "random_forest = RandomForestClassifier(featuresCol=\"features\", labelCol=\"label\", maxBins=50)\n",
        "rf_model = random_forest.fit(train_data)\n",
        "\n",
        "# Step 11: Train the Naive Bayes model\n",
        "naive_bayes = NaiveBayes(featuresCol=\"features\", labelCol=\"label\")\n",
        "nb_model = naive_bayes.fit(train_data)\n",
        "\n",
        "# Step 12: Create a ParamGrid for Cross-Validation\n",
        "param_grid = ParamGridBuilder() \\\n",
        "    .addGrid(random_forest.maxDepth, [5, 10, 15]) \\\n",
        "    .addGrid(random_forest.numTrees, [10, 20, 30]) \\\n",
        "    .build()\n",
        "\n",
        "# Step 13: Create a CrossValidator with the Random Forest model\n",
        "crossval = CrossValidator(estimator=random_forest,\n",
        "                          estimatorParamMaps=param_grid,\n",
        "                          evaluator=MulticlassClassificationEvaluator(labelCol=\"label\", predictionCol=\"prediction\"),\n",
        "                          numFolds=3)\n",
        "\n",
        "# Step 14: Fit the CrossValidator to the training data\n",
        "cv_model = crossval.fit(train_data)\n",
        "\n",
        "# Step 15: Get the best Random Forest model from Cross-Validation\n",
        "best_rf_model = cv_model.bestModel\n",
        "\n",
        "# Step 16: Evaluate the best Random Forest model on the test data\n",
        "best_rf_predictions = best_rf_model.transform(test_data)\n",
        "\n",
        "# Step 17: Calculate and print the evaluation metrics for the best Random Forest model\n",
        "rf_accuracy_cv = evaluator.evaluate(best_rf_predictions, {evaluator.metricName: \"accuracy\"})\n",
        "rf_precision_cv = evaluator.evaluate(best_rf_predictions, {evaluator.metricName: \"precisionByLabel\"})\n",
        "rf_recall_cv = evaluator.evaluate(best_rf_predictions, {evaluator.metricName: \"recallByLabel\"})\n",
        "rf_f1_cv = evaluator.evaluate(best_rf_predictions, {evaluator.metricName: \"f1\"})\n",
        "\n",
        "# Step 18: Print the evaluation results for the best Random Forest model\n",
        "print(\"\\nBest Random Forest Model (with Cross-Validation):\")\n",
        "print(\"Accuracy: {:.2f}\".format(rf_accuracy_cv))\n",
        "print(\"Precision: {:.2f}\".format(rf_precision_cv))\n",
        "print(\"Recall: {:.2f}\".format(rf_recall_cv))\n",
        "print(\"F1 Score: {:.2f}\".format(rf_f1_cv))\n",
        "\n",
        "\n"
      ],
      "metadata": {
        "colab": {
          "base_uri": "https://localhost:8080/"
        },
        "id": "MsyfFKUIIDPF",
        "outputId": "bd2bdf78-71c3-4d72-beca-0920b78cae4b"
      },
      "execution_count": 49,
      "outputs": [
        {
          "output_type": "stream",
          "name": "stdout",
          "text": [
            "\n",
            "Best Random Forest Model (with Cross-Validation):\n",
            "Accuracy: 0.86\n",
            "Precision: 0.89\n",
            "Recall: 0.94\n",
            "F1 Score: 0.86\n"
          ]
        }
      ]
    },
    {
      "cell_type": "code",
      "source": [
        "from pyspark.sql import SparkSession\n",
        "from pyspark.ml.feature import StringIndexer, VectorAssembler\n",
        "from pyspark.ml.classification import LogisticRegression, RandomForestClassifier\n",
        "from pyspark.ml.evaluation import MulticlassClassificationEvaluator\n",
        "from pyspark.ml.evaluation import MulticlassClassificationEvaluator\n",
        "import matplotlib.pyplot as plt\n",
        "from pyspark.ml.classification import LogisticRegression, RandomForestClassifier, NaiveBayes\n",
        "from pyspark.ml.evaluation import MulticlassClassificationEvaluator\n",
        "from pyspark.ml.classification import LogisticRegression, RandomForestClassifier, NaiveBayes\n",
        "from pyspark.ml.evaluation import MulticlassClassificationEvaluator\n",
        "from pyspark.ml.tuning import CrossValidator, ParamGridBuilder\n",
        "\n",
        "\n",
        "# Step 1: Create a SparkSession\n",
        "spark = SparkSession.builder \\\n",
        "    .appName(\"PySpark Classification\") \\\n",
        "    .getOrCreate()\n",
        "\n",
        "# Step 2: Load the data into a DataFrame\n",
        "data = spark.read.csv('/content/adult.csv', header=True, inferSchema=True)\n",
        "\n",
        "# Step 3: Drop rows with missing values in any of the selected columns\n",
        "selected_columns = ['age', 'workclass', 'fnlwgt', 'education', 'educational-num', 'marital-status',\n",
        "                    'occupation', 'relationship', 'race', 'gender', 'capital-gain', 'capital-loss',\n",
        "                    'hours-per-week', 'native-country', 'income']\n",
        "data = data.select(selected_columns).na.drop()\n",
        "\n",
        "# Step 4: Encode categorical columns with StringIndexer\n",
        "categorical_columns = ['workclass', 'education', 'marital-status', 'occupation', 'relationship', 'race', 'gender', 'native-country']\n",
        "for column in categorical_columns:\n",
        "    indexer = StringIndexer(inputCol=column, outputCol=column + \"_index\")\n",
        "    data = indexer.fit(data).transform(data)\n",
        "\n",
        "# Step 5: Convert the 'income' column to integer type (0 for '<=50K', 1 for '>50K')\n",
        "data = data.withColumn('label', (data['income'] == '>50K').cast('int'))\n",
        "\n",
        "# Step 6: Prepare the feature vector\n",
        "feature_columns = ['age', 'workclass_index', 'fnlwgt', 'education_index', 'educational-num', 'marital-status_index',\n",
        "                   'occupation_index', 'relationship_index', 'race_index', 'gender_index', 'capital-gain',\n",
        "                   'capital-loss', 'hours-per-week', 'native-country_index']\n",
        "assembler = VectorAssembler(inputCols=feature_columns, outputCol=\"features\")\n",
        "data = assembler.transform(data).select(\"features\", \"label\")\n",
        "\n",
        "# Step 7: Split the data into training and testing sets (70% training, 30% testing)\n",
        "train_data, test_data = data.randomSplit([0.7, 0.3], seed=42)\n",
        "\n",
        "# Step 8: Train the Logistic Regression model\n",
        "log_reg = LogisticRegression(featuresCol=\"features\", labelCol=\"label\")\n",
        "log_reg_model = log_reg.fit(train_data)\n",
        "\n",
        "# Step 9: Evaluate the Logistic Regression model on the test data\n",
        "log_reg_predictions = log_reg_model.transform(test_data)\n",
        "log_reg_evaluator = MulticlassClassificationEvaluator(metricName=\"accuracy\")\n",
        "log_reg_accuracy = log_reg_evaluator.evaluate(log_reg_predictions)\n",
        "\n",
        "# Step 10: Train the Random Forest model with maxBins=50\n",
        "random_forest = RandomForestClassifier(featuresCol=\"features\", labelCol=\"label\", maxBins=50)\n",
        "rf_model = random_forest.fit(train_data)\n",
        "\n",
        "# Step 11: Train the Naive Bayes model\n",
        "naive_bayes = NaiveBayes(featuresCol=\"features\", labelCol=\"label\")\n",
        "nb_model = naive_bayes.fit(train_data)\n",
        "\n",
        "# Step 12: Set up the parameter grid for each model\n",
        "param_grid_lr = ParamGridBuilder() \\\n",
        "    .addGrid(log_reg.regParam, [0.01, 0.1, 0.5]) \\\n",
        "    .addGrid(log_reg.elasticNetParam, [0.0, 0.5, 1.0]) \\\n",
        "    .build()\n",
        "\n",
        "param_grid_rf = ParamGridBuilder() \\\n",
        "    .addGrid(random_forest.numTrees, [10, 20, 30]) \\\n",
        "    .addGrid(random_forest.maxDepth, [5, 10, 15]) \\\n",
        "    .build()\n",
        "\n",
        "param_grid_nb = ParamGridBuilder() \\\n",
        "    .addGrid(naive_bayes.smoothing, [0.1, 0.5, 1.0]) \\\n",
        "    .build()\n",
        "\n",
        "# Step 13: Set up the CrossValidator for each model\n",
        "crossval_lr = CrossValidator(estimator=log_reg,\n",
        "                             estimatorParamMaps=param_grid_lr,\n",
        "                             evaluator=evaluator,\n",
        "                             numFolds=3)\n",
        "\n",
        "crossval_rf = CrossValidator(estimator=random_forest,\n",
        "                             estimatorParamMaps=param_grid_rf,\n",
        "                             evaluator=evaluator,\n",
        "                             numFolds=3)\n",
        "\n",
        "crossval_nb = CrossValidator(estimator=naive_bayes,\n",
        "                             estimatorParamMaps=param_grid_nb,\n",
        "                             evaluator=evaluator,\n",
        "                             numFolds=3)\n",
        "\n",
        "# Step 14: Train the CrossValidator on the training data\n",
        "cv_model_lr = crossval_lr.fit(train_data)\n",
        "cv_model_rf = crossval_rf.fit(train_data)\n",
        "cv_model_nb = crossval_nb.fit(train_data)\n",
        "\n",
        "# Step 15: Make predictions using the best model on the test data\n",
        "lr_predictions = cv_model_lr.transform(test_data)\n",
        "rf_predictions = cv_model_rf.transform(test_data)\n",
        "nb_predictions = cv_model_nb.transform(test_data)\n",
        "\n",
        "# Step 16: Calculate and print evaluation metrics for the best models\n",
        "lr_accuracy = evaluator.evaluate(lr_predictions, {evaluator.metricName: \"accuracy\"})\n",
        "lr_precision = evaluator.evaluate(lr_predictions, {evaluator.metricName: \"precisionByLabel\"})\n",
        "lr_recall = evaluator.evaluate(lr_predictions, {evaluator.metricName: \"recallByLabel\"})\n",
        "lr_f1 = evaluator.evaluate(lr_predictions, {evaluator.metricName: \"f1\"})\n",
        "\n",
        "rf_accuracy = evaluator.evaluate(rf_predictions, {evaluator.metricName: \"accuracy\"})\n",
        "rf_precision = evaluator.evaluate(rf_predictions, {evaluator.metricName: \"precisionByLabel\"})\n",
        "rf_recall = evaluator.evaluate(rf_predictions, {evaluator.metricName: \"recallByLabel\"})\n",
        "rf_f1 = evaluator.evaluate(rf_predictions, {evaluator.metricName: \"f1\"})\n",
        "\n",
        "nb_accuracy = evaluator.evaluate(nb_predictions, {evaluator.metricName: \"accuracy\"})\n",
        "nb_precision = evaluator.evaluate(nb_predictions, {evaluator.metricName: \"precisionByLabel\"})\n",
        "nb_recall = evaluator.evaluate(nb_predictions, {evaluator.metricName: \"recallByLabel\"})\n",
        "nb_f1 = evaluator.evaluate(nb_predictions, {evaluator.metricName: \"f1\"})\n",
        "\n",
        "# Step 17: Print the evaluation results for all models\n",
        "print(\"Logistic Regression Model:\")\n",
        "print(\"Accuracy: {:.2f}\".format(lr_accuracy))\n",
        "print(\"Precision: {:.2f}\".format(lr_precision))\n",
        "print(\"Recall: {:.2f}\".format(lr_recall))\n",
        "print(\"F1 Score: {:.2f}\".format(lr_f1))\n",
        "\n",
        "print(\"\\nRandom Forest Model:\")\n",
        "print(\"Accuracy: {:.2f}\".format(rf_accuracy))\n",
        "print(\"Precision: {:.2f}\".format(rf_precision))\n",
        "print(\"Recall: {:.2f}\".format(rf_recall))\n",
        "print(\"F1 Score: {:.2f}\".format(rf_f1))\n",
        "\n",
        "print(\"\\nNaive Bayes Model:\")\n",
        "print(\"Accuracy: {:.2f}\".format(nb_accuracy))\n",
        "print(\"Precision: {:.2f}\".format(nb_precision))\n",
        "print(\"Recall: {:.2f}\".format(nb_recall))\n",
        "print(\"F1 Score: {:.2f}\".format(nb_f1))\n"
      ],
      "metadata": {
        "colab": {
          "base_uri": "https://localhost:8080/"
        },
        "id": "8ibJzar_KWda",
        "outputId": "55d1be6a-cb5c-41a3-b59d-49e07d03a90e"
      },
      "execution_count": 50,
      "outputs": [
        {
          "output_type": "stream",
          "name": "stdout",
          "text": [
            "Logistic Regression Model:\n",
            "Accuracy: 0.83\n",
            "Precision: 0.85\n",
            "Recall: 0.95\n",
            "F1 Score: 0.82\n",
            "\n",
            "Random Forest Model:\n",
            "Accuracy: 0.86\n",
            "Precision: 0.89\n",
            "Recall: 0.94\n",
            "F1 Score: 0.86\n",
            "\n",
            "Naive Bayes Model:\n",
            "Accuracy: 0.78\n",
            "Precision: 0.80\n",
            "Recall: 0.95\n",
            "F1 Score: 0.74\n"
          ]
        }
      ]
    },
    {
      "cell_type": "code",
      "source": [
        "import matplotlib.pyplot as plt\n",
        "import numpy as np\n",
        "\n",
        "# Define a range of values for the parameter (maxDepth in this case)\n",
        "max_depth_values = list(range(5, 16))\n",
        "\n",
        "# Initialize empty lists to store accuracy values\n",
        "accuracies = []\n",
        "\n",
        "# Train Decision Tree models with different maxDepth values and store accuracy\n",
        "for max_depth in max_depth_values:\n",
        "    decision_tree = DecisionTreeClassifier(featuresCol=\"features\", labelCol=\"label\", maxDepth=max_depth, maxBins=50)\n",
        "    dt_model = decision_tree.fit(train_data)\n",
        "    dt_predictions = dt_model.transform(test_data)\n",
        "    accuracy = evaluator.evaluate(dt_predictions, {evaluator.metricName: \"accuracy\"})\n",
        "    accuracies.append(accuracy)\n",
        "\n",
        "# Plot the accuracy values against the maxDepth values\n",
        "plt.plot(max_depth_values, accuracies, marker='o')\n",
        "plt.xlabel('maxDepth')\n",
        "plt.ylabel('Accuracy')\n",
        "plt.title('Decision Tree Model Accuracy vs. maxDepth')\n",
        "plt.grid(True)\n",
        "plt.show()\n"
      ],
      "metadata": {
        "colab": {
          "base_uri": "https://localhost:8080/",
          "height": 472
        },
        "id": "VMuR_wxLM9m2",
        "outputId": "46fa9f92-4206-473a-c4b4-4f20e8e42561"
      },
      "execution_count": 51,
      "outputs": [
        {
          "output_type": "display_data",
          "data": {
            "text/plain": [
              "<Figure size 640x480 with 1 Axes>"
            ],
            "image/png": "[encoded data removed]"
          },
          "metadata": {}
        }
      ]
    }
  ]
}