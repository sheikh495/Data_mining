{
  "nbformat": 4,
  "nbformat_minor": 0,
  "metadata": {
    "colab": {
      "provenance": [],
      "authorship_tag": "ABX9TyOQxiVl8eexzbgvPDd0YYzO",
      "include_colab_link": true
    },
    "kernelspec": {
      "name": "python3",
      "display_name": "Python 3"
    },
    "language_info": {
      "name": "python"
    }
  },
  "cells": [
    {
      "cell_type": "markdown",
      "metadata": {
        "id": "view-in-github",
        "colab_type": "text"
      },
      "source": [
        "<a href=\"https://colab.research.google.com/github/sheikh495/Data_mining/blob/main/Prepare_for_a_Data_Engineer_Interview.ipynb\" target=\"_parent\"><img src=\"https://colab.research.google.com/assets/colab-badge.svg\" alt=\"Open In Colab\"/></a>"
      ]
    },
    {
      "cell_type": "code",
      "execution_count": null,
      "metadata": {
        "id": "egM5UQ2bsQ_k"
      },
      "outputs": [],
      "source": []
    },
    {
      "cell_type": "markdown",
      "source": [
        "# Task 1"
      ],
      "metadata": {
        "id": "7r5s_cCdsRiJ"
      }
    },
    {
      "cell_type": "markdown",
      "source": [
        "1. Be honest and randomly pick three values between 1 to 10. For example:\n",
        "\n",
        "*   Use the RAND(10) spreadsheet function\n",
        "*   Use dice\n",
        "\n",
        "\n"
      ],
      "metadata": {
        "id": "hmJbLQhHsXyY"
      }
    },
    {
      "cell_type": "code",
      "source": [
        "import random\n",
        "\n",
        "def rand_10():\n",
        "    return random.randint(1, 10)\n",
        "\n",
        "random_values = [rand_10() for _ in range(3)]\n",
        "\n",
        "print(random_values)\n"
      ],
      "metadata": {
        "colab": {
          "base_uri": "https://localhost:8080/"
        },
        "id": "c1MGbhtMsh6r",
        "outputId": "7703df7e-b10f-45a5-c294-13cd4fb11088"
      },
      "execution_count": 7,
      "outputs": [
        {
          "output_type": "stream",
          "name": "stdout",
          "text": [
            "[6, 5, 7]\n"
          ]
        }
      ]
    },
    {
      "cell_type": "code",
      "source": [
        "import random\n",
        "\n",
        "def roll_dice():\n",
        "    return random.randint(1, 6)\n",
        "\n",
        "random_values = [roll_dice() for _ in range(3)]\n",
        "\n",
        "print(\"Three random values from rolling a dice:\")\n",
        "print(random_values)\n"
      ],
      "metadata": {
        "colab": {
          "base_uri": "https://localhost:8080/"
        },
        "id": "qwSRJzk-s0wr",
        "outputId": "df3e4727-d706-4b33-bc27-7ce4d9a4f3db"
      },
      "execution_count": 11,
      "outputs": [
        {
          "output_type": "stream",
          "name": "stdout",
          "text": [
            "Three random values from rolling a dice:\n",
            "[6, 5, 6]\n"
          ]
        }
      ]
    },
    {
      "cell_type": "markdown",
      "source": [],
      "metadata": {
        "id": "kHWi2htBukvm"
      }
    },
    {
      "cell_type": "markdown",
      "source": [
        "#Task 2"
      ],
      "metadata": {
        "id": "aIKaAtxzuk8D"
      }
    },
    {
      "cell_type": "markdown",
      "source": [
        "Perform three of the following challenge items that match the values you chose. It’s normal not to know what one of these items is. You want to provide a quality answer for all three in 60 minutes max."
      ],
      "metadata": {
        "id": "x0Eg6kl6ul41"
      }
    },
    {
      "cell_type": "markdown",
      "source": [
        "1. Implement a binary search algorithm in the programming language of your choice."
      ],
      "metadata": {
        "id": "M9B63uATus8-"
      }
    },
    {
      "cell_type": "code",
      "source": [
        "def binary_search(arr, target):\n",
        "    left, right = 0, len(arr) - 1\n",
        "\n",
        "    while left <= right:\n",
        "        mid = left + (right - left) // 2\n",
        "        if arr[mid] == target:\n",
        "            return mid\n",
        "        elif arr[mid] < target:\n",
        "            left = mid + 1\n",
        "        else:\n",
        "            right = mid - 1\n",
        "\n",
        "    return -1\n",
        "\n",
        "# Test the binary search function\n",
        "arr = [2, 4, 6, 8, 10, 12, 14, 16, 18]\n",
        "target = 10\n",
        "result = binary_search(arr, target)\n",
        "\n",
        "if result != -1:\n",
        "    print(f\"Element {target} found at index {result}.\")\n",
        "else:\n",
        "    print(f\"Element {target} not found in the array.\")\n"
      ],
      "metadata": {
        "colab": {
          "base_uri": "https://localhost:8080/"
        },
        "id": "Seasz_VYuzGV",
        "outputId": "8c6e209b-99b1-4153-cd69-c28f563b7428"
      },
      "execution_count": 14,
      "outputs": [
        {
          "output_type": "stream",
          "name": "stdout",
          "text": [
            "Element 10 found at index 4.\n"
          ]
        }
      ]
    },
    {
      "cell_type": "code",
      "source": [
        "def binary_search(arr, target):\n",
        "    low = 0\n",
        "    high = len(arr) - 1\n",
        "\n",
        "    while low <= high:\n",
        "        mid = (low + high) // 2\n",
        "\n",
        "        if arr[mid] == target:\n",
        "            return mid\n",
        "        elif arr[mid] < target:\n",
        "            low = mid + 1\n",
        "        else:\n",
        "            high = mid - 1\n",
        "\n",
        "    return -1\n",
        "\n",
        "# Example usage:\n",
        "# The array should be sorted for binary search to work correctly.\n",
        "sorted_array = [2, 5, 8, 12, 16, 23, 38, 45, 56, 72, 91]\n",
        "target_value = 23\n",
        "result = binary_search(sorted_array, target_value)\n",
        "\n",
        "if result != -1:\n",
        "    print(f\"Target value {target_value} found at index {result}.\")\n",
        "else:\n",
        "    print(f\"Target value {target_value} not found in the array.\")\n"
      ],
      "metadata": {
        "colab": {
          "base_uri": "https://localhost:8080/"
        },
        "id": "MeWmGsd2vVpa",
        "outputId": "2f9d33d8-80e3-4ed0-d004-ba002df20f8f"
      },
      "execution_count": 15,
      "outputs": [
        {
          "output_type": "stream",
          "name": "stdout",
          "text": [
            "Target value 23 found at index 5.\n"
          ]
        }
      ]
    },
    {
      "cell_type": "markdown",
      "source": [
        "2. Code a bubble or merge sort."
      ],
      "metadata": {
        "id": "ekID8fnMviMx"
      }
    },
    {
      "cell_type": "code",
      "source": [
        "def bubble_sort(arr):\n",
        "    n = len(arr)\n",
        "    for i in range(n):\n",
        "        # Flag to optimize the sorting process by breaking early if no swaps occur in an iteration\n",
        "        swapped = False\n",
        "        for j in range(0, n-i-1):\n",
        "            if arr[j] > arr[j+1]:\n",
        "                arr[j], arr[j+1] = arr[j+1], arr[j]\n",
        "                swapped = True\n",
        "\n",
        "        # If no two elements were swapped in the inner loop, the array is already sorted\n",
        "        if not swapped:\n",
        "            break\n",
        "\n",
        "# Example usage:\n",
        "arr = [64, 34, 25, 12, 22, 11, 90]\n",
        "bubble_sort(arr)\n",
        "print(\"Sorted array using Bubble Sort:\", arr)\n",
        "\n"
      ],
      "metadata": {
        "colab": {
          "base_uri": "https://localhost:8080/"
        },
        "id": "B-8d8tUUviuJ",
        "outputId": "6356c67c-f0b0-4292-a11f-498d4bc4e4a6"
      },
      "execution_count": 17,
      "outputs": [
        {
          "output_type": "stream",
          "name": "stdout",
          "text": [
            "Sorted array using Bubble Sort: [11, 12, 22, 25, 34, 64, 90]\n"
          ]
        }
      ]
    },
    {
      "cell_type": "code",
      "source": [
        "def merge_sort(arr):\n",
        "    if len(arr) > 1:\n",
        "        mid = len(arr) // 2\n",
        "        left_half = arr[:mid]\n",
        "        right_half = arr[mid:]\n",
        "\n",
        "        merge_sort(left_half)\n",
        "        merge_sort(right_half)\n",
        "\n",
        "        i = j = k = 0\n",
        "\n",
        "        while i < len(left_half) and j < len(right_half):\n",
        "            if left_half[i] < right_half[j]:\n",
        "                arr[k] = left_half[i]\n",
        "                i += 1\n",
        "            else:\n",
        "                arr[k] = right_half[j]\n",
        "                j += 1\n",
        "            k += 1\n",
        "\n",
        "        while i < len(left_half):\n",
        "            arr[k] = left_half[i]\n",
        "            i += 1\n",
        "            k += 1\n",
        "\n",
        "        while j < len(right_half):\n",
        "            arr[k] = right_half[j]\n",
        "            j += 1\n",
        "            k += 1\n",
        "\n",
        "# Example usage:\n",
        "arr = [38, 27, 43, 3, 9, 82, 10]\n",
        "merge_sort(arr)\n",
        "print(\"Sorted array using Merge Sort:\", arr)\n"
      ],
      "metadata": {
        "colab": {
          "base_uri": "https://localhost:8080/"
        },
        "id": "wAjpO5tRvxoi",
        "outputId": "beb3089c-59c5-42ea-9b64-0d08372cbc76"
      },
      "execution_count": 19,
      "outputs": [
        {
          "output_type": "stream",
          "name": "stdout",
          "text": [
            "Sorted array using Merge Sort: [3, 9, 10, 27, 38, 43, 82]\n"
          ]
        }
      ]
    },
    {
      "cell_type": "markdown",
      "source": [
        "3. Write a depth-first search algorithm to traverse a binary tree recursively."
      ],
      "metadata": {
        "id": "k5lfY2UNvq6q"
      }
    },
    {
      "cell_type": "code",
      "source": [
        "# Binary Tree Node definition\n",
        "class TreeNode:\n",
        "    def __init__(self, key):\n",
        "        self.key = key\n",
        "        self.left = None\n",
        "        self.right = None\n",
        "\n",
        "def dfs_inorder(node):\n",
        "    if node:\n",
        "        dfs_inorder(node.left)\n",
        "        print(node.key, end=' ')\n",
        "        dfs_inorder(node.right)\n",
        "\n",
        "def dfs_preorder(node):\n",
        "    if node:\n",
        "        print(node.key, end=' ')\n",
        "        dfs_preorder(node.left)\n",
        "        dfs_preorder(node.right)\n",
        "\n",
        "def dfs_postorder(node):\n",
        "    if node:\n",
        "        dfs_postorder(node.left)\n",
        "        dfs_postorder(node.right)\n",
        "        print(node.key, end=' ')\n",
        "\n",
        "# Example Usage:\n",
        "# Create a binary tree\n",
        "root = TreeNode(1)\n",
        "root.left = TreeNode(2)\n",
        "root.right = TreeNode(3)\n",
        "root.left.left = TreeNode(4)\n",
        "root.left.right = TreeNode(5)\n",
        "\n",
        "# Perform different DFS traversals\n",
        "print(\"Inorder traversal:\")\n",
        "dfs_inorder(root)\n",
        "\n",
        "print(\"\\nPreorder traversal:\")\n",
        "dfs_preorder(root)\n",
        "\n",
        "print(\"\\nPostorder traversal:\")\n",
        "dfs_postorder(root)\n"
      ],
      "metadata": {
        "colab": {
          "base_uri": "https://localhost:8080/"
        },
        "id": "r9z6WmHuurkn",
        "outputId": "e97aee44-3963-4f71-926f-5f7aed2cea72"
      },
      "execution_count": 22,
      "outputs": [
        {
          "output_type": "stream",
          "name": "stdout",
          "text": [
            "Inorder traversal:\n",
            "4 2 5 1 3 \n",
            "Preorder traversal:\n",
            "1 2 4 5 3 \n",
            "Postorder traversal:\n",
            "4 5 2 3 1 "
          ]
        }
      ]
    },
    {
      "cell_type": "markdown",
      "source": [
        "3. Design a class hierarchy using appropriate inheritance and aggregation principles for a system that models different types of vehicles."
      ],
      "metadata": {
        "id": "pV5wYWyLwBit"
      }
    },
    {
      "cell_type": "code",
      "source": [
        "class Vehicle:\n",
        "    def __init__(self, make, model, year, color):\n",
        "        self.make = make\n",
        "        self.model = model\n",
        "        self.year = year\n",
        "        self.color = color\n",
        "\n",
        "    def start(self):\n",
        "        print(f\"{self.make} {self.model} engine started.\")\n",
        "\n",
        "    def stop(self):\n",
        "        print(f\"{self.make} {self.model} engine stopped.\")\n",
        "\n",
        "    def accelerate(self):\n",
        "        print(f\"{self.make} {self.model} is accelerating.\")\n",
        "\n",
        "    def brake(self):\n",
        "        print(f\"{self.make} {self.model} is braking.\")\n",
        "\n",
        "\n",
        "class Engine:\n",
        "    def __init__(self, horsepower, fuel_type):\n",
        "        self.horsepower = horsepower\n",
        "        self.fuel_type = fuel_type\n",
        "\n",
        "\n",
        "class Manufacturer:\n",
        "    def __init__(self, name, country):\n",
        "        self.name = name\n",
        "        self.country = country\n",
        "\n",
        "\n",
        "class Car(Vehicle):\n",
        "    def __init__(self, make, model, year, color, num_doors, num_seats):\n",
        "        super().__init__(make, model, year, color)\n",
        "        self.num_doors = num_doors\n",
        "        self.num_seats = num_seats\n",
        "\n",
        "    def start(self):\n",
        "        super().start()\n",
        "        print(f\"{self.make} {self.model} radio turned on.\")\n",
        "\n",
        "\n",
        "class Motorcycle(Vehicle):\n",
        "    def __init__(self, make, model, year, color, num_wheels, has_sidecar):\n",
        "        super().__init__(make, model, year, color)\n",
        "        self.num_wheels = num_wheels\n",
        "        self.has_sidecar = has_sidecar\n",
        "\n",
        "    def accelerate(self):\n",
        "        super().accelerate()\n",
        "        print(f\"{self.make} {self.model} is fast and agile.\")\n",
        "\n",
        "\n",
        "# Create instances of Manufacturer, Engine, Car, and Motorcycle classes\n",
        "engine1 = Engine(horsepower=200, fuel_type=\"Petrol\")\n",
        "engine2 = Engine(horsepower=50, fuel_type=\"Electric\")\n",
        "\n",
        "manufacturer1 = Manufacturer(name=\"Toyota\", country=\"Japan\")\n",
        "manufacturer2 = Manufacturer(name=\"Harley-Davidson\", country=\"USA\")\n",
        "\n",
        "car1 = Car(make=\"Toyota\", model=\"Camry\", year=2022, color=\"Silver\", num_doors=4, num_seats=5)\n",
        "car1.start()\n",
        "car1.accelerate()\n",
        "\n",
        "car2 = Car(make=\"Tesla\", model=\"Model S\", year=2023, color=\"Red\", num_doors=4, num_seats=5)\n",
        "car2.start()\n",
        "car2.accelerate()\n",
        "\n",
        "motorcycle1 = Motorcycle(make=\"Harley-Davidson\", model=\"Sportster\", year=2022, color=\"Black\", num_wheels=2, has_sidecar=False)\n",
        "motorcycle1.start()\n",
        "motorcycle1.accelerate()\n"
      ],
      "metadata": {
        "colab": {
          "base_uri": "https://localhost:8080/"
        },
        "id": "77KJVJuMxGWg",
        "outputId": "1565c9ec-af48-44a8-b09c-ada7e2dc46c5"
      },
      "execution_count": 30,
      "outputs": [
        {
          "output_type": "stream",
          "name": "stdout",
          "text": [
            "Toyota Camry engine started.\n",
            "Toyota Camry radio turned on.\n",
            "Toyota Camry is accelerating.\n",
            "Tesla Model S engine started.\n",
            "Tesla Model S radio turned on.\n",
            "Tesla Model S is accelerating.\n",
            "Harley-Davidson Sportster engine started.\n",
            "Harley-Davidson Sportster is accelerating.\n",
            "Harley-Davidson Sportster is fast and agile.\n"
          ]
        }
      ]
    },
    {
      "cell_type": "markdown",
      "source": [
        "5. Write a SQL query to retrieve all customers who purchased in the last month."
      ],
      "metadata": {
        "id": "mf26hMRVxN6j"
      }
    },
    {
      "cell_type": "code",
      "source": [
        "SELECT *\n",
        "FROM your_table_name\n",
        "WHERE invoice_date >= DATE_SUB(CURRENT_DATE, INTERVAL 1 MONTH);\n"
      ],
      "metadata": {
        "id": "Ehq3eX8C3cmj"
      },
      "execution_count": null,
      "outputs": []
    },
    {
      "cell_type": "code",
      "source": [
        "pip install pandas\n"
      ],
      "metadata": {
        "colab": {
          "base_uri": "https://localhost:8080/"
        },
        "id": "HfFb7j5sxTj6",
        "outputId": "3d8d7d08-2366-44f0-9b16-eeaa62aa5cb2"
      },
      "execution_count": 32,
      "outputs": [
        {
          "output_type": "stream",
          "name": "stdout",
          "text": [
            "Requirement already satisfied: pandas in /usr/local/lib/python3.10/dist-packages (1.5.3)\n",
            "Requirement already satisfied: python-dateutil>=2.8.1 in /usr/local/lib/python3.10/dist-packages (from pandas) (2.8.2)\n",
            "Requirement already satisfied: pytz>=2020.1 in /usr/local/lib/python3.10/dist-packages (from pandas) (2022.7.1)\n",
            "Requirement already satisfied: numpy>=1.21.0 in /usr/local/lib/python3.10/dist-packages (from pandas) (1.22.4)\n",
            "Requirement already satisfied: six>=1.5 in /usr/local/lib/python3.10/dist-packages (from python-dateutil>=2.8.1->pandas) (1.16.0)\n"
          ]
        }
      ]
    },
    {
      "cell_type": "code",
      "source": [
        "import pandas as pd\n",
        "\n",
        "# Read the CSV file into a DataFrame\n",
        "df = pd.read_csv('/content/customer_shopping_data.csv')\n",
        "\n",
        "# Get the column names\n",
        "column_names = df.columns.tolist()\n",
        "\n",
        "# Display the column names\n",
        "print(\"Column Names:\")\n",
        "print(column_names)"
      ],
      "metadata": {
        "colab": {
          "base_uri": "https://localhost:8080/"
        },
        "id": "S0wakFlwzBji",
        "outputId": "1cee611b-dd5b-453c-c960-8ac9a602f796"
      },
      "execution_count": 38,
      "outputs": [
        {
          "output_type": "stream",
          "name": "stdout",
          "text": [
            "Column Names:\n",
            "['invoice_no', 'customer_id', 'gender', 'age', 'category', 'quantity', 'price', 'payment_method', 'invoice_date', 'shopping_mall']\n"
          ]
        }
      ]
    },
    {
      "cell_type": "code",
      "source": [
        "import pandas as pd\n",
        "from datetime import datetime, timedelta\n",
        "\n",
        "# Read the CSV file into a DataFrame, specifying the date format\n",
        "df = pd.read_csv('/content/customer_shopping_data.csv', parse_dates=['invoice_date'], dayfirst=True)\n",
        "\n",
        "# Get the current date\n",
        "current_date = datetime.now()\n",
        "\n",
        "# Calculate the date one month ago from the current date\n",
        "one_month_ago = current_date - timedelta(days=30)\n",
        "\n",
        "# Filter the DataFrame to get customers who purchased in the last month\n",
        "customers_last_month = df[df['invoice_date'] >= one_month_ago]\n",
        "\n",
        "# Display the result\n",
        "print(customers_last_month)\n"
      ],
      "metadata": {
        "colab": {
          "base_uri": "https://localhost:8080/"
        },
        "id": "6XG93CTVy095",
        "outputId": "ec7a1bc8-d9ee-46b6-8f7e-e9eaf141afae"
      },
      "execution_count": 39,
      "outputs": [
        {
          "output_type": "stream",
          "name": "stdout",
          "text": [
            "Empty DataFrame\n",
            "Columns: [invoice_no, customer_id, gender, age, category, quantity, price, payment_method, invoice_date, shopping_mall]\n",
            "Index: []\n"
          ]
        }
      ]
    },
    {
      "cell_type": "code",
      "source": [
        "import pandas as pd\n",
        "from datetime import datetime, timedelta\n",
        "\n",
        "# Read the CSV file into a DataFrame, specifying the date format\n",
        "df = pd.read_csv('/content/purchase_data_exe.csv', parse_dates=['date'], dayfirst=True)\n",
        "\n",
        "# Print the first few rows of the DataFrame to check the parsed dates\n",
        "print(df.head())\n",
        "\n",
        "# Get the current date\n",
        "current_date = datetime.now()\n",
        "\n",
        "# Calculate the date one month ago from the current date\n",
        "one_month_ago = current_date - timedelta(days=30)\n",
        "\n",
        "# Print the current date and one month ago date for verification\n",
        "print(\"Current Date:\", current_date)\n",
        "print(\"One Month Ago:\", one_month_ago)\n",
        "\n",
        "# Filter the DataFrame to get customers who purchased in the last month\n",
        "customers_last_month = df[df['date'] >= one_month_ago]\n",
        "\n",
        "# Display the result\n",
        "print(customers_last_month)\n"
      ],
      "metadata": {
        "colab": {
          "base_uri": "https://localhost:8080/"
        },
        "id": "M3Pi9FBAznqI",
        "outputId": "721fcd78-3dfa-4dca-803a-eb257edba5e0"
      },
      "execution_count": 37,
      "outputs": [
        {
          "output_type": "stream",
          "name": "stdout",
          "text": [
            "        date  customer_id  product_category payment_method  value [USD]  \\\n",
            "0 2018-11-20        37077               505         credit        49.53   \n",
            "1 2018-11-20        59173               509         paypal        50.61   \n",
            "2 2018-11-20        41066               507         credit        85.99   \n",
            "3 2018-11-20        50741               506         credit        34.60   \n",
            "4 2018-11-20        53639               515         paypal       266.27   \n",
            "\n",
            "   time_on_site [Minutes]  clicks_in_site  Unnamed: 7  \n",
            "0                    12.0               8         NaN  \n",
            "1                    25.9               8         NaN  \n",
            "2                    34.9              11         NaN  \n",
            "3                    16.5               9         NaN  \n",
            "4                    43.1              30         NaN  \n",
            "Current Date: 2023-08-04 09:09:33.536934\n",
            "One Month Ago: 2023-07-05 09:09:33.536934\n",
            "Empty DataFrame\n",
            "Columns: [date, customer_id, product_category, payment_method, value [USD], time_on_site [Minutes], clicks_in_site, Unnamed: 7]\n",
            "Index: []\n"
          ]
        }
      ]
    },
    {
      "cell_type": "code",
      "source": [
        "import pandas as pd\n",
        "from datetime import datetime, timedelta\n",
        "\n",
        "# Read the CSV file into a DataFrame\n",
        "df = pd.read_csv('/content/customer_shopping_data.csv')\n",
        "\n",
        "# Convert the 'invoice_date' column to datetime format\n",
        "df['invoice_date'] = pd.to_datetime(df['invoice_date'])\n",
        "\n",
        "# Get the date range for the last month\n",
        "today = datetime.today()\n",
        "start_date = datetime(today.year, today.month - 1, 1)\n",
        "end_date = today.replace(day=1) - timedelta(days=1)\n",
        "\n",
        "# Filter the rows where the 'invoice_date' is within the last month\n",
        "last_month_purchases = df[(df['invoice_date'] >= start_date) & (df['invoice_date'] <= end_date)]\n",
        "\n",
        "# Display the customers who made purchases in the last month\n",
        "print(last_month_purchases['customer_id'].unique())\n"
      ],
      "metadata": {
        "colab": {
          "base_uri": "https://localhost:8080/"
        },
        "id": "AqCsT9L4Ier9",
        "outputId": "d2217fed-540d-4901-fed2-573b1713579d"
      },
      "execution_count": 32,
      "outputs": [
        {
          "output_type": "stream",
          "name": "stderr",
          "text": [
            "<ipython-input-32-5042d77c1a3d>:8: UserWarning: Parsing dates in DD/MM/YYYY format when dayfirst=False (the default) was specified. This may lead to inconsistently parsed dates! Specify a format to ensure consistent parsing.\n",
            "  df['invoice_date'] = pd.to_datetime(df['invoice_date'])\n"
          ]
        },
        {
          "output_type": "stream",
          "name": "stdout",
          "text": [
            "['C196845' 'C258404' 'C109593' 'C289802' 'C261316' 'C316806' 'C993876'\n",
            " 'C143471' 'C336809' 'C151884' 'C192403' 'C173979' 'C958378' 'C219995'\n",
            " 'C217169' 'C527849' 'C247307' 'C303982' 'C288663' 'C131325' 'C179647'\n",
            " 'C191318' 'C256176' 'C205627' 'C324311' 'C265934' 'C218750' 'C114628'\n",
            " 'C773042' 'C278511' 'C568348' 'C104317' 'C501752' 'C116029' 'C140142'\n",
            " 'C323277' 'C203526' 'C703338' 'C293587' 'C289665' 'C780927' 'C107989'\n",
            " 'C263222' 'C272069' 'C212052' 'C239929' 'C305792' 'C117810' 'C206514'\n",
            " 'C266912' 'C991424' 'C346311' 'C100545' 'C223932' 'C122692' 'C893097'\n",
            " 'C511843' 'C257347' 'C566022' 'C625042' 'C179333' 'C122471' 'C176791'\n",
            " 'C315821' 'C798334' 'C240888' 'C232581' 'C245255' 'C151408' 'C613530'\n",
            " 'C413385' 'C300719' 'C140638' 'C148102' 'C134361' 'C289093' 'C774916'\n",
            " 'C110260' 'C193821' 'C820414' 'C138941' 'C465449' 'C141886' 'C240876'\n",
            " 'C269903' 'C256993' 'C311454' 'C194090' 'C727982' 'C324765' 'C319256'\n",
            " 'C655983' 'C685587' 'C178907' 'C253766' 'C388069' 'C120126' 'C959220'\n",
            " 'C225343' 'C251560' 'C218746' 'C671805' 'C153654' 'C319618' 'C245210'\n",
            " 'C223988' 'C104852' 'C280965' 'C130692' 'C365201' 'C205939' 'C525179'\n",
            " 'C236334' 'C135885' 'C124549' 'C286763' 'C972657' 'C149981' 'C100720'\n",
            " 'C487747' 'C567725' 'C261098' 'C156989' 'C509812' 'C290525' 'C126398'\n",
            " 'C421088' 'C107358' 'C272262' 'C449026' 'C217156' 'C919731' 'C720307'\n",
            " 'C175215' 'C304904' 'C149336' 'C734524' 'C528506' 'C427052' 'C194518'\n",
            " 'C191083' 'C668471' 'C262392' 'C289634' 'C447812' 'C184586' 'C676165'\n",
            " 'C953091' 'C456567' 'C190936' 'C219794' 'C252425' 'C187272' 'C297352'\n",
            " 'C325380' 'C264995' 'C263971' 'C146577' 'C817709' 'C180210' 'C189277'\n",
            " 'C205758' 'C538073' 'C256974' 'C257924' 'C338863' 'C239244' 'C549695'\n",
            " 'C247326' 'C161860' 'C224740' 'C331087' 'C185488' 'C546857' 'C207570'\n",
            " 'C201605' 'C200229' 'C113778' 'C158654' 'C206978' 'C302356' 'C898308'\n",
            " 'C149731' 'C192462' 'C295872' 'C251686' 'C860582' 'C212781' 'C779456'\n",
            " 'C647304' 'C235960' 'C857656' 'C325228' 'C190086' 'C281275' 'C717975'\n",
            " 'C195114' 'C318701' 'C692421' 'C203016' 'C296538' 'C103917' 'C193888'\n",
            " 'C229790' 'C195366' 'C251784' 'C193699' 'C460236' 'C140268' 'C291439'\n",
            " 'C162334' 'C239712' 'C185052' 'C142222' 'C220052' 'C234196' 'C605262'\n",
            " 'C791172' 'C282556' 'C132465' 'C133004' 'C851635' 'C339948' 'C104407'\n",
            " 'C779078' 'C268864' 'C294095' 'C169516' 'C633026' 'C628098' 'C325577'\n",
            " 'C424336' 'C258882' 'C146011' 'C782410' 'C356723' 'C681781' 'C312500'\n",
            " 'C165087' 'C139024' 'C186051' 'C284897' 'C703691' 'C263411' 'C127804'\n",
            " 'C249241' 'C310731' 'C584715' 'C263025' 'C333100' 'C191720' 'C263414'\n",
            " 'C612512' 'C118403' 'C285132' 'C229773' 'C279975' 'C316266' 'C223433'\n",
            " 'C173809' 'C288851' 'C317628' 'C167760' 'C207539' 'C305324' 'C323994'\n",
            " 'C396795' 'C126605' 'C329829' 'C324575' 'C616711' 'C423549' 'C187792'\n",
            " 'C338157' 'C435704' 'C242046' 'C288088' 'C310032' 'C685532' 'C168937'\n",
            " 'C284492' 'C917615' 'C214893' 'C152635' 'C115031' 'C130568' 'C199953'\n",
            " 'C564073' 'C622624' 'C293342' 'C422684' 'C309543' 'C179765' 'C145781'\n",
            " 'C223473' 'C160063' 'C236880' 'C395735' 'C103014' 'C228584' 'C116429'\n",
            " 'C298378' 'C330232' 'C338574' 'C929445' 'C712308' 'C106762' 'C590003'\n",
            " 'C580485' 'C512023' 'C108763' 'C598751' 'C817089' 'C355803' 'C602785'\n",
            " 'C144853' 'C135594' 'C328910' 'C234957' 'C278577' 'C142820' 'C196094'\n",
            " 'C402774' 'C284511' 'C292022' 'C223606' 'C761359' 'C131608' 'C244569'\n",
            " 'C191931' 'C697719' 'C879775' 'C224331' 'C295272' 'C275065' 'C180199'\n",
            " 'C248387' 'C727762' 'C527662' 'C443379' 'C306944' 'C479685' 'C156379'\n",
            " 'C276370' 'C612298' 'C181989' 'C167481' 'C309184' 'C198549' 'C514278'\n",
            " 'C792548' 'C228188' 'C227295' 'C156779' 'C142109' 'C584999' 'C271750'\n",
            " 'C239496' 'C805407' 'C868802' 'C201056' 'C245637' 'C184700' 'C131815'\n",
            " 'C617810' 'C154968' 'C257321' 'C130555' 'C176529' 'C138062' 'C107807'\n",
            " 'C120717' 'C274041' 'C440942' 'C159892' 'C301723' 'C142226' 'C935779'\n",
            " 'C668914' 'C698875' 'C964694' 'C125976' 'C851827']\n"
          ]
        }
      ]
    },
    {
      "cell_type": "code",
      "source": [
        "import pandas as pd\n",
        "from datetime import datetime, timedelta\n",
        "\n",
        "# Read the CSV file into a DataFrame\n",
        "df = pd.read_csv('/content/customer_shopping_data.csv')\n",
        "\n",
        "# Convert the 'invoice_date' column to datetime format\n",
        "df['invoice_date'] = pd.to_datetime(df['invoice_date'])\n",
        "\n",
        "# Get the date range for the last month\n",
        "today = datetime.today()\n",
        "start_date = today.replace(day=1) - timedelta(days=30)\n",
        "end_date = today\n",
        "\n",
        "# Filter the rows where the 'invoice_date' is within the last month\n",
        "last_month_purchases = df[(df['invoice_date'] >= start_date) & (df['invoice_date'] <= end_date)]\n",
        "\n",
        "# Display the customers who made purchases in the last month\n",
        "print(last_month_purchases['customer_id'].unique())\n"
      ],
      "metadata": {
        "colab": {
          "base_uri": "https://localhost:8080/"
        },
        "id": "3JDQ2XdX1aeT",
        "outputId": "909d5b8f-39cf-4753-8ad3-77c10998b75f"
      },
      "execution_count": 33,
      "outputs": [
        {
          "output_type": "stream",
          "name": "stderr",
          "text": [
            "<ipython-input-33-48d5f1194d64>:8: UserWarning: Parsing dates in DD/MM/YYYY format when dayfirst=False (the default) was specified. This may lead to inconsistently parsed dates! Specify a format to ensure consistent parsing.\n",
            "  df['invoice_date'] = pd.to_datetime(df['invoice_date'])\n"
          ]
        },
        {
          "output_type": "stream",
          "name": "stdout",
          "text": [
            "['C196845' 'C317897' 'C222906' 'C235482' 'C230543' 'C261316' 'C316806'\n",
            " 'C993876' 'C334601' 'C240135' 'C187422' 'C311887' 'C151884' 'C173979'\n",
            " 'C116013' 'C314543' 'C164736' 'C202744' 'C759854' 'C279326' 'C303982'\n",
            " 'C288663' 'C179647' 'C145731' 'C185599' 'C784748' 'C150679' 'C259755'\n",
            " 'C181049' 'C333615' 'C134050' 'C710070' 'C256281' 'C265293' 'C568348'\n",
            " 'C501752' 'C165789' 'C189683' 'C153157' 'C171757' 'C188136' 'C235354'\n",
            " 'C301719' 'C919080' 'C224033' 'C824557' 'C141117' 'C123400' 'C420714'\n",
            " 'C295681' 'C144456' 'C261710' 'C265102' 'C444281' 'C316382' 'C701147'\n",
            " 'C115918' 'C212052' 'C297854' 'C168190' 'C231973' 'C206514' 'C135705'\n",
            " 'C346311' 'C145612' 'C140873' 'C223932' 'C304730' 'C118306' 'C943035'\n",
            " 'C900101' 'C270819' 'C209454' 'C122471' 'C258444' 'C176791' 'C743303'\n",
            " 'C207285' 'C258930' 'C653081' 'C304579' 'C245255' 'C999886' 'C278798'\n",
            " 'C588517' 'C398073' 'C134361' 'C219586' 'C328840' 'C893372' 'C233489'\n",
            " 'C103887' 'C127726' 'C774916' 'C110260' 'C105405' 'C180068' 'C193821'\n",
            " 'C239418' 'C138941' 'C465449' 'C167505' 'C144869' 'C389917' 'C175797'\n",
            " 'C136128' 'C392378' 'C231503' 'C478286' 'C588358' 'C492754' 'C274617'\n",
            " 'C655903' 'C192824' 'C269903' 'C955045' 'C314322' 'C418514' 'C825390'\n",
            " 'C826033' 'C194090' 'C108243' 'C324765' 'C395206' 'C159465' 'C101414'\n",
            " 'C207209' 'C120126' 'C166556' 'C272817' 'C437835' 'C959220' 'C225343'\n",
            " 'C285707' 'C251560' 'C370708' 'C108644' 'C284955' 'C101863' 'C206018'\n",
            " 'C319618' 'C296734' 'C285257' 'C104852' 'C130692' 'C589603' 'C117779'\n",
            " 'C255359' 'C147906' 'C265661' 'C202247' 'C601847' 'C286763' 'C546016'\n",
            " 'C100720' 'C945098' 'C261098' 'C285730' 'C290525' 'C126398' 'C302466'\n",
            " 'C919731' 'C720307' 'C662831' 'C185557' 'C427052' 'C189925' 'C194518'\n",
            " 'C120857' 'C343024' 'C180653' 'C139587' 'C289634' 'C318370' 'C111463'\n",
            " 'C241295' 'C309447' 'C860021' 'C318381' 'C978643' 'C832119' 'C184586'\n",
            " 'C183201' 'C203112' 'C953091' 'C528484' 'C411773' 'C321121' 'C319127'\n",
            " 'C133720' 'C152642' 'C175495' 'C180427' 'C264995' 'C305795' 'C150451'\n",
            " 'C292579' 'C646646' 'C121698' 'C293846' 'C303880' 'C196970' 'C335454'\n",
            " 'C549695' 'C950851' 'C330201' 'C282627' 'C305390' 'C856309' 'C207570'\n",
            " 'C106518' 'C318467' 'C304139' 'C200229' 'C304778' 'C113778' 'C158654'\n",
            " 'C206978' 'C202619' 'C151278' 'C201648' 'C233787' 'C318869' 'C903626'\n",
            " 'C149731' 'C192462' 'C153133' 'C265167' 'C205272' 'C197913' 'C251686'\n",
            " 'C290263' 'C169909' 'C779456' 'C300368' 'C647304' 'C118170' 'C889773'\n",
            " 'C857656' 'C325228' 'C139797' 'C190086' 'C281275' 'C142345' 'C965588'\n",
            " 'C208575' 'C239836' 'C318701' 'C311102' 'C246453' 'C247425' 'C693029'\n",
            " 'C561758' 'C189911' 'C291439' 'C213538' 'C154436' 'C100130' 'C128919'\n",
            " 'C198534' 'C171658' 'C326006' 'C237558' 'C915199' 'C185052' 'C791172'\n",
            " 'C130708' 'C132465' 'C188456' 'C176185' 'C193323' 'C527293' 'C343492'\n",
            " 'C255284' 'C290329' 'C730245' 'C268864' 'C251765' 'C276677' 'C600023'\n",
            " 'C294095' 'C318637' 'C115087' 'C633026' 'C978453' 'C351705' 'C258882'\n",
            " 'C782410' 'C152807' 'C128089' 'C203390' 'C331373' 'C785832' 'C197954'\n",
            " 'C165087' 'C703691' 'C309085' 'C263411' 'C337668' 'C686225' 'C127804'\n",
            " 'C188429' 'C131088' 'C114014' 'C205301' 'C597361' 'C172263' 'C188068'\n",
            " 'C203014' 'C118403' 'C262224' 'C224026' 'C188288' 'C128755' 'C181614'\n",
            " 'C316266' 'C261651' 'C231319' 'C205385' 'C206102' 'C204123' 'C574330'\n",
            " 'C167760' 'C320060' 'C169955' 'C118073' 'C215446' 'C274653' 'C190390'\n",
            " 'C235553' 'C396795' 'C328115' 'C253058' 'C194544' 'C869815' 'C324575'\n",
            " 'C147164' 'C144173' 'C604720' 'C835249' 'C107235' 'C983998' 'C288088'\n",
            " 'C339885' 'C726657' 'C180027' 'C842660' 'C196779' 'C976970' 'C222808'\n",
            " 'C291452' 'C917615' 'C304006' 'C214893' 'C319819' 'C328408' 'C235311'\n",
            " 'C190062' 'C152635' 'C330726' 'C267815' 'C103328' 'C155019' 'C940442'\n",
            " 'C309543' 'C179765' 'C516933' 'C700310' 'C223473' 'C273407' 'C263379'\n",
            " 'C625611' 'C327817' 'C242658' 'C380005' 'C463603' 'C712308' 'C178144'\n",
            " 'C590003' 'C114819' 'C113468' 'C329392' 'C817089' 'C355803' 'C631428'\n",
            " 'C470024' 'C159547' 'C961306' 'C100894' 'C321060' 'C907576' 'C135594'\n",
            " 'C128706' 'C328910' 'C164071' 'C281997' 'C270762' 'C762269' 'C142820'\n",
            " 'C154261' 'C196094' 'C706407' 'C337277' 'C894816' 'C621789' 'C306579'\n",
            " 'C723463' 'C350626' 'C197173' 'C134335' 'C244569' 'C363282' 'C398365'\n",
            " 'C197371' 'C363723' 'C207376' 'C879775' 'C151306' 'C307780' 'C650128'\n",
            " 'C273821' 'C312757' 'C160600' 'C264035' 'C210234' 'C106546' 'C386445'\n",
            " 'C150236' 'C271409' 'C295344' 'C229435' 'C282127' 'C209330' 'C227721'\n",
            " 'C309184' 'C788712' 'C514278' 'C792548' 'C162998' 'C675386' 'C257160'\n",
            " 'C156779' 'C142109' 'C279393' 'C254429' 'C999854' 'C239496' 'C236835'\n",
            " 'C242156' 'C457782' 'C336584' 'C525058' 'C129978' 'C184700' 'C617810'\n",
            " 'C154968' 'C257321' 'C108141' 'C176529' 'C209942' 'C284515' 'C323749'\n",
            " 'C120717' 'C263265' 'C117219' 'C726391' 'C247905' 'C191492' 'C270217'\n",
            " 'C208638' 'C330082' 'C156666' 'C440942' 'C159892' 'C304969' 'C108493'\n",
            " 'C528003' 'C170386' 'C996085' 'C142048' 'C111857' 'C322841']\n"
          ]
        }
      ]
    },
    {
      "cell_type": "code",
      "source": [
        "import pandas as pd\n",
        "from datetime import datetime, timedelta\n",
        "\n",
        "# Read the CSV file into a DataFrame\n",
        "df = pd.read_csv('/content/customer_shopping_data.csv')\n",
        "\n",
        "# Convert the 'invoice_date' column to datetime format\n",
        "df['invoice_date'] = pd.to_datetime(df['invoice_date'])\n",
        "\n",
        "# Get the date range for the last month\n",
        "today = datetime.today()\n",
        "start_date = datetime(today.year, today.month - 1, 1)\n",
        "end_date = today.replace(day=1) - timedelta(days=1)\n",
        "\n",
        "# Filter the rows where the 'invoice_date' is within the last month\n",
        "last_month_purchases = df[(df['invoice_date'] >= start_date) & (df['invoice_date'] <= end_date)]\n",
        "\n",
        "# Select the 'customer_id' and 'invoice_date' columns\n",
        "selected_columns = last_month_purchases[['customer_id', 'invoice_date']]\n",
        "\n",
        "# Display the customers and dates who made purchases in the last month\n",
        "print(selected_columns)\n"
      ],
      "metadata": {
        "colab": {
          "base_uri": "https://localhost:8080/"
        },
        "id": "SrnoIhwPJNLB",
        "outputId": "72d09996-3b6c-4bbe-c596-b66d42b2e010"
      },
      "execution_count": 34,
      "outputs": [
        {
          "output_type": "stream",
          "name": "stderr",
          "text": [
            "<ipython-input-34-aef12c70fe23>:8: UserWarning: Parsing dates in DD/MM/YYYY format when dayfirst=False (the default) was specified. This may lead to inconsistently parsed dates! Specify a format to ensure consistent parsing.\n",
            "  df['invoice_date'] = pd.to_datetime(df['invoice_date'])\n"
          ]
        },
        {
          "output_type": "stream",
          "name": "stdout",
          "text": [
            "      customer_id invoice_date\n",
            "19        C196845   2023-07-03\n",
            "74        C258404   2023-07-01\n",
            "446       C109593   2023-07-01\n",
            "483       C289802   2023-07-01\n",
            "1030      C261316   2023-07-03\n",
            "...           ...          ...\n",
            "97189     C668914   2023-07-01\n",
            "97286     C698875   2023-07-02\n",
            "97367     C964694   2023-07-01\n",
            "98238     C125976   2023-07-02\n",
            "98487     C851827   2023-07-01\n",
            "\n",
            "[383 rows x 2 columns]\n"
          ]
        }
      ]
    },
    {
      "cell_type": "markdown",
      "source": [
        "6.\n",
        "Describe the process of scaling a distributed system and explain the role of load balancing in maintaining high availability."
      ],
      "metadata": {
        "id": "1EQmfOdLJagx"
      }
    },
    {
      "cell_type": "markdown",
      "source": [
        "Scaling a distributed system involves increasing its capacity to handle a growing amount of data, traffic, or user requests effectively. The process of scaling ensures that the system can accommodate increasing loads while maintaining high performance, availability, and reliability. Scaling is essential to handle the ever-growing demands of modern applications and services.\n",
        "\n",
        "There are two main types of scaling: vertical scaling and horizontal scaling.\n",
        "\n",
        "1. Vertical Scaling:\n",
        "   - Vertical scaling involves upgrading the resources (CPU, RAM, storage) of individual nodes in the system to handle increased load.\n",
        "   - This is typically done by upgrading the hardware of the servers or virtual machines that make up the distributed system.\n",
        "   - Vertical scaling can be limited by the maximum capacity of the hardware and can be more expensive compared to horizontal scaling.\n",
        "\n",
        "2. Horizontal Scaling:\n",
        "   - Horizontal scaling involves adding more nodes (servers or virtual machines) to the distributed system to distribute the load.\n",
        "   - This approach allows the system to handle increased traffic by distributing the load across multiple machines.\n",
        "   - Horizontal scaling is often more cost-effective and can provide better fault tolerance as the system becomes more distributed.\n",
        "\n",
        "Role of Load Balancing in Maintaining High Availability:\n",
        "Load balancing is a critical technique used in distributed systems to ensure high availability and efficient resource utilization. Its main role is to evenly distribute incoming requests or tasks across multiple nodes or servers to prevent overloading any single node. Here's how load balancing contributes to maintaining high availability:\n",
        "\n",
        "1. Distributing Workload: Load balancers distribute incoming requests or tasks across multiple nodes, ensuring that no single node is overwhelmed with traffic. This helps prevent bottlenecks and resource exhaustion on individual nodes, enabling the system to handle more traffic efficiently.\n",
        "\n",
        "2. Reducing Downtime: By distributing workloads across multiple nodes, load balancing helps reduce the risk of a single point of failure. If one node becomes unavailable or experiences issues, the load balancer can redirect traffic to other healthy nodes, minimizing downtime and ensuring continuous service availability.\n",
        "\n",
        "3. Improving Performance: Load balancing allows the system to utilize available resources effectively. By evenly distributing workloads, the overall response time and throughput of the system can be improved, leading to a better user experience.\n",
        "\n",
        "4. Elasticity and Scalability: Load balancers can dynamically adjust their distribution algorithms based on real-time traffic patterns and the health of individual nodes. This enables the system to scale up or down in response to changing demands, providing elasticity and adaptability to handle varying workloads.\n",
        "\n",
        "5. Handling Failures: Load balancers can detect and route traffic away from unhealthy or unresponsive nodes. In this way, load balancing contributes to the system's fault tolerance and resilience"
      ],
      "metadata": {
        "id": "4B_2ddR2Jj-u"
      }
    },
    {
      "cell_type": "code",
      "source": [
        "import pandas as pd\n",
        "\n",
        "# Read the CSV file into a DataFrame, specifying the date format\n",
        "df = pd.read_csv('/content/customer_shopping_data.csv', parse_dates=['invoice_date'], dayfirst=True)\n",
        "\n",
        "# Print the minimum and maximum dates in the 'invoice_date' column\n",
        "print(\"Min Date:\", df['invoice_date'].min())\n",
        "print(\"Max Date:\", df['invoice_date'].max())\n"
      ],
      "metadata": {
        "colab": {
          "base_uri": "https://localhost:8080/"
        },
        "id": "eVe_INak2tZh",
        "outputId": "d85331b2-0bd4-453a-ff3f-c644b8ff0845"
      },
      "execution_count": 46,
      "outputs": [
        {
          "output_type": "stream",
          "name": "stdout",
          "text": [
            "Min Date: 2021-01-01 00:00:00\n",
            "Max Date: 2023-03-08 00:00:00\n"
          ]
        }
      ]
    },
    {
      "cell_type": "markdown",
      "source": [
        "7. Explain the concept of HTTP and its role in client-server communication over the internet."
      ],
      "metadata": {
        "id": "Ru76yvC9KIRZ"
      }
    },
    {
      "cell_type": "markdown",
      "source": [],
      "metadata": {
        "id": "Cv_iRQI2KJ9w"
      }
    },
    {
      "cell_type": "code",
      "source": [
        "import pandas as pd\n",
        "from datetime import datetime, timedelta\n",
        "\n",
        "# Read the CSV file into a DataFrame, specifying the date format\n",
        "df = pd.read_csv('/content/customer_shopping_data.csv', parse_dates=['invoice_date'], dayfirst=True)\n",
        "\n",
        "# Get the current date\n",
        "current_date = datetime.now()\n",
        "\n",
        "# Calculate the date one month ago from the current date\n",
        "one_month_ago = current_date - timedelta(days=30)\n",
        "\n",
        "# Filter the DataFrame to get customers who purchased in the last month\n",
        "customers_last_month = df[df['invoice_date'] >= one_month_ago]\n",
        "\n",
        "# Display the result\n",
        "print(customers_last_month)\n"
      ],
      "metadata": {
        "colab": {
          "base_uri": "https://localhost:8080/"
        },
        "id": "271BDh7K3Ob4",
        "outputId": "5e0b4a6f-f61c-4150-a969-28e9adecb91c"
      },
      "execution_count": 47,
      "outputs": [
        {
          "output_type": "stream",
          "name": "stdout",
          "text": [
            "Empty DataFrame\n",
            "Columns: [invoice_no, customer_id, gender, age, category, quantity, price, payment_method, invoice_date, shopping_mall]\n",
            "Index: []\n"
          ]
        }
      ]
    },
    {
      "cell_type": "markdown",
      "source": [
        "8. Discuss the advantages and disadvantages of multithreading in an operating system environment."
      ],
      "metadata": {
        "id": "oGvoUGqwJMOa"
      }
    },
    {
      "cell_type": "markdown",
      "source": [
        "Advantages:\n",
        "1. Responsiveness: Allows programs to remain responsive during time-consuming tasks.\n",
        "2. Resource Sharing: Threads share resources efficiently, enabling data communication.\n",
        "3. Resource Efficiency: Creating threads is lightweight, consuming fewer resources.\n",
        "4. Parallelism: Enables parallel execution on multi-core processors, improving performance.\n",
        "5. Simplified Design: Can lead to cleaner code for certain applications.\n",
        "\n",
        "Disadvantages:\n",
        "1. Synchronization Complexity: Requires careful synchronization to avoid data races.\n",
        "2. Deadlocks: Can occur when threads wait for resources held by others.\n",
        "3. Debugging Complexity: Multithreaded programs are harder to debug.\n",
        "4. Increased Complexity: Adds complexity to software design and development.\n",
        "5. Performance Bottlenecks: Excessive thread creation can lead to performance issues."
      ],
      "metadata": {
        "id": "Gle23876JMXa"
      }
    },
    {
      "cell_type": "markdown",
      "source": [
        "7. Explain the concept of HTTP and its role in client-server communication over the internet."
      ],
      "metadata": {
        "id": "FNAKcNByJOOI"
      }
    },
    {
      "cell_type": "markdown",
      "source": [
        "HTTP (Hypertext Transfer Protocol) is a protocol that enables communication between clients and servers over the internet. It follows a request-response model, uses methods like GET and POST, and supports resource retrieval and stateless communication. HTTP is essential for web browsing and building RESTful APIs."
      ],
      "metadata": {
        "id": "SSnRaeG7KpVu"
      }
    },
    {
      "cell_type": "markdown",
      "source": [
        "8. Discuss the advantages and disadvantages of multithreading in an operating system environment."
      ],
      "metadata": {
        "id": "HyTESHkpLS0D"
      }
    },
    {
      "cell_type": "markdown",
      "source": [
        "Advantages:\n",
        "1. Responsiveness: Allows programs to remain responsive during time-consuming tasks.\n",
        "2. Resource Sharing: Threads share resources efficiently, enabling data communication.\n",
        "3. Resource Efficiency: Creating threads is lightweight, consuming fewer resources.\n",
        "4. Parallelism: Enables parallel execution on multi-core processors, improving performance.\n",
        "5. Simplified Design: Can lead to cleaner code for certain applications.\n",
        "\n",
        "Disadvantages:\n",
        "1. Synchronization Complexity: Requires careful synchronization to avoid data races.\n",
        "2. Deadlocks: Can occur when threads wait for resources held by others.\n",
        "3. Debugging Complexity: Multithreaded programs are harder to debug.\n",
        "4. Increased Complexity: Adds complexity to software design and development.\n",
        "5. Performance Bottlenecks: Excessive thread creation can lead to performance issues."
      ],
      "metadata": {
        "id": "tLgVtm-JLbD6"
      }
    },
    {
      "cell_type": "markdown",
      "source": [
        "The concept of HTTP works in client-server communication over the internet:\n",
        "\n",
        "1. **Client-Server Interaction**:\n",
        "   - The client is typically a web browser, mobile app, or any other application that needs to request resources from a server.\n",
        "   - The server is a computer or a collection of computers that host web resources, such as web pages, images, videos, etc.\n",
        "\n",
        "2. **HTTP Request**:\n",
        "   - When a user enters a URL in the web browser's address bar and hits \"Enter,\" the browser initiates an HTTP request to the server to fetch the specified resource.\n",
        "   - The HTTP request contains information like the method (GET, POST, PUT, DELETE, etc.), the requested resource (e.g., the path to the web page or file), headers (metadata about the request), and possibly a message body (used in POST and PUT requests to send data to the server).\n",
        "\n",
        "3. **Server Processing**:\n",
        "   - Upon receiving the HTTP request, the server processes it based on the provided method and resource path.\n",
        "   - The server may perform various operations like fetching data from a database, generating dynamic content, or simply retrieving a static file.\n",
        "\n",
        "4. **HTTP Response**:\n",
        "   - After processing the request, the server generates an HTTP response containing the requested resource (e.g., the HTML content of a web page, an image file, etc.).\n",
        "   - The response also includes an HTTP status code (e.g., 200 OK, 404 Not Found) that indicates the success or failure of the request, along with response headers and, optionally, a response message body.\n",
        "\n",
        "5. **Client Rendering**:\n",
        "   - Once the web browser receives the HTTP response, it renders the content for the user to view and interact with.\n",
        "   - If the response contains an HTML web page, the browser parses the HTML, applies CSS styles, and executes JavaScript code, if present, to create the visual representation of the page.\n",
        "\n",
        "6. **Asynchronous Requests**:\n",
        "   - Modern web applications often use asynchronous HTTP requests, commonly known as AJAX (Asynchronous JavaScript and XML), to fetch data from the server without requiring a full page refresh.\n",
        "   - AJAX requests allow web pages to dynamically update content without disrupting the user experience.\n",
        "\n",
        "\n",
        ""
      ],
      "metadata": {
        "id": "Q7tqz4ZzJmTL"
      }
    },
    {
      "cell_type": "markdown",
      "source": [
        "9. Design a database schema for an e-commerce platform between customers, products, and orders with a basic transaction order that another item is added to."
      ],
      "metadata": {
        "id": "qgOJlFMRJ8h8"
      }
    },
    {
      "cell_type": "markdown",
      "source": [
        "1. Customers table:\n",
        "\n",
        ". customer_id (Primary Key)\n",
        "\n",
        ". name\n",
        "\n",
        ". email\n",
        "\n",
        ". address\n",
        "\n",
        "2. Products table:\n",
        "\n",
        ". product_id (Primary Key)\n",
        "\n",
        ". name\n",
        "\n",
        ". description\n",
        "\n",
        ". price\n",
        "\n",
        ". stock_quantity\n",
        "\n",
        "3. Orders table:\n",
        "\n",
        ". order_id (Primary Key)\n",
        "\n",
        ". customer_id (Foreign Key referencing Customers)\n",
        "\n",
        ". order_date\n",
        "\n",
        "4. Order Items table:\n",
        "\n",
        ". order_item_id (Primary Key)\n",
        "\n",
        ". order_id (Foreign Key referencing Orders)\n",
        "\n",
        ". product_id (Foreign Key referencing Products)\n",
        "\n",
        ". quantity\n",
        ""
      ],
      "metadata": {
        "id": "QEwRaIUE-ghF"
      }
    },
    {
      "cell_type": "code",
      "source": [
        "import csv\n",
        "\n",
        "# Function to create a CSV file with headers\n",
        "def create_csv(filename, headers):\n",
        "    with open(filename, 'w', newline='') as csvfile:\n",
        "        writer = csv.writer(csvfile)\n",
        "        writer.writerow(headers)\n",
        "\n",
        "# Create customers table\n",
        "customers_headers = [\"customer_id\", \"name\", \"email\", \"address\"]\n",
        "create_csv('customers.csv', customers_headers)\n",
        "\n",
        "# Create products table\n",
        "products_headers = [\"product_id\", \"name\", \"description\", \"price\", \"stock_quantity\"]\n",
        "create_csv('products.csv', products_headers)\n",
        "\n",
        "# Create orders table\n",
        "orders_headers = [\"order_id\", \"customer_id\", \"order_date\"]\n",
        "create_csv('orders.csv', orders_headers)\n",
        "\n",
        "# Create order_items table\n",
        "order_items_headers = [\"order_item_id\", \"order_id\", \"product_id\", \"quantity\"]\n",
        "create_csv('order_items.csv', order_items_headers)\n"
      ],
      "metadata": {
        "id": "U3Vszeo8CFb5"
      },
      "execution_count": 17,
      "outputs": []
    },
    {
      "cell_type": "code",
      "source": [
        "# Function to insert data into a CSV file\n",
        "def insert_data(filename, data):\n",
        "    with open(filename, 'a', newline='') as csvfile:\n",
        "        writer = csv.writer(csvfile)\n",
        "        writer.writerow(data)\n",
        "\n",
        "# Insert data into customers table\n",
        "insert_data('customers.csv', [1, \"John Doe\", \"john@example.com\", \"123 Main Street\"])\n",
        "insert_data('customers.csv', [2, \"Jane Smith\", \"jane@example.com\", \"456 Elm Avenue\"])\n",
        "\n",
        "# Insert data into products table\n",
        "insert_data('products.csv', [101, \"Laptop\", \"High-performance laptop\", 999.99, 50])\n",
        "insert_data('products.csv', [102, \"Smartphone\", \"Latest smartphone model\", 699.99, 100])\n",
        "\n",
        "# Insert data into orders table\n",
        "insert_data('orders.csv', [201, 1, \"2023-08-04\"])\n",
        "insert_data('orders.csv', [202, 2, \"2023-08-03\"])\n",
        "\n",
        "# Insert data into order_items table\n",
        "insert_data('order_items.csv', [301, 201, 101, 2])\n",
        "insert_data('order_items.csv', [302, 201, 102, 1])\n",
        "insert_data('order_items.csv', [303, 202, 101, 1])\n"
      ],
      "metadata": {
        "id": "_scSr0BiCHAa"
      },
      "execution_count": 23,
      "outputs": []
    },
    {
      "cell_type": "code",
      "source": [
        "import pandas as pd\n",
        "\n",
        "# Read data from CSV files into DataFrames\n",
        "customers_df = pd.read_csv('customers.csv')\n",
        "products_df = pd.read_csv('products.csv')\n",
        "orders_df = pd.read_csv('orders.csv')\n",
        "order_items_df = pd.read_csv('order_items.csv')\n",
        "\n",
        "# Display the data from each DataFrame\n",
        "print(\"Customers Data:\")\n",
        "print(customers_df)\n",
        "\n",
        "print(\"\\nProducts Data:\")\n",
        "print(products_df)\n",
        "\n",
        "print(\"\\nOrders Data:\")\n",
        "print(orders_df)\n",
        "\n",
        "print(\"\\nOrder Items Data:\")\n",
        "print(order_items_df)\n"
      ],
      "metadata": {
        "colab": {
          "base_uri": "https://localhost:8080/"
        },
        "id": "-Di8PStACqgt",
        "outputId": "976ad8c1-89ac-4278-b396-e8849db376bc"
      },
      "execution_count": 24,
      "outputs": [
        {
          "output_type": "stream",
          "name": "stdout",
          "text": [
            "Customers Data:\n",
            "    customer_id        name                   email          address\n",
            "0             1    John Doe        john@example.com  123 Main Street\n",
            "1             2  Jane Smith        jane@example.com   456 Elm Avenue\n",
            "2             3   Customer3   customer3@example.com         Address3\n",
            "3             4   Customer4   customer4@example.com         Address4\n",
            "4             5   Customer5   customer5@example.com         Address5\n",
            "5             6   Customer6   customer6@example.com         Address6\n",
            "6             7   Customer7   customer7@example.com         Address7\n",
            "7             8   Customer8   customer8@example.com         Address8\n",
            "8             9   Customer9   customer9@example.com         Address9\n",
            "9            10  Customer10  customer10@example.com        Address10\n",
            "10           11  Customer11  customer11@example.com        Address11\n",
            "11           12  Customer12  customer12@example.com        Address12\n",
            "12           13  Customer13  customer13@example.com        Address13\n",
            "13           14  Customer14  customer14@example.com        Address14\n",
            "14           15  Customer15  customer15@example.com        Address15\n",
            "15           16  Customer16  customer16@example.com        Address16\n",
            "16           17  Customer17  customer17@example.com        Address17\n",
            "17            1    John Doe        john@example.com  123 Main Street\n",
            "18            2  Jane Smith        jane@example.com   456 Elm Avenue\n",
            "\n",
            "Products Data:\n",
            "    product_id        name              description   price  stock_quantity\n",
            "0          101      Laptop  High-performance laptop  999.99              50\n",
            "1          102  Smartphone  Latest smartphone model  699.99             100\n",
            "2          103  Product103           Description103  950.22              51\n",
            "3          104  Product104           Description104  288.42              68\n",
            "4          105  Product105           Description105  267.35              42\n",
            "5          106  Product106           Description106  227.36              93\n",
            "6          107  Product107           Description107  346.11              42\n",
            "7          108  Product108           Description108  705.81              40\n",
            "8          109  Product109           Description109  885.73              95\n",
            "9          110  Product110           Description110  669.93              41\n",
            "10         111  Product111           Description111  560.31              63\n",
            "11         112  Product112           Description112   81.96              21\n",
            "12         113  Product113           Description113  725.24              31\n",
            "13         114  Product114           Description114  715.00              48\n",
            "14         115  Product115           Description115  755.41              61\n",
            "15         116  Product116           Description116   50.19              71\n",
            "16         117  Product117           Description117  792.57              75\n",
            "17         101      Laptop  High-performance laptop  999.99              50\n",
            "18         102  Smartphone  Latest smartphone model  699.99             100\n",
            "\n",
            "Orders Data:\n",
            "    order_id  customer_id  order_date\n",
            "0        201            1  2023-08-04\n",
            "1        202            2  2023-08-03\n",
            "2        203            1  2023-08-05\n",
            "3        204           10  2023-08-05\n",
            "4        205            8  2023-08-05\n",
            "5        206           10  2023-08-05\n",
            "6        207            5  2023-08-05\n",
            "7        208           15  2023-08-05\n",
            "8        209            1  2023-08-05\n",
            "9        210            1  2023-08-05\n",
            "10       211            2  2023-08-05\n",
            "11       212            9  2023-08-05\n",
            "12       213            9  2023-08-05\n",
            "13       214            8  2023-08-05\n",
            "14       215           11  2023-08-05\n",
            "15       216            6  2023-08-05\n",
            "16       217            1  2023-08-05\n",
            "17       201            1  2023-08-04\n",
            "18       202            2  2023-08-03\n",
            "\n",
            "Order Items Data:\n",
            "    order_item_id  order_id  product_id  quantity\n",
            "0             301       201         101         2\n",
            "1             302       201         102         1\n",
            "2             303       202         101         1\n",
            "3             304       217         103         3\n",
            "4             305       217         103         3\n",
            "5             306       217         110         1\n",
            "6             307       212         103         1\n",
            "7             308       214         112         3\n",
            "8             309       208         116         5\n",
            "9             310       217         109         5\n",
            "10            311       213         103         4\n",
            "11            312       217         112         2\n",
            "12            313       205         111         1\n",
            "13            314       205         104         5\n",
            "14            315       214         106         4\n",
            "15            316       205         116         2\n",
            "16            317       204         111         4\n",
            "17            318       212         105         1\n",
            "18            301       201         101         2\n",
            "19            302       201         102         1\n",
            "20            303       202         101         1\n"
          ]
        }
      ]
    },
    {
      "cell_type": "code",
      "source": [
        "# Function to insert data into a CSV file\n",
        "def insert_data(filename, data):\n",
        "    with open(filename, 'a', newline='') as csvfile:\n",
        "        writer = csv.writer(csvfile)\n",
        "        writer.writerow(data)\n",
        "\n",
        "# Insert more data into customers table\n",
        "for i in range(3, 18):\n",
        "    insert_data('customers.csv', [i, f\"Customer{i}\", f\"customer{i}@example.com\", f\"Address{i}\"])\n",
        "\n",
        "# Insert more data into products table\n",
        "for i in range(103, 118):\n",
        "    insert_data('products.csv', [i, f\"Product{i}\", f\"Description{i}\", round(random.uniform(10, 1000), 2), random.randint(1, 100)])\n",
        "\n",
        "# Insert more data into orders table\n",
        "for i in range(203, 218):\n",
        "    insert_data('orders.csv', [i, random.randint(1, 15), \"2023-08-05\"])\n",
        "\n",
        "# Insert more data into order_items table\n",
        "for i in range(304, 319):\n",
        "    insert_data('order_items.csv', [i, random.randint(203, 217), random.randint(103, 117), random.randint(1, 5)])\n"
      ],
      "metadata": {
        "id": "Z1tAzBnXDU4q"
      },
      "execution_count": 20,
      "outputs": []
    },
    {
      "cell_type": "code",
      "source": [
        "import pandas as pd\n",
        "\n",
        "# Read data from CSV files into DataFrames\n",
        "customers_df = pd.read_csv('customers.csv')\n",
        "products_df = pd.read_csv('products.csv')\n",
        "orders_df = pd.read_csv('orders.csv')\n",
        "order_items_df = pd.read_csv('order_items.csv')\n",
        "\n",
        "# Display the data from each DataFrame\n",
        "print(\"Customers Data:\")\n",
        "print(customers_df)\n",
        "\n",
        "print(\"\\nProducts Data:\")\n",
        "print(products_df)\n",
        "\n",
        "print(\"\\nOrders Data:\")\n",
        "print(orders_df)\n",
        "\n",
        "print(\"\\nOrder Items Data:\")\n",
        "print(order_items_df)\n"
      ],
      "metadata": {
        "colab": {
          "base_uri": "https://localhost:8080/"
        },
        "id": "3RMIRkpSDrSY",
        "outputId": "54001636-3909-452c-8cb1-a88d44318cfd"
      },
      "execution_count": 21,
      "outputs": [
        {
          "output_type": "stream",
          "name": "stdout",
          "text": [
            "Customers Data:\n",
            "    customer_id        name                   email          address\n",
            "0             1    John Doe        john@example.com  123 Main Street\n",
            "1             2  Jane Smith        jane@example.com   456 Elm Avenue\n",
            "2             3   Customer3   customer3@example.com         Address3\n",
            "3             4   Customer4   customer4@example.com         Address4\n",
            "4             5   Customer5   customer5@example.com         Address5\n",
            "5             6   Customer6   customer6@example.com         Address6\n",
            "6             7   Customer7   customer7@example.com         Address7\n",
            "7             8   Customer8   customer8@example.com         Address8\n",
            "8             9   Customer9   customer9@example.com         Address9\n",
            "9            10  Customer10  customer10@example.com        Address10\n",
            "10           11  Customer11  customer11@example.com        Address11\n",
            "11           12  Customer12  customer12@example.com        Address12\n",
            "12           13  Customer13  customer13@example.com        Address13\n",
            "13           14  Customer14  customer14@example.com        Address14\n",
            "14           15  Customer15  customer15@example.com        Address15\n",
            "15           16  Customer16  customer16@example.com        Address16\n",
            "16           17  Customer17  customer17@example.com        Address17\n",
            "\n",
            "Products Data:\n",
            "    product_id        name              description   price  stock_quantity\n",
            "0          101      Laptop  High-performance laptop  999.99              50\n",
            "1          102  Smartphone  Latest smartphone model  699.99             100\n",
            "2          103  Product103           Description103  950.22              51\n",
            "3          104  Product104           Description104  288.42              68\n",
            "4          105  Product105           Description105  267.35              42\n",
            "5          106  Product106           Description106  227.36              93\n",
            "6          107  Product107           Description107  346.11              42\n",
            "7          108  Product108           Description108  705.81              40\n",
            "8          109  Product109           Description109  885.73              95\n",
            "9          110  Product110           Description110  669.93              41\n",
            "10         111  Product111           Description111  560.31              63\n",
            "11         112  Product112           Description112   81.96              21\n",
            "12         113  Product113           Description113  725.24              31\n",
            "13         114  Product114           Description114  715.00              48\n",
            "14         115  Product115           Description115  755.41              61\n",
            "15         116  Product116           Description116   50.19              71\n",
            "16         117  Product117           Description117  792.57              75\n",
            "\n",
            "Orders Data:\n",
            "    order_id  customer_id  order_date\n",
            "0        201            1  2023-08-04\n",
            "1        202            2  2023-08-03\n",
            "2        203            1  2023-08-05\n",
            "3        204           10  2023-08-05\n",
            "4        205            8  2023-08-05\n",
            "5        206           10  2023-08-05\n",
            "6        207            5  2023-08-05\n",
            "7        208           15  2023-08-05\n",
            "8        209            1  2023-08-05\n",
            "9        210            1  2023-08-05\n",
            "10       211            2  2023-08-05\n",
            "11       212            9  2023-08-05\n",
            "12       213            9  2023-08-05\n",
            "13       214            8  2023-08-05\n",
            "14       215           11  2023-08-05\n",
            "15       216            6  2023-08-05\n",
            "16       217            1  2023-08-05\n",
            "\n",
            "Order Items Data:\n",
            "    order_item_id  order_id  product_id  quantity\n",
            "0             301       201         101         2\n",
            "1             302       201         102         1\n",
            "2             303       202         101         1\n",
            "3             304       217         103         3\n",
            "4             305       217         103         3\n",
            "5             306       217         110         1\n",
            "6             307       212         103         1\n",
            "7             308       214         112         3\n",
            "8             309       208         116         5\n",
            "9             310       217         109         5\n",
            "10            311       213         103         4\n",
            "11            312       217         112         2\n",
            "12            313       205         111         1\n",
            "13            314       205         104         5\n",
            "14            315       214         106         4\n",
            "15            316       205         116         2\n",
            "16            317       204         111         4\n",
            "17            318       212         105         1\n"
          ]
        }
      ]
    },
    {
      "cell_type": "markdown",
      "source": [
        "10. Write a code snippet in your preferred language demonstrating thread synchronization using locks"
      ],
      "metadata": {
        "id": "tq4ogp8dFUst"
      }
    },
    {
      "cell_type": "code",
      "source": [
        "import threading\n",
        "import time\n",
        "\n",
        "# Shared resource\n",
        "shared_resource = 0\n",
        "\n",
        "# Lock for synchronization\n",
        "lock = threading.Lock()\n",
        "\n",
        "# Function that increments the shared resource using a lock\n",
        "def increment_shared_resource():\n",
        "    global shared_resource\n",
        "    for _ in range(100000):\n",
        "        # Acquire the lock before accessing the shared resource\n",
        "        lock.acquire()\n",
        "        shared_resource += 1\n",
        "        # Release the lock after updating the shared resource\n",
        "        lock.release()\n",
        "\n",
        "# Function that decrements the shared resource using a lock\n",
        "def decrement_shared_resource():\n",
        "    global shared_resource\n",
        "    for _ in range(100000):\n",
        "        # Acquire the lock before accessing the shared resource\n",
        "        lock.acquire()\n",
        "        shared_resource -= 1\n",
        "        # Release the lock after updating the shared resource\n",
        "        lock.release()\n",
        "\n",
        "# Create two threads that increment and decrement the shared resource\n",
        "thread1 = threading.Thread(target=increment_shared_resource)\n",
        "thread2 = threading.Thread(target=decrement_shared_resource)\n",
        "\n",
        "# Start the threads\n",
        "thread1.start()\n",
        "thread2.start()\n",
        "\n",
        "# Wait for both threads to finish\n",
        "thread1.join()\n",
        "thread2.join()\n",
        "\n",
        "# Print the final value of the shared resource\n",
        "print(\"Final value of shared resource:\", shared_resource)\n"
      ],
      "metadata": {
        "colab": {
          "base_uri": "https://localhost:8080/"
        },
        "id": "1cgANj7wFXlY",
        "outputId": "0a2a7589-3e30-400c-aee4-62f7e01e980f"
      },
      "execution_count": 25,
      "outputs": [
        {
          "output_type": "stream",
          "name": "stdout",
          "text": [
            "Final value of shared resource: 0\n"
          ]
        }
      ]
    },
    {
      "cell_type": "code",
      "source": [
        "import threading\n",
        "\n",
        "# Shared variable that needs to be synchronized\n",
        "counter = 0\n",
        "\n",
        "# Create a lock to synchronize access to the shared variable\n",
        "lock = threading.Lock()\n",
        "\n",
        "# Function to increment the counter\n",
        "def increment_counter():\n",
        "    global counter\n",
        "    for _ in range(100000):\n",
        "        # Acquire the lock before accessing the shared variable\n",
        "        lock.acquire()\n",
        "        counter += 1\n",
        "        # Release the lock after updating the shared variable\n",
        "        lock.release()\n",
        "\n",
        "# Create multiple threads to increment the counter concurrently\n",
        "num_threads = 5\n",
        "threads = []\n",
        "\n",
        "for _ in range(num_threads):\n",
        "    t = threading.Thread(target=increment_counter)\n",
        "    threads.append(t)\n",
        "\n",
        "# Start the threads\n",
        "for t in threads:\n",
        "    t.start()\n",
        "\n",
        "# Wait for all threads to finish\n",
        "for t in threads:\n",
        "    t.join()\n",
        "\n",
        "# The value of counter should be (num_threads * 100000) if synchronization is successful\n",
        "print(\"Final value of counter:\", counter)\n"
      ],
      "metadata": {
        "colab": {
          "base_uri": "https://localhost:8080/"
        },
        "id": "Yw_i8IadFzPs",
        "outputId": "a5275f27-5d4e-47eb-9edb-44c14339fdd6"
      },
      "execution_count": 26,
      "outputs": [
        {
          "output_type": "stream",
          "name": "stdout",
          "text": [
            "Final value of counter: 500000\n"
          ]
        }
      ]
    }
  ]
}