{
  "nbformat": 4,
  "nbformat_minor": 0,
  "metadata": {
    "colab": {
      "provenance": [],
      "authorship_tag": "ABX9TyNyOaGhtaS0TCs43zy4uHP8",
      "include_colab_link": true
    },
    "kernelspec": {
      "name": "python3",
      "display_name": "Python 3"
    },
    "language_info": {
      "name": "python"
    }
  },
  "cells": [
    {
      "cell_type": "markdown",
      "metadata": {
        "id": "view-in-github",
        "colab_type": "text"
      },
      "source": [
        "<a href=\"https://colab.research.google.com/github/sheikh495/Data_mining/blob/main/M7_6.ipynb\" target=\"_parent\"><img src=\"https://colab.research.google.com/assets/colab-badge.svg\" alt=\"Open In Colab\"/></a>"
      ]
    },
    {
      "cell_type": "code",
      "source": [
        "!pip install nltk\n",
        "!pip install spacy\n",
        "!pip install textblob\n",
        "!pip install gensim\n",
        "!pip install stanfordnlp\n",
        "\n",
        "! GRAPHS https://colab.research.google.com/drive/1FUBGbE_oGYsFWkYqmut5DW95DtM6jKZi?usp=sharing#scrollTo=Aw24qZ7fSyNw\n",
        "\n"
      ],
      "metadata": {
        "colab": {
          "base_uri": "https://localhost:8080/"
        },
        "id": "9ChWIUShnCpM",
        "outputId": "bdecab77-b4b1-44ea-abf1-8ffb6628f282"
      },
      "execution_count": 1,
      "outputs": [
        {
          "output_type": "stream",
          "name": "stdout",
          "text": [
            "Requirement already satisfied: nltk in /usr/local/lib/python3.10/dist-packages (3.8.1)\n",
            "Requirement already satisfied: click in /usr/local/lib/python3.10/dist-packages (from nltk) (8.1.6)\n",
            "Requirement already satisfied: joblib in /usr/local/lib/python3.10/dist-packages (from nltk) (1.3.1)\n",
            "Requirement already satisfied: regex>=2021.8.3 in /usr/local/lib/python3.10/dist-packages (from nltk) (2022.10.31)\n",
            "Requirement already satisfied: tqdm in /usr/local/lib/python3.10/dist-packages (from nltk) (4.65.0)\n",
            "Requirement already satisfied: spacy in /usr/local/lib/python3.10/dist-packages (3.5.4)\n",
            "Requirement already satisfied: spacy-legacy<3.1.0,>=3.0.11 in /usr/local/lib/python3.10/dist-packages (from spacy) (3.0.12)\n",
            "Requirement already satisfied: spacy-loggers<2.0.0,>=1.0.0 in /usr/local/lib/python3.10/dist-packages (from spacy) (1.0.4)\n",
            "Requirement already satisfied: murmurhash<1.1.0,>=0.28.0 in /usr/local/lib/python3.10/dist-packages (from spacy) (1.0.9)\n",
            "Requirement already satisfied: cymem<2.1.0,>=2.0.2 in /usr/local/lib/python3.10/dist-packages (from spacy) (2.0.7)\n",
            "Requirement already satisfied: preshed<3.1.0,>=3.0.2 in /usr/local/lib/python3.10/dist-packages (from spacy) (3.0.8)\n",
            "Requirement already satisfied: thinc<8.2.0,>=8.1.8 in /usr/local/lib/python3.10/dist-packages (from spacy) (8.1.10)\n",
            "Requirement already satisfied: wasabi<1.2.0,>=0.9.1 in /usr/local/lib/python3.10/dist-packages (from spacy) (1.1.2)\n",
            "Requirement already satisfied: srsly<3.0.0,>=2.4.3 in /usr/local/lib/python3.10/dist-packages (from spacy) (2.4.7)\n",
            "Requirement already satisfied: catalogue<2.1.0,>=2.0.6 in /usr/local/lib/python3.10/dist-packages (from spacy) (2.0.9)\n",
            "Requirement already satisfied: typer<0.10.0,>=0.3.0 in /usr/local/lib/python3.10/dist-packages (from spacy) (0.9.0)\n",
            "Requirement already satisfied: pathy>=0.10.0 in /usr/local/lib/python3.10/dist-packages (from spacy) (0.10.2)\n",
            "Requirement already satisfied: smart-open<7.0.0,>=5.2.1 in /usr/local/lib/python3.10/dist-packages (from spacy) (6.3.0)\n",
            "Requirement already satisfied: tqdm<5.0.0,>=4.38.0 in /usr/local/lib/python3.10/dist-packages (from spacy) (4.65.0)\n",
            "Requirement already satisfied: numpy>=1.15.0 in /usr/local/lib/python3.10/dist-packages (from spacy) (1.22.4)\n",
            "Requirement already satisfied: requests<3.0.0,>=2.13.0 in /usr/local/lib/python3.10/dist-packages (from spacy) (2.27.1)\n",
            "Requirement already satisfied: pydantic!=1.8,!=1.8.1,<1.11.0,>=1.7.4 in /usr/local/lib/python3.10/dist-packages (from spacy) (1.10.12)\n",
            "Requirement already satisfied: jinja2 in /usr/local/lib/python3.10/dist-packages (from spacy) (3.1.2)\n",
            "Requirement already satisfied: setuptools in /usr/local/lib/python3.10/dist-packages (from spacy) (67.7.2)\n",
            "Requirement already satisfied: packaging>=20.0 in /usr/local/lib/python3.10/dist-packages (from spacy) (23.1)\n",
            "Requirement already satisfied: langcodes<4.0.0,>=3.2.0 in /usr/local/lib/python3.10/dist-packages (from spacy) (3.3.0)\n",
            "Requirement already satisfied: typing-extensions>=4.2.0 in /usr/local/lib/python3.10/dist-packages (from pydantic!=1.8,!=1.8.1,<1.11.0,>=1.7.4->spacy) (4.7.1)\n",
            "Requirement already satisfied: urllib3<1.27,>=1.21.1 in /usr/local/lib/python3.10/dist-packages (from requests<3.0.0,>=2.13.0->spacy) (1.26.16)\n",
            "Requirement already satisfied: certifi>=2017.4.17 in /usr/local/lib/python3.10/dist-packages (from requests<3.0.0,>=2.13.0->spacy) (2023.7.22)\n",
            "Requirement already satisfied: charset-normalizer~=2.0.0 in /usr/local/lib/python3.10/dist-packages (from requests<3.0.0,>=2.13.0->spacy) (2.0.12)\n",
            "Requirement already satisfied: idna<4,>=2.5 in /usr/local/lib/python3.10/dist-packages (from requests<3.0.0,>=2.13.0->spacy) (3.4)\n",
            "Requirement already satisfied: blis<0.8.0,>=0.7.8 in /usr/local/lib/python3.10/dist-packages (from thinc<8.2.0,>=8.1.8->spacy) (0.7.10)\n",
            "Requirement already satisfied: confection<1.0.0,>=0.0.1 in /usr/local/lib/python3.10/dist-packages (from thinc<8.2.0,>=8.1.8->spacy) (0.1.0)\n",
            "Requirement already satisfied: click<9.0.0,>=7.1.1 in /usr/local/lib/python3.10/dist-packages (from typer<0.10.0,>=0.3.0->spacy) (8.1.6)\n",
            "Requirement already satisfied: MarkupSafe>=2.0 in /usr/local/lib/python3.10/dist-packages (from jinja2->spacy) (2.1.3)\n",
            "Requirement already satisfied: textblob in /usr/local/lib/python3.10/dist-packages (0.17.1)\n",
            "Requirement already satisfied: nltk>=3.1 in /usr/local/lib/python3.10/dist-packages (from textblob) (3.8.1)\n",
            "Requirement already satisfied: click in /usr/local/lib/python3.10/dist-packages (from nltk>=3.1->textblob) (8.1.6)\n",
            "Requirement already satisfied: joblib in /usr/local/lib/python3.10/dist-packages (from nltk>=3.1->textblob) (1.3.1)\n",
            "Requirement already satisfied: regex>=2021.8.3 in /usr/local/lib/python3.10/dist-packages (from nltk>=3.1->textblob) (2022.10.31)\n",
            "Requirement already satisfied: tqdm in /usr/local/lib/python3.10/dist-packages (from nltk>=3.1->textblob) (4.65.0)\n",
            "Requirement already satisfied: gensim in /usr/local/lib/python3.10/dist-packages (4.3.1)\n",
            "Requirement already satisfied: numpy>=1.18.5 in /usr/local/lib/python3.10/dist-packages (from gensim) (1.22.4)\n",
            "Requirement already satisfied: scipy>=1.7.0 in /usr/local/lib/python3.10/dist-packages (from gensim) (1.10.1)\n",
            "Requirement already satisfied: smart-open>=1.8.1 in /usr/local/lib/python3.10/dist-packages (from gensim) (6.3.0)\n",
            "Collecting stanfordnlp\n",
            "  Downloading stanfordnlp-0.2.0-py3-none-any.whl (158 kB)\n",
            "\u001b[2K     \u001b[90m━━━━━━━━━━━━━━━━━━━━━━━━━━━━━━━━━━━━━━━\u001b[0m \u001b[32m158.8/158.8 kB\u001b[0m \u001b[31m3.1 MB/s\u001b[0m eta \u001b[36m0:00:00\u001b[0m\n",
            "\u001b[?25hRequirement already satisfied: numpy in /usr/local/lib/python3.10/dist-packages (from stanfordnlp) (1.22.4)\n",
            "Requirement already satisfied: protobuf in /usr/local/lib/python3.10/dist-packages (from stanfordnlp) (3.20.3)\n",
            "Requirement already satisfied: requests in /usr/local/lib/python3.10/dist-packages (from stanfordnlp) (2.27.1)\n",
            "Requirement already satisfied: torch>=1.0.0 in /usr/local/lib/python3.10/dist-packages (from stanfordnlp) (2.0.1+cu118)\n",
            "Requirement already satisfied: tqdm in /usr/local/lib/python3.10/dist-packages (from stanfordnlp) (4.65.0)\n",
            "Requirement already satisfied: filelock in /usr/local/lib/python3.10/dist-packages (from torch>=1.0.0->stanfordnlp) (3.12.2)\n",
            "Requirement already satisfied: typing-extensions in /usr/local/lib/python3.10/dist-packages (from torch>=1.0.0->stanfordnlp) (4.7.1)\n",
            "Requirement already satisfied: sympy in /usr/local/lib/python3.10/dist-packages (from torch>=1.0.0->stanfordnlp) (1.11.1)\n",
            "Requirement already satisfied: networkx in /usr/local/lib/python3.10/dist-packages (from torch>=1.0.0->stanfordnlp) (3.1)\n",
            "Requirement already satisfied: jinja2 in /usr/local/lib/python3.10/dist-packages (from torch>=1.0.0->stanfordnlp) (3.1.2)\n",
            "Requirement already satisfied: triton==2.0.0 in /usr/local/lib/python3.10/dist-packages (from torch>=1.0.0->stanfordnlp) (2.0.0)\n",
            "Requirement already satisfied: cmake in /usr/local/lib/python3.10/dist-packages (from triton==2.0.0->torch>=1.0.0->stanfordnlp) (3.25.2)\n",
            "Requirement already satisfied: lit in /usr/local/lib/python3.10/dist-packages (from triton==2.0.0->torch>=1.0.0->stanfordnlp) (16.0.6)\n",
            "Requirement already satisfied: urllib3<1.27,>=1.21.1 in /usr/local/lib/python3.10/dist-packages (from requests->stanfordnlp) (1.26.16)\n",
            "Requirement already satisfied: certifi>=2017.4.17 in /usr/local/lib/python3.10/dist-packages (from requests->stanfordnlp) (2023.7.22)\n",
            "Requirement already satisfied: charset-normalizer~=2.0.0 in /usr/local/lib/python3.10/dist-packages (from requests->stanfordnlp) (2.0.12)\n",
            "Requirement already satisfied: idna<4,>=2.5 in /usr/local/lib/python3.10/dist-packages (from requests->stanfordnlp) (3.4)\n",
            "Requirement already satisfied: MarkupSafe>=2.0 in /usr/local/lib/python3.10/dist-packages (from jinja2->torch>=1.0.0->stanfordnlp) (2.1.3)\n",
            "Requirement already satisfied: mpmath>=0.19 in /usr/local/lib/python3.10/dist-packages (from sympy->torch>=1.0.0->stanfordnlp) (1.3.0)\n",
            "Installing collected packages: stanfordnlp\n",
            "Successfully installed stanfordnlp-0.2.0\n",
            "/bin/bash: line 1: GRAPHS: command not found\n"
          ]
        }
      ]
    },
    {
      "cell_type": "code",
      "source": [
        "pip install pyspark\n"
      ],
      "metadata": {
        "colab": {
          "base_uri": "https://localhost:8080/"
        },
        "id": "U600ccsvnjrC",
        "outputId": "bcf10902-854b-4d98-a448-9f46850622f4"
      },
      "execution_count": 2,
      "outputs": [
        {
          "output_type": "stream",
          "name": "stdout",
          "text": [
            "Collecting pyspark\n",
            "  Downloading pyspark-3.4.1.tar.gz (310.8 MB)\n",
            "\u001b[2K     \u001b[90m━━━━━━━━━━━━━━━━━━━━━━━━━━━━━━━━━━━━━━━\u001b[0m \u001b[32m310.8/310.8 MB\u001b[0m \u001b[31m3.5 MB/s\u001b[0m eta \u001b[36m0:00:00\u001b[0m\n",
            "\u001b[?25h  Preparing metadata (setup.py) ... \u001b[?25l\u001b[?25hdone\n",
            "Requirement already satisfied: py4j==0.10.9.7 in /usr/local/lib/python3.10/dist-packages (from pyspark) (0.10.9.7)\n",
            "Building wheels for collected packages: pyspark\n",
            "  Building wheel for pyspark (setup.py) ... \u001b[?25l\u001b[?25hdone\n",
            "  Created wheel for pyspark: filename=pyspark-3.4.1-py2.py3-none-any.whl size=311285397 sha256=5349d92f87492e27d67ac2e98d3d5a6a77338afcc01ce0da2c06211602034a1e\n",
            "  Stored in directory: /root/.cache/pip/wheels/0d/77/a3/ff2f74cc9ab41f8f594dabf0579c2a7c6de920d584206e0834\n",
            "Successfully built pyspark\n",
            "Installing collected packages: pyspark\n",
            "Successfully installed pyspark-3.4.1\n"
          ]
        }
      ]
    },
    {
      "cell_type": "code",
      "source": [
        "!apt-get install openjdk-8-jdk-headless -qq > /dev/null\n",
        "!wget -q http://archive.apache.org/dist/spark/spark-3.1.1/spark-3.1.1-bin-hadoop3.2.tgz\n",
        "!tar xf spark-3.1.1-bin-hadoop3.2.tgz\n",
        "!pip install -q findspark"
      ],
      "metadata": {
        "id": "jPlLM-SMnmm7"
      },
      "execution_count": 3,
      "outputs": []
    },
    {
      "cell_type": "code",
      "source": [
        "import os\n",
        "os.environ[\"JAVA_HOME\"] = \"/usr/lib/jvm/java-8-openjdk-amd64\"\n",
        "os.environ[\"SPARK_HOME\"] = \"/content/spark-3.1.1-bin-hadoop3.2\""
      ],
      "metadata": {
        "id": "TORwuSb3nqAl"
      },
      "execution_count": 4,
      "outputs": []
    },
    {
      "cell_type": "code",
      "source": [
        "import findspark\n",
        "findspark.init()\n",
        "from pyspark.sql import SparkSession\n",
        "spark = SparkSession.builder.master(\"local[*]\").getOrCreate()\n",
        "spark.conf.set(\"spark.sql.repl.eagerEval.enabled\", True) # Property used to format output tables better\n",
        "spark"
      ],
      "metadata": {
        "colab": {
          "base_uri": "https://localhost:8080/",
          "height": 219
        },
        "id": "sO_yTD-Enqrx",
        "outputId": "7aeab25a-8dd9-4007-c381-433ab806cb6a"
      },
      "execution_count": 5,
      "outputs": [
        {
          "output_type": "execute_result",
          "data": {
            "text/plain": [
              "<pyspark.sql.session.SparkSession at 0x7a849bea18a0>"
            ],
            "text/html": [
              "\n",
              "            <div>\n",
              "                <p><b>SparkSession - in-memory</b></p>\n",
              "                \n",
              "        <div>\n",
              "            <p><b>SparkContext</b></p>\n",
              "\n",
              "            <p><a href=\"http://c5a97306fd2a:4040\">Spark UI</a></p>\n",
              "\n",
              "            <dl>\n",
              "              <dt>Version</dt>\n",
              "                <dd><code>v3.1.1</code></dd>\n",
              "              <dt>Master</dt>\n",
              "                <dd><code>local[*]</code></dd>\n",
              "              <dt>AppName</dt>\n",
              "                <dd><code>pyspark-shell</code></dd>\n",
              "            </dl>\n",
              "        </div>\n",
              "        \n",
              "            </div>\n",
              "        "
            ]
          },
          "metadata": {},
          "execution_count": 5
        }
      ]
    },
    {
      "cell_type": "code",
      "source": [
        "!spark-submit --version\n"
      ],
      "metadata": {
        "colab": {
          "base_uri": "https://localhost:8080/"
        },
        "id": "LCJYWG3nnt3W",
        "outputId": "c7fa864d-aaec-48ae-9970-429753a76adb"
      },
      "execution_count": 6,
      "outputs": [
        {
          "output_type": "stream",
          "name": "stdout",
          "text": [
            "Welcome to\n",
            "      ____              __\n",
            "     / __/__  ___ _____/ /__\n",
            "    _\\ \\/ _ \\/ _ `/ __/  '_/\n",
            "   /___/ .__/\\_,_/_/ /_/\\_\\   version 3.1.1\n",
            "      /_/\n",
            "                        \n",
            "Using Scala version 2.12.10, OpenJDK 64-Bit Server VM, 1.8.0_362\n",
            "Branch HEAD\n",
            "Compiled by user ubuntu on 2021-02-22T01:33:19Z\n",
            "Revision 1d550c4e90275ab418b9161925049239227f3dc9\n",
            "Url https://github.com/apache/spark\n",
            "Type --help for more information.\n"
          ]
        }
      ]
    },
    {
      "cell_type": "code",
      "source": [
        "from pyspark.sql import SparkSession\n",
        "\n",
        "# Create a SparkSession\n",
        "spark = SparkSession.builder.appName(\"CustomerShoppingData\").getOrCreate()\n",
        "\n",
        "# Read the CSV file into a DataFrame\n",
        "file_path = \"/content/sample_submission.csv\"\n",
        "data = spark.read.csv(file_path, header=True, inferSchema=True)\n",
        "\n",
        "# Show the first few rows of the DataFrame\n",
        "data.show()\n",
        "\n",
        "# Print the schema of the DataFrame\n",
        "data.printSchema()\n",
        "\n",
        "# Stop the SparkSession\n",
        "spark.stop()\n"
      ],
      "metadata": {
        "colab": {
          "base_uri": "https://localhost:8080/"
        },
        "id": "aGJ34KV2oqLL",
        "outputId": "50cd8c17-7ae9-4c1d-9cef-528630567d96"
      },
      "execution_count": 37,
      "outputs": [
        {
          "output_type": "stream",
          "name": "stdout",
          "text": [
            "+-------+-----------------+-----------------+-----------------+\n",
            "|     id|              EAP|              HPL|              MWS|\n",
            "+-------+-----------------+-----------------+-----------------+\n",
            "|id02310|0.403493538995863|0.287808366106543|0.308698094897594|\n",
            "|id24541|0.403493538995863|0.287808366106543|0.308698094897594|\n",
            "|id00134|0.403493538995863|0.287808366106543|0.308698094897594|\n",
            "|id27757|0.403493538995863|0.287808366106543|0.308698094897594|\n",
            "|id04081|0.403493538995863|0.287808366106543|0.308698094897594|\n",
            "|id27337|0.403493538995863|0.287808366106543|0.308698094897594|\n",
            "|id24265|0.403493538995863|0.287808366106543|0.308698094897594|\n",
            "|id25917|0.403493538995863|0.287808366106543|0.308698094897594|\n",
            "|id04951|0.403493538995863|0.287808366106543|0.308698094897594|\n",
            "|id14549|0.403493538995863|0.287808366106543|0.308698094897594|\n",
            "|id22505|0.403493538995863|0.287808366106543|0.308698094897594|\n",
            "|id24002|0.403493538995863|0.287808366106543|0.308698094897594|\n",
            "|id18982|0.403493538995863|0.287808366106543|0.308698094897594|\n",
            "|id15181|0.403493538995863|0.287808366106543|0.308698094897594|\n",
            "|id21888|0.403493538995863|0.287808366106543|0.308698094897594|\n",
            "|id12035|0.403493538995863|0.287808366106543|0.308698094897594|\n",
            "|id17991|0.403493538995863|0.287808366106543|0.308698094897594|\n",
            "|id10707|0.403493538995863|0.287808366106543|0.308698094897594|\n",
            "|id07101|0.403493538995863|0.287808366106543|0.308698094897594|\n",
            "|id00345|0.403493538995863|0.287808366106543|0.308698094897594|\n",
            "+-------+-----------------+-----------------+-----------------+\n",
            "only showing top 20 rows\n",
            "\n",
            "root\n",
            " |-- id: string (nullable = true)\n",
            " |-- EAP: double (nullable = true)\n",
            " |-- HPL: double (nullable = true)\n",
            " |-- MWS: double (nullable = true)\n",
            "\n"
          ]
        }
      ]
    },
    {
      "cell_type": "code",
      "source": [
        "from pyspark.sql import SparkSession\n",
        "from pyspark.sql.functions import col\n",
        "from pyspark.ml.feature import StandardScaler, VectorAssembler\n",
        "\n",
        "# Create a SparkSession\n",
        "spark = SparkSession.builder.appName(\"CustomerShoppingDataExploration\").getOrCreate()\n",
        "\n",
        "# Read the CSV file into a DataFrame\n",
        "file_path = \"/content/sample_submission.csv\"\n",
        "data = spark.read.csv(file_path, header=True, inferSchema=True)\n",
        "\n",
        "# Data Exploration Tasks\n",
        "\n",
        "# Check the schema of the DataFrame\n",
        "data.printSchema()\n",
        "\n",
        "# Display summary statistics of numerical columns\n",
        "data.describe().show()\n",
        "\n",
        "# Check the first few rows of the DataFrame\n",
        "data.show(5)\n",
        "\n",
        "# Select numerical columns for normalization\n",
        "columns_to_normalize = [col_name for col_name, data_type in data.dtypes if data_type == 'int' or data_type == 'double']\n",
        "\n",
        "# Create a feature vector containing the columns to be normalized\n",
        "assembler = VectorAssembler(inputCols=columns_to_normalize, outputCol=\"features_vector\")\n",
        "data_normalized = assembler.transform(data)\n",
        "\n",
        "# Initialize the StandardScaler\n",
        "scaler = StandardScaler(inputCol=\"features_vector\", outputCol=\"scaled_features\")\n",
        "\n",
        "# Fit the scaler on the original data (before normalization)\n",
        "scaler_model = scaler.fit(data_normalized)\n",
        "\n",
        "# Transform the data to get the scaled features\n",
        "data_normalized = scaler_model.transform(data_normalized)\n",
        "\n",
        "# Drop the original numerical columns and keep only the scaled features\n",
        "data_normalized = data_normalized.drop(*columns_to_normalize).withColumnRenamed(\"scaled_features\", \"features\")\n",
        "data_normalized.show(5)\n",
        "\n",
        "# After performing data exploration tasks, you can proceed with further analysis and modeling on the cleaned and preprocessed data.\n",
        "\n",
        "# Stop the SparkSession\n",
        "spark.stop()\n"
      ],
      "metadata": {
        "colab": {
          "base_uri": "https://localhost:8080/"
        },
        "id": "HelJSceW11dE",
        "outputId": "ac0e13c2-4a00-44e2-b141-866dca65f83a"
      },
      "execution_count": 53,
      "outputs": [
        {
          "output_type": "stream",
          "name": "stdout",
          "text": [
            "root\n",
            " |-- id: string (nullable = true)\n",
            " |-- EAP: double (nullable = true)\n",
            " |-- HPL: double (nullable = true)\n",
            " |-- MWS: double (nullable = true)\n",
            "\n",
            "+-------+-------+------------------+-------------------+------------------+\n",
            "|summary|     id|               EAP|                HPL|               MWS|\n",
            "+-------+-------+------------------+-------------------+------------------+\n",
            "|  count|   8392|              8392|               8392|              8392|\n",
            "|   mean|   null|0.4034935389959088|0.28780836610652705|0.3086980948975794|\n",
            "| stddev|   null|               0.0|                0.0|               0.0|\n",
            "|    min|id00008| 0.403493538995863|  0.287808366106543| 0.308698094897594|\n",
            "|    max|id27970| 0.403493538995863|  0.287808366106543| 0.308698094897594|\n",
            "+-------+-------+------------------+-------------------+------------------+\n",
            "\n",
            "+-------+-----------------+-----------------+-----------------+\n",
            "|     id|              EAP|              HPL|              MWS|\n",
            "+-------+-----------------+-----------------+-----------------+\n",
            "|id02310|0.403493538995863|0.287808366106543|0.308698094897594|\n",
            "|id24541|0.403493538995863|0.287808366106543|0.308698094897594|\n",
            "|id00134|0.403493538995863|0.287808366106543|0.308698094897594|\n",
            "|id27757|0.403493538995863|0.287808366106543|0.308698094897594|\n",
            "|id04081|0.403493538995863|0.287808366106543|0.308698094897594|\n",
            "+-------+-----------------+-----------------+-----------------+\n",
            "only showing top 5 rows\n",
            "\n",
            "+-------+--------------------+-------------+\n",
            "|     id|     features_vector|     features|\n",
            "+-------+--------------------+-------------+\n",
            "|id02310|[0.40349353899586...|[0.0,0.0,0.0]|\n",
            "|id24541|[0.40349353899586...|[0.0,0.0,0.0]|\n",
            "|id00134|[0.40349353899586...|[0.0,0.0,0.0]|\n",
            "|id27757|[0.40349353899586...|[0.0,0.0,0.0]|\n",
            "|id04081|[0.40349353899586...|[0.0,0.0,0.0]|\n",
            "+-------+--------------------+-------------+\n",
            "only showing top 5 rows\n",
            "\n"
          ]
        }
      ]
    },
    {
      "cell_type": "code",
      "source": [
        "import nltk\n",
        "import matplotlib.pyplot as plt\n",
        "import re\n",
        "import string\n",
        "import unicodedata\n",
        "\n",
        "\n",
        "from nltk.corpus import stopwords\n",
        "from nltk.stem import WordNetLemmatizer\n",
        "from pyspark.ml import Pipeline\n",
        "from pyspark.ml.classification import (\n",
        "    NaiveBayes,\n",
        ")\n",
        "\n",
        "from pyspark.ml.evaluation import (\n",
        "    MulticlassClassificationEvaluator,\n",
        ")\n",
        "from pyspark.ml.feature import (\n",
        "    CountVectorizer,\n",
        "    IDF,\n",
        "    Normalizer,\n",
        "    StopWordsRemover,\n",
        "    StringIndexer,\n",
        "    Tokenizer,\n",
        "    VectorAssembler,\n",
        ")\n",
        "import pyspark.sql.functions as F\n",
        "from pyspark.ml.stat import Correlation\n",
        "from pyspark.ml.tuning import ParamGridBuilder, CrossValidator\n",
        "from pyspark.mllib.evaluation import MulticlassMetrics\n",
        "from pyspark.sql import SparkSession\n",
        "from pyspark.sql.functions import (\n",
        "    concat_ws\n",
        ")\n",
        "from pyspark.sql.types import (\n",
        "    StructField,\n",
        "    StructType,\n",
        "    ArrayType,\n",
        "    IntegerType,\n",
        "    StringType\n",
        ")\n",
        "\n",
        "import seaborn as sns\n",
        "\n",
        "# Create Spark session\n",
        "spark = SparkSession.builder\\\n",
        "    .appName(\"SpookyAuthorIdentification\") \\\n",
        "    .getOrCreate()\n",
        "# Set the logging level to ERROR\n",
        "spark.sparkContext.setLogLevel(\"ERROR\")\n",
        "nltk.download('wordnet', quiet=True)"
      ],
      "metadata": {
        "colab": {
          "base_uri": "https://localhost:8080/"
        },
        "id": "UK2MHl_6_vyX",
        "outputId": "d91a121a-5bd6-41d8-82b2-457e07cd88b0"
      },
      "execution_count": 71,
      "outputs": [
        {
          "output_type": "execute_result",
          "data": {
            "text/plain": [
              "True"
            ]
          },
          "metadata": {},
          "execution_count": 71
        }
      ]
    },
    {
      "cell_type": "code",
      "source": [
        "train_data = spark.read.csv(\n",
        "    \"train.csv\",\n",
        "    escape='\"',\n",
        "    header=True,\n",
        "    inferSchema=True,\n",
        ")"
      ],
      "metadata": {
        "id": "s6lFCeGAAM5y"
      },
      "execution_count": 92,
      "outputs": []
    },
    {
      "cell_type": "code",
      "source": [
        "sample_data = spark.read.csv(\n",
        "    \"sample_submission.csv\",\n",
        "    escape='\"',\n",
        "    header=True,\n",
        "    inferSchema=True,\n",
        ")"
      ],
      "metadata": {
        "id": "XjX8rAKJAONi"
      },
      "execution_count": 79,
      "outputs": []
    },
    {
      "cell_type": "code",
      "source": [
        "print(\"Train data schema:\")\n",
        "train_data.printSchema()\n",
        "print(\"\\nTrain data row sample:\")\n",
        "train_data.show(10)\n",
        "print(f\"\\nNumber of rows in train_data: {train_data.count()}\")\n",
        "print(\"\\nUnique authors in train_data:\")\n",
        "train_data.groupBy(\"author\").count().show()"
      ],
      "metadata": {
        "colab": {
          "base_uri": "https://localhost:8080/"
        },
        "id": "sr10EIfCAafh",
        "outputId": "430e7c3e-41b7-426f-83a3-3111b8535116"
      },
      "execution_count": 80,
      "outputs": [
        {
          "output_type": "stream",
          "name": "stdout",
          "text": [
            "Train data schema:\n",
            "root\n",
            " |-- id: string (nullable = true)\n",
            " |-- text: string (nullable = true)\n",
            " |-- author: string (nullable = true)\n",
            "\n",
            "\n",
            "Train data row sample:\n",
            "+-------+--------------------+------+\n",
            "|     id|                text|author|\n",
            "+-------+--------------------+------+\n",
            "|id26305|This process, how...|   EAP|\n",
            "|id17569|It never once occ...|   HPL|\n",
            "|id11008|In his left hand ...|   EAP|\n",
            "|id27763|How lovely is spr...|   MWS|\n",
            "|id12958|Finding nothing e...|   HPL|\n",
            "|id22965|A youth passed in...|   MWS|\n",
            "|id09674|The astronomer, p...|   EAP|\n",
            "|id13515|The surcingle hun...|   EAP|\n",
            "|id19322|I knew that you c...|   EAP|\n",
            "|id00912|I confess that ne...|   MWS|\n",
            "+-------+--------------------+------+\n",
            "only showing top 10 rows\n",
            "\n",
            "\n",
            "Number of rows in train_data: 19579\n",
            "\n",
            "Unique authors in train_data:\n",
            "+------+-----+\n",
            "|author|count|\n",
            "+------+-----+\n",
            "|   MWS| 6044|\n",
            "|   HPL| 5635|\n",
            "|   EAP| 7900|\n",
            "+------+-----+\n",
            "\n"
          ]
        }
      ]
    },
    {
      "cell_type": "code",
      "source": [
        "from pyspark.sql import SparkSession\n",
        "from pyspark.sql import functions as F\n",
        "from pyspark.ml.feature import Tokenizer, CountVectorizer, StandardScaler\n",
        "\n",
        "# Step 1: Initialize SparkSession\n",
        "spark = SparkSession.builder.appName(\"TextClassification\").getOrCreate()\n",
        "\n",
        "# Step 2: Load the data, including the \"label\" column\n",
        "data = spark.read.csv(\"/content/train.csv\", header=True, inferSchema=True)\n",
        "\n",
        "# Step 3: Tokenize the text column\n",
        "tokenizer = Tokenizer(inputCol=\"text\", outputCol=\"words\")\n",
        "data = tokenizer.transform(data)\n",
        "\n",
        "# Step 4: Convert the words to a feature vector using CountVectorizer\n",
        "vectorizer = CountVectorizer(inputCol=\"words\", outputCol=\"features\")\n",
        "vectorizer_model = vectorizer.fit(data)\n",
        "data = vectorizer_model.transform(data)\n",
        "\n",
        "# Step 5: Filter out rows with NaN values in the features column\n",
        "data = data.filter(data.features.isNotNull())\n",
        "\n",
        "# Step 6: Check the number of rows after filtering\n",
        "if data.count() == 0:\n",
        "    raise ValueError(\"No valid instances found in data. Check your data preprocessing steps.\")\n",
        "\n",
        "# Step 7: Normalize the features using StandardScaler\n",
        "scaler = StandardScaler(inputCol=\"features\", outputCol=\"scaled_features\")\n",
        "scaler_model = scaler.fit(data)\n",
        "data = scaler_model.transform(data)\n",
        "\n",
        "# Display the first few rows of the dataset after normalization\n",
        "data.select(\"id\", \"scaled_features\").show(5, truncate=False)\n",
        "\n",
        "# Step 8: Clean up and stop the SparkSession\n",
        "spark.stop()\n"
      ],
      "metadata": {
        "colab": {
          "base_uri": "https://localhost:8080/"
        },
        "id": "awVbTTpDGlCK",
        "outputId": "2bc8c9bc-afe0-43bf-d540-77d1d6719a3a"
      },
      "execution_count": 107,
      "outputs": [
        {
          "output_type": "stream",
          "name": "stdout",
          "text": [
            "+-------+------------------------------------------------------------------------------------------------------------------------------------------------------------------------------------------------------------------------------------------------------------------------------------------------------------------------------------------------------------------------------------------------------------------------------------------------------------------------------------------------------------------------------------------------------------------------------------------------------------------------------------------------------------------------------------------------------------------------------------------------------------------------------------------------------------------------------+\n",
            "|id     |scaled_features                                                                                                                                                                                                                                                                                                                                                                                                                                                                                                                                                                                                                                                                                                                                                                                                               |\n",
            "+-------+------------------------------------------------------------------------------------------------------------------------------------------------------------------------------------------------------------------------------------------------------------------------------------------------------------------------------------------------------------------------------------------------------------------------------------------------------------------------------------------------------------------------------------------------------------------------------------------------------------------------------------------------------------------------------------------------------------------------------------------------------------------------------------------------------------------------------+\n",
            "|id26305|(43048,[0,1,2,3,5,9,15,25,30,35,37,44,72,84,120,121,140,166,253,277,296,359,876,1029,1317,1383,1937,2337,5901,6691,9206,13576,23542,33130,40243],[2.098118969943662,2.2855356173609924,0.9351231269882542,1.0980124713356907,2.280514040626997,1.6009087214302922,2.0550300676553896,2.9611359186940343,2.7813101840862005,3.4033822446323843,3.3017660590740876,3.5758703760813675,5.502155458191897,5.885828873404711,7.365814041807426,7.273911507507727,8.363688584021357,8.97671621202793,10.999907224337383,11.621037732811837,12.083017067769205,13.198184329844148,20.011824752890142,21.87496839802076,24.377743218689076,25.150545158716326,28.578858902513538,31.30336996905935,49.47979746999846,52.89477714687468,62.582746858480995,80.78985148003378,139.92497989994496,139.92497989994496,139.92497989994496])|\n",
            "|id17569|(43048,[0,3,4,8,13,26,30,72,86,123,341,827,6661,11091],[0.5245297424859156,1.0980124713356907,1.210971389275035,1.661231744949802,2.0537733324279173,2.8205726608105612,2.7813101840862005,5.502155458191897,5.872713137361687,7.384142765683799,13.143159718911281,19.06344361710832,52.89477714687468,69.96785085492269])                                                                                                                                                                                                                                                                                                                                                                                                                                                                                                   |\n",
            "|id11008|(43048,[0,1,4,6,7,11,12,14,15,21,31,32,113,141,189,248,249,283,367,369,441,648,941,1369,1757,2467,3151,3740,6282,8318,13469,24971],[1.049059484971831,1.5236904115739949,1.210971389275035,1.3655749271192612,1.7025792594105746,2.0650048340140437,3.616269355930355,1.7497095556905125,2.0550300676553896,2.538343420737599,3.2788296510350476,3.338478454429896,7.148873430435966,8.066149241032951,9.529876575711594,11.069616516675028,10.966600720886271,11.700859703860427,13.691693953309116,13.691693953309116,14.460876890512067,17.943073698717026,18.71431404598111,24.755082022104332,27.459083716981116,32.115758949104375,36.141398915925784,40.40421465851059,93.29390996125045,62.582746858480995,80.78985148003378,139.92497989994496])                                                                     |\n",
            "|id27763|(43048,[0,2,6,15,21,22,23,24,31,33,115,188,190,541,557,565,772,994,1070,1261,2812,3011,5486,7096,7264,9216,10110,10131,11420,13547,17764],[0.5245297424859156,1.8702462539765083,1.3655749271192612,4.110060135310779,2.538343420737599,2.5088549963333096,2.583490004982489,2.7615621055596127,3.2788296510350476,2.970292977144268,6.396574915800819,18.758580968506795,9.420770097627633,15.200964483189209,16.405518480229315,16.518629823660355,19.429426439509758,21.61353640025238,22.146150816970067,24.01718588476017,34.99465340239228,36.141398915925784,49.47979746999846,57.131429664011925,57.131429664011925,62.582746858480995,69.96785085492269,69.96785085492269,69.96785085492269,80.78985148003378,98.94442910583875])                                                                                    |\n",
            "|id12958|(43048,[0,4,12,14,15,18,19,20,67,82,168,256,515,979,1442,1719,1900,4388,5323,6417,7669,8681,18524,21315,22419],[0.5245297424859156,1.210971389275035,1.8081346779651775,5.249128667071537,2.0550300676553896,2.4445877294654785,2.6098169602592796,2.489975033422213,5.422855459703168,5.9790395794118405,8.884418067585713,11.282356208663224,15.873025265440747,21.361284499265143,25.56563090267555,25.56074995277596,28.578858902513538,42.19974754493932,49.47979746999846,52.89477714687468,57.131429664011925,62.582746858480995,98.94442910583875,98.94442910583875,139.92497989994496])                                                                                                                                                                                                                              |\n",
            "+-------+------------------------------------------------------------------------------------------------------------------------------------------------------------------------------------------------------------------------------------------------------------------------------------------------------------------------------------------------------------------------------------------------------------------------------------------------------------------------------------------------------------------------------------------------------------------------------------------------------------------------------------------------------------------------------------------------------------------------------------------------------------------------------------------------------------------------------+\n",
            "only showing top 5 rows\n",
            "\n"
          ]
        }
      ]
    },
    {
      "cell_type": "code",
      "source": [
        "from pyspark.sql import SparkSession\n",
        "from pyspark.sql import functions as F\n",
        "from pyspark.ml.feature import Tokenizer, CountVectorizer, StandardScaler\n",
        "from pyspark.ml.classification import LogisticRegression\n",
        "from pyspark.ml.evaluation import MulticlassClassificationEvaluator\n",
        "\n",
        "# Step 1: Initialize SparkSession\n",
        "spark = SparkSession.builder.appName(\"TextClassification\").getOrCreate()\n",
        "\n",
        "# Step 2: Load the data, including the \"label\" column\n",
        "data = spark.read.csv(\"/content/train.csv\", header=True, inferSchema=True)\n",
        "\n",
        "# Step 3: Tokenize the text column\n",
        "tokenizer = Tokenizer(inputCol=\"text\", outputCol=\"words\")\n",
        "data = tokenizer.transform(data)\n",
        "\n",
        "# Step 4: Convert the words to a feature vector using CountVectorizer\n",
        "vectorizer = CountVectorizer(inputCol=\"words\", outputCol=\"features\")\n",
        "vectorizer_model = vectorizer.fit(data)\n",
        "data = vectorizer_model.transform(data)\n",
        "\n",
        "# Step 5: Filter out rows with NaN values in the features column\n",
        "data = data.filter(data.features.isNotNull())\n",
        "\n",
        "# Step 6: Initialize label_data DataFrame with id and label columns\n",
        "# label_data = ...  # Replace this with your code to create the label_data DataFrame\n",
        "\n",
        "# Step 7: Join the original data DataFrame with the label_data DataFrame based on the \"id\" column\n",
        "data = data.join(label_data, on=\"id\")\n",
        "\n",
        "# Step 8: Filter out rows with NaN values in the label column\n",
        "data = data.filter(~data[\"label\"].isNull())\n",
        "\n",
        "# Step 9: Normalize the features using StandardScaler\n",
        "scaler = StandardScaler(inputCol=\"features\", outputCol=\"scaled_features\")\n",
        "scaler_model = scaler.fit(data)\n",
        "data = scaler_model.transform(data)\n",
        "\n",
        "# Display the first few rows of the dataset after normalization\n",
        "data.select(\"id\", \"scaled_features\").show(5, truncate=False)\n",
        "\n",
        "# Step 10: Split the data into training and testing sets\n",
        "(training_data, testing_data) = data.randomSplit([0.8, 0.2], seed=42)\n",
        "\n",
        "# Step 11: Train the Logistic Regression model\n",
        "logistic_regression = LogisticRegression(featuresCol=\"scaled_features\", labelCol=\"label\")\n",
        "logistic_regression_model = logistic_regression.fit(training_data)\n",
        "\n",
        "# Step 12: Make predictions on the testing data using the Logistic Regression model\n",
        "predictions = logistic_regression_model.transform(testing_data)\n",
        "\n",
        "# Step 13: Evaluate the model using MulticlassClassificationEvaluator\n",
        "evaluator = MulticlassClassificationEvaluator(predictionCol=\"prediction\", labelCol=\"label\", metricName=\"accuracy\")\n",
        "accuracy = evaluator.evaluate(predictions)\n",
        "print(\"Accuracy:\", accuracy)\n",
        "\n",
        "# Step 14: Clean up and stop the SparkSession\n",
        "spark.stop()\n"
      ],
      "metadata": {
        "colab": {
          "base_uri": "https://localhost:8080/",
          "height": 235
        },
        "id": "_ndILkuTf_Vk",
        "outputId": "1ae3238c-cece-4590-f745-691e5a0e2deb"
      },
      "execution_count": 14,
      "outputs": [
        {
          "output_type": "error",
          "ename": "NameError",
          "evalue": "ignored",
          "traceback": [
            "\u001b[0;31m---------------------------------------------------------------------------\u001b[0m",
            "\u001b[0;31mNameError\u001b[0m                                 Traceback (most recent call last)",
            "\u001b[0;32m<ipython-input-14-95ac1c7f9c9a>\u001b[0m in \u001b[0;36m<cell line: 29>\u001b[0;34m()\u001b[0m\n\u001b[1;32m     27\u001b[0m \u001b[0;34m\u001b[0m\u001b[0m\n\u001b[1;32m     28\u001b[0m \u001b[0;31m# Step 7: Join the original data DataFrame with the label_data DataFrame based on the \"id\" column\u001b[0m\u001b[0;34m\u001b[0m\u001b[0;34m\u001b[0m\u001b[0m\n\u001b[0;32m---> 29\u001b[0;31m \u001b[0mdata\u001b[0m \u001b[0;34m=\u001b[0m \u001b[0mdata\u001b[0m\u001b[0;34m.\u001b[0m\u001b[0mjoin\u001b[0m\u001b[0;34m(\u001b[0m\u001b[0mlabel_data\u001b[0m\u001b[0;34m,\u001b[0m \u001b[0mon\u001b[0m\u001b[0;34m=\u001b[0m\u001b[0;34m\"id\"\u001b[0m\u001b[0;34m)\u001b[0m\u001b[0;34m\u001b[0m\u001b[0;34m\u001b[0m\u001b[0m\n\u001b[0m\u001b[1;32m     30\u001b[0m \u001b[0;34m\u001b[0m\u001b[0m\n\u001b[1;32m     31\u001b[0m \u001b[0;31m# Step 8: Filter out rows with NaN values in the label column\u001b[0m\u001b[0;34m\u001b[0m\u001b[0;34m\u001b[0m\u001b[0m\n",
            "\u001b[0;31mNameError\u001b[0m: name 'label_data' is not defined"
          ]
        }
      ]
    },
    {
      "cell_type": "markdown",
      "source": [
        "#."
      ],
      "metadata": {
        "id": "R-PlxLOWKk2B"
      }
    },
    {
      "cell_type": "code",
      "source": [
        "from pyspark.sql import SparkSession\n",
        "from pyspark.sql import functions as F\n",
        "from pyspark.ml.feature import Tokenizer, CountVectorizer, StandardScaler\n",
        "\n",
        "# Step 1: Initialize SparkSession\n",
        "spark = SparkSession.builder.appName(\"TextClassification\").getOrCreate()\n",
        "\n",
        "# Step 2: Load the data (assuming columns: id, text, author)\n",
        "data = spark.read.csv(\"/content/train.csv\", header=True, inferSchema=True)\n",
        "\n",
        "# Step 3: Tokenize the text column\n",
        "tokenizer = Tokenizer(inputCol=\"text\", outputCol=\"words\")\n",
        "data = tokenizer.transform(data)\n",
        "\n",
        "# Step 4: Convert the words to a feature vector using CountVectorizer\n",
        "vectorizer = CountVectorizer(inputCol=\"words\", outputCol=\"features\")\n",
        "vectorizer_model = vectorizer.fit(data)\n",
        "data = vectorizer_model.transform(data)\n",
        "\n",
        "# Step 5: Filter out rows with NaN values in the features column\n",
        "data = data.filter(data.features.isNotNull())\n",
        "\n",
        "# Step 6: Partition the data\n",
        "num_partitions = 4  # Set the desired number of partitions\n",
        "data = data.repartition(num_partitions)\n",
        "\n",
        "# Step 7: Check the number of partitions\n",
        "print(\"Number of partitions:\", data.rdd.getNumPartitions())\n",
        "\n",
        "# Step 8: Normalize the features using StandardScaler\n",
        "scaler = StandardScaler(inputCol=\"features\", outputCol=\"scaled_features\")\n",
        "scaler_model = scaler.fit(data)\n",
        "data = scaler_model.transform(data)\n",
        "\n",
        "# Display the first few rows of the dataset after normalization\n",
        "data.select(\"id\", \"scaled_features\").show(5, truncate=False)\n",
        "\n",
        "# Step 9: Clean up and stop the SparkSession\n",
        "spark.stop()\n"
      ],
      "metadata": {
        "colab": {
          "base_uri": "https://localhost:8080/"
        },
        "id": "74sDFvP0KmRX",
        "outputId": "f2e99a46-ab44-4866-de7b-74c6bc7a2309"
      },
      "execution_count": 108,
      "outputs": [
        {
          "output_type": "stream",
          "name": "stdout",
          "text": [
            "Number of partitions: 4\n",
            "+-------+----------------------------------------------------------------------------------------------------------------------------------------------------------------------------------------------------------------------------------------------------------------------------------------------------------------------------------------------------------------------------------------------------------------------------------------------------------------------------------------------------------------------------------------------------------------------------------------------------------------------------------------------------------------------------------------------------------------------------------------------------------------------------------------------------------------------------------------------------------------------------------------------------------------------------------------------+\n",
            "|id     |scaled_features                                                                                                                                                                                                                                                                                                                                                                                                                                                                                                                                                                                                                                                                                                                                                                                                                                                                                                                               |\n",
            "+-------+----------------------------------------------------------------------------------------------------------------------------------------------------------------------------------------------------------------------------------------------------------------------------------------------------------------------------------------------------------------------------------------------------------------------------------------------------------------------------------------------------------------------------------------------------------------------------------------------------------------------------------------------------------------------------------------------------------------------------------------------------------------------------------------------------------------------------------------------------------------------------------------------------------------------------------------------+\n",
            "|id10065|(43048,[0,3,4,5,6,7,8,9,19,20,21,22,26,28,36,42,61,86,89,96,114,115,119,126,196,214,222,332,511,587,692,767,1256,2024,3055,10928,15156,16813,36703,38561],[0.5245297424859157,1.098012471335692,1.2109713892750351,1.140257020313497,1.3655749271192612,1.7025792594105746,1.6612317449498022,1.6009087214302897,2.609816960259278,2.489975033422212,2.5383434207375983,2.508854996333305,2.8205726608105617,2.051954097755016,3.4600602241766008,2.5921996382980557,4.602666734733803,5.87271313736169,5.937551061575532,6.429753097605733,6.933664345393153,6.396574915800819,7.315662244680691,7.640115802108782,18.183362315533305,9.386792465287916,10.359777787199617,12.974563332393497,15.11405880773486,17.12344409742695,18.399854457856765,37.78330914417583,23.33938148972203,29.192781920858113,36.141398915925784,69.96785085492269,98.94442910583875,98.94442910583875,139.92497989994496,139.92497989994496])                 |\n",
            "|id18841|(43048,[0,1,2,3,6,9,10,13,15,16,19,25,30,34,49,145,182,241,292,521,558,737,908,1101,1103,1467,1499,1623,1713,1814,1901,2306,2873,3109,5174,5346,7466,7914,8834,9718],[1.573589227457747,2.2855356173609938,1.8702462539765075,1.098012471335692,1.3655749271192612,3.2018174428605795,1.9311371805504518,2.0537733324279177,2.055030067655391,2.3502580927629473,2.609816960259278,2.961135918694036,2.7813101840862005,3.083386867995494,11.92976453662539,8.272145679116747,8.932120909808381,10.969843375966047,11.907917783973062,16.187766803778686,16.405518480229315,18.893554514445164,20.654563646946258,21.35711542190502,21.872784117528532,25.56563090267555,26.002016854485074,26.946473626401378,27.459083716981116,28.00216469079416,26.45656279213244,31.30336996905935,34.99465340239228,36.141398915925784,46.651192290468806,49.47979746999846,57.131429664011925,62.582746858480995,62.582746858480995,69.96785085492269])|\n",
            "|id27384|(43048,[0,2,3,4,12,46,55,70,195,713,742,1024,1065,2368,24616,30082],[0.5245297424859157,0.9351231269882537,1.098012471335692,1.2109713892750351,1.8081346779651748,7.711081912103823,4.476150001081848,5.500670767496397,9.415252088821896,18.72458170553147,18.558211734546994,21.87496839802076,22.146150816970067,32.115758949104375,139.92497989994496,139.92497989994496])                                                                                                                                                                                                                                                                                                                                                                                                                                                                                                                                                               |\n",
            "|id00625|(43048,[0,1,2,5,7,8,19,24,29,42,54,80,82,93,157,168,198,264,333,388,431,961,1219,1339,3942,4957,5127,6327],[1.573589227457747,2.2855356173609938,2.8053693809647613,4.561028081253988,1.7025792594105746,1.6612317449498022,2.609816960259278,2.7615621055596145,2.808475540499829,2.5921996382980557,8.304839430548533,5.668383085710641,11.958079158823681,6.396346877979111,8.664960152060871,8.884418067585717,9.544886296216335,11.10169894184076,12.757037896944691,13.889101232909868,13.950668789393493,21.361284499265143,23.672202437368934,24.755082022104332,40.40421465851059,46.651192290468806,46.651192290468806,52.89477714687468])                                                                                                                                                                                                                                                                                          |\n",
            "|id07410|(43048,[0,1,2,3,6,7,16,27,33,36,49,53,56,94,105,147,183,273,329,363,546,574,1174,1278,1372,2042,4926,5351,8504,14371,19513],[1.573589227457747,1.5236904115739958,1.8702462539765075,1.098012471335692,2.7311498542385224,1.7025792594105746,2.3502580927629473,2.921147062020657,2.970292977144269,3.4600602241766008,3.97658817887513,3.984354961025797,4.573354708767055,6.298724905549762,6.705525721878981,8.29637974995148,9.42365063470285,11.465082029285494,12.758316300552666,13.024865354539086,16.520299827356098,16.874318232950603,23.341703542284872,24.01718588476017,24.755082022104332,29.848118277261865,46.651192290468806,49.47979746999846,62.582746858480995,80.78985148003378,98.94442910583875])                                                                                                                                                                                                                     |\n",
            "+-------+----------------------------------------------------------------------------------------------------------------------------------------------------------------------------------------------------------------------------------------------------------------------------------------------------------------------------------------------------------------------------------------------------------------------------------------------------------------------------------------------------------------------------------------------------------------------------------------------------------------------------------------------------------------------------------------------------------------------------------------------------------------------------------------------------------------------------------------------------------------------------------------------------------------------------------------------+\n",
            "only showing top 5 rows\n",
            "\n"
          ]
        }
      ]
    },
    {
      "cell_type": "code",
      "source": [
        "from pyspark.ml.feature import StringIndexer, StandardScaler, VectorAssembler\n",
        "from pyspark.ml.classification import NaiveBayes\n",
        "from pyspark.ml.evaluation import MulticlassClassificationEvaluator\n",
        "\n",
        "# Step 1: Convert the 'author' column to indexed labels\n",
        "string_indexer = StringIndexer(inputCol=\"author\", outputCol=\"indexed_label\")\n",
        "indexed_data = string_indexer.fit(df).transform(df)\n",
        "\n",
        "# Display the first few rows of the indexed_data DataFrame\n",
        "indexed_data.show()\n",
        "\n",
        "# Step 2: Split the data into training and testing sets\n",
        "(training_data, testing_data) = indexed_data.randomSplit([0.8, 0.2], seed=1234)\n",
        "\n",
        "# Step 3: Assemble the features into a vector column\n",
        "assembler = VectorAssembler(inputCols=[\"scaled_features\", \"indexed_label\"], outputCol=\"features\")\n",
        "training_data = assembler.transform(training_data)\n",
        "testing_data = assembler.transform(testing_data)\n",
        "\n",
        "# Step 4: Rename the 'indexed_label' column to 'label'\n",
        "training_data = training_data.withColumnRenamed(\"indexed_label\", \"label\")\n",
        "testing_data = testing_data.withColumnRenamed(\"indexed_label\", \"label\")\n",
        "\n",
        "# Step 5: Standardize the features\n",
        "standard_scaler = StandardScaler(inputCol=\"features\", outputCol=\"scaled_features_standardized\")\n",
        "model_scaler = standard_scaler.fit(training_data)\n",
        "training_data = model_scaler.transform(training_data)\n",
        "testing_data = model_scaler.transform(testing_data)\n",
        "\n",
        "# Step 6: Train the Naive Bayes model for text classification\n",
        "naive_bayes = NaiveBayes(featuresCol=\"scaled_features_standardized\", labelCol=\"label\")\n",
        "model = naive_bayes.fit(training_data)\n",
        "\n",
        "# Step 7: Make predictions on the testing data\n",
        "predictions = model.transform(testing_data)\n",
        "\n",
        "# Step 8: Evaluate the model (you can use any evaluation metric suitable for your problem)\n",
        "evaluator = MulticlassClassificationEvaluator(labelCol=\"label\", predictionCol=\"prediction\", metricName=\"accuracy\")\n",
        "accuracy = evaluator.evaluate(predictions)\n",
        "print(\"Accuracy:\", accuracy)\n"
      ],
      "metadata": {
        "colab": {
          "base_uri": "https://localhost:8080/"
        },
        "id": "bbeMOoU_aUsm",
        "outputId": "a4ea6808-e26b-4e7e-e8e1-0330dfee9e1b"
      },
      "execution_count": 31,
      "outputs": [
        {
          "output_type": "stream",
          "name": "stdout",
          "text": [
            "+---+---------------+------+-------------+\n",
            "| id|scaled_features|author|indexed_label|\n",
            "+---+---------------+------+-------------+\n",
            "|  1|  [0.5,1.2,3.4]|     A|          0.0|\n",
            "|  2|  [1.1,0.8,2.5]|     B|          1.0|\n",
            "|  3|  [2.2,1.9,4.0]|     C|          2.0|\n",
            "|  4|  [0.7,1.5,3.0]|     A|          0.0|\n",
            "|  5|  [1.5,0.6,2.9]|     B|          1.0|\n",
            "+---+---------------+------+-------------+\n",
            "\n",
            "Accuracy: 1.0\n"
          ]
        }
      ]
    },
    {
      "cell_type": "code",
      "source": [
        "from pyspark.sql import SparkSession\n",
        "from pyspark.ml.feature import Tokenizer, CountVectorizer, IDF, StringIndexer\n",
        "from pyspark.ml.feature import StandardScaler\n",
        "from pyspark.sql.functions import udf, col\n",
        "from pyspark.sql.types import StringType, ArrayType\n",
        "from pyspark.ml.linalg import Vectors, VectorUDT\n",
        "from pyspark.ml import Pipeline\n",
        "\n",
        "# Step 1: Initialize SparkSession\n",
        "spark = SparkSession.builder.appName(\"DataSkewDemo\").getOrCreate()\n",
        "\n",
        "# Step 2: Read the CSV file into a DataFrame\n",
        "data = spark.read.csv(\"/content/train.csv\", header=True, inferSchema=True)\n",
        "\n",
        "# Step 3: Data Preprocessing - Tokenization\n",
        "tokenizer = Tokenizer(inputCol=\"text\", outputCol=\"words\")\n",
        "data = tokenizer.transform(data)\n",
        "\n",
        "# Step 4: Data Preprocessing - CountVectorizer\n",
        "vectorizer = CountVectorizer(inputCol=\"words\", outputCol=\"features\")\n",
        "vectorizer_model = vectorizer.fit(data)\n",
        "data = vectorizer_model.transform(data)\n",
        "\n",
        "# Step 5: Data Preprocessing - IDF\n",
        "idf = IDF(inputCol=\"features\", outputCol=\"tfidf_features\")\n",
        "idf_model = idf.fit(data)\n",
        "data = idf_model.transform(data)\n",
        "\n",
        "# Step 6: Data Preprocessing - StringIndexer for Label\n",
        "indexer = StringIndexer(inputCol=\"author\", outputCol=\"label\")\n",
        "data = indexer.fit(data).transform(data)\n",
        "\n",
        "# Step 7: Data Partitioning - Repartition the data\n",
        "num_partitions = 100\n",
        "data = data.repartition(num_partitions, \"id\")\n",
        "\n",
        "# Step 8: Address Data Skew - Salting\n",
        "from pyspark.sql.functions import concat, lit, rand\n",
        "\n",
        "# Generate random salt values between 0 and num_partitions\n",
        "data = data.withColumn(\"salt\", (rand() * num_partitions).cast(\"int\"))\n",
        "\n",
        "# Concatenate id column with salt column\n",
        "data = data.withColumn(\"salted_id\", concat(col(\"id\"), lit(\"-\"), col(\"salt\")))\n",
        "\n",
        "# Repartition based on the salted_id column\n",
        "data = data.repartition(num_partitions, \"salted_id\")\n",
        "\n",
        "# Step 9: Continue with StandardScaler\n",
        "scaler = StandardScaler(inputCol=\"tfidf_features\", outputCol=\"scaled_features\")\n",
        "scaler_model = scaler.fit(data)\n",
        "data = scaler_model.transform(data)\n",
        "\n",
        "# Step 10: Display the first few rows of the dataset after normalization\n",
        "data.select(\"id\", \"label\", \"scaled_features\").show(5, truncate=False)\n",
        "\n",
        "# Step 11: Clean up and stop the SparkSession\n",
        "spark.stop()\n"
      ],
      "metadata": {
        "colab": {
          "base_uri": "https://localhost:8080/"
        },
        "id": "iN8JSqkYLUfv",
        "outputId": "afd48b37-8818-4d9c-aa04-8d8e19427932"
      },
      "execution_count": 110,
      "outputs": [
        {
          "output_type": "stream",
          "name": "stdout",
          "text": [
            "+-------+-----+--------------------------------------------------------------------------------------------------------------------------------------------------------------------------------------------------------------------------------------------------------------------------------------------------------------------------------------------------------------------------------------------------------------------------------------------------------------------------------------------------------------------------------------------------------------------------------------------------------------------------------------------+\n",
            "|id     |label|scaled_features                                                                                                                                                                                                                                                                                                                                                                                                                                                                                                                                                                                                                             |\n",
            "+-------+-----+--------------------------------------------------------------------------------------------------------------------------------------------------------------------------------------------------------------------------------------------------------------------------------------------------------------------------------------------------------------------------------------------------------------------------------------------------------------------------------------------------------------------------------------------------------------------------------------------------------------------------------------------+\n",
            "|id03151|2.0  |(43048,[0,1,2,7,10,17,24,37,54,64,391,461,1272,2105,2594,3073,5271,14520,29538],[1.5735892274577454,0.7618452057869978,0.9351231269882536,3.4051585188211484,1.9311371805504527,4.666927540170102,2.7615621055596153,3.301766059074085,4.1524197152742675,5.236558141003553,13.957331717897697,13.810474893982823,24.01718588476017,29.84811827726186,32.9949622782462,36.14139891592579,42.195827056302676,80.78985148003379,139.92497989994493])                                                                                                                                                                                          |\n",
            "|id20379|0.0  |(43048,[0,2,4,5,6,9,20,70,83,87,160,312,344,502,1098,1673,1742,3222,4550,5476,5729,6225,6750,7159,11313,11746,34762],[0.5245297424859152,1.8702462539765072,1.2109713892750353,1.1402570203134967,1.3655749271192614,4.8027261642908705,2.489975033422212,11.001341534992793,5.9084609430560935,5.964738566769228,8.697520838885278,12.406782296846034,12.917191597531255,15.874632232447489,22.427704847548743,26.94647362640138,27.45908371698112,37.40894593383245,44.258337744554794,49.47979746999845,49.47979746999845,52.89477714687468,52.89477714687468,57.131429664011925,69.96785085492269,80.78985148003379,139.92497989994493])|\n",
            "|id20653|1.0  |(43048,[0,2,6,7,9,11,14,22,63,270,548,1042,1633,2473,3018,4572,5098,6911,14687],[0.5245297424859152,0.9351231269882536,1.3655749271192614,1.7025792594105742,1.6009087214302902,2.0650048340140468,1.749709555690513,2.508854996333307,5.248620540939678,11.3899890649726,16.07811748320867,22.146150816970067,26.94647362640138,32.115758949104375,36.14139891592579,44.258337744554794,46.651192290468806,57.131429664011925,80.78985148003379])                                                                                                                                                                                          |\n",
            "|id07424|130.0|(43048,[0,1,2,26,88,89,218,329,346,382,549,2236,3088,3401,4175,12509,27606,32063],[0.5245297424859152,1.5236904115739955,2.805369380964761,2.820572660810562,6.2616524234331825,5.937551061575531,10.089863127617752,12.758316300552664,12.350652742449961,13.688936052135363,15.111393414391502,30.549742010124437,36.14139891592579,37.40894593383245,38.81644342641929,125.15526380797556,139.92497989994493,139.92497989994493])                                                                                                                                                                                                        |\n",
            "|id18432|2.0  |(43048,[0,7,8,13,16,25,388,795,1963,9951],[0.5245297424859152,1.7025792594105742,1.6612317449498029,4.107546664855832,2.350258092762949,2.9611359186940356,13.889101232909866,19.243816099317563,29.192781920858106,69.96785085492269])                                                                                                                                                                                                                                                                                                                                                                                                     |\n",
            "+-------+-----+--------------------------------------------------------------------------------------------------------------------------------------------------------------------------------------------------------------------------------------------------------------------------------------------------------------------------------------------------------------------------------------------------------------------------------------------------------------------------------------------------------------------------------------------------------------------------------------------------------------------------------------------+\n",
            "only showing top 5 rows\n",
            "\n"
          ]
        }
      ]
    },
    {
      "cell_type": "code",
      "source": [
        "from pyspark.sql import SparkSession\n",
        "from pyspark.ml.feature import StringIndexer\n",
        "\n",
        "# Create a SparkSession\n",
        "spark = SparkSession.builder.appName(\"StringIndexerExample\").getOrCreate()\n",
        "\n",
        "# Assuming you have loaded or created your DataFrame with a column named 'author'\n",
        "# Replace this with your actual data loading process\n",
        "data = [\n",
        "    (1, \"EAP\"),\n",
        "    (2, \"HPL\"),\n",
        "    (3, \"MWS\"),\n",
        "    # Add more data...\n",
        "]\n",
        "\n",
        "columns = [\"id\", \"author\"]\n",
        "df = spark.createDataFrame(data, columns)\n",
        "\n",
        "# Step 1: Convert the 'author' column to indexed labels\n",
        "string_indexer = StringIndexer(inputCol=\"author\", outputCol=\"indexed_label\")\n",
        "indexed_data = string_indexer.fit(df).transform(df)\n",
        "\n",
        "# Display the indexed data\n",
        "indexed_data.show()\n"
      ],
      "metadata": {
        "colab": {
          "base_uri": "https://localhost:8080/"
        },
        "id": "0ZtR-PF6XcfR",
        "outputId": "19741329-20c6-4919-a362-0fe3d69358ce"
      },
      "execution_count": 12,
      "outputs": [
        {
          "output_type": "stream",
          "name": "stdout",
          "text": [
            "+---+------+-------------+\n",
            "| id|author|indexed_label|\n",
            "+---+------+-------------+\n",
            "|  1|   EAP|          0.0|\n",
            "|  2|   HPL|          1.0|\n",
            "|  3|   MWS|          2.0|\n",
            "+---+------+-------------+\n",
            "\n"
          ]
        }
      ]
    },
    {
      "cell_type": "code",
      "source": [
        "from pyspark.ml.feature import StringIndexer, StandardScaler, VectorAssembler\n",
        "from pyspark.ml.classification import NaiveBayes\n",
        "from pyspark.ml.evaluation import MulticlassClassificationEvaluator\n",
        "from pyspark.sql.functions import size, split, col, length\n",
        "\n",
        "# Assuming you have already loaded the data and have a DataFrame called 'df'\n",
        "# ... (previous code to load and preprocess the data) ...\n",
        "\n",
        "# Step 1: Add the required feature columns to the DataFrame 'df'\n",
        "# Add 'word_count' column representing the number of words in each text\n",
        "df = df.withColumn(\"word_count\", size(split(col(\"text\"), \" \")))\n",
        "\n",
        "# Add 'sentence_length' column representing the length of each text (number of characters)\n",
        "df = df.withColumn(\"sentence_length\", length(col(\"text\")))\n",
        "\n",
        "# Add 'unique_words' column representing the number of unique words in each text\n",
        "df = df.withColumn(\"unique_words\", size(split(col(\"text\"), \" \")).distinct())\n",
        "\n",
        "# Step 2: Convert the 'author' column to indexed labels\n",
        "string_indexer = StringIndexer(inputCol=\"author\", outputCol=\"indexed_label\")\n",
        "indexed_data = string_indexer.fit(df).transform(df)\n",
        "\n",
        "# Step 3: Split the data into training and testing sets\n",
        "(training_data, testing_data) = indexed_data.randomSplit([0.8, 0.2], seed=1234)\n",
        "\n",
        "# Step 4: Assemble the features into a vector column\n",
        "feature_cols = [\"word_count\", \"sentence_length\", \"unique_words\"]  # Replace with the actual column names for your features\n",
        "assembler = VectorAssembler(inputCols=feature_cols, outputCol=\"features\")\n",
        "\n",
        "# Transform both training and testing data\n",
        "training_data = assembler.transform(training_data)\n",
        "testing_data = assembler.transform(testing_data)\n",
        "\n",
        "# Step 5: Rename the 'indexed_label' column to 'label'\n",
        "training_data = training_data.withColumnRenamed(\"indexed_label\", \"label\")\n",
        "testing_data = testing_data.withColumnRenamed(\"indexed_label\", \"label\")\n",
        "\n",
        "# Step 6: Standardize the features\n",
        "standard_scaler = StandardScaler(inputCol=\"features\", outputCol=\"scaled_features\")\n",
        "model_scaler = standard_scaler.fit(training_data)\n",
        "training_data = model_scaler.transform(training_data)\n",
        "testing_data = model_scaler.transform(testing_data)\n",
        "\n",
        "# Step 7: Train the Naive Bayes model for text classification\n",
        "naive_bayes = NaiveBayes(featuresCol=\"scaled_features\", labelCol=\"label\")\n",
        "model = naive_bayes.fit(training_data)\n",
        "\n",
        "# Step 8: Make predictions on the testing data\n",
        "predictions = model.transform(testing_data)\n",
        "\n",
        "# Step 9: Evaluate the model (you can use any evaluation metric suitable for your problem)\n",
        "evaluator = MulticlassClassificationEvaluator(labelCol=\"label\", predictionCol=\"prediction\", metricName=\"accuracy\")\n",
        "accuracy = evaluator.evaluate(predictions)\n",
        "print(\"Accuracy:\", accuracy)\n"
      ],
      "metadata": {
        "colab": {
          "base_uri": "https://localhost:8080/",
          "height": 415
        },
        "id": "fpEB_PkYbiXi",
        "outputId": "b196612b-0ac6-4c87-94d2-7d6be6e1dfe0"
      },
      "execution_count": 23,
      "outputs": [
        {
          "output_type": "error",
          "ename": "AnalysisException",
          "evalue": "ignored",
          "traceback": [
            "\u001b[0;31m---------------------------------------------------------------------------\u001b[0m",
            "\u001b[0;31mAnalysisException\u001b[0m                         Traceback (most recent call last)",
            "\u001b[0;32m<ipython-input-23-bd9dddc93ac4>\u001b[0m in \u001b[0;36m<cell line: 11>\u001b[0;34m()\u001b[0m\n\u001b[1;32m      9\u001b[0m \u001b[0;31m# Step 1: Add the required feature columns to the DataFrame 'df'\u001b[0m\u001b[0;34m\u001b[0m\u001b[0;34m\u001b[0m\u001b[0m\n\u001b[1;32m     10\u001b[0m \u001b[0;31m# Add 'word_count' column representing the number of words in each text\u001b[0m\u001b[0;34m\u001b[0m\u001b[0;34m\u001b[0m\u001b[0m\n\u001b[0;32m---> 11\u001b[0;31m \u001b[0mdf\u001b[0m \u001b[0;34m=\u001b[0m \u001b[0mdf\u001b[0m\u001b[0;34m.\u001b[0m\u001b[0mwithColumn\u001b[0m\u001b[0;34m(\u001b[0m\u001b[0;34m\"word_count\"\u001b[0m\u001b[0;34m,\u001b[0m \u001b[0msize\u001b[0m\u001b[0;34m(\u001b[0m\u001b[0msplit\u001b[0m\u001b[0;34m(\u001b[0m\u001b[0mcol\u001b[0m\u001b[0;34m(\u001b[0m\u001b[0;34m\"text\"\u001b[0m\u001b[0;34m)\u001b[0m\u001b[0;34m,\u001b[0m \u001b[0;34m\" \"\u001b[0m\u001b[0;34m)\u001b[0m\u001b[0;34m)\u001b[0m\u001b[0;34m)\u001b[0m\u001b[0;34m\u001b[0m\u001b[0;34m\u001b[0m\u001b[0m\n\u001b[0m\u001b[1;32m     12\u001b[0m \u001b[0;34m\u001b[0m\u001b[0m\n\u001b[1;32m     13\u001b[0m \u001b[0;31m# Add 'sentence_length' column representing the length of each text (number of characters)\u001b[0m\u001b[0;34m\u001b[0m\u001b[0;34m\u001b[0m\u001b[0m\n",
            "\u001b[0;32m/content/spark-3.1.1-bin-hadoop3.2/python/pyspark/sql/dataframe.py\u001b[0m in \u001b[0;36mwithColumn\u001b[0;34m(self, colName, col)\u001b[0m\n\u001b[1;32m   2453\u001b[0m         \"\"\"\n\u001b[1;32m   2454\u001b[0m         \u001b[0;32massert\u001b[0m \u001b[0misinstance\u001b[0m\u001b[0;34m(\u001b[0m\u001b[0mcol\u001b[0m\u001b[0;34m,\u001b[0m \u001b[0mColumn\u001b[0m\u001b[0;34m)\u001b[0m\u001b[0;34m,\u001b[0m \u001b[0;34m\"col should be Column\"\u001b[0m\u001b[0;34m\u001b[0m\u001b[0;34m\u001b[0m\u001b[0m\n\u001b[0;32m-> 2455\u001b[0;31m         \u001b[0;32mreturn\u001b[0m \u001b[0mDataFrame\u001b[0m\u001b[0;34m(\u001b[0m\u001b[0mself\u001b[0m\u001b[0;34m.\u001b[0m\u001b[0m_jdf\u001b[0m\u001b[0;34m.\u001b[0m\u001b[0mwithColumn\u001b[0m\u001b[0;34m(\u001b[0m\u001b[0mcolName\u001b[0m\u001b[0;34m,\u001b[0m \u001b[0mcol\u001b[0m\u001b[0;34m.\u001b[0m\u001b[0m_jc\u001b[0m\u001b[0;34m)\u001b[0m\u001b[0;34m,\u001b[0m \u001b[0mself\u001b[0m\u001b[0;34m.\u001b[0m\u001b[0msql_ctx\u001b[0m\u001b[0;34m)\u001b[0m\u001b[0;34m\u001b[0m\u001b[0;34m\u001b[0m\u001b[0m\n\u001b[0m\u001b[1;32m   2456\u001b[0m \u001b[0;34m\u001b[0m\u001b[0m\n\u001b[1;32m   2457\u001b[0m     \u001b[0;32mdef\u001b[0m \u001b[0mwithColumnRenamed\u001b[0m\u001b[0;34m(\u001b[0m\u001b[0mself\u001b[0m\u001b[0;34m,\u001b[0m \u001b[0mexisting\u001b[0m\u001b[0;34m,\u001b[0m \u001b[0mnew\u001b[0m\u001b[0;34m)\u001b[0m\u001b[0;34m:\u001b[0m\u001b[0;34m\u001b[0m\u001b[0;34m\u001b[0m\u001b[0m\n",
            "\u001b[0;32m/content/spark-3.1.1-bin-hadoop3.2/python/lib/py4j-0.10.9-src.zip/py4j/java_gateway.py\u001b[0m in \u001b[0;36m__call__\u001b[0;34m(self, *args)\u001b[0m\n\u001b[1;32m   1302\u001b[0m \u001b[0;34m\u001b[0m\u001b[0m\n\u001b[1;32m   1303\u001b[0m         \u001b[0manswer\u001b[0m \u001b[0;34m=\u001b[0m \u001b[0mself\u001b[0m\u001b[0;34m.\u001b[0m\u001b[0mgateway_client\u001b[0m\u001b[0;34m.\u001b[0m\u001b[0msend_command\u001b[0m\u001b[0;34m(\u001b[0m\u001b[0mcommand\u001b[0m\u001b[0;34m)\u001b[0m\u001b[0;34m\u001b[0m\u001b[0;34m\u001b[0m\u001b[0m\n\u001b[0;32m-> 1304\u001b[0;31m         return_value = get_return_value(\n\u001b[0m\u001b[1;32m   1305\u001b[0m             answer, self.gateway_client, self.target_id, self.name)\n\u001b[1;32m   1306\u001b[0m \u001b[0;34m\u001b[0m\u001b[0m\n",
            "\u001b[0;32m/content/spark-3.1.1-bin-hadoop3.2/python/pyspark/sql/utils.py\u001b[0m in \u001b[0;36mdeco\u001b[0;34m(*a, **kw)\u001b[0m\n\u001b[1;32m    115\u001b[0m                 \u001b[0;31m# Hide where the exception came from that shows a non-Pythonic\u001b[0m\u001b[0;34m\u001b[0m\u001b[0;34m\u001b[0m\u001b[0m\n\u001b[1;32m    116\u001b[0m                 \u001b[0;31m# JVM exception message.\u001b[0m\u001b[0;34m\u001b[0m\u001b[0;34m\u001b[0m\u001b[0m\n\u001b[0;32m--> 117\u001b[0;31m                 \u001b[0;32mraise\u001b[0m \u001b[0mconverted\u001b[0m \u001b[0;32mfrom\u001b[0m \u001b[0;32mNone\u001b[0m\u001b[0;34m\u001b[0m\u001b[0;34m\u001b[0m\u001b[0m\n\u001b[0m\u001b[1;32m    118\u001b[0m             \u001b[0;32melse\u001b[0m\u001b[0;34m:\u001b[0m\u001b[0;34m\u001b[0m\u001b[0;34m\u001b[0m\u001b[0m\n\u001b[1;32m    119\u001b[0m                 \u001b[0;32mraise\u001b[0m\u001b[0;34m\u001b[0m\u001b[0;34m\u001b[0m\u001b[0m\n",
            "\u001b[0;31mAnalysisException\u001b[0m: cannot resolve '`text`' given input columns: [author, id];\n'Project [id#1137L, author#1138, size(split('text,  , -1), true) AS word_count#1507]\n+- LogicalRDD [id#1137L, author#1138], false\n"
          ]
        }
      ]
    },
    {
      "cell_type": "markdown",
      "source": [
        "#3"
      ],
      "metadata": {
        "id": "SZT00Gy7L7LQ"
      }
    },
    {
      "cell_type": "code",
      "source": [
        "from pyspark.sql import SparkSession\n",
        "from pyspark.sql.functions import col, countDistinct, avg, max, min, length\n",
        "from pyspark.ml.feature import Tokenizer\n",
        "\n",
        "# Step 1: Initialize SparkSession\n",
        "spark = SparkSession.builder.appName(\"DataInsights\").getOrCreate()\n",
        "\n",
        "# Step 2: Read the CSV file into a DataFrame\n",
        "data = spark.read.csv(\"/content/train.csv\", header=True, inferSchema=True)\n",
        "\n",
        "# Step 3: Data Transformation - Tokenization\n",
        "tokenizer = Tokenizer(inputCol=\"text\", outputCol=\"words\")\n",
        "data = tokenizer.transform(data)\n",
        "\n",
        "# Step 4: Data Aggregation - Calculate the number of authors in the dataset\n",
        "num_authors = data.select(countDistinct(\"author\")).collect()[0][0]\n",
        "print(\"Number of authors:\", num_authors)\n",
        "\n",
        "# Step 5: Data Aggregation - Calculate the average length of text for each author\n",
        "data = data.withColumn(\"text_length\", length(col(\"text\")))\n",
        "avg_text_length = data.groupBy(\"author\").agg(avg(col(\"text_length\")).alias(\"avg_text_length\"))\n",
        "avg_text_length.show()\n",
        "\n",
        "# Step 6: Data Aggregation - Find the author with the maximum number of texts\n",
        "author_with_max_texts = data.groupBy(\"author\").agg(countDistinct(\"id\").alias(\"num_texts\")).orderBy(col(\"num_texts\").desc()).first()\n",
        "print(\"Author with the most texts:\", author_with_max_texts[\"author\"], \"Number of texts:\", author_with_max_texts[\"num_texts\"])\n",
        "\n",
        "# Step 7: Data Aggregation - Find the author with the longest and shortest text\n",
        "author_with_longest_text = data.orderBy(col(\"text_length\").desc()).first()\n",
        "author_with_shortest_text = data.orderBy(col(\"text_length\").asc()).first()\n",
        "print(\"Author with the longest text:\", author_with_longest_text[\"author\"], \"Text length:\", author_with_longest_text[\"text_length\"])\n",
        "print(\"Author with the shortest text:\", author_with_shortest_text[\"author\"], \"Text length:\", author_with_shortest_text[\"text_length\"])\n",
        "\n",
        "# Step 8: Clean up and stop the SparkSession\n",
        "spark.stop()\n"
      ],
      "metadata": {
        "colab": {
          "base_uri": "https://localhost:8080/"
        },
        "id": "mogmj-c9L8eA",
        "outputId": "75789524-5d80-4e68-c23f-8a4bf7ef9777"
      },
      "execution_count": 114,
      "outputs": [
        {
          "output_type": "stream",
          "name": "stdout",
          "text": [
            "Number of authors: 1294\n",
            "+--------------------+---------------+\n",
            "|              author|avg_text_length|\n",
            "+--------------------+---------------+\n",
            "| I'm all soul and...|          122.0|\n",
            "| and the supposit...|           56.0|\n",
            "|\"\" who preached a...|           95.0|\n",
            "| at this period o...|           24.0|\n",
            "| \"\"It gave me the...|          124.0|\n",
            "| that these Blasp...|          204.0|\n",
            "|      Madame Lalande|           45.0|\n",
            "| and I cannot con...|           49.0|\n",
            "| one of the \"\"Eng...|           55.0|\n",
            "| you have straigh...|          372.0|\n",
            "| and we continued...|           33.0|\n",
            "| and in a few bri...|           75.0|\n",
            "|      and very happy|           12.0|\n",
            "| turning abruptly...|           22.0|\n",
            "| who art called o...|           36.0|\n",
            "| who gave me this...|           26.0|\n",
            "|       Mr. Wyatt.\"\"\"|          324.0|\n",
            "|           Woodville|           51.0|\n",
            "| and returned wit...|          173.0|\n",
            "|  thet Afriky book?\"|            5.0|\n",
            "+--------------------+---------------+\n",
            "only showing top 20 rows\n",
            "\n",
            "Author with the most texts: EAP Number of texts: 7044\n",
            "Author with the longest text:  yet satisfied me by its very depth as if I had already found the solution to my enquires sic as if in feeling myself a part of the great whole I had found the truth secret of the universe But when retired in my cell I have studied contemplated the various motions and actions in the world the weight of evil has confounded me If I thought of the creation I saw an eternal chain of evil linked one to the other from the great whale who in the sea swallows destroys multitudes the smaller fish that live on him also torment him to madness to the cat whose pleasure it is to torment her prey I saw the whole creation filled with pain each creature seems to exist through the misery of another death havoc is the watchword of the animated world And Man also even in Athens the most civilized spot on the earth what a multitude of mean passions envy Text length: 3682\n",
            "Author with the shortest text: \"\" replied Dupin Text length: 5\n"
          ]
        }
      ]
    },
    {
      "cell_type": "code",
      "source": [
        "from pyspark.sql import SparkSession\n",
        "from pyspark.sql.functions import col, countDistinct, avg, max, min, length\n",
        "from pyspark.ml.feature import Tokenizer\n",
        "from pyspark.sql.functions import broadcast\n",
        "\n",
        "# Step 1: Initialize SparkSession\n",
        "spark = SparkSession.builder.appName(\"DataInsights\").getOrCreate()\n",
        "\n",
        "# Step 2: Read the CSV file into a DataFrame\n",
        "data = spark.read.csv(\"/content/train.csv\", header=True, inferSchema=True)\n",
        "\n",
        "# Step 3: Data Transformation - Tokenization\n",
        "tokenizer = Tokenizer(inputCol=\"text\", outputCol=\"words\")\n",
        "data = tokenizer.transform(data)\n",
        "\n",
        "# Step 4: Data Aggregation - Calculate the number of authors in the dataset\n",
        "num_authors = data.select(countDistinct(\"author\")).collect()[0][0]\n",
        "print(\"Number of authors:\", num_authors)\n",
        "\n",
        "# Step 5: Data Aggregation - Calculate the average length of text for each author\n",
        "data = data.withColumn(\"text_length\", length(col(\"text\")))\n",
        "avg_text_length = data.groupBy(\"author\").agg(avg(col(\"text_length\")).alias(\"avg_text_length\"))\n",
        "avg_text_length.show()\n",
        "\n",
        "# Step 6: Data Aggregation - Find the author with the maximum number of texts\n",
        "author_with_max_texts = data.groupBy(\"author\").agg(countDistinct(\"id\").alias(\"num_texts\")).orderBy(col(\"num_texts\").desc()).first()\n",
        "print(\"Author with the most texts:\", author_with_max_texts[\"author\"], \"Number of texts:\", author_with_max_texts[\"num_texts\"])\n",
        "\n",
        "# Step 7: Data Aggregation - Find the author with the longest and shortest text\n",
        "author_with_longest_text = data.orderBy(col(\"text_length\").desc()).first()\n",
        "author_with_shortest_text = data.orderBy(col(\"text_length\").asc()).first()\n",
        "print(\"Author with the longest text:\", author_with_longest_text[\"author\"], \"Text length:\", author_with_longest_text[\"text_length\"])\n",
        "print(\"Author with the shortest text:\", author_with_shortest_text[\"author\"], \"Text length:\", author_with_shortest_text[\"text_length\"])\n",
        "\n",
        "# Step 8: Broadcast the data DataFrame to efficiently distribute the data to all worker nodes\n",
        "broadcasted_data = broadcast(data)\n",
        "\n",
        "# Step 9: Data Aggregation with Broadcast - Calculate the average length of text for each author\n",
        "avg_text_length_broadcast = broadcasted_data.groupBy(\"author\").agg(avg(col(\"text_length\")).alias(\"avg_text_length\"))\n",
        "avg_text_length_broadcast.show()\n",
        "\n",
        "# Step 10: Clean up and stop the SparkSession\n",
        "spark.stop()\n"
      ],
      "metadata": {
        "colab": {
          "base_uri": "https://localhost:8080/"
        },
        "id": "DoCMNTmzA5hg",
        "outputId": "9d7cb208-1279-4bc1-bb40-e6fefe00accb"
      },
      "execution_count": 115,
      "outputs": [
        {
          "output_type": "stream",
          "name": "stdout",
          "text": [
            "Number of authors: 1294\n",
            "+--------------------+---------------+\n",
            "|              author|avg_text_length|\n",
            "+--------------------+---------------+\n",
            "| I'm all soul and...|          122.0|\n",
            "| and the supposit...|           56.0|\n",
            "|\"\" who preached a...|           95.0|\n",
            "| at this period o...|           24.0|\n",
            "| \"\"It gave me the...|          124.0|\n",
            "| that these Blasp...|          204.0|\n",
            "|      Madame Lalande|           45.0|\n",
            "| and I cannot con...|           49.0|\n",
            "| one of the \"\"Eng...|           55.0|\n",
            "| you have straigh...|          372.0|\n",
            "| and we continued...|           33.0|\n",
            "| and in a few bri...|           75.0|\n",
            "|      and very happy|           12.0|\n",
            "| turning abruptly...|           22.0|\n",
            "| who art called o...|           36.0|\n",
            "| who gave me this...|           26.0|\n",
            "|       Mr. Wyatt.\"\"\"|          324.0|\n",
            "|           Woodville|           51.0|\n",
            "| and returned wit...|          173.0|\n",
            "|  thet Afriky book?\"|            5.0|\n",
            "+--------------------+---------------+\n",
            "only showing top 20 rows\n",
            "\n",
            "Author with the most texts: EAP Number of texts: 7044\n",
            "Author with the longest text:  yet satisfied me by its very depth as if I had already found the solution to my enquires sic as if in feeling myself a part of the great whole I had found the truth secret of the universe But when retired in my cell I have studied contemplated the various motions and actions in the world the weight of evil has confounded me If I thought of the creation I saw an eternal chain of evil linked one to the other from the great whale who in the sea swallows destroys multitudes the smaller fish that live on him also torment him to madness to the cat whose pleasure it is to torment her prey I saw the whole creation filled with pain each creature seems to exist through the misery of another death havoc is the watchword of the animated world And Man also even in Athens the most civilized spot on the earth what a multitude of mean passions envy Text length: 3682\n",
            "Author with the shortest text: \"\" replied Dupin Text length: 5\n",
            "+--------------------+---------------+\n",
            "|              author|avg_text_length|\n",
            "+--------------------+---------------+\n",
            "| I'm all soul and...|          122.0|\n",
            "| and the supposit...|           56.0|\n",
            "|\"\" who preached a...|           95.0|\n",
            "| at this period o...|           24.0|\n",
            "| \"\"It gave me the...|          124.0|\n",
            "| that these Blasp...|          204.0|\n",
            "|      Madame Lalande|           45.0|\n",
            "| and I cannot con...|           49.0|\n",
            "| one of the \"\"Eng...|           55.0|\n",
            "| you have straigh...|          372.0|\n",
            "| and we continued...|           33.0|\n",
            "| and in a few bri...|           75.0|\n",
            "|      and very happy|           12.0|\n",
            "| turning abruptly...|           22.0|\n",
            "| who art called o...|           36.0|\n",
            "| who gave me this...|           26.0|\n",
            "|       Mr. Wyatt.\"\"\"|          324.0|\n",
            "|           Woodville|           51.0|\n",
            "| and returned wit...|          173.0|\n",
            "|  thet Afriky book?\"|            5.0|\n",
            "+--------------------+---------------+\n",
            "only showing top 20 rows\n",
            "\n"
          ]
        }
      ]
    },
    {
      "cell_type": "code",
      "source": [
        "from pyspark.sql.functions import col, avg, broadcast\n",
        "import matplotlib.pyplot as plt\n",
        "import pandas as pd\n",
        "from pyspark.sql import SparkSession\n",
        "from pyspark.sql.functions import col, countDistinct, avg, max, min, length\n",
        "from pyspark.ml.feature import Tokenizer\n",
        "from pyspark.sql.functions import broadcast\n",
        "\n",
        "# Step 1: Initialize SparkSession\n",
        "spark = SparkSession.builder.appName(\"DataInsights\").getOrCreate()\n",
        "\n",
        "# Step 2: Read the CSV file into a DataFrame\n",
        "data = spark.read.csv(\"/content/train.csv\", header=True, inferSchema=True)\n",
        "\n",
        "# Step 3: Data Transformation - Tokenization\n",
        "tokenizer = Tokenizer(inputCol=\"text\", outputCol=\"words\")\n",
        "data = tokenizer.transform(data)\n",
        "\n",
        "# Step 4: Data Aggregation - Calculate the number of authors in the dataset\n",
        "num_authors = data.select(countDistinct(\"author\")).collect()[0][0]\n",
        "print(\"Number of authors:\", num_authors)\n",
        "\n",
        "# Step 5: Data Aggregation - Calculate the average length of text for each author\n",
        "data = data.withColumn(\"text_length\", length(col(\"text\")))\n",
        "avg_text_length = data.groupBy(\"author\").agg(avg(col(\"text_length\")).alias(\"avg_text_length\"))\n",
        "avg_text_length.show()\n",
        "\n",
        "# Step 6: Data Aggregation - Find the author with the maximum number of texts\n",
        "author_with_max_texts = data.groupBy(\"author\").agg(countDistinct(\"id\").alias(\"num_texts\")).orderBy(col(\"num_texts\").desc()).first()\n",
        "print(\"Author with the most texts:\", author_with_max_texts[\"author\"], \"Number of texts:\", author_with_max_texts[\"num_texts\"])\n",
        "\n",
        "# Step 7: Data Aggregation - Find the author with the longest and shortest text\n",
        "author_with_longest_text = data.orderBy(col(\"text_length\").desc()).first()\n",
        "author_with_shortest_text = data.orderBy(col(\"text_length\").asc()).first()\n",
        "print(\"Author with the longest text:\", author_with_longest_text[\"author\"], \"Text length:\", author_with_longest_text[\"text_length\"])\n",
        "print(\"Author with the shortest text:\", author_with_shortest_text[\"author\"], \"Text length:\", author_with_shortest_text[\"text_length\"])\n",
        "\n",
        "# Step 8: Broadcast the data DataFrame to efficiently distribute the data to all worker nodes\n",
        "broadcasted_data = data.select(\"author\", \"text_length\")\n",
        "\n",
        "# Step 9: Data Aggregation with Broadcast - Calculate the average length of text for each author\n",
        "avg_text_length_broadcast = broadcasted_data.groupBy(\"author\").agg(avg(col(\"text_length\")).alias(\"avg_text_length\"))\n",
        "\n",
        "# Convert the DataFrame to a Pandas DataFrame for visualization\n",
        "avg_text_length_df = avg_text_length_broadcast.toPandas()\n",
        "\n",
        "# Visualize the average text length for each author using a bar chart\n",
        "plt.figure(figsize=(12, 6))\n",
        "plt.bar(avg_text_length_df[\"author\"], avg_text_length_df[\"avg_text_length\"])\n",
        "plt.xlabel(\"Author\")\n",
        "plt.ylabel(\"Average Text Length\")\n",
        "plt.title(\"Average Text Length for Each Author\")\n",
        "plt.xticks(rotation=90)\n",
        "plt.tick_params(axis='x', which='both', bottom=False, top=False, labelbottom=False)  # Hide x-axis tick labels\n",
        "plt.tight_layout()\n",
        "plt.show()\n",
        "\n",
        "# Step 10: Clean up and stop the SparkSession\n",
        "spark.stop()"
      ],
      "metadata": {
        "colab": {
          "base_uri": "https://localhost:8080/",
          "height": 1000
        },
        "id": "4M8Oc6DgN0pH",
        "outputId": "915374c9-034d-4a62-c807-00fb31e63181"
      },
      "execution_count": 128,
      "outputs": [
        {
          "output_type": "stream",
          "name": "stdout",
          "text": [
            "Number of authors: 1294\n",
            "+--------------------+---------------+\n",
            "|              author|avg_text_length|\n",
            "+--------------------+---------------+\n",
            "| I'm all soul and...|          122.0|\n",
            "| and the supposit...|           56.0|\n",
            "|\"\" who preached a...|           95.0|\n",
            "| at this period o...|           24.0|\n",
            "| \"\"It gave me the...|          124.0|\n",
            "| that these Blasp...|          204.0|\n",
            "|      Madame Lalande|           45.0|\n",
            "| and I cannot con...|           49.0|\n",
            "| one of the \"\"Eng...|           55.0|\n",
            "| you have straigh...|          372.0|\n",
            "| and we continued...|           33.0|\n",
            "| and in a few bri...|           75.0|\n",
            "|      and very happy|           12.0|\n",
            "| turning abruptly...|           22.0|\n",
            "| who art called o...|           36.0|\n",
            "| who gave me this...|           26.0|\n",
            "|       Mr. Wyatt.\"\"\"|          324.0|\n",
            "|           Woodville|           51.0|\n",
            "| and returned wit...|          173.0|\n",
            "|  thet Afriky book?\"|            5.0|\n",
            "+--------------------+---------------+\n",
            "only showing top 20 rows\n",
            "\n",
            "Author with the most texts: EAP Number of texts: 7044\n",
            "Author with the longest text:  yet satisfied me by its very depth as if I had already found the solution to my enquires sic as if in feeling myself a part of the great whole I had found the truth secret of the universe But when retired in my cell I have studied contemplated the various motions and actions in the world the weight of evil has confounded me If I thought of the creation I saw an eternal chain of evil linked one to the other from the great whale who in the sea swallows destroys multitudes the smaller fish that live on him also torment him to madness to the cat whose pleasure it is to torment her prey I saw the whole creation filled with pain each creature seems to exist through the misery of another death havoc is the watchword of the animated world And Man also even in Athens the most civilized spot on the earth what a multitude of mean passions envy Text length: 3682\n",
            "Author with the shortest text: \"\" replied Dupin Text length: 5\n"
          ]
        },
        {
          "output_type": "display_data",
          "data": {
            "text/plain": [
              "<Figure size 1200x600 with 1 Axes>"
            ],
            "image/png": "[encoded data removed]"
          },
          "metadata": {}
        }
      ]
    },
    {
      "cell_type": "code",
      "source": [
        "from pyspark.sql import SparkSession\n",
        "from pyspark.sql.functions import col, length\n",
        "import matplotlib.pyplot as plt\n",
        "import pandas as pd\n",
        "\n",
        "# Step 1: Create a SparkSession\n",
        "spark = SparkSession.builder.appName(\"TextAnalysis\").getOrCreate()\n",
        "\n",
        "# Step 2: Read the CSV file into a DataFrame\n",
        "data = spark.read.csv(\"/content/train.csv\", header=True, inferSchema=True)\n",
        "\n",
        "# Step 3: Data Preprocessing - Tokenization\n",
        "data = data.withColumn(\"words\", length(col(\"text\")))\n",
        "\n",
        "# Step 4: Data Exploration - Explore the distribution of numerical columns using histograms\n",
        "# Select the numerical columns to visualize\n",
        "numerical_cols = [\"words\"]\n",
        "\n",
        "# Convert the DataFrame to a Pandas DataFrame for visualization\n",
        "data_pd = data.select(numerical_cols).toPandas()\n",
        "\n",
        "# Create histograms for each numerical column\n",
        "data_pd.hist(figsize=(10, 6), bins=20)\n",
        "plt.suptitle(\"Distribution of Numerical Columns\", fontsize=16)\n",
        "plt.tight_layout()\n",
        "plt.show()\n",
        "\n",
        "# Step 5: Data Exploration - Identify and handle outliers using box plots\n",
        "# Create box plots for each numerical column\n",
        "plt.figure(figsize=(8, 6))\n",
        "plt.boxplot(data_pd[numerical_cols].values, labels=numerical_cols)\n",
        "plt.title(\"Box Plot for Numerical Columns\", fontsize=16)\n",
        "plt.ylabel(\"Value\", fontsize=12)\n",
        "plt.xticks(rotation=45)\n",
        "plt.show()\n",
        "\n",
        "# Step 6: Data Exploration - Explore the relationships between numerical columns using scatter plots\n",
        "# Select numerical columns for scatter plot\n",
        "scatter_cols = [\"words\"]\n",
        "\n",
        "# Convert the DataFrame to a Pandas DataFrame for visualization\n",
        "scatter_pd = data.select(scatter_cols).toPandas()\n",
        "\n",
        "# Create scatter plots for each pair of numerical columns\n",
        "pd.plotting.scatter_matrix(scatter_pd, figsize=(8, 8), diagonal=\"kde\")\n",
        "plt.suptitle(\"Scatter Plots for Numerical Columns\", fontsize=16)\n",
        "plt.show()\n",
        "\n",
        "# Step 7: Clean up and stop the SparkSession\n",
        "spark.stop()\n"
      ],
      "metadata": {
        "colab": {
          "base_uri": "https://localhost:8080/",
          "height": 1000
        },
        "id": "lX-YVh_nY7oi",
        "outputId": "f02c4ec5-06aa-46ec-da97-11d696beeda4"
      },
      "execution_count": 137,
      "outputs": [
        {
          "output_type": "display_data",
          "data": {
            "text/plain": [
              "<Figure size 1000x600 with 1 Axes>"
            ],
            "image/png": "[encoded data removed]"
          },
          "metadata": {}
        },
        {
          "output_type": "display_data",
          "data": {
            "text/plain": [
              "<Figure size 800x600 with 1 Axes>"
            ],
            "image/png": "[encoded data removed]"
          },
          "metadata": {}
        },
        {
          "output_type": "display_data",
          "data": {
            "text/plain": [
              "<Figure size 800x800 with 1 Axes>"
            ],
            "image/png": "[encoded data removed]"
          },
          "metadata": {}
        }
      ]
    }
  ]
}