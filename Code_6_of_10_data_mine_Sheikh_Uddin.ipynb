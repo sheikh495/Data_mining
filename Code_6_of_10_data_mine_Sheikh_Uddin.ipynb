{
  "nbformat": 4,
  "nbformat_minor": 0,
  "metadata": {
    "colab": {
      "provenance": [],
      "authorship_tag": "ABX9TyP2p/XYzIucEqSii5zIGs56",
      "include_colab_link": true
    },
    "kernelspec": {
      "name": "python3",
      "display_name": "Python 3"
    },
    "language_info": {
      "name": "python"
    }
  },
  "cells": [
    {
      "cell_type": "markdown",
      "metadata": {
        "id": "view-in-github",
        "colab_type": "text"
      },
      "source": [
        "<a href=\"https://colab.research.google.com/github/sheikh495/Data_mining/blob/main/Code_6_of_10_data_mine_Sheikh_Uddin.ipynb\" target=\"_parent\"><img src=\"https://colab.research.google.com/assets/colab-badge.svg\" alt=\"Open In Colab\"/></a>"
      ]
    },
    {
      "cell_type": "code",
      "source": [
        "!apt-get update\n",
        "!apt-get install openjdk-8-jdk-headless -qq\n",
        "!wget -q https://www-us.apache.org/dist/spark/spark-3.1.2/spark-3.1.2-bin-hadoop3.2.tgz\n",
        "!tar xf spark-3.1.2-bin-hadoop3.2.tgz\n",
        "!pip install -q findspark\n"
      ],
      "metadata": {
        "colab": {
          "base_uri": "https://localhost:8080/"
        },
        "id": "8kcdLl3R0ENm",
        "outputId": "dd18e5b6-825a-4d36-c3f2-b32c9c68063c"
      },
      "execution_count": 2,
      "outputs": [
        {
          "output_type": "stream",
          "name": "stdout",
          "text": [
            "\r0% [Working]\r            \rGet:1 https://cloud.r-project.org/bin/linux/ubuntu focal-cran40/ InRelease [3,622 B]\n",
            "Hit:2 https://developer.download.nvidia.com/compute/cuda/repos/ubuntu2004/x86_64  InRelease\n",
            "Get:3 http://security.ubuntu.com/ubuntu focal-security InRelease [114 kB]\n",
            "Hit:4 http://archive.ubuntu.com/ubuntu focal InRelease\n",
            "Get:5 http://ppa.launchpad.net/c2d4u.team/c2d4u4.0+/ubuntu focal InRelease [18.1 kB]\n",
            "Get:6 http://archive.ubuntu.com/ubuntu focal-updates InRelease [114 kB]\n",
            "Hit:7 http://ppa.launchpad.net/cran/libgit2/ubuntu focal InRelease\n",
            "Get:8 http://security.ubuntu.com/ubuntu focal-security/main amd64 Packages [2,866 kB]\n",
            "Get:9 http://archive.ubuntu.com/ubuntu focal-backports InRelease [108 kB]\n",
            "Hit:10 http://ppa.launchpad.net/deadsnakes/ppa/ubuntu focal InRelease\n",
            "Get:11 http://archive.ubuntu.com/ubuntu focal-updates/main amd64 Packages [3,346 kB]\n",
            "Hit:12 http://ppa.launchpad.net/graphics-drivers/ppa/ubuntu focal InRelease\n",
            "Hit:13 http://ppa.launchpad.net/ubuntugis/ppa/ubuntu focal InRelease\n",
            "Get:14 http://archive.ubuntu.com/ubuntu focal-updates/universe amd64 Packages [1,369 kB]\n",
            "Get:15 http://archive.ubuntu.com/ubuntu focal-updates/restricted amd64 Packages [2,670 kB]\n",
            "Get:16 http://archive.ubuntu.com/ubuntu focal-updates/multiverse amd64 Packages [40.2 kB]\n",
            "Get:17 http://ppa.launchpad.net/c2d4u.team/c2d4u4.0+/ubuntu focal/main Sources [2,604 kB]\n",
            "Get:18 http://ppa.launchpad.net/c2d4u.team/c2d4u4.0+/ubuntu focal/main amd64 Packages [1,230 kB]\n",
            "Fetched 14.5 MB in 7s (2,204 kB/s)\n",
            "Reading package lists... Done\n",
            "Selecting previously unselected package libxtst6:amd64.\n",
            "(Reading database ... 123105 files and directories currently installed.)\n",
            "Preparing to unpack .../libxtst6_2%3a1.2.3-1_amd64.deb ...\n",
            "Unpacking libxtst6:amd64 (2:1.2.3-1) ...\n",
            "Selecting previously unselected package openjdk-8-jre-headless:amd64.\n",
            "Preparing to unpack .../openjdk-8-jre-headless_8u372-ga~us1-0ubuntu1~20.04_amd64.deb ...\n",
            "Unpacking openjdk-8-jre-headless:amd64 (8u372-ga~us1-0ubuntu1~20.04) ...\n",
            "Selecting previously unselected package openjdk-8-jdk-headless:amd64.\n",
            "Preparing to unpack .../openjdk-8-jdk-headless_8u372-ga~us1-0ubuntu1~20.04_amd64.deb ...\n",
            "Unpacking openjdk-8-jdk-headless:amd64 (8u372-ga~us1-0ubuntu1~20.04) ...\n",
            "Setting up libxtst6:amd64 (2:1.2.3-1) ...\n",
            "Setting up openjdk-8-jre-headless:amd64 (8u372-ga~us1-0ubuntu1~20.04) ...\n",
            "update-alternatives: using /usr/lib/jvm/java-8-openjdk-amd64/jre/bin/orbd to provide /usr/bin/orbd (orbd) in auto mode\n",
            "update-alternatives: using /usr/lib/jvm/java-8-openjdk-amd64/jre/bin/servertool to provide /usr/bin/servertool (servertool) in auto mode\n",
            "update-alternatives: using /usr/lib/jvm/java-8-openjdk-amd64/jre/bin/tnameserv to provide /usr/bin/tnameserv (tnameserv) in auto mode\n",
            "Setting up openjdk-8-jdk-headless:amd64 (8u372-ga~us1-0ubuntu1~20.04) ...\n",
            "update-alternatives: using /usr/lib/jvm/java-8-openjdk-amd64/bin/idlj to provide /usr/bin/idlj (idlj) in auto mode\n",
            "update-alternatives: using /usr/lib/jvm/java-8-openjdk-amd64/bin/wsimport to provide /usr/bin/wsimport (wsimport) in auto mode\n",
            "update-alternatives: using /usr/lib/jvm/java-8-openjdk-amd64/bin/jsadebugd to provide /usr/bin/jsadebugd (jsadebugd) in auto mode\n",
            "update-alternatives: using /usr/lib/jvm/java-8-openjdk-amd64/bin/native2ascii to provide /usr/bin/native2ascii (native2ascii) in auto mode\n",
            "update-alternatives: using /usr/lib/jvm/java-8-openjdk-amd64/bin/javah to provide /usr/bin/javah (javah) in auto mode\n",
            "update-alternatives: using /usr/lib/jvm/java-8-openjdk-amd64/bin/clhsdb to provide /usr/bin/clhsdb (clhsdb) in auto mode\n",
            "update-alternatives: using /usr/lib/jvm/java-8-openjdk-amd64/bin/jhat to provide /usr/bin/jhat (jhat) in auto mode\n",
            "update-alternatives: using /usr/lib/jvm/java-8-openjdk-amd64/bin/extcheck to provide /usr/bin/extcheck (extcheck) in auto mode\n",
            "update-alternatives: using /usr/lib/jvm/java-8-openjdk-amd64/bin/hsdb to provide /usr/bin/hsdb (hsdb) in auto mode\n",
            "update-alternatives: using /usr/lib/jvm/java-8-openjdk-amd64/bin/schemagen to provide /usr/bin/schemagen (schemagen) in auto mode\n",
            "update-alternatives: using /usr/lib/jvm/java-8-openjdk-amd64/bin/xjc to provide /usr/bin/xjc (xjc) in auto mode\n",
            "update-alternatives: using /usr/lib/jvm/java-8-openjdk-amd64/bin/wsgen to provide /usr/bin/wsgen (wsgen) in auto mode\n",
            "Processing triggers for libc-bin (2.31-0ubuntu9.9) ...\n",
            "tar: spark-3.1.2-bin-hadoop3.2.tgz: Cannot open: No such file or directory\n",
            "tar: Error is not recoverable: exiting now\n"
          ]
        }
      ]
    },
    {
      "cell_type": "code",
      "source": [
        "!pip uninstall findspark\n",
        "!pip install findspark\n"
      ],
      "metadata": {
        "colab": {
          "base_uri": "https://localhost:8080/"
        },
        "id": "NtlyWpKR0ixW",
        "outputId": "d13f73b1-7118-4cd5-9833-7c937f7feacf"
      },
      "execution_count": 3,
      "outputs": [
        {
          "output_type": "stream",
          "name": "stdout",
          "text": [
            "Found existing installation: findspark 2.0.1\n",
            "Uninstalling findspark-2.0.1:\n",
            "  Would remove:\n",
            "    /usr/local/lib/python3.10/dist-packages/findspark-2.0.1.dist-info/*\n",
            "    /usr/local/lib/python3.10/dist-packages/findspark.py\n",
            "Proceed (Y/n)? Y\n",
            "  Successfully uninstalled findspark-2.0.1\n",
            "Collecting findspark\n",
            "  Using cached findspark-2.0.1-py2.py3-none-any.whl (4.4 kB)\n",
            "Installing collected packages: findspark\n",
            "Successfully installed findspark-2.0.1\n"
          ]
        }
      ]
    },
    {
      "cell_type": "code",
      "source": [
        "!wget -q https://downloads.apache.org/spark/spark-3.1.1/spark-3.1.1-bin-hadoop3.2.tgz\n"
      ],
      "metadata": {
        "id": "VUST3SEL0lmc"
      },
      "execution_count": 4,
      "outputs": []
    },
    {
      "cell_type": "code",
      "source": [
        "import os\n",
        "\n",
        "os.environ[\"JAVA_HOME\"] = \"/usr/lib/jvm/java-8-openjdk-amd64\"\n",
        "os.environ[\"SPARK_HOME\"] = \"/content/spark-3.1.1-bin-hadoop3.2\"\n"
      ],
      "metadata": {
        "id": "tGKyJQsL0oK6"
      },
      "execution_count": 5,
      "outputs": []
    },
    {
      "cell_type": "code",
      "source": [
        "!pip install pyspark==3.1.1\n"
      ],
      "metadata": {
        "colab": {
          "base_uri": "https://localhost:8080/"
        },
        "id": "WwL66jas1HLP",
        "outputId": "a2a8f906-442d-41ac-b3bb-8b92ea5942da"
      },
      "execution_count": 6,
      "outputs": [
        {
          "output_type": "stream",
          "name": "stdout",
          "text": [
            "Collecting pyspark==3.1.1\n",
            "  Downloading pyspark-3.1.1.tar.gz (212.3 MB)\n",
            "\u001b[2K     \u001b[90m━━━━━━━━━━━━━━━━━━━━━━━━━━━━━━━━━━━━━━━\u001b[0m \u001b[32m212.3/212.3 MB\u001b[0m \u001b[31m2.9 MB/s\u001b[0m eta \u001b[36m0:00:00\u001b[0m\n",
            "\u001b[?25h  Preparing metadata (setup.py) ... \u001b[?25l\u001b[?25hdone\n",
            "Collecting py4j==0.10.9 (from pyspark==3.1.1)\n",
            "  Downloading py4j-0.10.9-py2.py3-none-any.whl (198 kB)\n",
            "\u001b[2K     \u001b[90m━━━━━━━━━━━━━━━━━━━━━━━━━━━━━━━━━━━━━━\u001b[0m \u001b[32m198.6/198.6 kB\u001b[0m \u001b[31m16.8 MB/s\u001b[0m eta \u001b[36m0:00:00\u001b[0m\n",
            "\u001b[?25hBuilding wheels for collected packages: pyspark\n",
            "  Building wheel for pyspark (setup.py) ... \u001b[?25l\u001b[?25hdone\n",
            "  Created wheel for pyspark: filename=pyspark-3.1.1-py2.py3-none-any.whl size=212767590 sha256=f9fe83444d9a4d786005b04b959f03d3b2516e0954c698ea780c01418e0cbe5a\n",
            "  Stored in directory: /root/.cache/pip/wheels/a0/3f/72/8efd988f9ae041f051c75e6834cd92dd6d13a726e206e8b6f3\n",
            "Successfully built pyspark\n",
            "Installing collected packages: py4j, pyspark\n",
            "  Attempting uninstall: py4j\n",
            "    Found existing installation: py4j 0.10.9.7\n",
            "    Uninstalling py4j-0.10.9.7:\n",
            "      Successfully uninstalled py4j-0.10.9.7\n",
            "Successfully installed py4j-0.10.9 pyspark-3.1.1\n"
          ]
        }
      ]
    },
    {
      "cell_type": "code",
      "source": [
        "!wget -q https://downloads.apache.org/spark/spark-3.1.1/spark-3.1.1-bin-hadoop3.2.tgz\n"
      ],
      "metadata": {
        "id": "ZpHA6l9J1Jji"
      },
      "execution_count": 7,
      "outputs": []
    },
    {
      "cell_type": "code",
      "source": [
        "import os\n",
        "\n",
        "os.environ[\"JAVA_HOME\"] = \"/usr/lib/jvm/java-8-openjdk-amd64\"\n",
        "os.environ[\"SPARK_HOME\"] = \"/content/spark-3.1.1-bin-hadoop3.2\"\n"
      ],
      "metadata": {
        "id": "S7WvnfhF1L1V"
      },
      "execution_count": 8,
      "outputs": []
    },
    {
      "cell_type": "code",
      "source": [
        "with open('/content/sample_submission.csv', 'r') as file:\n",
        "    header = file.readline()\n",
        "\n",
        "print(header)\n"
      ],
      "metadata": {
        "colab": {
          "base_uri": "https://localhost:8080/"
        },
        "id": "4XucgeNV1v2Q",
        "outputId": "7b758320-2beb-4561-c3c9-90735f07aba1"
      },
      "execution_count": 9,
      "outputs": [
        {
          "output_type": "stream",
          "name": "stdout",
          "text": [
            "\"id\",\"EAP\",\"HPL\",\"MWS\"\n",
            "\n"
          ]
        }
      ]
    },
    {
      "cell_type": "code",
      "source": [],
      "metadata": {
        "id": "o_SBYups17Fk"
      },
      "execution_count": 8,
      "outputs": []
    },
    {
      "cell_type": "code",
      "source": [
        "import pandas as pd\n",
        "\n",
        "df = pd.read_csv('/content/sample_submission.csv')\n",
        "print(df)\n"
      ],
      "metadata": {
        "colab": {
          "base_uri": "https://localhost:8080/"
        },
        "id": "3j9bYkUP17HF",
        "outputId": "8fd1f897-488c-46c7-c821-6feb757e1b21"
      },
      "execution_count": 10,
      "outputs": [
        {
          "output_type": "stream",
          "name": "stdout",
          "text": [
            "           id       EAP       HPL       MWS\n",
            "0     id02310  0.403494  0.287808  0.308698\n",
            "1     id24541  0.403494  0.287808  0.308698\n",
            "2     id00134  0.403494  0.287808  0.308698\n",
            "3     id27757  0.403494  0.287808  0.308698\n",
            "4     id04081  0.403494  0.287808  0.308698\n",
            "...       ...       ...       ...       ...\n",
            "8387  id11749  0.403494  0.287808  0.308698\n",
            "8388  id10526  0.403494  0.287808  0.308698\n",
            "8389  id13477  0.403494  0.287808  0.308698\n",
            "8390  id13761  0.403494  0.287808  0.308698\n",
            "8391  id04282  0.403494  0.287808  0.308698\n",
            "\n",
            "[8392 rows x 4 columns]\n"
          ]
        }
      ]
    },
    {
      "cell_type": "code",
      "source": [
        "!apt-get install openjdk-8-jdk-headless -qq\n"
      ],
      "metadata": {
        "id": "tNHxD-GJ3NoW"
      },
      "execution_count": 11,
      "outputs": []
    },
    {
      "cell_type": "code",
      "source": [
        "!wget -q https://downloads.apache.org/spark/spark-3.1.2/spark-3.1.2-bin-hadoop3.2.tgz\n",
        "!tar xf spark-3.1.2-bin-hadoop3.2.tgz\n"
      ],
      "metadata": {
        "id": "dT0KUHqe3P9i"
      },
      "execution_count": null,
      "outputs": []
    },
    {
      "cell_type": "code",
      "source": [
        "import os\n",
        "\n",
        "os.environ[\"JAVA_HOME\"] = \"/usr/lib/jvm/java-8-openjdk-amd64\"\n",
        "os.environ[\"SPARK_HOME\"] = \"/content/spark-3.1.2-bin-hadoop3.2\"\n"
      ],
      "metadata": {
        "id": "ixzYM-0B3SQx"
      },
      "execution_count": 39,
      "outputs": []
    },
    {
      "cell_type": "code",
      "source": [
        "!pip install pyspark==3.1.2\n"
      ],
      "metadata": {
        "colab": {
          "base_uri": "https://localhost:8080/"
        },
        "id": "3k1utTiT3XRP",
        "outputId": "4d71702a-ed98-4e95-d81f-35c5f60c6eb8"
      },
      "execution_count": 13,
      "outputs": [
        {
          "output_type": "stream",
          "name": "stdout",
          "text": [
            "Collecting pyspark==3.1.2\n",
            "  Downloading pyspark-3.1.2.tar.gz (212.4 MB)\n",
            "\u001b[2K     \u001b[90m━━━━━━━━━━━━━━━━━━━━━━━━━━━━━━━━━━━━━━━\u001b[0m \u001b[32m212.4/212.4 MB\u001b[0m \u001b[31m2.4 MB/s\u001b[0m eta \u001b[36m0:00:00\u001b[0m\n",
            "\u001b[?25h  Preparing metadata (setup.py) ... \u001b[?25l\u001b[?25hdone\n",
            "Requirement already satisfied: py4j==0.10.9 in /usr/local/lib/python3.10/dist-packages (from pyspark==3.1.2) (0.10.9)\n",
            "Building wheels for collected packages: pyspark\n",
            "  Building wheel for pyspark (setup.py) ... \u001b[?25l\u001b[?25hdone\n",
            "  Created wheel for pyspark: filename=pyspark-3.1.2-py2.py3-none-any.whl size=212880756 sha256=c3c33c9cc31ca34e9b316558cd9a5b020e59b48ab1ea9aef82eb52a9dc3abde6\n",
            "  Stored in directory: /root/.cache/pip/wheels/ef/70/50/7882e1bcb5693225f7cc86698f10953201b48b3f36317c2d18\n",
            "Successfully built pyspark\n",
            "Installing collected packages: pyspark\n",
            "  Attempting uninstall: pyspark\n",
            "    Found existing installation: pyspark 3.1.1\n",
            "    Uninstalling pyspark-3.1.1:\n",
            "      Successfully uninstalled pyspark-3.1.1\n",
            "Successfully installed pyspark-3.1.2\n"
          ]
        }
      ]
    },
    {
      "cell_type": "code",
      "source": [
        "!pip install findspark\n"
      ],
      "metadata": {
        "colab": {
          "base_uri": "https://localhost:8080/"
        },
        "id": "OTjy8VeJ0vSZ",
        "outputId": "18523334-5f31-478a-d5bd-c05c28625956"
      },
      "execution_count": 14,
      "outputs": [
        {
          "output_type": "stream",
          "name": "stdout",
          "text": [
            "Requirement already satisfied: findspark in /usr/local/lib/python3.10/dist-packages (2.0.1)\n"
          ]
        }
      ]
    },
    {
      "cell_type": "code",
      "source": [
        "!pip install pyspark\n"
      ],
      "metadata": {
        "colab": {
          "base_uri": "https://localhost:8080/"
        },
        "id": "rzpD7TdS1JIN",
        "outputId": "f4e2bb5d-f831-45cf-84cd-4318f4d668c9"
      },
      "execution_count": 15,
      "outputs": [
        {
          "output_type": "stream",
          "name": "stdout",
          "text": [
            "Requirement already satisfied: pyspark in /usr/local/lib/python3.10/dist-packages (3.1.2)\n",
            "Requirement already satisfied: py4j==0.10.9 in /usr/local/lib/python3.10/dist-packages (from pyspark) (0.10.9)\n"
          ]
        }
      ]
    },
    {
      "cell_type": "code",
      "source": [
        "import pandas as pd\n",
        "\n",
        "# Load the sample_submission.csv file\n",
        "sample_submission = pd.read_csv('/content/sample_submission.csv')\n",
        "print(\"Sample Submission Data:\")\n",
        "print(sample_submission.head())\n",
        "\n",
        "# Load the test.csv file\n",
        "test_data = pd.read_csv('/content/test.csv')\n",
        "print(\"\\nTest Data:\")\n",
        "print(test_data.head())\n",
        "\n",
        "# Load the train.csv file\n",
        "train_data = pd.read_csv('/content/train.csv')\n",
        "print(\"\\nTrain Data:\")\n",
        "print(train_data.head())\n"
      ],
      "metadata": {
        "colab": {
          "base_uri": "https://localhost:8080/"
        },
        "id": "d22JAmInyabT",
        "outputId": "24c0e102-fc64-4c61-b3e8-0c344bfb76e7"
      },
      "execution_count": 16,
      "outputs": [
        {
          "output_type": "stream",
          "name": "stdout",
          "text": [
            "Sample Submission Data:\n",
            "        id       EAP       HPL       MWS\n",
            "0  id02310  0.403494  0.287808  0.308698\n",
            "1  id24541  0.403494  0.287808  0.308698\n",
            "2  id00134  0.403494  0.287808  0.308698\n",
            "3  id27757  0.403494  0.287808  0.308698\n",
            "4  id04081  0.403494  0.287808  0.308698\n",
            "\n",
            "Test Data:\n",
            "        id                                               text\n",
            "0  id02310  Still, as I urged our leaving Ireland with suc...\n",
            "1  id24541  If a fire wanted fanning, it could readily be ...\n",
            "2  id00134  And when they had broken down the frail door t...\n",
            "3  id27757  While I was thinking how I should possibly man...\n",
            "4  id04081  I am not sure to what limit his knowledge may ...\n",
            "\n",
            "Train Data:\n",
            "        id                                               text author\n",
            "0  id26305  This process, however, afforded me no means of...    EAP\n",
            "1  id17569  It never once occurred to me that the fumbling...    HPL\n",
            "2  id11008  In his left hand was a gold snuff box, from wh...    EAP\n",
            "3  id27763  How lovely is spring As we looked from Windsor...    MWS\n",
            "4  id12958  Finding nothing else, not even gold, the Super...    HPL\n"
          ]
        }
      ]
    },
    {
      "cell_type": "code",
      "source": [
        "import pandas as pd\n",
        "\n",
        "# Load the sample_submission.csv file into a DataFrame\n",
        "df = pd.read_csv('/content/sample_submission.csv')\n",
        "\n",
        "# Display the DataFrame\n",
        "print(df.head())\n",
        "\n",
        "# Print the column names\n",
        "print(df.columns)\n",
        "\n",
        "# Explore the structure of the DataFrame\n",
        "print(df.info())\n",
        "\n",
        "# Check the size of the DataFrame (number of rows, number of columns)\n",
        "num_rows = df.shape[0]\n",
        "num_cols = df.shape[1]\n",
        "print(f\"Number of rows: {num_rows}\")\n",
        "print(f\"Number of columns: {num_cols}\")\n"
      ],
      "metadata": {
        "colab": {
          "base_uri": "https://localhost:8080/"
        },
        "id": "6WggQ8YNy3SG",
        "outputId": "14f88135-d7fe-4e4d-a514-9357889c5e49"
      },
      "execution_count": 17,
      "outputs": [
        {
          "output_type": "stream",
          "name": "stdout",
          "text": [
            "        id       EAP       HPL       MWS\n",
            "0  id02310  0.403494  0.287808  0.308698\n",
            "1  id24541  0.403494  0.287808  0.308698\n",
            "2  id00134  0.403494  0.287808  0.308698\n",
            "3  id27757  0.403494  0.287808  0.308698\n",
            "4  id04081  0.403494  0.287808  0.308698\n",
            "Index(['id', 'EAP', 'HPL', 'MWS'], dtype='object')\n",
            "<class 'pandas.core.frame.DataFrame'>\n",
            "RangeIndex: 8392 entries, 0 to 8391\n",
            "Data columns (total 4 columns):\n",
            " #   Column  Non-Null Count  Dtype  \n",
            "---  ------  --------------  -----  \n",
            " 0   id      8392 non-null   object \n",
            " 1   EAP     8392 non-null   float64\n",
            " 2   HPL     8392 non-null   float64\n",
            " 3   MWS     8392 non-null   float64\n",
            "dtypes: float64(3), object(1)\n",
            "memory usage: 262.4+ KB\n",
            "None\n",
            "Number of rows: 8392\n",
            "Number of columns: 4\n"
          ]
        }
      ]
    },
    {
      "cell_type": "code",
      "source": [
        "!pip install pyspark\n"
      ],
      "metadata": {
        "colab": {
          "base_uri": "https://localhost:8080/"
        },
        "id": "SHVHAjLDK4u1",
        "outputId": "de7bbe06-3367-40f1-e78e-bf4dd8b5d7af"
      },
      "execution_count": 18,
      "outputs": [
        {
          "output_type": "stream",
          "name": "stdout",
          "text": [
            "Requirement already satisfied: pyspark in /usr/local/lib/python3.10/dist-packages (3.1.2)\n",
            "Requirement already satisfied: py4j==0.10.9 in /usr/local/lib/python3.10/dist-packages (from pyspark) (0.10.9)\n"
          ]
        }
      ]
    },
    {
      "cell_type": "code",
      "source": [
        "from pyspark.sql import SparkSession\n"
      ],
      "metadata": {
        "id": "DNbjn4S_K78j"
      },
      "execution_count": 19,
      "outputs": []
    },
    {
      "cell_type": "markdown",
      "source": [
        "#Access to the shell"
      ],
      "metadata": {
        "id": "nx9_ipEqz8Ca"
      }
    },
    {
      "cell_type": "code",
      "source": [
        "ls"
      ],
      "metadata": {
        "colab": {
          "base_uri": "https://localhost:8080/"
        },
        "id": "bb3x8QE0zGsy",
        "outputId": "33340289-0395-4041-b033-925ffd958ba8"
      },
      "execution_count": 36,
      "outputs": [
        {
          "output_type": "stream",
          "name": "stdout",
          "text": [
            "\u001b[0m\u001b[01;34msample_data\u001b[0m/  sample_submission.csv  test.csv  train.csv\n"
          ]
        }
      ]
    },
    {
      "cell_type": "code",
      "source": [
        "pwd"
      ],
      "metadata": {
        "colab": {
          "base_uri": "https://localhost:8080/",
          "height": 35
        },
        "id": "sUbgyUFIzL3L",
        "outputId": "2d6093c7-7fc9-4088-a78b-c565aefe33e1"
      },
      "execution_count": 37,
      "outputs": [
        {
          "output_type": "execute_result",
          "data": {
            "text/plain": [
              "'/content'"
            ],
            "application/vnd.google.colaboratory.intrinsic+json": {
              "type": "string"
            }
          },
          "metadata": {},
          "execution_count": 37
        }
      ]
    },
    {
      "cell_type": "markdown",
      "source": [
        "#Installing Spark"
      ],
      "metadata": {
        "id": "lraHjGEA0Cfx"
      }
    },
    {
      "cell_type": "markdown",
      "source": [
        "Install Dependencies:\n",
        "\n",
        "1. Java 8\n",
        "2. Apache Spark with hadoop and\n",
        "3. Findspark (used to locate the spark in the system)"
      ],
      "metadata": {
        "id": "jEg3Cdba0Dv9"
      }
    },
    {
      "cell_type": "code",
      "source": [
        "!apt-get install openjdk-8-jdk-headless -qq > /dev/null\n",
        "!wget -q http://archive.apache.org/dist/spark/spark-3.1.1/spark-3.1.1-bin-hadoop3.2.tgz\n",
        "!tar xf spark-3.1.1-bin-hadoop3.2.tgz\n",
        "!pip install -q findspark"
      ],
      "metadata": {
        "id": "aJ_dqNFUzPpC"
      },
      "execution_count": 38,
      "outputs": []
    },
    {
      "cell_type": "markdown",
      "source": [
        "Set Environment Variables:"
      ],
      "metadata": {
        "id": "y79AK0HA0Sn_"
      }
    },
    {
      "cell_type": "code",
      "source": [
        "import os\n",
        "os.environ[\"JAVA_HOME\"] = \"/usr/lib/jvm/java-8-openjdk-amd64\"\n",
        "os.environ[\"SPARK_HOME\"] = \"/content/spark-3.1.1-bin-hadoop3.2\""
      ],
      "metadata": {
        "id": "FKP-LLRxzcvF"
      },
      "execution_count": 39,
      "outputs": []
    },
    {
      "cell_type": "code",
      "source": [
        "!ls"
      ],
      "metadata": {
        "colab": {
          "base_uri": "https://localhost:8080/"
        },
        "id": "vE0QrkTMzhOa",
        "outputId": "c9bea182-2948-4d72-8c12-8ec04141d7cc"
      },
      "execution_count": 40,
      "outputs": [
        {
          "output_type": "stream",
          "name": "stdout",
          "text": [
            "sample_data\t       spark-3.1.1-bin-hadoop3.2      test.csv\n",
            "sample_submission.csv  spark-3.1.1-bin-hadoop3.2.tgz  train.csv\n"
          ]
        }
      ]
    },
    {
      "cell_type": "code",
      "source": [
        "import findspark\n",
        "findspark.init()\n",
        "from pyspark.sql import SparkSession\n",
        "spark = SparkSession.builder.master(\"local[*]\").getOrCreate()\n",
        "spark.conf.set(\"spark.sql.repl.eagerEval.enabled\", True) # Property used to format output tables better\n",
        "spark"
      ],
      "metadata": {
        "colab": {
          "base_uri": "https://localhost:8080/",
          "height": 219
        },
        "id": "n2N1JakSznlR",
        "outputId": "ed7979f0-ea8d-4011-87b0-eb926924da65"
      },
      "execution_count": 41,
      "outputs": [
        {
          "output_type": "execute_result",
          "data": {
            "text/plain": [
              "<pyspark.sql.session.SparkSession at 0x7fb51297e710>"
            ],
            "text/html": [
              "\n",
              "            <div>\n",
              "                <p><b>SparkSession - in-memory</b></p>\n",
              "                \n",
              "        <div>\n",
              "            <p><b>SparkContext</b></p>\n",
              "\n",
              "            <p><a href=\"http://cdc9e39c9922:4040\">Spark UI</a></p>\n",
              "\n",
              "            <dl>\n",
              "              <dt>Version</dt>\n",
              "                <dd><code>v3.1.1</code></dd>\n",
              "              <dt>Master</dt>\n",
              "                <dd><code>local[*]</code></dd>\n",
              "              <dt>AppName</dt>\n",
              "                <dd><code>DataExploration</code></dd>\n",
              "            </dl>\n",
              "        </div>\n",
              "        \n",
              "            </div>\n",
              "        "
            ]
          },
          "metadata": {},
          "execution_count": 41
        }
      ]
    },
    {
      "cell_type": "code",
      "source": [
        "!spark-submit --version\n"
      ],
      "metadata": {
        "colab": {
          "base_uri": "https://localhost:8080/"
        },
        "id": "CvfXZ2DDLXYk",
        "outputId": "71500400-0da3-45e3-cdf7-7dcdc6540e06"
      },
      "execution_count": 24,
      "outputs": [
        {
          "output_type": "stream",
          "name": "stdout",
          "text": [
            "/usr/local/bin/spark-submit: line 27: /path/to/spark-3.1.2-bin-hadoop3.2/bin/spark-class: No such file or directory\n"
          ]
        }
      ]
    },
    {
      "cell_type": "markdown",
      "source": [
        "#Loading the Dataset"
      ],
      "metadata": {
        "id": "iV8aBwNx0f_y"
      }
    },
    {
      "cell_type": "code",
      "source": [
        "import os\n",
        "from pyspark.sql import SparkSession\n",
        "\n",
        "# Set the Spark path\n",
        "spark_path = \" /path/to/spark-3.1.2-bin-hadoop3.2/bin\"\n",
        "\n",
        "# Set the SPARK_HOME environment variable\n",
        "os.environ[\"SPARK_HOME\"] = spark_path\n",
        "\n",
        "# Create a SparkSession\n",
        "spark = SparkSession.builder.appName(\"DataExploration\").getOrCreate()\n",
        "\n",
        "# Load the data into a DataFrame\n",
        "df = spark.read.csv(\"/content/sample_submission.csv\", header=True)\n",
        "\n",
        "# Explore the structure of the DataFrame\n",
        "df.printSchema()\n",
        "\n",
        "# Check the size of the DataFrame (number of rows, number of columns)\n",
        "num_rows = df.count()\n",
        "num_cols = len(df.columns)\n",
        "print(f\"Number of rows: {num_rows}\")\n",
        "print(f\"Number of columns: {num_cols}\")\n",
        "\n",
        "# Display the DataFrame\n",
        "df.show()\n",
        "print(df.columns)\n"
      ],
      "metadata": {
        "colab": {
          "base_uri": "https://localhost:8080/"
        },
        "id": "sT9T6wWMuZN9",
        "outputId": "b1339688-df1f-4ed7-f9ed-40dc59e0d3dd"
      },
      "execution_count": 42,
      "outputs": [
        {
          "output_type": "stream",
          "name": "stdout",
          "text": [
            "root\n",
            " |-- id: string (nullable = true)\n",
            " |-- EAP: string (nullable = true)\n",
            " |-- HPL: string (nullable = true)\n",
            " |-- MWS: string (nullable = true)\n",
            "\n",
            "Number of rows: 8392\n",
            "Number of columns: 4\n",
            "+-------+-----------------+-----------------+-----------------+\n",
            "|     id|              EAP|              HPL|              MWS|\n",
            "+-------+-----------------+-----------------+-----------------+\n",
            "|id02310|0.403493538995863|0.287808366106543|0.308698094897594|\n",
            "|id24541|0.403493538995863|0.287808366106543|0.308698094897594|\n",
            "|id00134|0.403493538995863|0.287808366106543|0.308698094897594|\n",
            "|id27757|0.403493538995863|0.287808366106543|0.308698094897594|\n",
            "|id04081|0.403493538995863|0.287808366106543|0.308698094897594|\n",
            "|id27337|0.403493538995863|0.287808366106543|0.308698094897594|\n",
            "|id24265|0.403493538995863|0.287808366106543|0.308698094897594|\n",
            "|id25917|0.403493538995863|0.287808366106543|0.308698094897594|\n",
            "|id04951|0.403493538995863|0.287808366106543|0.308698094897594|\n",
            "|id14549|0.403493538995863|0.287808366106543|0.308698094897594|\n",
            "|id22505|0.403493538995863|0.287808366106543|0.308698094897594|\n",
            "|id24002|0.403493538995863|0.287808366106543|0.308698094897594|\n",
            "|id18982|0.403493538995863|0.287808366106543|0.308698094897594|\n",
            "|id15181|0.403493538995863|0.287808366106543|0.308698094897594|\n",
            "|id21888|0.403493538995863|0.287808366106543|0.308698094897594|\n",
            "|id12035|0.403493538995863|0.287808366106543|0.308698094897594|\n",
            "|id17991|0.403493538995863|0.287808366106543|0.308698094897594|\n",
            "|id10707|0.403493538995863|0.287808366106543|0.308698094897594|\n",
            "|id07101|0.403493538995863|0.287808366106543|0.308698094897594|\n",
            "|id00345|0.403493538995863|0.287808366106543|0.308698094897594|\n",
            "+-------+-----------------+-----------------+-----------------+\n",
            "only showing top 20 rows\n",
            "\n",
            "['id', 'EAP', 'HPL', 'MWS']\n"
          ]
        }
      ]
    },
    {
      "cell_type": "code",
      "source": [
        "\n",
        "import pyspark\n",
        "from pyspark.sql import SparkSession\n",
        "spark = SparkSession.builder.appName(\"DataExploration\").getOrCreate()\n",
        "df = spark.read.csv(\"/content/sample_submission.csv\", header=True)\n",
        "df.show()\n",
        "\n"
      ],
      "metadata": {
        "colab": {
          "base_uri": "https://localhost:8080/"
        },
        "id": "3BRKzyh-usu2",
        "outputId": "aeaea0ba-02b4-4704-df7e-d993f1ee96d4"
      },
      "execution_count": 43,
      "outputs": [
        {
          "output_type": "stream",
          "name": "stdout",
          "text": [
            "+-------+-----------------+-----------------+-----------------+\n",
            "|     id|              EAP|              HPL|              MWS|\n",
            "+-------+-----------------+-----------------+-----------------+\n",
            "|id02310|0.403493538995863|0.287808366106543|0.308698094897594|\n",
            "|id24541|0.403493538995863|0.287808366106543|0.308698094897594|\n",
            "|id00134|0.403493538995863|0.287808366106543|0.308698094897594|\n",
            "|id27757|0.403493538995863|0.287808366106543|0.308698094897594|\n",
            "|id04081|0.403493538995863|0.287808366106543|0.308698094897594|\n",
            "|id27337|0.403493538995863|0.287808366106543|0.308698094897594|\n",
            "|id24265|0.403493538995863|0.287808366106543|0.308698094897594|\n",
            "|id25917|0.403493538995863|0.287808366106543|0.308698094897594|\n",
            "|id04951|0.403493538995863|0.287808366106543|0.308698094897594|\n",
            "|id14549|0.403493538995863|0.287808366106543|0.308698094897594|\n",
            "|id22505|0.403493538995863|0.287808366106543|0.308698094897594|\n",
            "|id24002|0.403493538995863|0.287808366106543|0.308698094897594|\n",
            "|id18982|0.403493538995863|0.287808366106543|0.308698094897594|\n",
            "|id15181|0.403493538995863|0.287808366106543|0.308698094897594|\n",
            "|id21888|0.403493538995863|0.287808366106543|0.308698094897594|\n",
            "|id12035|0.403493538995863|0.287808366106543|0.308698094897594|\n",
            "|id17991|0.403493538995863|0.287808366106543|0.308698094897594|\n",
            "|id10707|0.403493538995863|0.287808366106543|0.308698094897594|\n",
            "|id07101|0.403493538995863|0.287808366106543|0.308698094897594|\n",
            "|id00345|0.403493538995863|0.287808366106543|0.308698094897594|\n",
            "+-------+-----------------+-----------------+-----------------+\n",
            "only showing top 20 rows\n",
            "\n"
          ]
        }
      ]
    },
    {
      "cell_type": "code",
      "source": [
        "import os\n",
        "from pyspark.sql import SparkSession\n",
        "\n",
        "# Set the Spark path\n",
        "spark_path = \"/path/to/spark-3.1.2-bin-hadoop3.2\"\n",
        "\n",
        "# Set the Spark home environment variable\n",
        "os.environ[\"SPARK_HOME\"] = spark_path\n",
        "\n",
        "# Access the default SparkSession\n",
        "spark = SparkSession.builder.getOrCreate()\n",
        "\n",
        "# Perform Spark operations\n",
        "df = spark.read.csv(\"/content/sample_submission.csv\", header=True)\n",
        "df.show()\n"
      ],
      "metadata": {
        "colab": {
          "base_uri": "https://localhost:8080/"
        },
        "id": "GAF-P3Y2Lg49",
        "outputId": "7e708a61-a68d-4434-abd3-684d5e352468"
      },
      "execution_count": 44,
      "outputs": [
        {
          "output_type": "stream",
          "name": "stdout",
          "text": [
            "+-------+-----------------+-----------------+-----------------+\n",
            "|     id|              EAP|              HPL|              MWS|\n",
            "+-------+-----------------+-----------------+-----------------+\n",
            "|id02310|0.403493538995863|0.287808366106543|0.308698094897594|\n",
            "|id24541|0.403493538995863|0.287808366106543|0.308698094897594|\n",
            "|id00134|0.403493538995863|0.287808366106543|0.308698094897594|\n",
            "|id27757|0.403493538995863|0.287808366106543|0.308698094897594|\n",
            "|id04081|0.403493538995863|0.287808366106543|0.308698094897594|\n",
            "|id27337|0.403493538995863|0.287808366106543|0.308698094897594|\n",
            "|id24265|0.403493538995863|0.287808366106543|0.308698094897594|\n",
            "|id25917|0.403493538995863|0.287808366106543|0.308698094897594|\n",
            "|id04951|0.403493538995863|0.287808366106543|0.308698094897594|\n",
            "|id14549|0.403493538995863|0.287808366106543|0.308698094897594|\n",
            "|id22505|0.403493538995863|0.287808366106543|0.308698094897594|\n",
            "|id24002|0.403493538995863|0.287808366106543|0.308698094897594|\n",
            "|id18982|0.403493538995863|0.287808366106543|0.308698094897594|\n",
            "|id15181|0.403493538995863|0.287808366106543|0.308698094897594|\n",
            "|id21888|0.403493538995863|0.287808366106543|0.308698094897594|\n",
            "|id12035|0.403493538995863|0.287808366106543|0.308698094897594|\n",
            "|id17991|0.403493538995863|0.287808366106543|0.308698094897594|\n",
            "|id10707|0.403493538995863|0.287808366106543|0.308698094897594|\n",
            "|id07101|0.403493538995863|0.287808366106543|0.308698094897594|\n",
            "|id00345|0.403493538995863|0.287808366106543|0.308698094897594|\n",
            "+-------+-----------------+-----------------+-----------------+\n",
            "only showing top 20 rows\n",
            "\n"
          ]
        }
      ]
    },
    {
      "cell_type": "code",
      "source": [
        "spark = SparkSession.builder.appName(\"sheikhuddin1\").getOrCreate()\n"
      ],
      "metadata": {
        "id": "1TdB6nCKLAnZ"
      },
      "execution_count": 45,
      "outputs": []
    },
    {
      "cell_type": "code",
      "source": [
        "df = spark.read.csv(\"/content/sample_submission.csv\", header=True)\n",
        "df.show()\n"
      ],
      "metadata": {
        "colab": {
          "base_uri": "https://localhost:8080/"
        },
        "id": "I8Ym0V2ALGFN",
        "outputId": "221d997a-5ab6-4c28-c84c-6d1a084021ad"
      },
      "execution_count": 46,
      "outputs": [
        {
          "output_type": "stream",
          "name": "stdout",
          "text": [
            "+-------+-----------------+-----------------+-----------------+\n",
            "|     id|              EAP|              HPL|              MWS|\n",
            "+-------+-----------------+-----------------+-----------------+\n",
            "|id02310|0.403493538995863|0.287808366106543|0.308698094897594|\n",
            "|id24541|0.403493538995863|0.287808366106543|0.308698094897594|\n",
            "|id00134|0.403493538995863|0.287808366106543|0.308698094897594|\n",
            "|id27757|0.403493538995863|0.287808366106543|0.308698094897594|\n",
            "|id04081|0.403493538995863|0.287808366106543|0.308698094897594|\n",
            "|id27337|0.403493538995863|0.287808366106543|0.308698094897594|\n",
            "|id24265|0.403493538995863|0.287808366106543|0.308698094897594|\n",
            "|id25917|0.403493538995863|0.287808366106543|0.308698094897594|\n",
            "|id04951|0.403493538995863|0.287808366106543|0.308698094897594|\n",
            "|id14549|0.403493538995863|0.287808366106543|0.308698094897594|\n",
            "|id22505|0.403493538995863|0.287808366106543|0.308698094897594|\n",
            "|id24002|0.403493538995863|0.287808366106543|0.308698094897594|\n",
            "|id18982|0.403493538995863|0.287808366106543|0.308698094897594|\n",
            "|id15181|0.403493538995863|0.287808366106543|0.308698094897594|\n",
            "|id21888|0.403493538995863|0.287808366106543|0.308698094897594|\n",
            "|id12035|0.403493538995863|0.287808366106543|0.308698094897594|\n",
            "|id17991|0.403493538995863|0.287808366106543|0.308698094897594|\n",
            "|id10707|0.403493538995863|0.287808366106543|0.308698094897594|\n",
            "|id07101|0.403493538995863|0.287808366106543|0.308698094897594|\n",
            "|id00345|0.403493538995863|0.287808366106543|0.308698094897594|\n",
            "+-------+-----------------+-----------------+-----------------+\n",
            "only showing top 20 rows\n",
            "\n"
          ]
        }
      ]
    },
    {
      "cell_type": "markdown",
      "source": [
        "Step 0"
      ],
      "metadata": {
        "id": "pzz_hKzT2OKC"
      }
    },
    {
      "cell_type": "code",
      "source": [
        "!pip install findspark\n"
      ],
      "metadata": {
        "colab": {
          "base_uri": "https://localhost:8080/"
        },
        "id": "GzYnokwOBifL",
        "outputId": "42ee45a9-510f-4e29-9286-818f5c6939a6"
      },
      "execution_count": 48,
      "outputs": [
        {
          "output_type": "stream",
          "name": "stdout",
          "text": [
            "Requirement already satisfied: findspark in /usr/local/lib/python3.10/dist-packages (2.0.1)\n"
          ]
        }
      ]
    },
    {
      "cell_type": "code",
      "source": [
        "!pip install pyspark\n"
      ],
      "metadata": {
        "colab": {
          "base_uri": "https://localhost:8080/"
        },
        "id": "pJ4cxtfiBvYl",
        "outputId": "39c72e46-c57a-49c5-d540-c74b09a0b3f5"
      },
      "execution_count": 51,
      "outputs": [
        {
          "output_type": "stream",
          "name": "stdout",
          "text": [
            "Requirement already satisfied: pyspark in /usr/local/lib/python3.10/dist-packages (3.1.2)\n",
            "Requirement already satisfied: py4j==0.10.9 in /usr/local/lib/python3.10/dist-packages (from pyspark) (0.10.9)\n"
          ]
        }
      ]
    },
    {
      "cell_type": "code",
      "source": [
        "import findspark\n",
        "from pyspark.sql import SparkSession\n",
        "\n",
        "# Set the SPARK_HOME environment variable to the Spark directory path\n",
        "spark_home = '/path/to/spark-3.1.2-bin-hadoop3.2'\n",
        "findspark.init(spark_home=spark_home)\n",
        "\n",
        "# Create a SparkSession\n",
        "spark = SparkSession.builder.appName(\"DataExploration\").getOrCreate()\n",
        "\n",
        "# Load the data into a DataFrame\n",
        "df = spark.read.format(\"csv\").option(\"header\", \"true\").load(\"/content/sample_submission.csv\")\n",
        "\n",
        "# Explore the structure of the DataFrame\n",
        "df.printSchema()\n",
        "\n",
        "# Check the size of the DataFrame (number of rows, number of columns)\n",
        "num_rows = df.count()\n",
        "num_cols = len(df.columns)\n",
        "print(f\"Number of rows: {num_rows}\")\n",
        "print(f\"Number of columns: {num_cols}\")\n",
        "\n",
        "# Calculate the distribution of information\n",
        "column_distribution = df.groupBy(\"EAP\", \"HPL\", \"MWS\").count()\n",
        "column_distribution.show()\n",
        "\n",
        "# Display the DataFrame\n",
        "df.show()\n",
        "print(df.columns)\n"
      ],
      "metadata": {
        "colab": {
          "base_uri": "https://localhost:8080/"
        },
        "id": "C8z6pV31CcPx",
        "outputId": "53e6f8e1-a08f-4d28-d657-1c35e6c2bf5a"
      },
      "execution_count": 47,
      "outputs": [
        {
          "output_type": "stream",
          "name": "stdout",
          "text": [
            "root\n",
            " |-- id: string (nullable = true)\n",
            " |-- EAP: string (nullable = true)\n",
            " |-- HPL: string (nullable = true)\n",
            " |-- MWS: string (nullable = true)\n",
            "\n",
            "Number of rows: 8392\n",
            "Number of columns: 4\n",
            "+-----------------+-----------------+-----------------+-----+\n",
            "|              EAP|              HPL|              MWS|count|\n",
            "+-----------------+-----------------+-----------------+-----+\n",
            "|0.403493538995863|0.287808366106543|0.308698094897594| 8392|\n",
            "+-----------------+-----------------+-----------------+-----+\n",
            "\n",
            "+-------+-----------------+-----------------+-----------------+\n",
            "|     id|              EAP|              HPL|              MWS|\n",
            "+-------+-----------------+-----------------+-----------------+\n",
            "|id02310|0.403493538995863|0.287808366106543|0.308698094897594|\n",
            "|id24541|0.403493538995863|0.287808366106543|0.308698094897594|\n",
            "|id00134|0.403493538995863|0.287808366106543|0.308698094897594|\n",
            "|id27757|0.403493538995863|0.287808366106543|0.308698094897594|\n",
            "|id04081|0.403493538995863|0.287808366106543|0.308698094897594|\n",
            "|id27337|0.403493538995863|0.287808366106543|0.308698094897594|\n",
            "|id24265|0.403493538995863|0.287808366106543|0.308698094897594|\n",
            "|id25917|0.403493538995863|0.287808366106543|0.308698094897594|\n",
            "|id04951|0.403493538995863|0.287808366106543|0.308698094897594|\n",
            "|id14549|0.403493538995863|0.287808366106543|0.308698094897594|\n",
            "|id22505|0.403493538995863|0.287808366106543|0.308698094897594|\n",
            "|id24002|0.403493538995863|0.287808366106543|0.308698094897594|\n",
            "|id18982|0.403493538995863|0.287808366106543|0.308698094897594|\n",
            "|id15181|0.403493538995863|0.287808366106543|0.308698094897594|\n",
            "|id21888|0.403493538995863|0.287808366106543|0.308698094897594|\n",
            "|id12035|0.403493538995863|0.287808366106543|0.308698094897594|\n",
            "|id17991|0.403493538995863|0.287808366106543|0.308698094897594|\n",
            "|id10707|0.403493538995863|0.287808366106543|0.308698094897594|\n",
            "|id07101|0.403493538995863|0.287808366106543|0.308698094897594|\n",
            "|id00345|0.403493538995863|0.287808366106543|0.308698094897594|\n",
            "+-------+-----------------+-----------------+-----------------+\n",
            "only showing top 20 rows\n",
            "\n",
            "['id', 'EAP', 'HPL', 'MWS']\n"
          ]
        }
      ]
    },
    {
      "cell_type": "code",
      "source": [
        "import findspark\n",
        "from pyspark.sql import SparkSession\n",
        "\n",
        "# Initialize Spark\n",
        "findspark.init()\n",
        "\n",
        "# Create a SparkSession\n",
        "spark = SparkSession.builder.appName(\"DataExploration\").getOrCreate()\n",
        "\n",
        "\n",
        "# Create a SparkSession\n",
        "spark = SparkSession.builder.appName(\"DataExploration\").getOrCreate()\n",
        "\n",
        "\n",
        "# Load the data into a DataFrame\n",
        "df = spark.read.format(\"csv\").option(\"header\", \"true\").load(\"/content/sample_submission.csv\")\n",
        "\n",
        "# Explore the structure of the DataFrame\n",
        "df.printSchema()\n",
        "\n",
        "# Check the size of the DataFrame (number of rows, number of columns)\n",
        "num_rows = df.count()\n",
        "num_cols = len(df.columns)\n",
        "print(f\"Number of rows: {num_rows}\")\n",
        "print(f\"Number of columns: {num_cols}\")\n",
        "\n",
        "# Calculate the distribution of information\n",
        "# Calculate the distribution of information\n",
        "column_distribution = df.groupBy(\"EAP\", \"HPL\", \"MWS\").count()\n",
        "column_distribution.show()\n",
        "\n",
        "\n",
        "# Display the DataFrame\n",
        "df.show()\n",
        "print(df.columns)\n",
        "\n",
        "\n"
      ],
      "metadata": {
        "colab": {
          "base_uri": "https://localhost:8080/"
        },
        "id": "AaEL4LkJBSbw",
        "outputId": "b1ad6479-c9f4-4e05-948b-fbae55bfcacb"
      },
      "execution_count": 48,
      "outputs": [
        {
          "output_type": "stream",
          "name": "stdout",
          "text": [
            "root\n",
            " |-- id: string (nullable = true)\n",
            " |-- EAP: string (nullable = true)\n",
            " |-- HPL: string (nullable = true)\n",
            " |-- MWS: string (nullable = true)\n",
            "\n",
            "Number of rows: 8392\n",
            "Number of columns: 4\n",
            "+-----------------+-----------------+-----------------+-----+\n",
            "|              EAP|              HPL|              MWS|count|\n",
            "+-----------------+-----------------+-----------------+-----+\n",
            "|0.403493538995863|0.287808366106543|0.308698094897594| 8392|\n",
            "+-----------------+-----------------+-----------------+-----+\n",
            "\n",
            "+-------+-----------------+-----------------+-----------------+\n",
            "|     id|              EAP|              HPL|              MWS|\n",
            "+-------+-----------------+-----------------+-----------------+\n",
            "|id02310|0.403493538995863|0.287808366106543|0.308698094897594|\n",
            "|id24541|0.403493538995863|0.287808366106543|0.308698094897594|\n",
            "|id00134|0.403493538995863|0.287808366106543|0.308698094897594|\n",
            "|id27757|0.403493538995863|0.287808366106543|0.308698094897594|\n",
            "|id04081|0.403493538995863|0.287808366106543|0.308698094897594|\n",
            "|id27337|0.403493538995863|0.287808366106543|0.308698094897594|\n",
            "|id24265|0.403493538995863|0.287808366106543|0.308698094897594|\n",
            "|id25917|0.403493538995863|0.287808366106543|0.308698094897594|\n",
            "|id04951|0.403493538995863|0.287808366106543|0.308698094897594|\n",
            "|id14549|0.403493538995863|0.287808366106543|0.308698094897594|\n",
            "|id22505|0.403493538995863|0.287808366106543|0.308698094897594|\n",
            "|id24002|0.403493538995863|0.287808366106543|0.308698094897594|\n",
            "|id18982|0.403493538995863|0.287808366106543|0.308698094897594|\n",
            "|id15181|0.403493538995863|0.287808366106543|0.308698094897594|\n",
            "|id21888|0.403493538995863|0.287808366106543|0.308698094897594|\n",
            "|id12035|0.403493538995863|0.287808366106543|0.308698094897594|\n",
            "|id17991|0.403493538995863|0.287808366106543|0.308698094897594|\n",
            "|id10707|0.403493538995863|0.287808366106543|0.308698094897594|\n",
            "|id07101|0.403493538995863|0.287808366106543|0.308698094897594|\n",
            "|id00345|0.403493538995863|0.287808366106543|0.308698094897594|\n",
            "+-------+-----------------+-----------------+-----------------+\n",
            "only showing top 20 rows\n",
            "\n",
            "['id', 'EAP', 'HPL', 'MWS']\n"
          ]
        }
      ]
    },
    {
      "cell_type": "code",
      "source": [
        "import findspark\n",
        "from pyspark.sql import SparkSession\n",
        "\n",
        "# Set the SPARK_HOME environment variable to the Spark directory path\n",
        "findspark.init(spark_home='/path/to/spark-3.1.2-bin-hadoop3.2')\n",
        "\n",
        "# Create a SparkSession\n",
        "spark = SparkSession.builder.appName(\"DataExploration\").getOrCreate()\n",
        "\n",
        "# Load the data into a DataFrame\n",
        "df = spark.read.format(\"csv\").option(\"header\", \"true\").load(\"/content/sample_submission.csv\")\n",
        "\n",
        "# Explore the structure of the DataFrame\n",
        "df.printSchema()\n",
        "\n",
        "# Check the size of the DataFrame (number of rows, number of columns)\n",
        "num_rows = df.count()\n",
        "num_cols = len(df.columns)\n",
        "print(f\"Number of rows: {num_rows}\")\n",
        "print(f\"Number of columns: {num_cols}\")\n",
        "\n",
        "# Calculate the distribution of information\n",
        "# Calculate the distribution of information\n",
        "column_distribution = df.groupBy(\"EAP\", \"HPL\", \"MWS\").count()\n",
        "column_distribution.show()\n",
        "\n",
        "\n",
        "# Display the DataFrame\n",
        "df.show()\n",
        "print(df.columns)\n",
        "\n"
      ],
      "metadata": {
        "colab": {
          "base_uri": "https://localhost:8080/"
        },
        "id": "bTIN4NuK2OY4",
        "outputId": "67a91f46-fc13-4e04-a1ef-4e9aba819799"
      },
      "execution_count": 49,
      "outputs": [
        {
          "output_type": "stream",
          "name": "stdout",
          "text": [
            "root\n",
            " |-- id: string (nullable = true)\n",
            " |-- EAP: string (nullable = true)\n",
            " |-- HPL: string (nullable = true)\n",
            " |-- MWS: string (nullable = true)\n",
            "\n",
            "Number of rows: 8392\n",
            "Number of columns: 4\n",
            "+-----------------+-----------------+-----------------+-----+\n",
            "|              EAP|              HPL|              MWS|count|\n",
            "+-----------------+-----------------+-----------------+-----+\n",
            "|0.403493538995863|0.287808366106543|0.308698094897594| 8392|\n",
            "+-----------------+-----------------+-----------------+-----+\n",
            "\n",
            "+-------+-----------------+-----------------+-----------------+\n",
            "|     id|              EAP|              HPL|              MWS|\n",
            "+-------+-----------------+-----------------+-----------------+\n",
            "|id02310|0.403493538995863|0.287808366106543|0.308698094897594|\n",
            "|id24541|0.403493538995863|0.287808366106543|0.308698094897594|\n",
            "|id00134|0.403493538995863|0.287808366106543|0.308698094897594|\n",
            "|id27757|0.403493538995863|0.287808366106543|0.308698094897594|\n",
            "|id04081|0.403493538995863|0.287808366106543|0.308698094897594|\n",
            "|id27337|0.403493538995863|0.287808366106543|0.308698094897594|\n",
            "|id24265|0.403493538995863|0.287808366106543|0.308698094897594|\n",
            "|id25917|0.403493538995863|0.287808366106543|0.308698094897594|\n",
            "|id04951|0.403493538995863|0.287808366106543|0.308698094897594|\n",
            "|id14549|0.403493538995863|0.287808366106543|0.308698094897594|\n",
            "|id22505|0.403493538995863|0.287808366106543|0.308698094897594|\n",
            "|id24002|0.403493538995863|0.287808366106543|0.308698094897594|\n",
            "|id18982|0.403493538995863|0.287808366106543|0.308698094897594|\n",
            "|id15181|0.403493538995863|0.287808366106543|0.308698094897594|\n",
            "|id21888|0.403493538995863|0.287808366106543|0.308698094897594|\n",
            "|id12035|0.403493538995863|0.287808366106543|0.308698094897594|\n",
            "|id17991|0.403493538995863|0.287808366106543|0.308698094897594|\n",
            "|id10707|0.403493538995863|0.287808366106543|0.308698094897594|\n",
            "|id07101|0.403493538995863|0.287808366106543|0.308698094897594|\n",
            "|id00345|0.403493538995863|0.287808366106543|0.308698094897594|\n",
            "+-------+-----------------+-----------------+-----------------+\n",
            "only showing top 20 rows\n",
            "\n",
            "['id', 'EAP', 'HPL', 'MWS']\n"
          ]
        }
      ]
    },
    {
      "cell_type": "code",
      "source": [
        "import pandas as pd\n",
        "\n",
        "# Read the CSV files\n",
        "sample_submission = pd.read_csv(\"/content/sample_submission.csv\")\n",
        "test = pd.read_csv(\"/content/test.csv\")\n",
        "train = pd.read_csv(\"/content/train.csv\")\n",
        "\n",
        "# Print the headers\n",
        "print(\"Sample Submission Header:\")\n",
        "print(sample_submission.head())\n",
        "print(sample_submission.columns)\n",
        "print(\"Test Header:\")\n",
        "print(test.head())\n",
        "print(test.columns)\n",
        "\n",
        "print(\"Train Header:\")\n",
        "print(train.head())\n",
        "print(train.columns)\n"
      ],
      "metadata": {
        "colab": {
          "base_uri": "https://localhost:8080/"
        },
        "id": "QBuk5o9HBLDK",
        "outputId": "ac3a1b1f-74e8-4dc2-87a8-88d6bb00c288"
      },
      "execution_count": 10,
      "outputs": [
        {
          "output_type": "stream",
          "name": "stdout",
          "text": [
            "Sample Submission Header:\n",
            "        id       EAP       HPL       MWS\n",
            "0  id02310  0.403494  0.287808  0.308698\n",
            "1  id24541  0.403494  0.287808  0.308698\n",
            "2  id00134  0.403494  0.287808  0.308698\n",
            "3  id27757  0.403494  0.287808  0.308698\n",
            "4  id04081  0.403494  0.287808  0.308698\n",
            "Index(['id', 'EAP', 'HPL', 'MWS'], dtype='object')\n",
            "Test Header:\n",
            "        id                                               text\n",
            "0  id02310  Still, as I urged our leaving Ireland with suc...\n",
            "1  id24541  If a fire wanted fanning, it could readily be ...\n",
            "2  id00134  And when they had broken down the frail door t...\n",
            "3  id27757  While I was thinking how I should possibly man...\n",
            "4  id04081  I am not sure to what limit his knowledge may ...\n",
            "Index(['id', 'text'], dtype='object')\n",
            "Train Header:\n",
            "        id                                               text author\n",
            "0  id26305  This process, however, afforded me no means of...    EAP\n",
            "1  id17569  It never once occurred to me that the fumbling...    HPL\n",
            "2  id11008  In his left hand was a gold snuff box, from wh...    EAP\n",
            "3  id27763  How lovely is spring As we looked from Windsor...    MWS\n",
            "4  id12958  Finding nothing else, not even gold, the Super...    HPL\n",
            "Index(['id', 'text', 'author'], dtype='object')\n"
          ]
        }
      ]
    },
    {
      "cell_type": "markdown",
      "source": [
        "#=>Step 1"
      ],
      "metadata": {
        "id": "eG7mtvPY4qrR"
      }
    },
    {
      "cell_type": "markdown",
      "source": [
        "Data Preparation - Exploratory data analysis and text mining pre-processing\n",
        "3. Perform exploratory data analysis and create visualizations and tables as needed."
      ],
      "metadata": {
        "id": "rBdP5lfs4s1u"
      }
    },
    {
      "cell_type": "code",
      "source": [
        "import pandas as pd\n",
        "import matplotlib.pyplot as plt\n",
        "from wordcloud import WordCloud\n",
        "\n",
        "# Load the data into a DataFrame\n",
        "df = pd.read_csv('/content/sample_submission.csv')\n",
        "\n",
        "# Convert numeric columns to strings\n",
        "df[['EAP', 'HPL', 'MWS']] = df[['EAP', 'HPL', 'MWS']].astype(str)\n",
        "\n",
        "# Perform word frequency analysis\n",
        "word_counts = df[['EAP', 'HPL', 'MWS']].stack().value_counts()\n",
        "top_words = word_counts.head(10)\n",
        "\n",
        "# Create a bar chart for top words\n",
        "plt.figure(figsize=(10, 6))\n",
        "plt.bar(top_words.index, top_words.values)\n",
        "plt.xlabel('Words')\n",
        "plt.ylabel('Frequency')\n",
        "plt.title('Top 10 Most Common Words')\n",
        "plt.xticks(rotation=45)\n",
        "plt.show()\n",
        "\n",
        "# Generate a word cloud\n",
        "wordcloud = WordCloud(width=800, height=400, background_color='white').generate(' '.join(df[['EAP', 'HPL', 'MWS']].values.flatten()))\n",
        "plt.figure(figsize=(12, 8))\n",
        "plt.imshow(wordcloud, interpolation='bilinear')\n",
        "plt.axis('off')\n",
        "plt.title('Word Cloud')\n",
        "plt.show()\n",
        "\n",
        "# Perform author distribution analysis\n",
        "author_counts = df[['EAP', 'HPL', 'MWS']].count()\n",
        "\n",
        "# Create a pie chart for author distribution\n",
        "plt.figure(figsize=(8, 6))\n",
        "plt.pie(author_counts, labels=author_counts.index, autopct='%1.1f%%', startangle=90)\n",
        "plt.title('Author Distribution')\n",
        "plt.show()\n"
      ],
      "metadata": {
        "colab": {
          "base_uri": "https://localhost:8080/",
          "height": 1000
        },
        "id": "FFOr7j9E40VR",
        "outputId": "9f33be40-fa7a-4b2a-cb88-6639a3037c52"
      },
      "execution_count": 50,
      "outputs": [
        {
          "output_type": "display_data",
          "data": {
            "text/plain": [
              "<Figure size 1000x600 with 1 Axes>"
            ],
            "image/png": "[encoded data removed]"
          },
          "metadata": {}
        },
        {
          "output_type": "error",
          "ename": "ValueError",
          "evalue": "ignored",
          "traceback": [
            "\u001b[0;31m---------------------------------------------------------------------------\u001b[0m",
            "\u001b[0;31mValueError\u001b[0m                                Traceback (most recent call last)",
            "\u001b[0;32m<ipython-input-50-3278d2ec5d89>\u001b[0m in \u001b[0;36m<cell line: 25>\u001b[0;34m()\u001b[0m\n\u001b[1;32m     23\u001b[0m \u001b[0;34m\u001b[0m\u001b[0m\n\u001b[1;32m     24\u001b[0m \u001b[0;31m# Generate a word cloud\u001b[0m\u001b[0;34m\u001b[0m\u001b[0;34m\u001b[0m\u001b[0m\n\u001b[0;32m---> 25\u001b[0;31m \u001b[0mwordcloud\u001b[0m \u001b[0;34m=\u001b[0m \u001b[0mWordCloud\u001b[0m\u001b[0;34m(\u001b[0m\u001b[0mwidth\u001b[0m\u001b[0;34m=\u001b[0m\u001b[0;36m800\u001b[0m\u001b[0;34m,\u001b[0m \u001b[0mheight\u001b[0m\u001b[0;34m=\u001b[0m\u001b[0;36m400\u001b[0m\u001b[0;34m,\u001b[0m \u001b[0mbackground_color\u001b[0m\u001b[0;34m=\u001b[0m\u001b[0;34m'white'\u001b[0m\u001b[0;34m)\u001b[0m\u001b[0;34m.\u001b[0m\u001b[0mgenerate\u001b[0m\u001b[0;34m(\u001b[0m\u001b[0;34m' '\u001b[0m\u001b[0;34m.\u001b[0m\u001b[0mjoin\u001b[0m\u001b[0;34m(\u001b[0m\u001b[0mdf\u001b[0m\u001b[0;34m[\u001b[0m\u001b[0;34m[\u001b[0m\u001b[0;34m'EAP'\u001b[0m\u001b[0;34m,\u001b[0m \u001b[0;34m'HPL'\u001b[0m\u001b[0;34m,\u001b[0m \u001b[0;34m'MWS'\u001b[0m\u001b[0;34m]\u001b[0m\u001b[0;34m]\u001b[0m\u001b[0;34m.\u001b[0m\u001b[0mvalues\u001b[0m\u001b[0;34m.\u001b[0m\u001b[0mflatten\u001b[0m\u001b[0;34m(\u001b[0m\u001b[0;34m)\u001b[0m\u001b[0;34m)\u001b[0m\u001b[0;34m)\u001b[0m\u001b[0;34m\u001b[0m\u001b[0;34m\u001b[0m\u001b[0m\n\u001b[0m\u001b[1;32m     26\u001b[0m \u001b[0mplt\u001b[0m\u001b[0;34m.\u001b[0m\u001b[0mfigure\u001b[0m\u001b[0;34m(\u001b[0m\u001b[0mfigsize\u001b[0m\u001b[0;34m=\u001b[0m\u001b[0;34m(\u001b[0m\u001b[0;36m12\u001b[0m\u001b[0;34m,\u001b[0m \u001b[0;36m8\u001b[0m\u001b[0;34m)\u001b[0m\u001b[0;34m)\u001b[0m\u001b[0;34m\u001b[0m\u001b[0;34m\u001b[0m\u001b[0m\n\u001b[1;32m     27\u001b[0m \u001b[0mplt\u001b[0m\u001b[0;34m.\u001b[0m\u001b[0mimshow\u001b[0m\u001b[0;34m(\u001b[0m\u001b[0mwordcloud\u001b[0m\u001b[0;34m,\u001b[0m \u001b[0minterpolation\u001b[0m\u001b[0;34m=\u001b[0m\u001b[0;34m'bilinear'\u001b[0m\u001b[0;34m)\u001b[0m\u001b[0;34m\u001b[0m\u001b[0;34m\u001b[0m\u001b[0m\n",
            "\u001b[0;32m/usr/local/lib/python3.10/dist-packages/wordcloud/wordcloud.py\u001b[0m in \u001b[0;36mgenerate\u001b[0;34m(self, text)\u001b[0m\n\u001b[1;32m    637\u001b[0m         \u001b[0mself\u001b[0m\u001b[0;34m\u001b[0m\u001b[0;34m\u001b[0m\u001b[0m\n\u001b[1;32m    638\u001b[0m         \"\"\"\n\u001b[0;32m--> 639\u001b[0;31m         \u001b[0;32mreturn\u001b[0m \u001b[0mself\u001b[0m\u001b[0;34m.\u001b[0m\u001b[0mgenerate_from_text\u001b[0m\u001b[0;34m(\u001b[0m\u001b[0mtext\u001b[0m\u001b[0;34m)\u001b[0m\u001b[0;34m\u001b[0m\u001b[0;34m\u001b[0m\u001b[0m\n\u001b[0m\u001b[1;32m    640\u001b[0m \u001b[0;34m\u001b[0m\u001b[0m\n\u001b[1;32m    641\u001b[0m     \u001b[0;32mdef\u001b[0m \u001b[0m_check_generated\u001b[0m\u001b[0;34m(\u001b[0m\u001b[0mself\u001b[0m\u001b[0;34m)\u001b[0m\u001b[0;34m:\u001b[0m\u001b[0;34m\u001b[0m\u001b[0;34m\u001b[0m\u001b[0m\n",
            "\u001b[0;32m/usr/local/lib/python3.10/dist-packages/wordcloud/wordcloud.py\u001b[0m in \u001b[0;36mgenerate_from_text\u001b[0;34m(self, text)\u001b[0m\n\u001b[1;32m    619\u001b[0m         \"\"\"\n\u001b[1;32m    620\u001b[0m         \u001b[0mwords\u001b[0m \u001b[0;34m=\u001b[0m \u001b[0mself\u001b[0m\u001b[0;34m.\u001b[0m\u001b[0mprocess_text\u001b[0m\u001b[0;34m(\u001b[0m\u001b[0mtext\u001b[0m\u001b[0;34m)\u001b[0m\u001b[0;34m\u001b[0m\u001b[0;34m\u001b[0m\u001b[0m\n\u001b[0;32m--> 621\u001b[0;31m         \u001b[0mself\u001b[0m\u001b[0;34m.\u001b[0m\u001b[0mgenerate_from_frequencies\u001b[0m\u001b[0;34m(\u001b[0m\u001b[0mwords\u001b[0m\u001b[0;34m)\u001b[0m\u001b[0;34m\u001b[0m\u001b[0;34m\u001b[0m\u001b[0m\n\u001b[0m\u001b[1;32m    622\u001b[0m         \u001b[0;32mreturn\u001b[0m \u001b[0mself\u001b[0m\u001b[0;34m\u001b[0m\u001b[0;34m\u001b[0m\u001b[0m\n\u001b[1;32m    623\u001b[0m \u001b[0;34m\u001b[0m\u001b[0m\n",
            "\u001b[0;32m/usr/local/lib/python3.10/dist-packages/wordcloud/wordcloud.py\u001b[0m in \u001b[0;36mgenerate_from_frequencies\u001b[0;34m(self, frequencies, max_font_size)\u001b[0m\n\u001b[1;32m    408\u001b[0m         \u001b[0mfrequencies\u001b[0m \u001b[0;34m=\u001b[0m \u001b[0msorted\u001b[0m\u001b[0;34m(\u001b[0m\u001b[0mfrequencies\u001b[0m\u001b[0;34m.\u001b[0m\u001b[0mitems\u001b[0m\u001b[0;34m(\u001b[0m\u001b[0;34m)\u001b[0m\u001b[0;34m,\u001b[0m \u001b[0mkey\u001b[0m\u001b[0;34m=\u001b[0m\u001b[0mitemgetter\u001b[0m\u001b[0;34m(\u001b[0m\u001b[0;36m1\u001b[0m\u001b[0;34m)\u001b[0m\u001b[0;34m,\u001b[0m \u001b[0mreverse\u001b[0m\u001b[0;34m=\u001b[0m\u001b[0;32mTrue\u001b[0m\u001b[0;34m)\u001b[0m\u001b[0;34m\u001b[0m\u001b[0;34m\u001b[0m\u001b[0m\n\u001b[1;32m    409\u001b[0m         \u001b[0;32mif\u001b[0m \u001b[0mlen\u001b[0m\u001b[0;34m(\u001b[0m\u001b[0mfrequencies\u001b[0m\u001b[0;34m)\u001b[0m \u001b[0;34m<=\u001b[0m \u001b[0;36m0\u001b[0m\u001b[0;34m:\u001b[0m\u001b[0;34m\u001b[0m\u001b[0;34m\u001b[0m\u001b[0m\n\u001b[0;32m--> 410\u001b[0;31m             raise ValueError(\"We need at least 1 word to plot a word cloud, \"\n\u001b[0m\u001b[1;32m    411\u001b[0m                              \"got %d.\" % len(frequencies))\n\u001b[1;32m    412\u001b[0m         \u001b[0mfrequencies\u001b[0m \u001b[0;34m=\u001b[0m \u001b[0mfrequencies\u001b[0m\u001b[0;34m[\u001b[0m\u001b[0;34m:\u001b[0m\u001b[0mself\u001b[0m\u001b[0;34m.\u001b[0m\u001b[0mmax_words\u001b[0m\u001b[0;34m]\u001b[0m\u001b[0;34m\u001b[0m\u001b[0;34m\u001b[0m\u001b[0m\n",
            "\u001b[0;31mValueError\u001b[0m: We need at least 1 word to plot a word cloud, got 0."
          ]
        }
      ]
    },
    {
      "cell_type": "code",
      "source": [
        "import pandas as pd\n",
        "\n",
        "# Read the CSV file into a DataFrame\n",
        "df = pd.read_csv('/content/sample_submission.csv')\n",
        "\n",
        "# Display the structure, size, and distribution of information\n",
        "print(\"DataFrame Shape:\", df.shape)\n",
        "print(\"Columns:\", df.columns)\n",
        "print(\"Data Types:\\n\", df.dtypes)\n",
        "print(\"Data Summary:\\n\", df.describe())\n"
      ],
      "metadata": {
        "colab": {
          "base_uri": "https://localhost:8080/"
        },
        "id": "Xpqxs58c8m_I",
        "outputId": "808a1f45-e1ea-4756-c5ea-df4d6b53fc25"
      },
      "execution_count": 51,
      "outputs": [
        {
          "output_type": "stream",
          "name": "stdout",
          "text": [
            "DataFrame Shape: (8392, 4)\n",
            "Columns: Index(['id', 'EAP', 'HPL', 'MWS'], dtype='object')\n",
            "Data Types:\n",
            " id      object\n",
            "EAP    float64\n",
            "HPL    float64\n",
            "MWS    float64\n",
            "dtype: object\n",
            "Data Summary:\n",
            "                 EAP           HPL           MWS\n",
            "count  8.392000e+03  8.392000e+03  8.392000e+03\n",
            "mean   4.034935e-01  2.878084e-01  3.086981e-01\n",
            "std    1.110289e-16  5.551446e-17  5.551446e-17\n",
            "min    4.034935e-01  2.878084e-01  3.086981e-01\n",
            "25%    4.034935e-01  2.878084e-01  3.086981e-01\n",
            "50%    4.034935e-01  2.878084e-01  3.086981e-01\n",
            "75%    4.034935e-01  2.878084e-01  3.086981e-01\n",
            "max    4.034935e-01  2.878084e-01  3.086981e-01\n"
          ]
        }
      ]
    },
    {
      "cell_type": "code",
      "source": [
        "import pandas as pd\n",
        "import matplotlib.pyplot as plt\n",
        "import seaborn as sns\n",
        "\n",
        "# Read the CSV file into a DataFrame\n",
        "df = pd.read_csv('/content/sample_submission.csv')\n",
        "\n",
        "# Explore the structure and summary statistics of the data\n",
        "print(\"DataFrame Shape:\", df.shape)\n",
        "print(\"Columns:\", df.columns)\n",
        "print(\"Data Types:\\n\", df.dtypes)\n",
        "print(\"Data Summary:\\n\", df.describe())\n",
        "\n",
        "# Create visualizations\n",
        "# Example 1: Histogram of a numerical column\n",
        "plt.figure(figsize=(8, 6))\n",
        "sns.histplot(df['EAP'])\n",
        "plt.xlabel('EAP')\n",
        "plt.ylabel('Count')\n",
        "plt.title('Histogram of EAP')\n",
        "plt.show()\n",
        "\n",
        "# Example 2: Bar plot of a categorical column\n",
        "plt.figure(figsize=(10, 6))\n",
        "sns.countplot(x='HPL', data=df)\n",
        "plt.xlabel('HPL')\n",
        "plt.ylabel('Count')\n",
        "plt.title('Bar Plot of HPL')\n",
        "plt.xticks(rotation=90)\n",
        "plt.show()\n",
        "\n",
        "# Example 3: Correlation heatmap of numerical columns\n",
        "correlation_matrix = df[['EAP', 'HPL', 'MWS']].corr()\n",
        "plt.figure(figsize=(10, 8))\n",
        "sns.heatmap(correlation_matrix, annot=True, cmap='coolwarm')\n",
        "plt.title('Correlation Heatmap')\n",
        "plt.show()\n",
        "\n",
        "# Example 4: Box plot of a numerical column by a categorical column\n",
        "plt.figure(figsize=(10, 6))\n",
        "sns.boxplot(x='HPL', y='EAP', data=df)\n",
        "plt.xlabel('HPL')\n",
        "plt.ylabel('EAP')\n",
        "plt.title('Box Plot')\n",
        "plt.xticks(rotation=90)\n",
        "plt.show()\n",
        "\n",
        "# Example 5: Scatter plot of two numerical columns\n",
        "plt.figure(figsize=(8, 6))\n",
        "sns.scatterplot(x='EAP', y='MWS', data=df)\n",
        "plt.xlabel('EAP')\n",
        "plt.ylabel('MWS')\n",
        "plt.title('Scatter Plot')\n",
        "plt.show()\n"
      ],
      "metadata": {
        "colab": {
          "base_uri": "https://localhost:8080/",
          "height": 1000
        },
        "id": "GT6KiaH085dN",
        "outputId": "86b9cff9-ac34-4324-80bb-6ad3e5148e01"
      },
      "execution_count": 52,
      "outputs": [
        {
          "output_type": "stream",
          "name": "stdout",
          "text": [
            "DataFrame Shape: (8392, 4)\n",
            "Columns: Index(['id', 'EAP', 'HPL', 'MWS'], dtype='object')\n",
            "Data Types:\n",
            " id      object\n",
            "EAP    float64\n",
            "HPL    float64\n",
            "MWS    float64\n",
            "dtype: object\n",
            "Data Summary:\n",
            "                 EAP           HPL           MWS\n",
            "count  8.392000e+03  8.392000e+03  8.392000e+03\n",
            "mean   4.034935e-01  2.878084e-01  3.086981e-01\n",
            "std    1.110289e-16  5.551446e-17  5.551446e-17\n",
            "min    4.034935e-01  2.878084e-01  3.086981e-01\n",
            "25%    4.034935e-01  2.878084e-01  3.086981e-01\n",
            "50%    4.034935e-01  2.878084e-01  3.086981e-01\n",
            "75%    4.034935e-01  2.878084e-01  3.086981e-01\n",
            "max    4.034935e-01  2.878084e-01  3.086981e-01\n"
          ]
        },
        {
          "output_type": "display_data",
          "data": {
            "text/plain": [
              "<Figure size 800x600 with 1 Axes>"
            ],
            "image/png": "[encoded data removed]"
          },
          "metadata": {}
        },
        {
          "output_type": "display_data",
          "data": {
            "text/plain": [
              "<Figure size 1000x600 with 1 Axes>"
            ],
            "image/png": "[encoded data removed]"
          },
          "metadata": {}
        },
        {
          "output_type": "stream",
          "name": "stderr",
          "text": [
            "/usr/local/lib/python3.10/dist-packages/seaborn/matrix.py:202: RuntimeWarning: All-NaN slice encountered\n",
            "  vmin = np.nanmin(calc_data)\n",
            "/usr/local/lib/python3.10/dist-packages/seaborn/matrix.py:207: RuntimeWarning: All-NaN slice encountered\n",
            "  vmax = np.nanmax(calc_data)\n"
          ]
        },
        {
          "output_type": "display_data",
          "data": {
            "text/plain": [
              "<Figure size 1000x800 with 2 Axes>"
            ],
            "image/png": "[encoded data removed]"
          },
          "metadata": {}
        },
        {
          "output_type": "display_data",
          "data": {
            "text/plain": [
              "<Figure size 1000x600 with 1 Axes>"
            ],
            "image/png": "[encoded data removed]"
          },
          "metadata": {}
        },
        {
          "output_type": "display_data",
          "data": {
            "text/plain": [
              "<Figure size 800x600 with 1 Axes>"
            ],
            "image/png": "[encoded data removed]"
          },
          "metadata": {}
        }
      ]
    },
    {
      "cell_type": "code",
      "source": [
        "import pandas as pd\n",
        "from collections import Counter\n",
        "import matplotlib.pyplot as plt\n",
        "\n",
        "# Read the CSV file into a DataFrame\n",
        "df = pd.read_csv('/content/sample_submission.csv')\n",
        "\n",
        "# Preprocess the text data (tokenization and removing stopwords)\n",
        "stopwords = ['I', 'you', 'he', 'she', 'it', 'we', 'they', 'me', 'him', 'her']\n",
        "text = ' '.join(df[['EAP', 'HPL', 'MWS']].astype(str).values.flatten())  # Convert values to string\n",
        "words = text.lower().split()\n",
        "words = [word for word in words if word not in stopwords]\n",
        "\n",
        "# Count the frequency of each word\n",
        "word_counts = Counter(words)\n",
        "\n",
        "# Select the top N words\n",
        "top_n = 10\n",
        "top_words = dict(word_counts.most_common(top_n))\n",
        "\n",
        "# Create a bar chart for the top words\n",
        "plt.figure(figsize=(10, 6))\n",
        "plt.bar(top_words.keys(), top_words.values())\n",
        "plt.xlabel('Words')\n",
        "plt.ylabel('Frequency')\n",
        "plt.title('Top {} Words'.format(top_n))\n",
        "plt.xticks(rotation=90)\n",
        "plt.show()\n"
      ],
      "metadata": {
        "colab": {
          "base_uri": "https://localhost:8080/",
          "height": 695
        },
        "id": "hhxi28Ct9_KL",
        "outputId": "321455bf-8ea9-47a2-d9ea-0ece5455f24a"
      },
      "execution_count": 53,
      "outputs": [
        {
          "output_type": "display_data",
          "data": {
            "text/plain": [
              "<Figure size 1000x600 with 1 Axes>"
            ],
            "image/png": "[encoded data removed]"
          },
          "metadata": {}
        }
      ]
    },
    {
      "cell_type": "code",
      "source": [
        "import pandas as pd\n",
        "from collections import Counter\n",
        "import matplotlib.pyplot as plt\n",
        "\n",
        "# Read the CSV file into a DataFrame\n",
        "df = pd.read_csv('/content/sample_submission.csv')\n",
        "\n",
        "# Specify the column name\n",
        "column_name = 'EAP'\n",
        "\n",
        "# Preprocess the text data (tokenization and removing stopwords)\n",
        "stopwords = ['I', 'you', 'he', 'she', 'it', 'we', 'they', 'me', 'him', 'her']\n",
        "text = ' '.join(df[column_name].astype(str).values.flatten())  # Convert values to string\n",
        "words = text.lower().split()\n",
        "words = [word for word in words if word not in stopwords]\n",
        "\n",
        "# Count the frequency of each word\n",
        "word_counts = Counter(words)\n",
        "\n",
        "# Select the top N words\n",
        "top_n = 10\n",
        "top_words = dict(word_counts.most_common(top_n))\n",
        "\n",
        "# Create a bar chart for the top words\n",
        "plt.figure(figsize=(10, 6))\n",
        "plt.bar(top_words.keys(), top_words.values())\n",
        "plt.xlabel('Words')\n",
        "plt.ylabel('Frequency')\n",
        "plt.title('Top {} Words in Column \"{}\"'.format(top_n, column_name))\n",
        "plt.xticks(rotation=90)\n",
        "plt.show()\n"
      ],
      "metadata": {
        "colab": {
          "base_uri": "https://localhost:8080/",
          "height": 695
        },
        "id": "lXsRGR3Q-1Eg",
        "outputId": "987e8ef5-9654-44a8-a192-121c758deae7"
      },
      "execution_count": 54,
      "outputs": [
        {
          "output_type": "display_data",
          "data": {
            "text/plain": [
              "<Figure size 1000x600 with 1 Axes>"
            ],
            "image/png": "[encoded data removed]"
          },
          "metadata": {}
        }
      ]
    },
    {
      "cell_type": "markdown",
      "source": [
        "Text Preprocessing: perform tasks like tokenization and stopwords removal to clean text data.\n",
        "a. Tokenize - split the text into individual words aka tokens.\n",
        "b. Remove stop.words - frequently used pronouns and personal references.\n",
        "i. Top ten include: I, you, he, she, it, we, they, me, him, her\n",
        "c. Lemmatization - convert words to their root (optional).\n",
        "i. Lemmatization is a text normalization technique that reduces words to their base or\n",
        "dictionary form (lemma). Use to reduce inflected or derived words to their root form for\n",
        "better analysis and modeling outcomes.\n"
      ],
      "metadata": {
        "id": "zpoKA0ft_Hok"
      }
    },
    {
      "cell_type": "markdown",
      "source": [
        "a. Tokenize - split the text into individual words aka tokens."
      ],
      "metadata": {
        "id": "kI2MADdr_vQT"
      }
    },
    {
      "cell_type": "code",
      "source": [
        "import nltk\n",
        "nltk.download('punkt')\n",
        "nltk.download('stopwords')\n"
      ],
      "metadata": {
        "colab": {
          "base_uri": "https://localhost:8080/"
        },
        "id": "mEJ3BCne__kI",
        "outputId": "a58e4788-de2a-4a48-c445-99ef07439f75"
      },
      "execution_count": 55,
      "outputs": [
        {
          "output_type": "stream",
          "name": "stderr",
          "text": [
            "[nltk_data] Downloading package punkt to /root/nltk_data...\n",
            "[nltk_data]   Unzipping tokenizers/punkt.zip.\n",
            "[nltk_data] Downloading package stopwords to /root/nltk_data...\n",
            "[nltk_data]   Unzipping corpora/stopwords.zip.\n"
          ]
        },
        {
          "output_type": "execute_result",
          "data": {
            "text/plain": [
              "True"
            ]
          },
          "metadata": {},
          "execution_count": 55
        }
      ]
    },
    {
      "cell_type": "code",
      "source": [
        "import nltk\n",
        "from nltk.tokenize import word_tokenize\n",
        "from nltk.corpus import stopwords\n",
        "\n",
        "# Example text\n",
        "text = \"This is an example sentence.\"\n",
        "\n",
        "# Tokenize the text\n",
        "tokens = word_tokenize(text)\n",
        "\n",
        "# Remove stopwords\n",
        "stopword_list = set(stopwords.words(\"english\"))\n",
        "filtered_tokens = [token for token in tokens if token.lower() not in stopword_list]\n",
        "\n",
        "# Print the results\n",
        "print(\"Original Text:\", text)\n",
        "print(\"Tokens:\", tokens)\n",
        "print(\"Filtered Tokens:\", filtered_tokens)\n"
      ],
      "metadata": {
        "colab": {
          "base_uri": "https://localhost:8080/"
        },
        "id": "SAvwRFhu_JSn",
        "outputId": "f389e07e-ff05-4bb5-eebf-7612cd682c4f"
      },
      "execution_count": 56,
      "outputs": [
        {
          "output_type": "stream",
          "name": "stdout",
          "text": [
            "Original Text: This is an example sentence.\n",
            "Tokens: ['This', 'is', 'an', 'example', 'sentence', '.']\n",
            "Filtered Tokens: ['example', 'sentence', '.']\n"
          ]
        }
      ]
    },
    {
      "cell_type": "markdown",
      "source": [
        " Remove stop.words - frequently used pronouns and personal references. i. Top ten include: I, you, he, she, it, we, they, me, him, her"
      ],
      "metadata": {
        "id": "qJgsOUQbAUVC"
      }
    },
    {
      "cell_type": "code",
      "source": [
        "import nltk\n",
        "nltk.download('punkt')\n",
        "nltk.download('stopwords')\n"
      ],
      "metadata": {
        "colab": {
          "base_uri": "https://localhost:8080/"
        },
        "id": "ddYrYuM1A-me",
        "outputId": "cfd96703-150e-45df-dc3d-bf1297948d2c"
      },
      "execution_count": 57,
      "outputs": [
        {
          "output_type": "stream",
          "name": "stderr",
          "text": [
            "[nltk_data] Downloading package punkt to /root/nltk_data...\n",
            "[nltk_data]   Package punkt is already up-to-date!\n",
            "[nltk_data] Downloading package stopwords to /root/nltk_data...\n",
            "[nltk_data]   Package stopwords is already up-to-date!\n"
          ]
        },
        {
          "output_type": "execute_result",
          "data": {
            "text/plain": [
              "True"
            ]
          },
          "metadata": {},
          "execution_count": 57
        }
      ]
    },
    {
      "cell_type": "code",
      "source": [
        "import nltk\n",
        "from nltk.tokenize import word_tokenize\n",
        "from nltk.corpus import stopwords\n",
        "\n",
        "# Example text\n",
        "text = \"This is an example sentence. I love to read books. She enjoys playing tennis.\"\n",
        "\n",
        "# Tokenize the text\n",
        "tokens = word_tokenize(text)\n",
        "\n",
        "# Remove stopwords\n",
        "stopwords_list = set(stopwords.words(\"english\"))\n",
        "stopwords_to_remove = [\"i\", \"you\", \"he\", \"she\", \"it\", \"we\", \"they\", \"me\", \"him\", \"her\"]\n",
        "filtered_tokens = [token for token in tokens if token.lower() not in stopwords_list or token.lower() in stopwords_to_remove]\n",
        "\n",
        "# Print the results\n",
        "print(\"Original Text:\", text)\n",
        "print(\"Tokens:\", tokens)\n",
        "print(\"Filtered Tokens:\", filtered_tokens)\n"
      ],
      "metadata": {
        "colab": {
          "base_uri": "https://localhost:8080/"
        },
        "id": "hWTDudMsAWIb",
        "outputId": "556b31e2-0ee1-4e69-e640-346511a1f087"
      },
      "execution_count": 58,
      "outputs": [
        {
          "output_type": "stream",
          "name": "stdout",
          "text": [
            "Original Text: This is an example sentence. I love to read books. She enjoys playing tennis.\n",
            "Tokens: ['This', 'is', 'an', 'example', 'sentence', '.', 'I', 'love', 'to', 'read', 'books', '.', 'She', 'enjoys', 'playing', 'tennis', '.']\n",
            "Filtered Tokens: ['example', 'sentence', '.', 'I', 'love', 'read', 'books', '.', 'She', 'enjoys', 'playing', 'tennis', '.']\n"
          ]
        }
      ]
    },
    {
      "cell_type": "markdown",
      "source": [
        "c. Lemmatization - convert words to their root (optional). i. Lemmatization is a text normalization technique that reduces words to their base or dictionary form (lemma). Use to reduce inflected or derived words to their root form for better analysis and modeling outcomes."
      ],
      "metadata": {
        "id": "NRuspLOtAr4C"
      }
    },
    {
      "cell_type": "code",
      "source": [
        "import nltk\n",
        "nltk.download('punkt')\n",
        "nltk.download('stopwords')\n",
        "nltk.download('wordnet')\n"
      ],
      "metadata": {
        "colab": {
          "base_uri": "https://localhost:8080/"
        },
        "id": "M8IRCVzMBBrt",
        "outputId": "ab653e30-faf8-4dcf-a9a6-3d5fa488e85b"
      },
      "execution_count": 59,
      "outputs": [
        {
          "output_type": "stream",
          "name": "stderr",
          "text": [
            "[nltk_data] Downloading package punkt to /root/nltk_data...\n",
            "[nltk_data]   Package punkt is already up-to-date!\n",
            "[nltk_data] Downloading package stopwords to /root/nltk_data...\n",
            "[nltk_data]   Package stopwords is already up-to-date!\n",
            "[nltk_data] Downloading package wordnet to /root/nltk_data...\n"
          ]
        },
        {
          "output_type": "execute_result",
          "data": {
            "text/plain": [
              "True"
            ]
          },
          "metadata": {},
          "execution_count": 59
        }
      ]
    },
    {
      "cell_type": "code",
      "source": [
        "import nltk\n",
        "from nltk.tokenize import word_tokenize\n",
        "from nltk.corpus import stopwords\n",
        "from nltk.stem import WordNetLemmatizer\n",
        "\n",
        "# Example text\n",
        "text = \"This is an example sentence. I love to read books. She enjoys playing tennis.\"\n",
        "\n",
        "# Tokenize the text\n",
        "tokens = word_tokenize(text)\n",
        "\n",
        "# Remove stopwords\n",
        "stopwords_list = set(stopwords.words(\"english\"))\n",
        "stopwords_to_remove = [\"i\", \"you\", \"he\", \"she\", \"it\", \"we\", \"they\", \"me\", \"him\", \"her\"]\n",
        "filtered_tokens = [token for token in tokens if token.lower() not in stopwords_list or token.lower() in stopwords_to_remove]\n",
        "\n",
        "# Lemmatization\n",
        "lemmatizer = WordNetLemmatizer()\n",
        "lemmatized_tokens = [lemmatizer.lemmatize(token) for token in filtered_tokens]\n",
        "\n",
        "# Print the results\n",
        "print(\"Original Text:\", text)\n",
        "print(\"Tokens:\", tokens)\n",
        "print(\"Filtered Tokens:\", filtered_tokens)\n",
        "print(\"Lemmatized Tokens:\", lemmatized_tokens)\n"
      ],
      "metadata": {
        "colab": {
          "base_uri": "https://localhost:8080/"
        },
        "id": "PQuNj-PABHGR",
        "outputId": "cbb3c543-ad02-472c-d5d5-4dc817db2030"
      },
      "execution_count": 60,
      "outputs": [
        {
          "output_type": "stream",
          "name": "stdout",
          "text": [
            "Original Text: This is an example sentence. I love to read books. She enjoys playing tennis.\n",
            "Tokens: ['This', 'is', 'an', 'example', 'sentence', '.', 'I', 'love', 'to', 'read', 'books', '.', 'She', 'enjoys', 'playing', 'tennis', '.']\n",
            "Filtered Tokens: ['example', 'sentence', '.', 'I', 'love', 'read', 'books', '.', 'She', 'enjoys', 'playing', 'tennis', '.']\n",
            "Lemmatized Tokens: ['example', 'sentence', '.', 'I', 'love', 'read', 'book', '.', 'She', 'enjoys', 'playing', 'tennis', '.']\n"
          ]
        }
      ]
    },
    {
      "cell_type": "markdown",
      "source": [
        "#=> Stage 2: Feature Extraction"
      ],
      "metadata": {
        "id": "V-tPHtzsBT1c"
      }
    },
    {
      "cell_type": "markdown",
      "source": [
        "5. Perform TF-IDF to quantify word importance <term.frequency.inverse.doc.frequency>\n"
      ],
      "metadata": {
        "id": "Qpa2S4ccBWLt"
      }
    },
    {
      "cell_type": "code",
      "source": [
        "from sklearn.feature_extraction.text import TfidfVectorizer\n",
        "\n",
        "# Example text\n",
        "text1 = \"This is the first document.\"\n",
        "text2 = \"This document is the second document.\"\n",
        "text3 = \"And this is the third one.\"\n",
        "\n",
        "# Combine the text into a list\n",
        "documents = [text1, text2, text3]\n",
        "\n",
        "# Create an instance of TfidfVectorizer\n",
        "vectorizer = TfidfVectorizer()\n",
        "\n",
        "# Fit and transform the documents to calculate TF-IDF\n",
        "tfidf_matrix = vectorizer.fit_transform(documents)\n",
        "\n",
        "# Get the feature names (words)\n",
        "feature_names = vectorizer.get_feature_names_out()\n",
        "\n",
        "# Print the TF-IDF matrix and feature names\n",
        "print(\"TF-IDF Matrix:\")\n",
        "print(tfidf_matrix.toarray())\n",
        "print(\"Feature Names:\")\n",
        "print(feature_names)\n"
      ],
      "metadata": {
        "colab": {
          "base_uri": "https://localhost:8080/"
        },
        "id": "hvGaBeehBhyr",
        "outputId": "f4c84f9b-0a55-4e70-dcb7-0012f19bbc7d"
      },
      "execution_count": 61,
      "outputs": [
        {
          "output_type": "stream",
          "name": "stdout",
          "text": [
            "TF-IDF Matrix:\n",
            "[[0.         0.46941728 0.61722732 0.3645444  0.         0.\n",
            "  0.3645444  0.         0.3645444 ]\n",
            " [0.         0.7284449  0.         0.28285122 0.         0.47890875\n",
            "  0.28285122 0.         0.28285122]\n",
            " [0.49711994 0.         0.         0.29360705 0.49711994 0.\n",
            "  0.29360705 0.49711994 0.29360705]]\n",
            "Feature Names:\n",
            "['and' 'document' 'first' 'is' 'one' 'second' 'the' 'third' 'this']\n"
          ]
        }
      ]
    },
    {
      "cell_type": "markdown",
      "source": [
        "6. Normalize is scaling or standardizing the numerical features to a standard range or distribution.\n"
      ],
      "metadata": {
        "id": "_2Ow1_nOBwiw"
      }
    },
    {
      "cell_type": "markdown",
      "source": [
        "\n",
        "a. In text mining, normalization vectorizes features with methods like TF-IDF, a numerical measurement, to ensure a consistent scale.\n"
      ],
      "metadata": {
        "id": "1ut2ejaRB16a"
      }
    },
    {
      "cell_type": "code",
      "source": [
        "from sklearn.feature_extraction.text import TfidfVectorizer\n",
        "from sklearn.preprocessing import normalize\n",
        "\n",
        "# Example text\n",
        "text1 = \"This is the first document.\"\n",
        "text2 = \"This document is the second document.\"\n",
        "text3 = \"And this is the third one.\"\n",
        "\n",
        "# Combine the text into a list\n",
        "documents = [text1, text2, text3]\n",
        "\n",
        "# Create an instance of TfidfVectorizer\n",
        "vectorizer = TfidfVectorizer()\n",
        "\n",
        "# Fit and transform the documents to calculate TF-IDF\n",
        "tfidf_matrix = vectorizer.fit_transform(documents)\n",
        "\n",
        "# Normalize the TF-IDF matrix\n",
        "normalized_tfidf_matrix = normalize(tfidf_matrix)\n",
        "\n",
        "# Print the normalized TF-IDF matrix\n",
        "print(\"Normalized TF-IDF Matrix:\")\n",
        "print(normalized_tfidf_matrix.toarray())\n"
      ],
      "metadata": {
        "colab": {
          "base_uri": "https://localhost:8080/"
        },
        "id": "vEoX6sEYB99G",
        "outputId": "596e05f9-6a24-499d-8e46-92d941027c59"
      },
      "execution_count": 62,
      "outputs": [
        {
          "output_type": "stream",
          "name": "stdout",
          "text": [
            "Normalized TF-IDF Matrix:\n",
            "[[0.         0.46941728 0.61722732 0.3645444  0.         0.\n",
            "  0.3645444  0.         0.3645444 ]\n",
            " [0.         0.7284449  0.         0.28285122 0.         0.47890875\n",
            "  0.28285122 0.         0.28285122]\n",
            " [0.49711994 0.         0.         0.29360705 0.49711994 0.\n",
            "  0.29360705 0.49711994 0.29360705]]\n"
          ]
        }
      ]
    },
    {
      "cell_type": "markdown",
      "source": [
        "b. It handles variations in the magnitude of feature values impacting machine-learning algorithm\n",
        "performance. Normalize the features to ensure a similar scale and prevent features with larger\n",
        "values from dominating the analysis or modeling process.\n"
      ],
      "metadata": {
        "id": "XBaeTjbECOsD"
      }
    },
    {
      "cell_type": "code",
      "source": [
        "from sklearn.feature_extraction.text import TfidfVectorizer\n",
        "from sklearn.preprocessing import MinMaxScaler\n",
        "\n",
        "# Assuming you have a list of text documents called 'documents'\n",
        "\n",
        "# Create an instance of TfidfVectorizer\n",
        "vectorizer = TfidfVectorizer()\n",
        "\n",
        "# Fit and transform the text documents to obtain the TF-IDF features\n",
        "tfidf_features = vectorizer.fit_transform(documents)\n",
        "\n",
        "# Create an instance of MinMaxScaler\n",
        "scaler = MinMaxScaler()\n",
        "\n",
        "# Fit and transform the TF-IDF features to perform Min-Max scaling\n",
        "normalized_features = scaler.fit_transform(tfidf_features.toarray())\n",
        "\n",
        "# Print the normalized features\n",
        "print(\"Normalized Features:\")\n",
        "print(normalized_features)\n"
      ],
      "metadata": {
        "colab": {
          "base_uri": "https://localhost:8080/"
        },
        "id": "OUWxnZPtCY2m",
        "outputId": "cc9fbaf3-9f93-4ab7-c1d6-5d85ec538ee3"
      },
      "execution_count": 63,
      "outputs": [
        {
          "output_type": "stream",
          "name": "stdout",
          "text": [
            "Normalized Features:\n",
            "[[0.         0.64441015 1.         1.         0.         0.\n",
            "  1.         0.         1.        ]\n",
            " [0.         1.         0.         0.         0.         1.\n",
            "  0.         0.         0.        ]\n",
            " [1.         0.         0.         0.13166122 1.         0.\n",
            "  0.13166122 1.         0.13166122]]\n"
          ]
        }
      ]
    },
    {
      "cell_type": "markdown",
      "source": [
        "#=> Stage 3: Machine Learning"
      ],
      "metadata": {
        "id": "4OLF_UKfCutm"
      }
    },
    {
      "cell_type": "markdown",
      "source": [
        "7. Perform train\\test split.\n"
      ],
      "metadata": {
        "id": "0EdbnJq4FQH8"
      }
    },
    {
      "cell_type": "code",
      "source": [
        "#test code\n",
        "import pandas as pd\n",
        "from sklearn.model_selection import train_test_split\n",
        "\n",
        "# Load the data from the CSV file\n",
        "data = pd.read_csv('/content/test.csv')\n",
        "\n",
        "# Split the data into features and labels\n",
        "X = data.iloc[:, :-1]  # Select all columns except the last one as features\n",
        "y = data.iloc[:, -1]  # Select the last column as the target variable\n",
        "\n",
        "# Perform train/test split with a 80% train and 20% test ratio\n",
        "X_train, X_test, y_train, y_test = train_test_split(X, y, test_size=0.2, random_state=42)\n",
        "\n",
        "# Print the shape of the training and test sets\n",
        "print(\"Train set shape:\", X_train.shape, y_train.shape)\n",
        "print(\"Test set shape:\", X_test.shape, y_test.shape)\n"
      ],
      "metadata": {
        "colab": {
          "base_uri": "https://localhost:8080/"
        },
        "id": "iF8X6XWXFapT",
        "outputId": "5e09332f-edc8-416f-c710-ef2ddb8e9782"
      },
      "execution_count": 64,
      "outputs": [
        {
          "output_type": "stream",
          "name": "stdout",
          "text": [
            "Train set shape: (6713, 1) (6713,)\n",
            "Test set shape: (1679, 1) (1679,)\n"
          ]
        }
      ]
    },
    {
      "cell_type": "code",
      "source": [
        "import pandas as pd\n",
        "from sklearn.model_selection import train_test_split\n",
        "\n",
        "# Load the training data from the CSV file\n",
        "train_data = pd.read_csv('/content/train.csv')\n",
        "\n",
        "# Load the test data from the CSV file\n",
        "test_data = pd.read_csv('/content/test.csv')\n",
        "\n",
        "# Split the training data into features and labels\n",
        "X_train = train_data.iloc[:, :-1]  # Select all columns except the last one as features\n",
        "y_train = train_data.iloc[:, -1]  # Select the last column as the target variable\n",
        "\n",
        "# Split the test data into features and labels\n",
        "X_test = test_data.iloc[:, :-1]  # Select all columns except the last one as features\n",
        "y_test = test_data.iloc[:, -1]  # Select the last column as the target variable\n",
        "\n",
        "# Print the shape of the training and test sets\n",
        "print(\"Train set shape:\", X_train.shape, y_train.shape)\n",
        "print(\"Test set shape:\", X_test.shape, y_test.shape)\n"
      ],
      "metadata": {
        "colab": {
          "base_uri": "https://localhost:8080/"
        },
        "id": "s7ff1DnFGtO7",
        "outputId": "6bc4c10e-a9fe-4406-fae7-2ca1fbb836b2"
      },
      "execution_count": 65,
      "outputs": [
        {
          "output_type": "stream",
          "name": "stdout",
          "text": [
            "Train set shape: (19579, 2) (19579,)\n",
            "Test set shape: (8392, 1) (8392,)\n"
          ]
        }
      ]
    },
    {
      "cell_type": "markdown",
      "source": [
        "8. Perform algorithmic analysis to assess and predict test labels.\n",
        "a. Use as many algorithms as you need to get a good answer.\n",
        "b. Supervised: logistic regression, random forest, support vector machines, etc.\n",
        "c. Unsupervised: K-means, dimensionality reduction, PCA, etc.\n"
      ],
      "metadata": {
        "id": "IuZ4wlOvG34K"
      }
    },
    {
      "cell_type": "code",
      "source": [
        "print(train_data.columns)\n"
      ],
      "metadata": {
        "colab": {
          "base_uri": "https://localhost:8080/"
        },
        "id": "oG9ViBvq7To6",
        "outputId": "066771e0-2238-4af5-f0b2-5413baf48acc"
      },
      "execution_count": 66,
      "outputs": [
        {
          "output_type": "stream",
          "name": "stdout",
          "text": [
            "Index(['id', 'text', 'author'], dtype='object')\n"
          ]
        }
      ]
    },
    {
      "cell_type": "markdown",
      "source": [
        "a. Use as many algorithms as you need to get a good answer."
      ],
      "metadata": {
        "id": "-TwtpyiMG_ci"
      }
    },
    {
      "cell_type": "code",
      "source": [
        "import pandas as pd\n",
        "from sklearn.feature_extraction.text import TfidfVectorizer\n",
        "from sklearn.linear_model import LogisticRegression\n",
        "from sklearn.model_selection import train_test_split\n",
        "\n",
        "# Load the data\n",
        "sample_submission = pd.read_csv(\"/content/sample_submission.csv\")\n",
        "test_data = pd.read_csv(\"/content/test.csv\")\n",
        "train_data = pd.read_csv(\"/content/train.csv\")\n",
        "\n",
        "# Preprocess the data\n",
        "vectorizer = TfidfVectorizer()\n",
        "X_train = vectorizer.fit_transform(train_data[\"text\"])\n",
        "y_train = train_data[\"author\"]\n",
        "X_test = vectorizer.transform(test_data[\"text\"])\n",
        "\n",
        "# Split the data into training and validation sets\n",
        "X_train, X_val, y_train, y_val = train_test_split(X_train, y_train, test_size=0.2, random_state=42)\n",
        "\n",
        "# Train the logistic regression model\n",
        "logreg = LogisticRegression()\n",
        "logreg.fit(X_train, y_train)\n",
        "\n",
        "# Evaluate the model on the validation set\n",
        "accuracy = logreg.score(X_val, y_val)\n",
        "print(f\"Validation accuracy: {accuracy}\")\n",
        "\n",
        "# Make predictions on the test data\n",
        "test_predictions = logreg.predict(X_test)\n",
        "\n",
        "# Output the predictions\n",
        "test_data[\"predicted_author\"] = test_predictions\n",
        "test_data[[\"id\", \"predicted_author\"]].to_csv(\"predictions.csv\", index=False)\n"
      ],
      "metadata": {
        "colab": {
          "base_uri": "https://localhost:8080/"
        },
        "id": "nOloPogAAVEO",
        "outputId": "52b3a872-8e0b-47c4-f921-f11272de6c28"
      },
      "execution_count": 11,
      "outputs": [
        {
          "output_type": "stream",
          "name": "stdout",
          "text": [
            "Validation accuracy: 0.8117977528089888\n"
          ]
        },
        {
          "output_type": "stream",
          "name": "stderr",
          "text": [
            "/usr/local/lib/python3.10/dist-packages/sklearn/linear_model/_logistic.py:458: ConvergenceWarning: lbfgs failed to converge (status=1):\n",
            "STOP: TOTAL NO. of ITERATIONS REACHED LIMIT.\n",
            "\n",
            "Increase the number of iterations (max_iter) or scale the data as shown in:\n",
            "    https://scikit-learn.org/stable/modules/preprocessing.html\n",
            "Please also refer to the documentation for alternative solver options:\n",
            "    https://scikit-learn.org/stable/modules/linear_model.html#logistic-regression\n",
            "  n_iter_i = _check_optimize_result(\n"
          ]
        }
      ]
    },
    {
      "cell_type": "code",
      "source": [
        "import numpy as np\n",
        "import matplotlib.pyplot as plt\n",
        "from scipy.stats import logistic\n",
        "\n",
        "# Generate a range of values for the x-axis\n",
        "x = np.linspace(-10, 10, 1000)\n",
        "\n",
        "# Define the mean and standard deviation for each class\n",
        "mean_eap = 0.0\n",
        "std_eap = 1.0\n",
        "mean_hpl = 1.0\n",
        "std_hpl = 1.5\n",
        "mean_mws = -1.0\n",
        "std_mws = 0.5\n",
        "\n",
        "# Compute the PDFs for each class\n",
        "pdf_eap = logistic.pdf(x, loc=mean_eap, scale=std_eap)\n",
        "pdf_hpl = logistic.pdf(x, loc=mean_hpl, scale=std_hpl)\n",
        "pdf_mws = logistic.pdf(x, loc=mean_mws, scale=std_mws)\n",
        "\n",
        "# Plot the PDFs\n",
        "plt.plot(x, pdf_eap, label='EAP')\n",
        "plt.plot(x, pdf_hpl, label='HPL')\n",
        "plt.plot(x, pdf_mws, label='MWS')\n",
        "\n",
        "# Add labels and a legend\n",
        "plt.xlabel('x')\n",
        "plt.ylabel('Probability Density')\n",
        "plt.legend()\n",
        "\n",
        "# Show the plot\n",
        "plt.show()\n"
      ],
      "metadata": {
        "colab": {
          "base_uri": "https://localhost:8080/",
          "height": 449
        },
        "id": "hT6BUkdGFPyd",
        "outputId": "a158946e-5928-4843-b2c7-fe0194cbc680"
      },
      "execution_count": 13,
      "outputs": [
        {
          "output_type": "display_data",
          "data": {
            "text/plain": [
              "<Figure size 640x480 with 1 Axes>"
            ],
            "image/png": "[encoded data removed]"
          },
          "metadata": {}
        }
      ]
    },
    {
      "cell_type": "markdown",
      "source": [
        " random forest"
      ],
      "metadata": {
        "id": "huhWModrG-eA"
      }
    },
    {
      "cell_type": "code",
      "source": [
        "import pandas as pd\n",
        "from sklearn.feature_extraction.text import TfidfVectorizer\n",
        "from sklearn.ensemble import RandomForestClassifier\n",
        "from sklearn.model_selection import train_test_split\n",
        "from sklearn.metrics import accuracy_score\n",
        "\n",
        "# Load the data into Pandas DataFrames\n",
        "sample_submission_data = pd.read_csv('/content/sample_submission.csv')\n",
        "test_data = pd.read_csv('/content/test.csv')\n",
        "train_data = pd.read_csv('/content/train.csv')\n",
        "\n",
        "# Prepare the data for training\n",
        "X_train_text = train_data['text']\n",
        "y_train = train_data['author']\n",
        "X_test_text = test_data['text']\n",
        "\n",
        "# Initialize the TF-IDF vectorizer\n",
        "vectorizer = TfidfVectorizer()\n",
        "\n",
        "# Apply TF-IDF vectorization to the training and test data\n",
        "X_train = vectorizer.fit_transform(X_train_text)\n",
        "X_test = vectorizer.transform(X_test_text)\n",
        "\n",
        "# Initialize the Random Forest classifier\n",
        "rf = RandomForestClassifier()\n",
        "\n",
        "# Fit the classifier on the training data\n",
        "rf.fit(X_train, y_train)\n",
        "\n",
        "# Make predictions on the test data\n",
        "rf_pred = rf.predict(X_test)\n",
        "\n",
        "# Optionally, split the train data into train and validation sets to evaluate the model's performance\n",
        "X_train_split, X_val, y_train_split, y_val = train_test_split(X_train, y_train, test_size=0.2, random_state=42)\n",
        "rf.fit(X_train_split, y_train_split)\n",
        "rf_val_pred = rf.predict(X_val)\n",
        "accuracy = accuracy_score(y_val, rf_val_pred)\n",
        "print(\"Validation Accuracy:\", accuracy)\n"
      ],
      "metadata": {
        "colab": {
          "base_uri": "https://localhost:8080/"
        },
        "id": "-YRkW2jJADhB",
        "outputId": "33e0c131-de2c-4fa7-af52-5d3f174a0553"
      },
      "execution_count": 15,
      "outputs": [
        {
          "output_type": "stream",
          "name": "stdout",
          "text": [
            "Validation Accuracy: 0.6948416751787538\n"
          ]
        }
      ]
    },
    {
      "cell_type": "code",
      "source": [
        "import pandas as pd\n",
        "import matplotlib.pyplot as plt\n",
        "from sklearn.feature_extraction.text import CountVectorizer, TfidfTransformer\n",
        "from sklearn.ensemble import RandomForestClassifier\n",
        "from sklearn.model_selection import train_test_split\n",
        "\n",
        "# Load the data into Pandas DataFrames\n",
        "sample_submission_data = pd.read_csv('/content/sample_submission.csv')\n",
        "test_data = pd.read_csv('/content/test.csv')\n",
        "train_data = pd.read_csv('/content/train.csv')\n",
        "\n",
        "# Split the training data into features (X_train) and labels (y_train)\n",
        "X_train = train_data['text']\n",
        "y_train = train_data['author']\n",
        "\n",
        "# Apply CountVectorizer to the training and test data\n",
        "count_vectorizer = CountVectorizer()\n",
        "X_train_counts = count_vectorizer.fit_transform(X_train)\n",
        "X_test_counts = count_vectorizer.transform(test_data['text'])\n",
        "\n",
        "# Apply TF-IDF transformation to the count vectors\n",
        "tfidf_transformer = TfidfTransformer()\n",
        "X_train_tfidf = tfidf_transformer.fit_transform(X_train_counts)\n",
        "X_test_tfidf = tfidf_transformer.transform(X_test_counts)\n",
        "\n",
        "# Initialize the Random Forest classifier\n",
        "rf = RandomForestClassifier()\n",
        "\n",
        "# Fit the classifier on the training data\n",
        "rf.fit(X_train_tfidf, y_train)\n",
        "\n",
        "# Get feature importances\n",
        "feature_importances = rf.feature_importances_\n",
        "\n",
        "# Get the feature names from the CountVectorizer\n",
        "feature_names = count_vectorizer.get_feature_names()\n",
        "\n",
        "# Create a DataFrame of feature importances with corresponding feature names\n",
        "feature_importances_df = pd.DataFrame({'Feature': feature_names, 'Importance': feature_importances})\n",
        "\n",
        "# Sort the DataFrame by importance values\n",
        "feature_importances_df = feature_importances_df.sort_values(by='Importance', ascending=False)\n",
        "\n",
        "# Plot the top 10 feature importances\n",
        "top_10_features = feature_importances_df.head(10)\n",
        "plt.figure(figsize=(10, 6))\n",
        "plt.barh(top_10_features['Feature'], top_10_features['Importance'])\n",
        "plt.xlabel('Importance')\n",
        "plt.ylabel('Feature')\n",
        "plt.title('Top 10 Feature Importances')\n",
        "plt.show()\n"
      ],
      "metadata": {
        "colab": {
          "base_uri": "https://localhost:8080/",
          "height": 235
        },
        "id": "uFXa2mWqIeSj",
        "outputId": "fa7e8047-5837-48e6-a0e1-4969c1662fc2"
      },
      "execution_count": 26,
      "outputs": [
        {
          "output_type": "error",
          "ename": "AttributeError",
          "evalue": "ignored",
          "traceback": [
            "\u001b[0;31m---------------------------------------------------------------------------\u001b[0m",
            "\u001b[0;31mAttributeError\u001b[0m                            Traceback (most recent call last)",
            "\u001b[0;32m<ipython-input-26-e99867d63450>\u001b[0m in \u001b[0;36m<cell line: 36>\u001b[0;34m()\u001b[0m\n\u001b[1;32m     34\u001b[0m \u001b[0;34m\u001b[0m\u001b[0m\n\u001b[1;32m     35\u001b[0m \u001b[0;31m# Get the feature names from the CountVectorizer\u001b[0m\u001b[0;34m\u001b[0m\u001b[0;34m\u001b[0m\u001b[0m\n\u001b[0;32m---> 36\u001b[0;31m \u001b[0mfeature_names\u001b[0m \u001b[0;34m=\u001b[0m \u001b[0mcount_vectorizer\u001b[0m\u001b[0;34m.\u001b[0m\u001b[0mget_feature_names\u001b[0m\u001b[0;34m(\u001b[0m\u001b[0;34m)\u001b[0m\u001b[0;34m\u001b[0m\u001b[0;34m\u001b[0m\u001b[0m\n\u001b[0m\u001b[1;32m     37\u001b[0m \u001b[0;34m\u001b[0m\u001b[0m\n\u001b[1;32m     38\u001b[0m \u001b[0;31m# Create a DataFrame of feature importances with corresponding feature names\u001b[0m\u001b[0;34m\u001b[0m\u001b[0;34m\u001b[0m\u001b[0m\n",
            "\u001b[0;31mAttributeError\u001b[0m: 'CountVectorizer' object has no attribute 'get_feature_names'"
          ]
        }
      ]
    },
    {
      "cell_type": "code",
      "source": [
        "import pandas as pd\n",
        "from sklearn.feature_extraction.text import TfidfVectorizer\n",
        "from sklearn.ensemble import RandomForestClassifier\n",
        "from sklearn.model_selection import train_test_split\n",
        "from sklearn.metrics import accuracy_score\n",
        "\n",
        "# Load the data into Pandas DataFrames\n",
        "sample_submission_data = pd.read_csv('/content/sample_submission.csv')\n",
        "test_data = pd.read_csv('/content/test.csv')\n",
        "train_data = pd.read_csv('/content/train.csv')\n",
        "\n",
        "# Prepare the data for training\n",
        "X_train_text = train_data['text']\n",
        "y_train = train_data['author']\n",
        "X_test_text = test_data['text']\n",
        "\n",
        "# Initialize the TF-IDF vectorizer\n",
        "vectorizer = TfidfVectorizer()\n",
        "\n",
        "# Apply TF-IDF vectorization to the training and test data\n",
        "X_train = vectorizer.fit_transform(X_train_text)\n",
        "X_test = vectorizer.transform(X_test_text)\n",
        "\n",
        "# Initialize the Random Forest classifier\n",
        "rf = RandomForestClassifier()\n",
        "\n",
        "# Optionally, split the train data into train and validation sets to evaluate the model's performance\n",
        "X_train_split, X_val, y_train_split, y_val = train_test_split(X_train, y_train, test_size=0.2, random_state=42)\n",
        "\n",
        "# Fit the classifier on the training data\n",
        "rf.fit(X_train_split, y_train_split)\n",
        "\n",
        "# Make predictions on the validation data\n",
        "rf_val_pred = rf.predict(X_val)\n",
        "\n",
        "# Calculate the validation accuracy\n",
        "accuracy = accuracy_score(y_val, rf_val_pred)\n",
        "print(\"Validation Accuracy:\", accuracy)\n",
        "\n",
        "# Fit the classifier on the entire training data\n",
        "rf.fit(X_train, y_train)\n",
        "\n",
        "# Make predictions on the test data\n",
        "rf_pred = rf.predict(X_test)\n"
      ],
      "metadata": {
        "colab": {
          "base_uri": "https://localhost:8080/"
        },
        "id": "qPwJ1aVRLtWk",
        "outputId": "df2215e2-4dbc-426f-c292-1bf28ec09652"
      },
      "execution_count": 28,
      "outputs": [
        {
          "output_type": "stream",
          "name": "stdout",
          "text": [
            "Validation Accuracy: 0.6986721144024515\n"
          ]
        }
      ]
    },
    {
      "cell_type": "code",
      "source": [
        "import pandas as pd\n",
        "from sklearn.feature_extraction.text import TfidfVectorizer\n",
        "from sklearn.ensemble import RandomForestClassifier\n",
        "import matplotlib.pyplot as plt\n",
        "\n",
        "# Load the data into Pandas DataFrames\n",
        "sample_submission_data = pd.read_csv('/content/sample_submission.csv')\n",
        "test_data = pd.read_csv('/content/test.csv')\n",
        "train_data = pd.read_csv('/content/train.csv')\n",
        "\n",
        "# Prepare the data for training\n",
        "X_train_text = train_data['text']\n",
        "y_train = train_data['author']\n",
        "X_test_text = test_data['text']\n",
        "\n",
        "# Initialize the TF-IDF vectorizer\n",
        "vectorizer = TfidfVectorizer()\n",
        "\n",
        "# Apply TF-IDF vectorization to the training and test data\n",
        "X_train = vectorizer.fit_transform(X_train_text)\n",
        "X_test = vectorizer.transform(X_test_text)\n",
        "\n",
        "# Initialize the Random Forest classifier\n",
        "rf = RandomForestClassifier()\n",
        "\n",
        "# Fit the classifier on the training data\n",
        "rf.fit(X_train, y_train)\n",
        "\n",
        "# Get the feature importances\n",
        "feature_importances = rf.feature_importances_\n",
        "\n",
        "# Sort the feature importances in descending order\n",
        "sorted_indices = feature_importances.argsort()[::-1]\n",
        "sorted_importances = feature_importances[sorted_indices]\n",
        "\n",
        "# Visualize the feature importances\n",
        "plt.figure(figsize=(10, 6))\n",
        "plt.bar(range(X_train.shape[1]), sorted_importances)\n",
        "plt.xlabel('Feature')\n",
        "plt.ylabel('Importance')\n",
        "plt.title('Feature Importances')\n",
        "plt.show()\n"
      ],
      "metadata": {
        "colab": {
          "base_uri": "https://localhost:8080/",
          "height": 564
        },
        "id": "aX83-QfZNCST",
        "outputId": "aa8419be-936f-490e-f166-8b7c9d28e1a1"
      },
      "execution_count": 32,
      "outputs": [
        {
          "output_type": "display_data",
          "data": {
            "text/plain": [
              "<Figure size 1000x600 with 1 Axes>"
            ],
            "image/png": "[encoded data removed]"
          },
          "metadata": {}
        }
      ]
    },
    {
      "cell_type": "markdown",
      "source": [
        " support vector machines"
      ],
      "metadata": {
        "id": "zFSRhbsbOZV7"
      }
    },
    {
      "cell_type": "code",
      "source": [
        "import pandas as pd\n",
        "from sklearn.svm import SVC\n",
        "from sklearn.feature_extraction.text import TfidfVectorizer\n",
        "\n",
        "# Load the data into DataFrames\n",
        "sample_submission_data = pd.read_csv('/content/sample_submission.csv')\n",
        "train_data = pd.read_csv('/content/train.csv')\n",
        "\n",
        "# Split the train_data into features (X_train) and labels (y_train)\n",
        "X_train = train_data['text']\n",
        "y_train = train_data['author']\n",
        "\n",
        "# Apply TF-IDF vectorization to the training data\n",
        "tfidf = TfidfVectorizer()\n",
        "X_train_tfidf = tfidf.fit_transform(X_train)\n",
        "\n",
        "# Create an SVM classifier for each author\n",
        "svm_eap = SVC()\n",
        "svm_hpl = SVC()\n",
        "svm_mws = SVC()\n",
        "\n",
        "# Fit the SVM models on the training data\n",
        "svm_eap.fit(X_train_tfidf, y_train == 'EAP')\n",
        "svm_hpl.fit(X_train_tfidf, y_train == 'HPL')\n",
        "svm_mws.fit(X_train_tfidf, y_train == 'MWS')\n",
        "\n",
        "# Apply TF-IDF vectorization to the sample submission data\n",
        "X_submission = sample_submission_data['text']\n",
        "X_submission_tfidf = tfidf.transform(X_submission)\n",
        "\n",
        "# Make predictions using the trained SVM models\n",
        "predictions_eap = svm_eap.predict(X_submission_tfidf)\n",
        "predictions_hpl = svm_hpl.predict(X_submission_tfidf)\n",
        "predictions_mws = svm_mws.predict(X_submission_tfidf)\n",
        "\n",
        "# Update the sample submission DataFrame with the predictions\n",
        "sample_submission_data['EAP'] = predictions_eap\n",
        "sample_submission_data['HPL'] = predictions_hpl\n",
        "sample_submission_data['MWS'] = predictions_mws\n",
        "\n",
        "# Print the updated sample submission data\n",
        "print(sample_submission_data)\n"
      ],
      "metadata": {
        "id": "tfdfYprkO2Hz"
      },
      "execution_count": null,
      "outputs": []
    },
    {
      "cell_type": "code",
      "source": [
        "import pandas as pd\n",
        "from sklearn.feature_extraction.text import TfidfVectorizer\n",
        "from sklearn.ensemble import RandomForestClassifier\n",
        "from sklearn.model_selection import train_test_split\n",
        "from sklearn.metrics import classification_report\n",
        "\n",
        "# Load the data into a Pandas DataFrame\n",
        "train_data = pd.read_csv('/content/train.csv')\n",
        "\n",
        "# Prepare the data for training\n",
        "X_train_text = train_data['text']\n",
        "y_train = train_data['author']\n",
        "\n",
        "# Initialize the TF-IDF vectorizer\n",
        "vectorizer = TfidfVectorizer()\n",
        "\n",
        "# Apply TF-IDF vectorization to the training data\n",
        "X_train = vectorizer.fit_transform(X_train_text)\n",
        "\n",
        "# Split the data into training and test sets\n",
        "X_train_split, X_test_split, y_train_split, y_test = train_test_split(X_train, y_train, test_size=0.2, random_state=42)\n",
        "\n",
        "# Initialize the Random Forest classifier\n",
        "rf = RandomForestClassifier()\n",
        "\n",
        "# Fit the classifier on the training data\n",
        "rf.fit(X_train_split, y_train_split)\n",
        "\n",
        "# Make predictions on the test data\n",
        "rf_pred = rf.predict(X_test_split)\n",
        "\n",
        "# Print the classification report for the test data\n",
        "report = classification_report(y_test, rf_pred)\n",
        "print(\"Classification Report:\")\n",
        "print(report)\n"
      ],
      "metadata": {
        "colab": {
          "base_uri": "https://localhost:8080/"
        },
        "id": "oKJzNrOreIXR",
        "outputId": "d579e1bd-7899-43ef-db2a-9d89809aad74"
      },
      "execution_count": 53,
      "outputs": [
        {
          "output_type": "stream",
          "name": "stdout",
          "text": [
            "Classification Report:\n",
            "              precision    recall  f1-score   support\n",
            "\n",
            "         EAP       0.63      0.88      0.73      1570\n",
            "         HPL       0.77      0.58      0.66      1071\n",
            "         MWS       0.80      0.56      0.66      1275\n",
            "\n",
            "    accuracy                           0.70      3916\n",
            "   macro avg       0.73      0.67      0.68      3916\n",
            "weighted avg       0.72      0.70      0.69      3916\n",
            "\n"
          ]
        }
      ]
    },
    {
      "cell_type": "code",
      "source": [
        "import pandas as pd\n",
        "from sklearn.feature_extraction.text import TfidfVectorizer\n",
        "from sklearn.ensemble import RandomForestClassifier\n",
        "from sklearn.model_selection import train_test_split\n",
        "from sklearn.metrics import classification_report\n",
        "\n",
        "# Load the train data into a Pandas DataFrame\n",
        "train_data = pd.read_csv('/content/train.csv')\n",
        "\n",
        "# Prepare the data for training\n",
        "X_train_text = train_data['text']\n",
        "y_train = train_data['author']\n",
        "\n",
        "# Initialize the TF-IDF vectorizer\n",
        "vectorizer = TfidfVectorizer()\n",
        "\n",
        "# Apply TF-IDF vectorization to the training data\n",
        "X_train = vectorizer.fit_transform(X_train_text)\n",
        "\n",
        "# Split the train data into training and test sets\n",
        "X_train_split, X_test_split, y_train_split, y_test = train_test_split(X_train, y_train, test_size=0.2, random_state=42)\n",
        "\n",
        "# Initialize the Random Forest classifier\n",
        "rf = RandomForestClassifier()\n",
        "\n",
        "# Fit the classifier on the training data\n",
        "rf.fit(X_train_split, y_train_split)\n",
        "\n",
        "# Make predictions on the test data\n",
        "rf_pred = rf.predict(X_test_split)\n",
        "\n",
        "# Print the classification report for the test data\n",
        "report = classification_report(y_test, rf_pred)\n",
        "print(\"Classification Report:\")\n",
        "print(report)\n"
      ],
      "metadata": {
        "colab": {
          "base_uri": "https://localhost:8080/"
        },
        "id": "r28aAFWalkTh",
        "outputId": "05048994-0e24-4537-d452-4eedb7bb8e4f"
      },
      "execution_count": 52,
      "outputs": [
        {
          "output_type": "stream",
          "name": "stdout",
          "text": [
            "Classification Report:\n",
            "              precision    recall  f1-score   support\n",
            "\n",
            "         EAP       0.62      0.88      0.73      1570\n",
            "         HPL       0.78      0.58      0.66      1071\n",
            "         MWS       0.81      0.57      0.67      1275\n",
            "\n",
            "    accuracy                           0.70      3916\n",
            "   macro avg       0.74      0.68      0.69      3916\n",
            "weighted avg       0.73      0.70      0.69      3916\n",
            "\n"
          ]
        }
      ]
    },
    {
      "cell_type": "markdown",
      "source": [
        "Unsupervised: K-means, dimensionality reduction, PCA"
      ],
      "metadata": {
        "id": "asebvtTGrwsK"
      }
    },
    {
      "cell_type": "code",
      "source": [
        "import pandas as pd\n",
        "from sklearn.cluster import KMeans\n",
        "from sklearn.decomposition import PCA\n",
        "from sklearn.feature_extraction.text import TfidfVectorizer\n",
        "\n",
        "# Load the data into a DataFrame\n",
        "data = pd.read_csv('/content/train.csv')\n",
        "\n",
        "# Prepare the text data for vectorization\n",
        "text_data = data['text']\n",
        "\n",
        "# Apply TF-IDF vectorization to the text data\n",
        "vectorizer = TfidfVectorizer()\n",
        "X = vectorizer.fit_transform(text_data)\n",
        "\n",
        "# Perform K-means clustering\n",
        "kmeans = KMeans(n_clusters=3)  # Set the desired number of clusters\n",
        "kmeans.fit(X)\n",
        "\n",
        "# Get the cluster labels\n",
        "cluster_labels = kmeans.labels_\n",
        "\n",
        "# Perform dimensionality reduction using PCA\n",
        "pca = PCA(n_components=2)  # Set the desired number of components\n",
        "X_pca = pca.fit_transform(X.toarray())\n",
        "\n",
        "# Create a DataFrame to store the results\n",
        "results = pd.DataFrame({'text': text_data, 'cluster': cluster_labels, 'pca1': X_pca[:, 0], 'pca2': X_pca[:, 1]})\n",
        "\n",
        "# Print the results\n",
        "print(results.head())\n"
      ],
      "metadata": {
        "colab": {
          "base_uri": "https://localhost:8080/"
        },
        "id": "CudGH-nirxd8",
        "outputId": "37008376-daaf-44a7-bbf6-dd54074d5b37"
      },
      "execution_count": 1,
      "outputs": [
        {
          "output_type": "stream",
          "name": "stderr",
          "text": [
            "/usr/local/lib/python3.10/dist-packages/sklearn/cluster/_kmeans.py:870: FutureWarning: The default value of `n_init` will change from 10 to 'auto' in 1.4. Set the value of `n_init` explicitly to suppress the warning\n",
            "  warnings.warn(\n"
          ]
        },
        {
          "output_type": "stream",
          "name": "stdout",
          "text": [
            "                                                text  cluster      pca1  \\\n",
            "0  This process, however, afforded me no means of...        2  0.084310   \n",
            "1  It never once occurred to me that the fumbling...        0 -0.072934   \n",
            "2  In his left hand was a gold snuff box, from wh...        2  0.043198   \n",
            "3  How lovely is spring As we looked from Windsor...        0 -0.016842   \n",
            "4  Finding nothing else, not even gold, the Super...        0 -0.062166   \n",
            "\n",
            "       pca2  \n",
            "0 -0.057934  \n",
            "1 -0.051867  \n",
            "2  0.098054  \n",
            "3 -0.016893  \n",
            "4  0.145436  \n"
          ]
        }
      ]
    },
    {
      "cell_type": "markdown",
      "source": [
        "#=4: Evaluation & Visualization\n"
      ],
      "metadata": {
        "id": "0uBhTCCPsf1B"
      }
    },
    {
      "cell_type": "markdown",
      "source": [
        "Choose a metric strategy to assess algorithmic performance like accuracy, precision, recall, or F1 score"
      ],
      "metadata": {
        "id": "PHgX1N1Qsh4c"
      }
    },
    {
      "cell_type": "code",
      "source": [
        "import pandas as pd\n",
        "from sklearn.svm import SVC\n",
        "from sklearn.feature_extraction.text import TfidfVectorizer\n",
        "from sklearn.model_selection import train_test_split\n",
        "from sklearn.metrics import accuracy_score\n",
        "\n",
        "# Load the train data into a DataFrame\n",
        "train_data = pd.read_csv(\"/content/train.csv\")\n",
        "\n",
        "# Split the train_data into features (X_train) and labels (y_train)\n",
        "X_train = train_data[\"text\"]\n",
        "y_train = train_data[\"author\"]\n",
        "\n",
        "# Apply TF-IDF vectorization to the training data\n",
        "tfidf = TfidfVectorizer()\n",
        "X_train_tfidf = tfidf.fit_transform(X_train)\n",
        "\n",
        "# Create an SVM classifier\n",
        "svm = SVC()\n",
        "\n",
        "# Fit the SVM model on the training data\n",
        "svm.fit(X_train_tfidf, y_train)\n",
        "\n",
        "# Make predictions using the trained SVM model\n",
        "train_predictions = svm.predict(X_train_tfidf)\n",
        "\n",
        "# Calculate the accuracy of the model on the train data\n",
        "train_accuracy = accuracy_score(y_train, train_predictions)\n",
        "print(\"Train Accuracy:\", train_accuracy)\n"
      ],
      "metadata": {
        "colab": {
          "base_uri": "https://localhost:8080/"
        },
        "id": "gvGi7HUEuJdc",
        "outputId": "867adbf4-5dee-4f26-a76f-f8724d4d1540"
      },
      "execution_count": 3,
      "outputs": [
        {
          "output_type": "stream",
          "name": "stdout",
          "text": [
            "Train Accuracy: 0.9912150773788243\n"
          ]
        }
      ]
    },
    {
      "cell_type": "code",
      "source": [
        "import pandas as pd\n",
        "from sklearn.svm import SVC\n",
        "from sklearn.feature_extraction.text import TfidfVectorizer\n",
        "from sklearn.model_selection import train_test_split\n",
        "from sklearn.metrics import precision_score, recall_score, f1_score\n",
        "\n",
        "# Load the train data into a DataFrame\n",
        "train_data = pd.read_csv(\"/content/train.csv\")\n",
        "\n",
        "# Split the train_data into features (X_train) and labels (y_train)\n",
        "X_train = train_data[\"text\"]\n",
        "y_train = train_data[\"author\"]\n",
        "\n",
        "# Apply TF-IDF vectorization to the training data\n",
        "tfidf = TfidfVectorizer()\n",
        "X_train_tfidf = tfidf.fit_transform(X_train)\n",
        "\n",
        "# Create an SVM classifier\n",
        "svm = SVC()\n",
        "\n",
        "# Fit the SVM model on the training data\n",
        "svm.fit(X_train_tfidf, y_train)\n",
        "\n",
        "# Make predictions using the trained SVM model\n",
        "train_predictions = svm.predict(X_train_tfidf)\n",
        "\n",
        "# Calculate precision, recall, and F1 score of the model on the train data\n",
        "precision = precision_score(y_train, train_predictions, average='weighted')\n",
        "recall = recall_score(y_train, train_predictions, average='weighted')\n",
        "f1 = f1_score(y_train, train_predictions, average='weighted')\n",
        "\n",
        "print(\"Precision:\", precision)\n",
        "print(\"Recall:\", recall)\n",
        "print(\"F1 Score:\", f1)\n"
      ],
      "metadata": {
        "colab": {
          "base_uri": "https://localhost:8080/"
        },
        "id": "bSAKovPLw_ls",
        "outputId": "04fec857-9174-4a82-f7af-32659ff51a38"
      },
      "execution_count": 4,
      "outputs": [
        {
          "output_type": "stream",
          "name": "stdout",
          "text": [
            "Precision: 0.9912299291319577\n",
            "Recall: 0.9912150773788243\n",
            "F1 Score: 0.9912164066711296\n"
          ]
        }
      ]
    },
    {
      "cell_type": "markdown",
      "source": [
        "10. Visualize confusion matrix, correlations, and similar.\n"
      ],
      "metadata": {
        "id": "I3frTdRYyhE5"
      }
    },
    {
      "cell_type": "code",
      "source": [
        "import pandas as pd\n",
        "import seaborn as sns\n",
        "import matplotlib.pyplot as plt\n",
        "from sklearn.svm import SVC\n",
        "from sklearn.feature_extraction.text import TfidfVectorizer\n",
        "from sklearn.model_selection import train_test_split\n",
        "from sklearn.metrics import confusion_matrix\n",
        "\n",
        "# Load the train data into a DataFrame\n",
        "train_data = pd.read_csv(\"/content/train.csv\")\n",
        "\n",
        "# Split the train_data into features (X_train) and labels (y_train)\n",
        "X_train = train_data[\"text\"]\n",
        "y_train = train_data[\"author\"]\n",
        "\n",
        "# Apply TF-IDF vectorization to the training data\n",
        "tfidf = TfidfVectorizer()\n",
        "X_train_tfidf = tfidf.fit_transform(X_train)\n",
        "\n",
        "# Create an SVM classifier\n",
        "svm = SVC()\n",
        "\n",
        "# Fit the SVM model on the training data\n",
        "svm.fit(X_train_tfidf, y_train)\n",
        "\n",
        "# Make predictions using the trained SVM model\n",
        "train_predictions = svm.predict(X_train_tfidf)\n",
        "\n",
        "# Create a confusion matrix\n",
        "confusion = confusion_matrix(y_train, train_predictions)\n",
        "\n",
        "# Visualize the confusion matrix\n",
        "plt.figure(figsize=(8, 6))\n",
        "sns.heatmap(confusion, annot=True, cmap=\"Blues\", fmt=\"d\")\n",
        "plt.xlabel(\"Predicted Labels\")\n",
        "plt.ylabel(\"True Labels\")\n",
        "plt.title(\"Confusion Matrix\")\n",
        "plt.show()\n",
        "\n",
        "# Calculate the correlation matrix\n",
        "correlation_matrix = train_data.corr()\n",
        "\n",
        "# Visualize the correlation matrix\n",
        "plt.figure(figsize=(10, 8))\n",
        "sns.heatmap(correlation_matrix, annot=True, cmap=\"coolwarm\")\n",
        "plt.title(\"Correlation Matrix\")\n",
        "plt.show()\n"
      ],
      "metadata": {
        "colab": {
          "base_uri": "https://localhost:8080/",
          "height": 999
        },
        "id": "chmxI_UXynI_",
        "outputId": "c2a870e5-4e51-46ca-915f-845f36cd5c06"
      },
      "execution_count": 5,
      "outputs": [
        {
          "output_type": "display_data",
          "data": {
            "text/plain": [
              "<Figure size 800x600 with 2 Axes>"
            ],
            "image/png": "[encoded data removed]"
          },
          "metadata": {}
        },
        {
          "output_type": "stream",
          "name": "stderr",
          "text": [
            "<ipython-input-5-44fabfcdeebe>:41: FutureWarning: The default value of numeric_only in DataFrame.corr is deprecated. In a future version, it will default to False. Select only valid columns or specify the value of numeric_only to silence this warning.\n",
            "  correlation_matrix = train_data.corr()\n"
          ]
        },
        {
          "output_type": "error",
          "ename": "ValueError",
          "evalue": "ignored",
          "traceback": [
            "\u001b[0;31m---------------------------------------------------------------------------\u001b[0m",
            "\u001b[0;31mValueError\u001b[0m                                Traceback (most recent call last)",
            "\u001b[0;32m<ipython-input-5-44fabfcdeebe>\u001b[0m in \u001b[0;36m<cell line: 45>\u001b[0;34m()\u001b[0m\n\u001b[1;32m     43\u001b[0m \u001b[0;31m# Visualize the correlation matrix\u001b[0m\u001b[0;34m\u001b[0m\u001b[0;34m\u001b[0m\u001b[0m\n\u001b[1;32m     44\u001b[0m \u001b[0mplt\u001b[0m\u001b[0;34m.\u001b[0m\u001b[0mfigure\u001b[0m\u001b[0;34m(\u001b[0m\u001b[0mfigsize\u001b[0m\u001b[0;34m=\u001b[0m\u001b[0;34m(\u001b[0m\u001b[0;36m10\u001b[0m\u001b[0;34m,\u001b[0m \u001b[0;36m8\u001b[0m\u001b[0;34m)\u001b[0m\u001b[0;34m)\u001b[0m\u001b[0;34m\u001b[0m\u001b[0;34m\u001b[0m\u001b[0m\n\u001b[0;32m---> 45\u001b[0;31m \u001b[0msns\u001b[0m\u001b[0;34m.\u001b[0m\u001b[0mheatmap\u001b[0m\u001b[0;34m(\u001b[0m\u001b[0mcorrelation_matrix\u001b[0m\u001b[0;34m,\u001b[0m \u001b[0mannot\u001b[0m\u001b[0;34m=\u001b[0m\u001b[0;32mTrue\u001b[0m\u001b[0;34m,\u001b[0m \u001b[0mcmap\u001b[0m\u001b[0;34m=\u001b[0m\u001b[0;34m\"coolwarm\"\u001b[0m\u001b[0;34m)\u001b[0m\u001b[0;34m\u001b[0m\u001b[0;34m\u001b[0m\u001b[0m\n\u001b[0m\u001b[1;32m     46\u001b[0m \u001b[0mplt\u001b[0m\u001b[0;34m.\u001b[0m\u001b[0mtitle\u001b[0m\u001b[0;34m(\u001b[0m\u001b[0;34m\"Correlation Matrix\"\u001b[0m\u001b[0;34m)\u001b[0m\u001b[0;34m\u001b[0m\u001b[0;34m\u001b[0m\u001b[0m\n\u001b[1;32m     47\u001b[0m \u001b[0mplt\u001b[0m\u001b[0;34m.\u001b[0m\u001b[0mshow\u001b[0m\u001b[0;34m(\u001b[0m\u001b[0;34m)\u001b[0m\u001b[0;34m\u001b[0m\u001b[0;34m\u001b[0m\u001b[0m\n",
            "\u001b[0;32m/usr/local/lib/python3.10/dist-packages/seaborn/matrix.py\u001b[0m in \u001b[0;36mheatmap\u001b[0;34m(data, vmin, vmax, cmap, center, robust, annot, fmt, annot_kws, linewidths, linecolor, cbar, cbar_kws, cbar_ax, square, xticklabels, yticklabels, mask, ax, **kwargs)\u001b[0m\n\u001b[1;32m    444\u001b[0m     \"\"\"\n\u001b[1;32m    445\u001b[0m     \u001b[0;31m# Initialize the plotter object\u001b[0m\u001b[0;34m\u001b[0m\u001b[0;34m\u001b[0m\u001b[0m\n\u001b[0;32m--> 446\u001b[0;31m     plotter = _HeatMapper(data, vmin, vmax, cmap, center, robust, annot, fmt,\n\u001b[0m\u001b[1;32m    447\u001b[0m                           \u001b[0mannot_kws\u001b[0m\u001b[0;34m,\u001b[0m \u001b[0mcbar\u001b[0m\u001b[0;34m,\u001b[0m \u001b[0mcbar_kws\u001b[0m\u001b[0;34m,\u001b[0m \u001b[0mxticklabels\u001b[0m\u001b[0;34m,\u001b[0m\u001b[0;34m\u001b[0m\u001b[0;34m\u001b[0m\u001b[0m\n\u001b[1;32m    448\u001b[0m                           yticklabels, mask)\n",
            "\u001b[0;32m/usr/local/lib/python3.10/dist-packages/seaborn/matrix.py\u001b[0m in \u001b[0;36m__init__\u001b[0;34m(self, data, vmin, vmax, cmap, center, robust, annot, fmt, annot_kws, cbar, cbar_kws, xticklabels, yticklabels, mask)\u001b[0m\n\u001b[1;32m    161\u001b[0m \u001b[0;34m\u001b[0m\u001b[0m\n\u001b[1;32m    162\u001b[0m         \u001b[0;31m# Determine good default values for the colormapping\u001b[0m\u001b[0;34m\u001b[0m\u001b[0;34m\u001b[0m\u001b[0m\n\u001b[0;32m--> 163\u001b[0;31m         self._determine_cmap_params(plot_data, vmin, vmax,\n\u001b[0m\u001b[1;32m    164\u001b[0m                                     cmap, center, robust)\n\u001b[1;32m    165\u001b[0m \u001b[0;34m\u001b[0m\u001b[0m\n",
            "\u001b[0;32m/usr/local/lib/python3.10/dist-packages/seaborn/matrix.py\u001b[0m in \u001b[0;36m_determine_cmap_params\u001b[0;34m(self, plot_data, vmin, vmax, cmap, center, robust)\u001b[0m\n\u001b[1;32m    200\u001b[0m                 \u001b[0mvmin\u001b[0m \u001b[0;34m=\u001b[0m \u001b[0mnp\u001b[0m\u001b[0;34m.\u001b[0m\u001b[0mnanpercentile\u001b[0m\u001b[0;34m(\u001b[0m\u001b[0mcalc_data\u001b[0m\u001b[0;34m,\u001b[0m \u001b[0;36m2\u001b[0m\u001b[0;34m)\u001b[0m\u001b[0;34m\u001b[0m\u001b[0;34m\u001b[0m\u001b[0m\n\u001b[1;32m    201\u001b[0m             \u001b[0;32melse\u001b[0m\u001b[0;34m:\u001b[0m\u001b[0;34m\u001b[0m\u001b[0;34m\u001b[0m\u001b[0m\n\u001b[0;32m--> 202\u001b[0;31m                 \u001b[0mvmin\u001b[0m \u001b[0;34m=\u001b[0m \u001b[0mnp\u001b[0m\u001b[0;34m.\u001b[0m\u001b[0mnanmin\u001b[0m\u001b[0;34m(\u001b[0m\u001b[0mcalc_data\u001b[0m\u001b[0;34m)\u001b[0m\u001b[0;34m\u001b[0m\u001b[0;34m\u001b[0m\u001b[0m\n\u001b[0m\u001b[1;32m    203\u001b[0m         \u001b[0;32mif\u001b[0m \u001b[0mvmax\u001b[0m \u001b[0;32mis\u001b[0m \u001b[0;32mNone\u001b[0m\u001b[0;34m:\u001b[0m\u001b[0;34m\u001b[0m\u001b[0;34m\u001b[0m\u001b[0m\n\u001b[1;32m    204\u001b[0m             \u001b[0;32mif\u001b[0m \u001b[0mrobust\u001b[0m\u001b[0;34m:\u001b[0m\u001b[0;34m\u001b[0m\u001b[0;34m\u001b[0m\u001b[0m\n",
            "\u001b[0;32m/usr/local/lib/python3.10/dist-packages/numpy/core/overrides.py\u001b[0m in \u001b[0;36mnanmin\u001b[0;34m(*args, **kwargs)\u001b[0m\n",
            "\u001b[0;32m/usr/local/lib/python3.10/dist-packages/numpy/lib/nanfunctions.py\u001b[0m in \u001b[0;36mnanmin\u001b[0;34m(a, axis, out, keepdims, initial, where)\u001b[0m\n\u001b[1;32m    342\u001b[0m         \u001b[0;31m# Fast, but not safe for subclasses of ndarray, or object arrays,\u001b[0m\u001b[0;34m\u001b[0m\u001b[0;34m\u001b[0m\u001b[0m\n\u001b[1;32m    343\u001b[0m         \u001b[0;31m# which do not implement isnan (gh-9009), or fmin correctly (gh-8975)\u001b[0m\u001b[0;34m\u001b[0m\u001b[0;34m\u001b[0m\u001b[0m\n\u001b[0;32m--> 344\u001b[0;31m         \u001b[0mres\u001b[0m \u001b[0;34m=\u001b[0m \u001b[0mnp\u001b[0m\u001b[0;34m.\u001b[0m\u001b[0mfmin\u001b[0m\u001b[0;34m.\u001b[0m\u001b[0mreduce\u001b[0m\u001b[0;34m(\u001b[0m\u001b[0ma\u001b[0m\u001b[0;34m,\u001b[0m \u001b[0maxis\u001b[0m\u001b[0;34m=\u001b[0m\u001b[0maxis\u001b[0m\u001b[0;34m,\u001b[0m \u001b[0mout\u001b[0m\u001b[0;34m=\u001b[0m\u001b[0mout\u001b[0m\u001b[0;34m,\u001b[0m \u001b[0;34m**\u001b[0m\u001b[0mkwargs\u001b[0m\u001b[0;34m)\u001b[0m\u001b[0;34m\u001b[0m\u001b[0;34m\u001b[0m\u001b[0m\n\u001b[0m\u001b[1;32m    345\u001b[0m         \u001b[0;32mif\u001b[0m \u001b[0mnp\u001b[0m\u001b[0;34m.\u001b[0m\u001b[0misnan\u001b[0m\u001b[0;34m(\u001b[0m\u001b[0mres\u001b[0m\u001b[0;34m)\u001b[0m\u001b[0;34m.\u001b[0m\u001b[0many\u001b[0m\u001b[0;34m(\u001b[0m\u001b[0;34m)\u001b[0m\u001b[0;34m:\u001b[0m\u001b[0;34m\u001b[0m\u001b[0;34m\u001b[0m\u001b[0m\n\u001b[1;32m    346\u001b[0m             warnings.warn(\"All-NaN slice encountered\", RuntimeWarning,\n",
            "\u001b[0;31mValueError\u001b[0m: zero-size array to reduction operation fmin which has no identity"
          ]
        },
        {
          "output_type": "display_data",
          "data": {
            "text/plain": [
              "<Figure size 1000x800 with 0 Axes>"
            ]
          },
          "metadata": {}
        }
      ]
    },
    {
      "cell_type": "code",
      "source": [
        "import pandas as pd\n",
        "import seaborn as sns\n",
        "import matplotlib.pyplot as plt\n",
        "from sklearn.svm import SVC\n",
        "from sklearn.feature_extraction.text import TfidfVectorizer\n",
        "from sklearn.model_selection import train_test_split\n",
        "from sklearn.metrics import confusion_matrix\n",
        "\n",
        "# Load the train data into a DataFrame\n",
        "train_data = pd.read_csv(\"/content/train.csv\")\n",
        "\n",
        "# Split the train_data into features (X_train) and labels (y_train)\n",
        "X_train = train_data[\"text\"]\n",
        "y_train = train_data[\"author\"]\n",
        "\n",
        "# Apply TF-IDF vectorization to the training data\n",
        "tfidf = TfidfVectorizer()\n",
        "X_train_tfidf = tfidf.fit_transform(X_train)\n",
        "\n",
        "# Create an SVM classifier\n",
        "svm = SVC()\n",
        "\n",
        "# Fit the SVM model on the training data\n",
        "svm.fit(X_train_tfidf, y_train)\n",
        "\n",
        "# Make predictions using the trained SVM model\n",
        "train_predictions = svm.predict(X_train_tfidf)\n",
        "\n",
        "# Create a confusion matrix\n",
        "confusion = confusion_matrix(y_train, train_predictions)\n",
        "\n",
        "# Visualize the confusion matrix\n",
        "plt.figure(figsize=(8, 6))\n",
        "sns.heatmap(confusion, annot=True, cmap=\"Blues\", fmt=\"d\")\n",
        "plt.xlabel(\"Predicted Labels\")\n",
        "plt.ylabel(\"True Labels\")\n",
        "plt.title(\"Confusion Matrix\")\n",
        "plt.show()\n",
        "\n",
        "# Select numerical columns for correlation calculation\n",
        "numerical_columns = train_data.select_dtypes(include='number')\n",
        "\n",
        "# Calculate the correlation matrix\n",
        "correlation_matrix = numerical_columns.corr()\n",
        "\n",
        "# Visualize the correlation matrix\n",
        "plt.figure(figsize=(10, 8))\n",
        "sns.heatmap(correlation_matrix, annot=True, cmap=\"coolwarm\")\n",
        "plt.title(\"Correlation Matrix\")\n",
        "plt.show()\n"
      ],
      "metadata": {
        "colab": {
          "base_uri": "https://localhost:8080/",
          "height": 944
        },
        "id": "PzfQBDY303vF",
        "outputId": "455a3687-6e26-43ef-c40b-5934114c44ea"
      },
      "execution_count": 6,
      "outputs": [
        {
          "output_type": "display_data",
          "data": {
            "text/plain": [
              "<Figure size 800x600 with 2 Axes>"
            ],
            "image/png": "[encoded data removed]"
          },
          "metadata": {}
        },
        {
          "output_type": "error",
          "ename": "ValueError",
          "evalue": "ignored",
          "traceback": [
            "\u001b[0;31m---------------------------------------------------------------------------\u001b[0m",
            "\u001b[0;31mValueError\u001b[0m                                Traceback (most recent call last)",
            "\u001b[0;32m<ipython-input-6-b7d7da8320a0>\u001b[0m in \u001b[0;36m<cell line: 48>\u001b[0;34m()\u001b[0m\n\u001b[1;32m     46\u001b[0m \u001b[0;31m# Visualize the correlation matrix\u001b[0m\u001b[0;34m\u001b[0m\u001b[0;34m\u001b[0m\u001b[0m\n\u001b[1;32m     47\u001b[0m \u001b[0mplt\u001b[0m\u001b[0;34m.\u001b[0m\u001b[0mfigure\u001b[0m\u001b[0;34m(\u001b[0m\u001b[0mfigsize\u001b[0m\u001b[0;34m=\u001b[0m\u001b[0;34m(\u001b[0m\u001b[0;36m10\u001b[0m\u001b[0;34m,\u001b[0m \u001b[0;36m8\u001b[0m\u001b[0;34m)\u001b[0m\u001b[0;34m)\u001b[0m\u001b[0;34m\u001b[0m\u001b[0;34m\u001b[0m\u001b[0m\n\u001b[0;32m---> 48\u001b[0;31m \u001b[0msns\u001b[0m\u001b[0;34m.\u001b[0m\u001b[0mheatmap\u001b[0m\u001b[0;34m(\u001b[0m\u001b[0mcorrelation_matrix\u001b[0m\u001b[0;34m,\u001b[0m \u001b[0mannot\u001b[0m\u001b[0;34m=\u001b[0m\u001b[0;32mTrue\u001b[0m\u001b[0;34m,\u001b[0m \u001b[0mcmap\u001b[0m\u001b[0;34m=\u001b[0m\u001b[0;34m\"coolwarm\"\u001b[0m\u001b[0;34m)\u001b[0m\u001b[0;34m\u001b[0m\u001b[0;34m\u001b[0m\u001b[0m\n\u001b[0m\u001b[1;32m     49\u001b[0m \u001b[0mplt\u001b[0m\u001b[0;34m.\u001b[0m\u001b[0mtitle\u001b[0m\u001b[0;34m(\u001b[0m\u001b[0;34m\"Correlation Matrix\"\u001b[0m\u001b[0;34m)\u001b[0m\u001b[0;34m\u001b[0m\u001b[0;34m\u001b[0m\u001b[0m\n\u001b[1;32m     50\u001b[0m \u001b[0mplt\u001b[0m\u001b[0;34m.\u001b[0m\u001b[0mshow\u001b[0m\u001b[0;34m(\u001b[0m\u001b[0;34m)\u001b[0m\u001b[0;34m\u001b[0m\u001b[0;34m\u001b[0m\u001b[0m\n",
            "\u001b[0;32m/usr/local/lib/python3.10/dist-packages/seaborn/matrix.py\u001b[0m in \u001b[0;36mheatmap\u001b[0;34m(data, vmin, vmax, cmap, center, robust, annot, fmt, annot_kws, linewidths, linecolor, cbar, cbar_kws, cbar_ax, square, xticklabels, yticklabels, mask, ax, **kwargs)\u001b[0m\n\u001b[1;32m    444\u001b[0m     \"\"\"\n\u001b[1;32m    445\u001b[0m     \u001b[0;31m# Initialize the plotter object\u001b[0m\u001b[0;34m\u001b[0m\u001b[0;34m\u001b[0m\u001b[0m\n\u001b[0;32m--> 446\u001b[0;31m     plotter = _HeatMapper(data, vmin, vmax, cmap, center, robust, annot, fmt,\n\u001b[0m\u001b[1;32m    447\u001b[0m                           \u001b[0mannot_kws\u001b[0m\u001b[0;34m,\u001b[0m \u001b[0mcbar\u001b[0m\u001b[0;34m,\u001b[0m \u001b[0mcbar_kws\u001b[0m\u001b[0;34m,\u001b[0m \u001b[0mxticklabels\u001b[0m\u001b[0;34m,\u001b[0m\u001b[0;34m\u001b[0m\u001b[0;34m\u001b[0m\u001b[0m\n\u001b[1;32m    448\u001b[0m                           yticklabels, mask)\n",
            "\u001b[0;32m/usr/local/lib/python3.10/dist-packages/seaborn/matrix.py\u001b[0m in \u001b[0;36m__init__\u001b[0;34m(self, data, vmin, vmax, cmap, center, robust, annot, fmt, annot_kws, cbar, cbar_kws, xticklabels, yticklabels, mask)\u001b[0m\n\u001b[1;32m    161\u001b[0m \u001b[0;34m\u001b[0m\u001b[0m\n\u001b[1;32m    162\u001b[0m         \u001b[0;31m# Determine good default values for the colormapping\u001b[0m\u001b[0;34m\u001b[0m\u001b[0;34m\u001b[0m\u001b[0m\n\u001b[0;32m--> 163\u001b[0;31m         self._determine_cmap_params(plot_data, vmin, vmax,\n\u001b[0m\u001b[1;32m    164\u001b[0m                                     cmap, center, robust)\n\u001b[1;32m    165\u001b[0m \u001b[0;34m\u001b[0m\u001b[0m\n",
            "\u001b[0;32m/usr/local/lib/python3.10/dist-packages/seaborn/matrix.py\u001b[0m in \u001b[0;36m_determine_cmap_params\u001b[0;34m(self, plot_data, vmin, vmax, cmap, center, robust)\u001b[0m\n\u001b[1;32m    200\u001b[0m                 \u001b[0mvmin\u001b[0m \u001b[0;34m=\u001b[0m \u001b[0mnp\u001b[0m\u001b[0;34m.\u001b[0m\u001b[0mnanpercentile\u001b[0m\u001b[0;34m(\u001b[0m\u001b[0mcalc_data\u001b[0m\u001b[0;34m,\u001b[0m \u001b[0;36m2\u001b[0m\u001b[0;34m)\u001b[0m\u001b[0;34m\u001b[0m\u001b[0;34m\u001b[0m\u001b[0m\n\u001b[1;32m    201\u001b[0m             \u001b[0;32melse\u001b[0m\u001b[0;34m:\u001b[0m\u001b[0;34m\u001b[0m\u001b[0;34m\u001b[0m\u001b[0m\n\u001b[0;32m--> 202\u001b[0;31m                 \u001b[0mvmin\u001b[0m \u001b[0;34m=\u001b[0m \u001b[0mnp\u001b[0m\u001b[0;34m.\u001b[0m\u001b[0mnanmin\u001b[0m\u001b[0;34m(\u001b[0m\u001b[0mcalc_data\u001b[0m\u001b[0;34m)\u001b[0m\u001b[0;34m\u001b[0m\u001b[0;34m\u001b[0m\u001b[0m\n\u001b[0m\u001b[1;32m    203\u001b[0m         \u001b[0;32mif\u001b[0m \u001b[0mvmax\u001b[0m \u001b[0;32mis\u001b[0m \u001b[0;32mNone\u001b[0m\u001b[0;34m:\u001b[0m\u001b[0;34m\u001b[0m\u001b[0;34m\u001b[0m\u001b[0m\n\u001b[1;32m    204\u001b[0m             \u001b[0;32mif\u001b[0m \u001b[0mrobust\u001b[0m\u001b[0;34m:\u001b[0m\u001b[0;34m\u001b[0m\u001b[0;34m\u001b[0m\u001b[0m\n",
            "\u001b[0;32m/usr/local/lib/python3.10/dist-packages/numpy/core/overrides.py\u001b[0m in \u001b[0;36mnanmin\u001b[0;34m(*args, **kwargs)\u001b[0m\n",
            "\u001b[0;32m/usr/local/lib/python3.10/dist-packages/numpy/lib/nanfunctions.py\u001b[0m in \u001b[0;36mnanmin\u001b[0;34m(a, axis, out, keepdims, initial, where)\u001b[0m\n\u001b[1;32m    342\u001b[0m         \u001b[0;31m# Fast, but not safe for subclasses of ndarray, or object arrays,\u001b[0m\u001b[0;34m\u001b[0m\u001b[0;34m\u001b[0m\u001b[0m\n\u001b[1;32m    343\u001b[0m         \u001b[0;31m# which do not implement isnan (gh-9009), or fmin correctly (gh-8975)\u001b[0m\u001b[0;34m\u001b[0m\u001b[0;34m\u001b[0m\u001b[0m\n\u001b[0;32m--> 344\u001b[0;31m         \u001b[0mres\u001b[0m \u001b[0;34m=\u001b[0m \u001b[0mnp\u001b[0m\u001b[0;34m.\u001b[0m\u001b[0mfmin\u001b[0m\u001b[0;34m.\u001b[0m\u001b[0mreduce\u001b[0m\u001b[0;34m(\u001b[0m\u001b[0ma\u001b[0m\u001b[0;34m,\u001b[0m \u001b[0maxis\u001b[0m\u001b[0;34m=\u001b[0m\u001b[0maxis\u001b[0m\u001b[0;34m,\u001b[0m \u001b[0mout\u001b[0m\u001b[0;34m=\u001b[0m\u001b[0mout\u001b[0m\u001b[0;34m,\u001b[0m \u001b[0;34m**\u001b[0m\u001b[0mkwargs\u001b[0m\u001b[0;34m)\u001b[0m\u001b[0;34m\u001b[0m\u001b[0;34m\u001b[0m\u001b[0m\n\u001b[0m\u001b[1;32m    345\u001b[0m         \u001b[0;32mif\u001b[0m \u001b[0mnp\u001b[0m\u001b[0;34m.\u001b[0m\u001b[0misnan\u001b[0m\u001b[0;34m(\u001b[0m\u001b[0mres\u001b[0m\u001b[0;34m)\u001b[0m\u001b[0;34m.\u001b[0m\u001b[0many\u001b[0m\u001b[0;34m(\u001b[0m\u001b[0;34m)\u001b[0m\u001b[0;34m:\u001b[0m\u001b[0;34m\u001b[0m\u001b[0;34m\u001b[0m\u001b[0m\n\u001b[1;32m    346\u001b[0m             warnings.warn(\"All-NaN slice encountered\", RuntimeWarning,\n",
            "\u001b[0;31mValueError\u001b[0m: zero-size array to reduction operation fmin which has no identity"
          ]
        },
        {
          "output_type": "display_data",
          "data": {
            "text/plain": [
              "<Figure size 1000x800 with 0 Axes>"
            ]
          },
          "metadata": {}
        }
      ]
    },
    {
      "cell_type": "code",
      "source": [
        "import pandas as pd\n",
        "import matplotlib.pyplot as plt\n",
        "from sklearn.svm import SVC\n",
        "from sklearn.feature_extraction.text import TfidfVectorizer\n",
        "from sklearn.decomposition import PCA\n",
        "from sklearn.preprocessing import LabelEncoder\n",
        "\n",
        "# Load the train data into a DataFrame\n",
        "train_data = pd.read_csv(\"/content/train.csv\")\n",
        "\n",
        "# Split the train_data into features (X_train) and labels (y_train)\n",
        "X_train = train_data[\"text\"]\n",
        "y_train = train_data[\"author\"]\n",
        "\n",
        "# Encode the labels into numerical values\n",
        "label_encoder = LabelEncoder()\n",
        "y_train_encoded = label_encoder.fit_transform(y_train)\n",
        "\n",
        "# Apply TF-IDF vectorization to the training data\n",
        "tfidf = TfidfVectorizer()\n",
        "X_train_tfidf = tfidf.fit_transform(X_train)\n",
        "\n",
        "# Apply PCA for dimensionality reduction\n",
        "pca = PCA(n_components=2)\n",
        "X_train_pca = pca.fit_transform(X_train_tfidf.toarray())\n",
        "\n",
        "# Create an SVM classifier\n",
        "svm = SVC()\n",
        "\n",
        "# Fit the SVM model on the training data\n",
        "svm.fit(X_train_pca, y_train_encoded)\n",
        "\n",
        "# Plot the decision boundary and support vectors\n",
        "plt.figure(figsize=(8, 6))\n",
        "plt.scatter(X_train_pca[:, 0], X_train_pca[:, 1], c=y_train_encoded, cmap='viridis', edgecolors='k')\n",
        "plt.xlabel(\"Principal Component 1\")\n",
        "plt.ylabel(\"Principal Component 2\")\n",
        "plt.title(\"SVM Decision Boundary\")\n",
        "\n",
        "# Create a meshgrid to plot the decision boundary\n",
        "x_min, x_max = X_train_pca[:, 0].min() - 1, X_train_pca[:, 0].max() + 1\n",
        "y_min, y_max = X_train_pca[:, 1].min() - 1, X_train_pca[:, 1].max() + 1\n",
        "xx, yy = np.meshgrid(np.linspace(x_min, x_max, 100), np.linspace(y_min, y_max, 100))\n",
        "Z = svm.predict(np.c_[xx.ravel(), yy.ravel()])\n",
        "Z = Z.reshape(xx.shape)\n",
        "plt.contourf(xx, yy, Z, alpha=0.4, cmap='viridis')\n",
        "\n",
        "plt.show()\n"
      ],
      "metadata": {
        "colab": {
          "base_uri": "https://localhost:8080/",
          "height": 564
        },
        "id": "WL4P6nRA1cUk",
        "outputId": "d71f4541-bb30-4247-b0a3-a764972dc07d"
      },
      "execution_count": 17,
      "outputs": [
        {
          "output_type": "display_data",
          "data": {
            "text/plain": [
              "<Figure size 800x600 with 1 Axes>"
            ],
            "image/png": "[encoded data removed]"
          },
          "metadata": {}
        }
      ]
    },
    {
      "cell_type": "code",
      "source": [
        "import pandas as pd\n",
        "import numpy as np\n",
        "import matplotlib.pyplot as plt\n",
        "from sklearn.linear_model import Perceptron\n",
        "from sklearn.feature_extraction.text import TfidfVectorizer\n",
        "from sklearn.decomposition import PCA\n",
        "\n",
        "# Load the train data into a DataFrame\n",
        "train_data = pd.read_csv(\"/content/train.csv\")\n",
        "\n",
        "# Split the train_data into features (X_train) and labels (y_train)\n",
        "X_train = train_data[\"text\"]\n",
        "y_train = train_data[\"author\"]\n",
        "\n",
        "# Apply TF-IDF vectorization to the training data\n",
        "tfidf = TfidfVectorizer()\n",
        "X_train_tfidf = tfidf.fit_transform(X_train)\n",
        "\n",
        "# Apply PCA for dimensionality reduction\n",
        "pca = PCA(n_components=2)\n",
        "X_train_pca = pca.fit_transform(X_train_tfidf.toarray())\n",
        "\n",
        "# Create a Perceptron classifier\n",
        "perceptron = Perceptron()\n",
        "\n",
        "# Fit the Perceptron model on the training data\n",
        "perceptron.fit(X_train_pca, y_train)\n",
        "\n",
        "# Plot the decision boundary and support vectors\n",
        "h = 0.02  # step size in the mesh\n",
        "x_min, x_max = X_train_pca[:, 0].min() - 1, X_train_pca[:, 0].max() + 1\n",
        "y_min, y_max = X_train_pca[:, 1].min() - 1, X_train_pca[:, 1].max() + 1\n",
        "xx, yy = np.meshgrid(np.arange(x_min, x_max, h), np.arange(y_min, y_max, h))\n",
        "Z = perceptron.predict(np.c_[xx.ravel(), yy.ravel()])\n",
        "Z = Z.reshape(xx.shape)\n",
        "\n",
        "plt.contourf(np.array(xx), np.array(yy), np.array(Z), alpha=0.8, cmap='coolwarm')\n",
        "plt.scatter(X_train_pca[:, 0], X_train_pca[:, 1], c=y_train, edgecolors='k', cmap='coolwarm')\n",
        "plt.xlabel(\"Principal Component 1\")\n",
        "plt.ylabel(\"Principal Component 2\")\n",
        "plt.title(\"Perceptron Decision Boundary\")\n",
        "plt.show()\n"
      ],
      "metadata": {
        "colab": {
          "base_uri": "https://localhost:8080/",
          "height": 798
        },
        "id": "wgCcuAPD_hMR",
        "outputId": "c87d541b-e35e-456a-d4a9-7c5c8438deed"
      },
      "execution_count": 25,
      "outputs": [
        {
          "output_type": "error",
          "ename": "TypeError",
          "evalue": "ignored",
          "traceback": [
            "\u001b[0;31m---------------------------------------------------------------------------\u001b[0m",
            "\u001b[0;31mTypeError\u001b[0m                                 Traceback (most recent call last)",
            "\u001b[0;32m<ipython-input-25-529dff1be871>\u001b[0m in \u001b[0;36m<cell line: 37>\u001b[0;34m()\u001b[0m\n\u001b[1;32m     35\u001b[0m \u001b[0mZ\u001b[0m \u001b[0;34m=\u001b[0m \u001b[0mZ\u001b[0m\u001b[0;34m.\u001b[0m\u001b[0mreshape\u001b[0m\u001b[0;34m(\u001b[0m\u001b[0mxx\u001b[0m\u001b[0;34m.\u001b[0m\u001b[0mshape\u001b[0m\u001b[0;34m)\u001b[0m\u001b[0;34m\u001b[0m\u001b[0;34m\u001b[0m\u001b[0m\n\u001b[1;32m     36\u001b[0m \u001b[0;34m\u001b[0m\u001b[0m\n\u001b[0;32m---> 37\u001b[0;31m \u001b[0mplt\u001b[0m\u001b[0;34m.\u001b[0m\u001b[0mcontourf\u001b[0m\u001b[0;34m(\u001b[0m\u001b[0mnp\u001b[0m\u001b[0;34m.\u001b[0m\u001b[0marray\u001b[0m\u001b[0;34m(\u001b[0m\u001b[0mxx\u001b[0m\u001b[0;34m)\u001b[0m\u001b[0;34m,\u001b[0m \u001b[0mnp\u001b[0m\u001b[0;34m.\u001b[0m\u001b[0marray\u001b[0m\u001b[0;34m(\u001b[0m\u001b[0myy\u001b[0m\u001b[0;34m)\u001b[0m\u001b[0;34m,\u001b[0m \u001b[0mnp\u001b[0m\u001b[0;34m.\u001b[0m\u001b[0marray\u001b[0m\u001b[0;34m(\u001b[0m\u001b[0mZ\u001b[0m\u001b[0;34m)\u001b[0m\u001b[0;34m,\u001b[0m \u001b[0malpha\u001b[0m\u001b[0;34m=\u001b[0m\u001b[0;36m0.8\u001b[0m\u001b[0;34m,\u001b[0m \u001b[0mcmap\u001b[0m\u001b[0;34m=\u001b[0m\u001b[0;34m'coolwarm'\u001b[0m\u001b[0;34m)\u001b[0m\u001b[0;34m\u001b[0m\u001b[0;34m\u001b[0m\u001b[0m\n\u001b[0m\u001b[1;32m     38\u001b[0m \u001b[0mplt\u001b[0m\u001b[0;34m.\u001b[0m\u001b[0mscatter\u001b[0m\u001b[0;34m(\u001b[0m\u001b[0mX_train_pca\u001b[0m\u001b[0;34m[\u001b[0m\u001b[0;34m:\u001b[0m\u001b[0;34m,\u001b[0m \u001b[0;36m0\u001b[0m\u001b[0;34m]\u001b[0m\u001b[0;34m,\u001b[0m \u001b[0mX_train_pca\u001b[0m\u001b[0;34m[\u001b[0m\u001b[0;34m:\u001b[0m\u001b[0;34m,\u001b[0m \u001b[0;36m1\u001b[0m\u001b[0;34m]\u001b[0m\u001b[0;34m,\u001b[0m \u001b[0mc\u001b[0m\u001b[0;34m=\u001b[0m\u001b[0my_train\u001b[0m\u001b[0;34m,\u001b[0m \u001b[0medgecolors\u001b[0m\u001b[0;34m=\u001b[0m\u001b[0;34m'k'\u001b[0m\u001b[0;34m,\u001b[0m \u001b[0mcmap\u001b[0m\u001b[0;34m=\u001b[0m\u001b[0;34m'coolwarm'\u001b[0m\u001b[0;34m)\u001b[0m\u001b[0;34m\u001b[0m\u001b[0;34m\u001b[0m\u001b[0m\n\u001b[1;32m     39\u001b[0m \u001b[0mplt\u001b[0m\u001b[0;34m.\u001b[0m\u001b[0mxlabel\u001b[0m\u001b[0;34m(\u001b[0m\u001b[0;34m\"Principal Component 1\"\u001b[0m\u001b[0;34m)\u001b[0m\u001b[0;34m\u001b[0m\u001b[0;34m\u001b[0m\u001b[0m\n",
            "\u001b[0;32m/usr/local/lib/python3.10/dist-packages/matplotlib/pyplot.py\u001b[0m in \u001b[0;36mcontourf\u001b[0;34m(data, *args, **kwargs)\u001b[0m\n\u001b[1;32m   2535\u001b[0m \u001b[0;34m@\u001b[0m\u001b[0m_copy_docstring_and_deprecators\u001b[0m\u001b[0;34m(\u001b[0m\u001b[0mAxes\u001b[0m\u001b[0;34m.\u001b[0m\u001b[0mcontourf\u001b[0m\u001b[0;34m)\u001b[0m\u001b[0;34m\u001b[0m\u001b[0;34m\u001b[0m\u001b[0m\n\u001b[1;32m   2536\u001b[0m \u001b[0;32mdef\u001b[0m \u001b[0mcontourf\u001b[0m\u001b[0;34m(\u001b[0m\u001b[0;34m*\u001b[0m\u001b[0margs\u001b[0m\u001b[0;34m,\u001b[0m \u001b[0mdata\u001b[0m\u001b[0;34m=\u001b[0m\u001b[0;32mNone\u001b[0m\u001b[0;34m,\u001b[0m \u001b[0;34m**\u001b[0m\u001b[0mkwargs\u001b[0m\u001b[0;34m)\u001b[0m\u001b[0;34m:\u001b[0m\u001b[0;34m\u001b[0m\u001b[0;34m\u001b[0m\u001b[0m\n\u001b[0;32m-> 2537\u001b[0;31m     __ret = gca().contourf(\n\u001b[0m\u001b[1;32m   2538\u001b[0m         \u001b[0;34m*\u001b[0m\u001b[0margs\u001b[0m\u001b[0;34m,\u001b[0m \u001b[0;34m**\u001b[0m\u001b[0;34m(\u001b[0m\u001b[0;34m{\u001b[0m\u001b[0;34m\"data\"\u001b[0m\u001b[0;34m:\u001b[0m \u001b[0mdata\u001b[0m\u001b[0;34m}\u001b[0m \u001b[0;32mif\u001b[0m \u001b[0mdata\u001b[0m \u001b[0;32mis\u001b[0m \u001b[0;32mnot\u001b[0m \u001b[0;32mNone\u001b[0m \u001b[0;32melse\u001b[0m \u001b[0;34m{\u001b[0m\u001b[0;34m}\u001b[0m\u001b[0;34m)\u001b[0m\u001b[0;34m,\u001b[0m\u001b[0;34m\u001b[0m\u001b[0;34m\u001b[0m\u001b[0m\n\u001b[1;32m   2539\u001b[0m         **kwargs)\n",
            "\u001b[0;32m/usr/local/lib/python3.10/dist-packages/matplotlib/__init__.py\u001b[0m in \u001b[0;36minner\u001b[0;34m(ax, data, *args, **kwargs)\u001b[0m\n\u001b[1;32m   1440\u001b[0m     \u001b[0;32mdef\u001b[0m \u001b[0minner\u001b[0m\u001b[0;34m(\u001b[0m\u001b[0max\u001b[0m\u001b[0;34m,\u001b[0m \u001b[0;34m*\u001b[0m\u001b[0margs\u001b[0m\u001b[0;34m,\u001b[0m \u001b[0mdata\u001b[0m\u001b[0;34m=\u001b[0m\u001b[0;32mNone\u001b[0m\u001b[0;34m,\u001b[0m \u001b[0;34m**\u001b[0m\u001b[0mkwargs\u001b[0m\u001b[0;34m)\u001b[0m\u001b[0;34m:\u001b[0m\u001b[0;34m\u001b[0m\u001b[0;34m\u001b[0m\u001b[0m\n\u001b[1;32m   1441\u001b[0m         \u001b[0;32mif\u001b[0m \u001b[0mdata\u001b[0m \u001b[0;32mis\u001b[0m \u001b[0;32mNone\u001b[0m\u001b[0;34m:\u001b[0m\u001b[0;34m\u001b[0m\u001b[0;34m\u001b[0m\u001b[0m\n\u001b[0;32m-> 1442\u001b[0;31m             \u001b[0;32mreturn\u001b[0m \u001b[0mfunc\u001b[0m\u001b[0;34m(\u001b[0m\u001b[0max\u001b[0m\u001b[0;34m,\u001b[0m \u001b[0;34m*\u001b[0m\u001b[0mmap\u001b[0m\u001b[0;34m(\u001b[0m\u001b[0msanitize_sequence\u001b[0m\u001b[0;34m,\u001b[0m \u001b[0margs\u001b[0m\u001b[0;34m)\u001b[0m\u001b[0;34m,\u001b[0m \u001b[0;34m**\u001b[0m\u001b[0mkwargs\u001b[0m\u001b[0;34m)\u001b[0m\u001b[0;34m\u001b[0m\u001b[0;34m\u001b[0m\u001b[0m\n\u001b[0m\u001b[1;32m   1443\u001b[0m \u001b[0;34m\u001b[0m\u001b[0m\n\u001b[1;32m   1444\u001b[0m         \u001b[0mbound\u001b[0m \u001b[0;34m=\u001b[0m \u001b[0mnew_sig\u001b[0m\u001b[0;34m.\u001b[0m\u001b[0mbind\u001b[0m\u001b[0;34m(\u001b[0m\u001b[0max\u001b[0m\u001b[0;34m,\u001b[0m \u001b[0;34m*\u001b[0m\u001b[0margs\u001b[0m\u001b[0;34m,\u001b[0m \u001b[0;34m**\u001b[0m\u001b[0mkwargs\u001b[0m\u001b[0;34m)\u001b[0m\u001b[0;34m\u001b[0m\u001b[0;34m\u001b[0m\u001b[0m\n",
            "\u001b[0;32m/usr/local/lib/python3.10/dist-packages/matplotlib/axes/_axes.py\u001b[0m in \u001b[0;36mcontourf\u001b[0;34m(self, *args, **kwargs)\u001b[0m\n\u001b[1;32m   6465\u001b[0m         \"\"\"\n\u001b[1;32m   6466\u001b[0m         \u001b[0mkwargs\u001b[0m\u001b[0;34m[\u001b[0m\u001b[0;34m'filled'\u001b[0m\u001b[0;34m]\u001b[0m \u001b[0;34m=\u001b[0m \u001b[0;32mTrue\u001b[0m\u001b[0;34m\u001b[0m\u001b[0;34m\u001b[0m\u001b[0m\n\u001b[0;32m-> 6467\u001b[0;31m         \u001b[0mcontours\u001b[0m \u001b[0;34m=\u001b[0m \u001b[0mmcontour\u001b[0m\u001b[0;34m.\u001b[0m\u001b[0mQuadContourSet\u001b[0m\u001b[0;34m(\u001b[0m\u001b[0mself\u001b[0m\u001b[0;34m,\u001b[0m \u001b[0;34m*\u001b[0m\u001b[0margs\u001b[0m\u001b[0;34m,\u001b[0m \u001b[0;34m**\u001b[0m\u001b[0mkwargs\u001b[0m\u001b[0;34m)\u001b[0m\u001b[0;34m\u001b[0m\u001b[0;34m\u001b[0m\u001b[0m\n\u001b[0m\u001b[1;32m   6468\u001b[0m         \u001b[0mself\u001b[0m\u001b[0;34m.\u001b[0m\u001b[0m_request_autoscale_view\u001b[0m\u001b[0;34m(\u001b[0m\u001b[0;34m)\u001b[0m\u001b[0;34m\u001b[0m\u001b[0;34m\u001b[0m\u001b[0m\n\u001b[1;32m   6469\u001b[0m         \u001b[0;32mreturn\u001b[0m \u001b[0mcontours\u001b[0m\u001b[0;34m\u001b[0m\u001b[0;34m\u001b[0m\u001b[0m\n",
            "\u001b[0;32m/usr/local/lib/python3.10/dist-packages/matplotlib/contour.py\u001b[0m in \u001b[0;36m__init__\u001b[0;34m(self, ax, levels, filled, linewidths, linestyles, hatches, alpha, origin, extent, cmap, colors, norm, vmin, vmax, extend, antialiased, nchunk, locator, transform, negative_linestyles, *args, **kwargs)\u001b[0m\n\u001b[1;32m    767\u001b[0m                 \u001b[0mmpl\u001b[0m\u001b[0;34m.\u001b[0m\u001b[0mrcParams\u001b[0m\u001b[0;34m[\u001b[0m\u001b[0;34m'contour.negative_linestyle'\u001b[0m\u001b[0;34m]\u001b[0m\u001b[0;34m\u001b[0m\u001b[0;34m\u001b[0m\u001b[0m\n\u001b[1;32m    768\u001b[0m \u001b[0;34m\u001b[0m\u001b[0m\n\u001b[0;32m--> 769\u001b[0;31m         \u001b[0mkwargs\u001b[0m \u001b[0;34m=\u001b[0m \u001b[0mself\u001b[0m\u001b[0;34m.\u001b[0m\u001b[0m_process_args\u001b[0m\u001b[0;34m(\u001b[0m\u001b[0;34m*\u001b[0m\u001b[0margs\u001b[0m\u001b[0;34m,\u001b[0m \u001b[0;34m**\u001b[0m\u001b[0mkwargs\u001b[0m\u001b[0;34m)\u001b[0m\u001b[0;34m\u001b[0m\u001b[0;34m\u001b[0m\u001b[0m\n\u001b[0m\u001b[1;32m    770\u001b[0m         \u001b[0mself\u001b[0m\u001b[0;34m.\u001b[0m\u001b[0m_process_levels\u001b[0m\u001b[0;34m(\u001b[0m\u001b[0;34m)\u001b[0m\u001b[0;34m\u001b[0m\u001b[0;34m\u001b[0m\u001b[0m\n\u001b[1;32m    771\u001b[0m \u001b[0;34m\u001b[0m\u001b[0m\n",
            "\u001b[0;32m/usr/local/lib/python3.10/dist-packages/matplotlib/contour.py\u001b[0m in \u001b[0;36m_process_args\u001b[0;34m(self, corner_mask, algorithm, *args, **kwargs)\u001b[0m\n\u001b[1;32m   1409\u001b[0m             \u001b[0mself\u001b[0m\u001b[0;34m.\u001b[0m\u001b[0m_corner_mask\u001b[0m \u001b[0;34m=\u001b[0m \u001b[0mcorner_mask\u001b[0m\u001b[0;34m\u001b[0m\u001b[0;34m\u001b[0m\u001b[0m\n\u001b[1;32m   1410\u001b[0m \u001b[0;34m\u001b[0m\u001b[0m\n\u001b[0;32m-> 1411\u001b[0;31m             \u001b[0mx\u001b[0m\u001b[0;34m,\u001b[0m \u001b[0my\u001b[0m\u001b[0;34m,\u001b[0m \u001b[0mz\u001b[0m \u001b[0;34m=\u001b[0m \u001b[0mself\u001b[0m\u001b[0;34m.\u001b[0m\u001b[0m_contour_args\u001b[0m\u001b[0;34m(\u001b[0m\u001b[0margs\u001b[0m\u001b[0;34m,\u001b[0m \u001b[0mkwargs\u001b[0m\u001b[0;34m)\u001b[0m\u001b[0;34m\u001b[0m\u001b[0;34m\u001b[0m\u001b[0m\n\u001b[0m\u001b[1;32m   1412\u001b[0m \u001b[0;34m\u001b[0m\u001b[0m\n\u001b[1;32m   1413\u001b[0m             contour_generator = contourpy.contour_generator(\n",
            "\u001b[0;32m/usr/local/lib/python3.10/dist-packages/matplotlib/contour.py\u001b[0m in \u001b[0;36m_contour_args\u001b[0;34m(self, args, kwargs)\u001b[0m\n\u001b[1;32m   1451\u001b[0m         \u001b[0;32melse\u001b[0m\u001b[0;34m:\u001b[0m\u001b[0;34m\u001b[0m\u001b[0;34m\u001b[0m\u001b[0m\n\u001b[1;32m   1452\u001b[0m             \u001b[0;32mraise\u001b[0m \u001b[0m_api\u001b[0m\u001b[0;34m.\u001b[0m\u001b[0mnargs_error\u001b[0m\u001b[0;34m(\u001b[0m\u001b[0mfn\u001b[0m\u001b[0;34m,\u001b[0m \u001b[0mtakes\u001b[0m\u001b[0;34m=\u001b[0m\u001b[0;34m\"from 1 to 4\"\u001b[0m\u001b[0;34m,\u001b[0m \u001b[0mgiven\u001b[0m\u001b[0;34m=\u001b[0m\u001b[0mnargs\u001b[0m\u001b[0;34m)\u001b[0m\u001b[0;34m\u001b[0m\u001b[0;34m\u001b[0m\u001b[0m\n\u001b[0;32m-> 1453\u001b[0;31m         \u001b[0mz\u001b[0m \u001b[0;34m=\u001b[0m \u001b[0mma\u001b[0m\u001b[0;34m.\u001b[0m\u001b[0mmasked_invalid\u001b[0m\u001b[0;34m(\u001b[0m\u001b[0mz\u001b[0m\u001b[0;34m,\u001b[0m \u001b[0mcopy\u001b[0m\u001b[0;34m=\u001b[0m\u001b[0;32mFalse\u001b[0m\u001b[0;34m)\u001b[0m\u001b[0;34m\u001b[0m\u001b[0;34m\u001b[0m\u001b[0m\n\u001b[0m\u001b[1;32m   1454\u001b[0m         \u001b[0mself\u001b[0m\u001b[0;34m.\u001b[0m\u001b[0mzmax\u001b[0m \u001b[0;34m=\u001b[0m \u001b[0mfloat\u001b[0m\u001b[0;34m(\u001b[0m\u001b[0mz\u001b[0m\u001b[0;34m.\u001b[0m\u001b[0mmax\u001b[0m\u001b[0;34m(\u001b[0m\u001b[0;34m)\u001b[0m\u001b[0;34m)\u001b[0m\u001b[0;34m\u001b[0m\u001b[0;34m\u001b[0m\u001b[0m\n\u001b[1;32m   1455\u001b[0m         \u001b[0mself\u001b[0m\u001b[0;34m.\u001b[0m\u001b[0mzmin\u001b[0m \u001b[0;34m=\u001b[0m \u001b[0mfloat\u001b[0m\u001b[0;34m(\u001b[0m\u001b[0mz\u001b[0m\u001b[0;34m.\u001b[0m\u001b[0mmin\u001b[0m\u001b[0;34m(\u001b[0m\u001b[0;34m)\u001b[0m\u001b[0;34m)\u001b[0m\u001b[0;34m\u001b[0m\u001b[0;34m\u001b[0m\u001b[0m\n",
            "\u001b[0;32m/usr/local/lib/python3.10/dist-packages/numpy/ma/core.py\u001b[0m in \u001b[0;36mmasked_invalid\u001b[0;34m(a, copy)\u001b[0m\n\u001b[1;32m   2359\u001b[0m     \u001b[0mmask\u001b[0m \u001b[0;34m=\u001b[0m \u001b[0mgetattr\u001b[0m\u001b[0;34m(\u001b[0m\u001b[0ma\u001b[0m\u001b[0;34m,\u001b[0m \u001b[0;34m'_mask'\u001b[0m\u001b[0;34m,\u001b[0m \u001b[0;32mNone\u001b[0m\u001b[0;34m)\u001b[0m\u001b[0;34m\u001b[0m\u001b[0;34m\u001b[0m\u001b[0m\n\u001b[1;32m   2360\u001b[0m     \u001b[0;32mif\u001b[0m \u001b[0mmask\u001b[0m \u001b[0;32mis\u001b[0m \u001b[0;32mnot\u001b[0m \u001b[0;32mNone\u001b[0m\u001b[0;34m:\u001b[0m\u001b[0;34m\u001b[0m\u001b[0;34m\u001b[0m\u001b[0m\n\u001b[0;32m-> 2361\u001b[0;31m         \u001b[0mcondition\u001b[0m \u001b[0;34m=\u001b[0m \u001b[0;34m~\u001b[0m\u001b[0;34m(\u001b[0m\u001b[0mnp\u001b[0m\u001b[0;34m.\u001b[0m\u001b[0misfinite\u001b[0m\u001b[0;34m(\u001b[0m\u001b[0mgetdata\u001b[0m\u001b[0;34m(\u001b[0m\u001b[0ma\u001b[0m\u001b[0;34m)\u001b[0m\u001b[0;34m)\u001b[0m\u001b[0;34m)\u001b[0m\u001b[0;34m\u001b[0m\u001b[0;34m\u001b[0m\u001b[0m\n\u001b[0m\u001b[1;32m   2362\u001b[0m         \u001b[0;32mif\u001b[0m \u001b[0mmask\u001b[0m \u001b[0;32mis\u001b[0m \u001b[0;32mnot\u001b[0m \u001b[0mnomask\u001b[0m\u001b[0;34m:\u001b[0m\u001b[0;34m\u001b[0m\u001b[0;34m\u001b[0m\u001b[0m\n\u001b[1;32m   2363\u001b[0m             \u001b[0mcondition\u001b[0m \u001b[0;34m|=\u001b[0m \u001b[0mmask\u001b[0m\u001b[0;34m\u001b[0m\u001b[0;34m\u001b[0m\u001b[0m\n",
            "\u001b[0;31mTypeError\u001b[0m: ufunc 'isfinite' not supported for the input types, and the inputs could not be safely coerced to any supported types according to the casting rule ''safe''"
          ]
        },
        {
          "output_type": "display_data",
          "data": {
            "text/plain": [
              "<Figure size 640x480 with 1 Axes>"
            ],
            "image/png": "[encoded data removed]"
          },
          "metadata": {}
        }
      ]
    },
    {
      "cell_type": "markdown",
      "source": [
        "RANDOM FOREST (RF)"
      ],
      "metadata": {
        "id": "jjYc2Tap5cZU"
      }
    },
    {
      "cell_type": "code",
      "source": [
        "import pandas as pd\n",
        "import matplotlib.pyplot as plt\n",
        "from sklearn.ensemble import RandomForestClassifier\n",
        "from sklearn.feature_extraction.text import TfidfVectorizer\n",
        "from sklearn.model_selection import train_test_split\n",
        "from sklearn.metrics import classification_report\n",
        "from sklearn import tree\n",
        "\n",
        "# Load the data into Pandas DataFrame\n",
        "train_data = pd.read_csv(\"/content/train.csv\")\n",
        "\n",
        "# Split the train data into features (X_train) and labels (y_train)\n",
        "X_train = train_data[\"text\"]\n",
        "y_train = train_data[\"author\"]\n",
        "\n",
        "# Apply TF-IDF vectorization to the training data\n",
        "tfidf = TfidfVectorizer()\n",
        "X_train_tfidf = tfidf.fit_transform(X_train)\n",
        "\n",
        "# Create a Random Forest classifier\n",
        "rf = RandomForestClassifier()\n",
        "\n",
        "# Fit the Random Forest model on the training data\n",
        "rf.fit(X_train_tfidf, y_train)\n",
        "\n",
        "# Visualize feature importance\n",
        "feature_importance = rf.feature_importances_\n",
        "feature_names = list(tfidf.vocabulary_.keys())\n",
        "importance_df = pd.DataFrame({\"Feature\": feature_names, \"Importance\": feature_importance})\n",
        "sorted_importance_df = importance_df.sort_values(\"Importance\", ascending=False).head(10)\n",
        "plt.figure(figsize=(10, 6))\n",
        "plt.bar(sorted_importance_df[\"Feature\"], sorted_importance_df[\"Importance\"])\n",
        "plt.title(\"Top 10 Feature Importance\")\n",
        "plt.xlabel(\"Feature\")\n",
        "plt.ylabel(\"Importance\")\n",
        "plt.xticks(rotation=45)\n",
        "plt.show()\n",
        "\n",
        "# Visualize decision tree (one of the trees in the Random Forest)\n",
        "tree.plot_tree(rf.estimators_[0], feature_names=feature_names, class_names=rf.classes_, filled=True)\n",
        "plt.show()\n"
      ],
      "metadata": {
        "colab": {
          "base_uri": "https://localhost:8080/",
          "height": 1000
        },
        "id": "X8zgWRGv2YRm",
        "outputId": "e440ade6-0ef1-4e04-ce71-6686ff2c4d73"
      },
      "execution_count": 10,
      "outputs": [
        {
          "output_type": "display_data",
          "data": {
            "text/plain": [
              "<Figure size 1000x600 with 1 Axes>"
            ],
            "image/png": "[encoded data removed]"
          },
          "metadata": {}
        },
        {
          "output_type": "error",
          "ename": "RecursionError",
          "evalue": "ignored",
          "traceback": [
            "\u001b[0;31m---------------------------------------------------------------------------\u001b[0m",
            "\u001b[0;31mRecursionError\u001b[0m                            Traceback (most recent call last)",
            "\u001b[0;32m<ipython-input-10-a2a804933257>\u001b[0m in \u001b[0;36m<cell line: 40>\u001b[0;34m()\u001b[0m\n\u001b[1;32m     38\u001b[0m \u001b[0;34m\u001b[0m\u001b[0m\n\u001b[1;32m     39\u001b[0m \u001b[0;31m# Visualize decision tree (one of the trees in the Random Forest)\u001b[0m\u001b[0;34m\u001b[0m\u001b[0;34m\u001b[0m\u001b[0m\n\u001b[0;32m---> 40\u001b[0;31m \u001b[0mtree\u001b[0m\u001b[0;34m.\u001b[0m\u001b[0mplot_tree\u001b[0m\u001b[0;34m(\u001b[0m\u001b[0mrf\u001b[0m\u001b[0;34m.\u001b[0m\u001b[0mestimators_\u001b[0m\u001b[0;34m[\u001b[0m\u001b[0;36m0\u001b[0m\u001b[0;34m]\u001b[0m\u001b[0;34m,\u001b[0m \u001b[0mfeature_names\u001b[0m\u001b[0;34m=\u001b[0m\u001b[0mfeature_names\u001b[0m\u001b[0;34m,\u001b[0m \u001b[0mclass_names\u001b[0m\u001b[0;34m=\u001b[0m\u001b[0mrf\u001b[0m\u001b[0;34m.\u001b[0m\u001b[0mclasses_\u001b[0m\u001b[0;34m,\u001b[0m \u001b[0mfilled\u001b[0m\u001b[0;34m=\u001b[0m\u001b[0;32mTrue\u001b[0m\u001b[0;34m)\u001b[0m\u001b[0;34m\u001b[0m\u001b[0;34m\u001b[0m\u001b[0m\n\u001b[0m\u001b[1;32m     41\u001b[0m \u001b[0mplt\u001b[0m\u001b[0;34m.\u001b[0m\u001b[0mshow\u001b[0m\u001b[0;34m(\u001b[0m\u001b[0;34m)\u001b[0m\u001b[0;34m\u001b[0m\u001b[0;34m\u001b[0m\u001b[0m\n",
            "\u001b[0;32m/usr/local/lib/python3.10/dist-packages/sklearn/tree/_export.py\u001b[0m in \u001b[0;36mplot_tree\u001b[0;34m(decision_tree, max_depth, feature_names, class_names, label, filled, impurity, node_ids, proportion, rounded, precision, ax, fontsize)\u001b[0m\n\u001b[1;32m    192\u001b[0m         \u001b[0mfontsize\u001b[0m\u001b[0;34m=\u001b[0m\u001b[0mfontsize\u001b[0m\u001b[0;34m,\u001b[0m\u001b[0;34m\u001b[0m\u001b[0;34m\u001b[0m\u001b[0m\n\u001b[1;32m    193\u001b[0m     )\n\u001b[0;32m--> 194\u001b[0;31m     \u001b[0;32mreturn\u001b[0m \u001b[0mexporter\u001b[0m\u001b[0;34m.\u001b[0m\u001b[0mexport\u001b[0m\u001b[0;34m(\u001b[0m\u001b[0mdecision_tree\u001b[0m\u001b[0;34m,\u001b[0m \u001b[0max\u001b[0m\u001b[0;34m=\u001b[0m\u001b[0max\u001b[0m\u001b[0;34m)\u001b[0m\u001b[0;34m\u001b[0m\u001b[0;34m\u001b[0m\u001b[0m\n\u001b[0m\u001b[1;32m    195\u001b[0m \u001b[0;34m\u001b[0m\u001b[0m\n\u001b[1;32m    196\u001b[0m \u001b[0;34m\u001b[0m\u001b[0m\n",
            "\u001b[0;32m/usr/local/lib/python3.10/dist-packages/sklearn/tree/_export.py\u001b[0m in \u001b[0;36mexport\u001b[0;34m(self, decision_tree, ax)\u001b[0m\n\u001b[1;32m    654\u001b[0m         \u001b[0max\u001b[0m\u001b[0;34m.\u001b[0m\u001b[0mset_axis_off\u001b[0m\u001b[0;34m(\u001b[0m\u001b[0;34m)\u001b[0m\u001b[0;34m\u001b[0m\u001b[0;34m\u001b[0m\u001b[0m\n\u001b[1;32m    655\u001b[0m         \u001b[0mmy_tree\u001b[0m \u001b[0;34m=\u001b[0m \u001b[0mself\u001b[0m\u001b[0;34m.\u001b[0m\u001b[0m_make_tree\u001b[0m\u001b[0;34m(\u001b[0m\u001b[0;36m0\u001b[0m\u001b[0;34m,\u001b[0m \u001b[0mdecision_tree\u001b[0m\u001b[0;34m.\u001b[0m\u001b[0mtree_\u001b[0m\u001b[0;34m,\u001b[0m \u001b[0mdecision_tree\u001b[0m\u001b[0;34m.\u001b[0m\u001b[0mcriterion\u001b[0m\u001b[0;34m)\u001b[0m\u001b[0;34m\u001b[0m\u001b[0;34m\u001b[0m\u001b[0m\n\u001b[0;32m--> 656\u001b[0;31m         \u001b[0mdraw_tree\u001b[0m \u001b[0;34m=\u001b[0m \u001b[0mbuchheim\u001b[0m\u001b[0;34m(\u001b[0m\u001b[0mmy_tree\u001b[0m\u001b[0;34m)\u001b[0m\u001b[0;34m\u001b[0m\u001b[0;34m\u001b[0m\u001b[0m\n\u001b[0m\u001b[1;32m    657\u001b[0m \u001b[0;34m\u001b[0m\u001b[0m\n\u001b[1;32m    658\u001b[0m         \u001b[0;31m# important to make sure we're still\u001b[0m\u001b[0;34m\u001b[0m\u001b[0;34m\u001b[0m\u001b[0m\n",
            "\u001b[0;32m/usr/local/lib/python3.10/dist-packages/sklearn/tree/_reingold_tilford.py\u001b[0m in \u001b[0;36mbuchheim\u001b[0;34m(tree)\u001b[0m\n\u001b[1;32m     58\u001b[0m \u001b[0;34m\u001b[0m\u001b[0m\n\u001b[1;32m     59\u001b[0m \u001b[0;32mdef\u001b[0m \u001b[0mbuchheim\u001b[0m\u001b[0;34m(\u001b[0m\u001b[0mtree\u001b[0m\u001b[0;34m)\u001b[0m\u001b[0;34m:\u001b[0m\u001b[0;34m\u001b[0m\u001b[0;34m\u001b[0m\u001b[0m\n\u001b[0;32m---> 60\u001b[0;31m     \u001b[0mdt\u001b[0m \u001b[0;34m=\u001b[0m \u001b[0mfirst_walk\u001b[0m\u001b[0;34m(\u001b[0m\u001b[0mDrawTree\u001b[0m\u001b[0;34m(\u001b[0m\u001b[0mtree\u001b[0m\u001b[0;34m)\u001b[0m\u001b[0;34m)\u001b[0m\u001b[0;34m\u001b[0m\u001b[0;34m\u001b[0m\u001b[0m\n\u001b[0m\u001b[1;32m     61\u001b[0m     \u001b[0mmin\u001b[0m \u001b[0;34m=\u001b[0m \u001b[0msecond_walk\u001b[0m\u001b[0;34m(\u001b[0m\u001b[0mdt\u001b[0m\u001b[0;34m)\u001b[0m\u001b[0;34m\u001b[0m\u001b[0;34m\u001b[0m\u001b[0m\n\u001b[1;32m     62\u001b[0m     \u001b[0;32mif\u001b[0m \u001b[0mmin\u001b[0m \u001b[0;34m<\u001b[0m \u001b[0;36m0\u001b[0m\u001b[0;34m:\u001b[0m\u001b[0;34m\u001b[0m\u001b[0;34m\u001b[0m\u001b[0m\n",
            "\u001b[0;32m/usr/local/lib/python3.10/dist-packages/sklearn/tree/_reingold_tilford.py\u001b[0m in \u001b[0;36m__init__\u001b[0;34m(self, tree, parent, depth, number)\u001b[0m\n\u001b[1;32m     10\u001b[0m         \u001b[0mself\u001b[0m\u001b[0;34m.\u001b[0m\u001b[0my\u001b[0m \u001b[0;34m=\u001b[0m \u001b[0mdepth\u001b[0m\u001b[0;34m\u001b[0m\u001b[0;34m\u001b[0m\u001b[0m\n\u001b[1;32m     11\u001b[0m         \u001b[0mself\u001b[0m\u001b[0;34m.\u001b[0m\u001b[0mtree\u001b[0m \u001b[0;34m=\u001b[0m \u001b[0mtree\u001b[0m\u001b[0;34m\u001b[0m\u001b[0;34m\u001b[0m\u001b[0m\n\u001b[0;32m---> 12\u001b[0;31m         self.children = [\n\u001b[0m\u001b[1;32m     13\u001b[0m             \u001b[0mDrawTree\u001b[0m\u001b[0;34m(\u001b[0m\u001b[0mc\u001b[0m\u001b[0;34m,\u001b[0m \u001b[0mself\u001b[0m\u001b[0;34m,\u001b[0m \u001b[0mdepth\u001b[0m \u001b[0;34m+\u001b[0m \u001b[0;36m1\u001b[0m\u001b[0;34m,\u001b[0m \u001b[0mi\u001b[0m \u001b[0;34m+\u001b[0m \u001b[0;36m1\u001b[0m\u001b[0;34m)\u001b[0m \u001b[0;32mfor\u001b[0m \u001b[0mi\u001b[0m\u001b[0;34m,\u001b[0m \u001b[0mc\u001b[0m \u001b[0;32min\u001b[0m \u001b[0menumerate\u001b[0m\u001b[0;34m(\u001b[0m\u001b[0mtree\u001b[0m\u001b[0;34m.\u001b[0m\u001b[0mchildren\u001b[0m\u001b[0;34m)\u001b[0m\u001b[0;34m\u001b[0m\u001b[0;34m\u001b[0m\u001b[0m\n\u001b[1;32m     14\u001b[0m         ]\n",
            "\u001b[0;32m/usr/local/lib/python3.10/dist-packages/sklearn/tree/_reingold_tilford.py\u001b[0m in \u001b[0;36m<listcomp>\u001b[0;34m(.0)\u001b[0m\n\u001b[1;32m     11\u001b[0m         \u001b[0mself\u001b[0m\u001b[0;34m.\u001b[0m\u001b[0mtree\u001b[0m \u001b[0;34m=\u001b[0m \u001b[0mtree\u001b[0m\u001b[0;34m\u001b[0m\u001b[0;34m\u001b[0m\u001b[0m\n\u001b[1;32m     12\u001b[0m         self.children = [\n\u001b[0;32m---> 13\u001b[0;31m             \u001b[0mDrawTree\u001b[0m\u001b[0;34m(\u001b[0m\u001b[0mc\u001b[0m\u001b[0;34m,\u001b[0m \u001b[0mself\u001b[0m\u001b[0;34m,\u001b[0m \u001b[0mdepth\u001b[0m \u001b[0;34m+\u001b[0m \u001b[0;36m1\u001b[0m\u001b[0;34m,\u001b[0m \u001b[0mi\u001b[0m \u001b[0;34m+\u001b[0m \u001b[0;36m1\u001b[0m\u001b[0;34m)\u001b[0m \u001b[0;32mfor\u001b[0m \u001b[0mi\u001b[0m\u001b[0;34m,\u001b[0m \u001b[0mc\u001b[0m \u001b[0;32min\u001b[0m \u001b[0menumerate\u001b[0m\u001b[0;34m(\u001b[0m\u001b[0mtree\u001b[0m\u001b[0;34m.\u001b[0m\u001b[0mchildren\u001b[0m\u001b[0;34m)\u001b[0m\u001b[0;34m\u001b[0m\u001b[0;34m\u001b[0m\u001b[0m\n\u001b[0m\u001b[1;32m     14\u001b[0m         ]\n\u001b[1;32m     15\u001b[0m         \u001b[0mself\u001b[0m\u001b[0;34m.\u001b[0m\u001b[0mparent\u001b[0m \u001b[0;34m=\u001b[0m \u001b[0mparent\u001b[0m\u001b[0;34m\u001b[0m\u001b[0;34m\u001b[0m\u001b[0m\n",
            "... last 2 frames repeated, from the frame below ...\n",
            "\u001b[0;32m/usr/local/lib/python3.10/dist-packages/sklearn/tree/_reingold_tilford.py\u001b[0m in \u001b[0;36m__init__\u001b[0;34m(self, tree, parent, depth, number)\u001b[0m\n\u001b[1;32m     10\u001b[0m         \u001b[0mself\u001b[0m\u001b[0;34m.\u001b[0m\u001b[0my\u001b[0m \u001b[0;34m=\u001b[0m \u001b[0mdepth\u001b[0m\u001b[0;34m\u001b[0m\u001b[0;34m\u001b[0m\u001b[0m\n\u001b[1;32m     11\u001b[0m         \u001b[0mself\u001b[0m\u001b[0;34m.\u001b[0m\u001b[0mtree\u001b[0m \u001b[0;34m=\u001b[0m \u001b[0mtree\u001b[0m\u001b[0;34m\u001b[0m\u001b[0;34m\u001b[0m\u001b[0m\n\u001b[0;32m---> 12\u001b[0;31m         self.children = [\n\u001b[0m\u001b[1;32m     13\u001b[0m             \u001b[0mDrawTree\u001b[0m\u001b[0;34m(\u001b[0m\u001b[0mc\u001b[0m\u001b[0;34m,\u001b[0m \u001b[0mself\u001b[0m\u001b[0;34m,\u001b[0m \u001b[0mdepth\u001b[0m \u001b[0;34m+\u001b[0m \u001b[0;36m1\u001b[0m\u001b[0;34m,\u001b[0m \u001b[0mi\u001b[0m \u001b[0;34m+\u001b[0m \u001b[0;36m1\u001b[0m\u001b[0;34m)\u001b[0m \u001b[0;32mfor\u001b[0m \u001b[0mi\u001b[0m\u001b[0;34m,\u001b[0m \u001b[0mc\u001b[0m \u001b[0;32min\u001b[0m \u001b[0menumerate\u001b[0m\u001b[0;34m(\u001b[0m\u001b[0mtree\u001b[0m\u001b[0;34m.\u001b[0m\u001b[0mchildren\u001b[0m\u001b[0;34m)\u001b[0m\u001b[0;34m\u001b[0m\u001b[0;34m\u001b[0m\u001b[0m\n\u001b[1;32m     14\u001b[0m         ]\n",
            "\u001b[0;31mRecursionError\u001b[0m: maximum recursion depth exceeded while calling a Python object"
          ]
        },
        {
          "output_type": "display_data",
          "data": {
            "text/plain": [
              "<Figure size 640x480 with 1 Axes>"
            ],
            "image/png": "[encoded data removed]"
          },
          "metadata": {}
        }
      ]
    },
    {
      "cell_type": "code",
      "source": [
        " confusion matrix"
      ],
      "metadata": {
        "id": "b2fSyD-o5mgS"
      },
      "execution_count": null,
      "outputs": []
    },
    {
      "cell_type": "code",
      "source": [
        "import pandas as pd\n",
        "import seaborn as sns\n",
        "import matplotlib.pyplot as plt\n",
        "from sklearn.svm import SVC\n",
        "from sklearn.feature_extraction.text import TfidfVectorizer\n",
        "from sklearn.model_selection import train_test_split\n",
        "from sklearn.metrics import confusion_matrix\n",
        "\n",
        "# Load the train data into a DataFrame\n",
        "train_data = pd.read_csv(\"/content/train.csv\")\n",
        "\n",
        "# Split the train_data into features (X_train) and labels (y_train)\n",
        "X_train = train_data[\"text\"]\n",
        "y_train = train_data[\"author\"]\n",
        "\n",
        "# Apply TF-IDF vectorization to the training data\n",
        "tfidf = TfidfVectorizer()\n",
        "X_train_tfidf = tfidf.fit_transform(X_train)\n",
        "\n",
        "# Create an SVM classifier\n",
        "svm = SVC()\n",
        "\n",
        "# Fit the SVM model on the training data\n",
        "svm.fit(X_train_tfidf, y_train)\n",
        "\n",
        "# Make predictions using the trained SVM model\n",
        "train_predictions = svm.predict(X_train_tfidf)\n",
        "\n",
        "# Create a confusion matrix\n",
        "confusion = confusion_matrix(y_train, train_predictions)\n",
        "\n",
        "# Define a custom color map\n",
        "colors = [\"#FF0000\", \"#00FF00\", \"#0000FF\"]  # Red, Green, Blue\n",
        "\n",
        "# Visualize the confusion matrix with multiple colors\n",
        "plt.figure(figsize=(8, 6))\n",
        "sns.heatmap(confusion, annot=True, cmap=colors, fmt=\"d\")\n",
        "plt.xlabel(\"Predicted Labels\")\n",
        "plt.ylabel(\"True Labels\")\n",
        "plt.title(\"Confusion Matrix\")\n",
        "plt.show()\n"
      ],
      "metadata": {
        "colab": {
          "base_uri": "https://localhost:8080/",
          "height": 564
        },
        "id": "Wfe0RuZu3-NU",
        "outputId": "8ab3b101-120c-4bf9-d57d-eb1d4e9f96fb"
      },
      "execution_count": 12,
      "outputs": [
        {
          "output_type": "display_data",
          "data": {
            "text/plain": [
              "<Figure size 800x600 with 2 Axes>"
            ],
            "image/png": "[encoded data removed]"
          },
          "metadata": {}
        }
      ]
    },
    {
      "cell_type": "markdown",
      "source": [
        "11. Identify important features contributing to classification.\n"
      ],
      "metadata": {
        "id": "k7RJiT-Z5FSO"
      }
    },
    {
      "cell_type": "code",
      "source": [],
      "metadata": {
        "id": "ZAZKLWcv5GaP"
      },
      "execution_count": null,
      "outputs": []
    }
  ]
}